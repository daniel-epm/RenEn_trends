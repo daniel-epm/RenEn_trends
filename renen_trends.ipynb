{
 "cells": [
  {
   "cell_type": "markdown",
   "id": "f8b70d12",
   "metadata": {},
   "source": [
    "### Unveiling Trends in Renewable Energy\n",
    "\n",
    "### Background \n",
    "The race to net-zero emissions is heating up. As nations work to combat climate change and meet rising energy demands, renewable energy has emerged as a cornerstone of the clean transition. Solar, wind, and hydro are revolutionizing how we power our lives. Some countries are leading the charge, while others are falling behind. But which nations are making the biggest impact? What’s driving their success? And what lessons can we learn to accelerate green energy transition?\n",
    "\n",
    "As a data scientist at NextEra Energy, one of the world’s leading renewable energy providers, your role is to move beyond exploration, into prediction. Using a rich, real-world dataset, you’ll build models to forecast renewable energy production, drawing on indicators like GDP, population, carbon emissions, and policy metrics.\n",
    "\n",
    "With the world watching, your model could help shape smarter investments, forward-thinking policies, and a faster transition to clean energy."
   ]
  },
  {
   "cell_type": "markdown",
   "id": "bb4cd736",
   "metadata": {},
   "source": [
    "#### The data  \n",
    "\n",
    "**Global renewable energy dataset** covering energy production, investments, policies, and economic factors shaping renewable adoption worldwide:  \n",
    "\n",
    "**-Basic Identifiers:**    \n",
    "- **`Country`** – Country name  \n",
    "- **`Year`** – Calendar year (YYYY)  \n",
    "- **`Energy Type`** – Type of renewable energy (e.g., Solar, Wind)  \n",
    "\n",
    "**-Energy Metrics:** \n",
    "- **`Production (GWh)`** – Renewable energy produced (Gigawatt-hours)  \n",
    "- **`Installed Capacity (MW)`** – Installed renewable capacity (Megawatts)  \n",
    "- **`Investments (USD)`** – Total investment in renewables (US Dollars)  \n",
    "- **`Energy Consumption (GWh)`** – Total national energy use  \n",
    "- **`Energy Storage Capacity (MWh)`** – Capacity of energy storage systems  \n",
    "- **`Grid Integration Capability (Index)`** – Scale of 0–1; ability to handle renewables in grid  \n",
    "- **`Electricity Prices (USD/kWh)`** – Average cost of electricity  \n",
    "- **`Energy Subsidies (USD)`** – Government subsidies for energy sector  \n",
    "- **`Proportion of Energy from Renewables (%)`** – Share of renewables in total energy mix  \n",
    "\n",
    "**-Innovation & Tech:**\n",
    "- **`R&D Expenditure (USD)`** – R&D spending on renewables  \n",
    "- **`Renewable Energy Patents`** – Number of patents filed  \n",
    "- **`Innovation Index (Index)`** – Global innovation score (0–100)  \n",
    "\n",
    "**-Economy & Policy:**\n",
    "- **`GDP (USD)`** – Gross domestic product  \n",
    "- **`Population`** – Total population  \n",
    "- **`Government Policies`** – Number of policies supporting renewables  \n",
    "- **`Renewable Energy Targets`** – Whether national targets are in place (1 = Yes, 0 = No)  \n",
    "- **`Public-Private Partnerships in Energy`** – Number of active collaborations  \n",
    "- **`Energy Market Liberalization (Index)`** – Scale of 0–1  \n",
    "\n",
    "**-Social & Governance:**\n",
    "- **`Ease of Doing Business (Score)`** – World Bank index (0–100)  \n",
    "- **`Regulatory Quality`** – Governance score (-2.5 to 2.5)  \n",
    "- **`Political Stability`** – Governance score (-2.5 to 2.5)  \n",
    "- **`Control of Corruption`** – Governance score (-2.5 to 2.5)  \n",
    "\n",
    "**-Environment & Resources:**  \n",
    "- **`CO2 Emissions (MtCO2)`** – Emissions in million metric tons  \n",
    "- **`Average Annual Temperature (°C)`** – Country’s avg. temp  \n",
    "- **`Solar Irradiance (kWh/m²/day)`** – Solar energy availability  \n",
    "- **`Wind Speed (m/s)`** – Average wind speed  \n",
    "- **`Hydro Potential (Index)`** – Relative hydropower capability (0–1)  \n",
    "- **`Biomass Availability (Tons/year)`** – Total available biomass  "
   ]
  },
  {
   "cell_type": "markdown",
   "id": "6c0744d0",
   "metadata": {},
   "source": [
    "**Challenge**\n",
    "\n",
    "As a data scientist at NextEra Energy, your task is to use the **Training Set** (80% of the data) to train a powerful machine learning model that can predict **renewable energy production (GWh)**. Once your model is trained, you will use it to generate predictions for the **Test Set**, which does not include the target (`Production (GWh)`) but has an additional **`ID` column**.\n",
    "\n",
    "**Your Task**\n",
    "\n",
    "1. **Train Your Model**:\n",
    "\n",
    "   * Use the **Training Set**, which contains all features and the target (`Production (GWh)`), to build and fine-tune your model.\n",
    "   * Explore, clean, and transform the data as needed.\n",
    "\n",
    "2. **Generate Predictions**:\n",
    "\n",
    "   * Use your trained model to make predictions for the **Test Set (20%)**, which has all the features **except `Production (GWh)`**.\n",
    "   * The Test Set also has an **`ID` column**, which uniquely identifies each row.\n",
    "\n",
    "\n",
    "\n",
    "Your model won’t just generate predictions — it will uncover underlying drivers of renewable energy production and reveal where the biggest gains can be made!\n"
   ]
  },
  {
   "cell_type": "code",
   "execution_count": 8,
   "id": "00e5ee00-bd33-4f61-8738-f66f5381e634",
   "metadata": {
    "executionCancelledAt": null,
    "executionTime": 2261,
    "lastExecutedAt": 1751249294290,
    "lastExecutedByKernel": "9ab45037-05ad-4598-b165-ee154da42364",
    "lastScheduledRunId": null,
    "lastSuccessfullyExecutedCode": "import os\nimport pandas as pd\nimport matplotlib.pyplot as plt\nimport plotly.express as px\nimport plotly.graph_objects as go\nfrom plotly.subplots import make_subplots\n"
   },
   "outputs": [],
   "source": [
    "import os\n",
    "import pandas as pd\n",
    "import matplotlib.pyplot as plt\n",
    "import seaborn as sns\n",
    "import plotly.express as px\n",
    "import plotly.graph_objects as go\n",
    "from plotly.subplots import make_subplots"
   ]
  },
  {
   "cell_type": "markdown",
   "id": "3d469076-6f15-4688-b3f4-3539b26f19e6",
   "metadata": {},
   "source": [
    "Load both the training and test datasets and print their shape."
   ]
  },
  {
   "cell_type": "code",
   "execution_count": 9,
   "id": "612d9d0b-422f-41e3-b770-2c749462081d",
   "metadata": {
    "executionCancelledAt": null,
    "executionTime": null,
    "lastExecutedAt": null,
    "lastExecutedByKernel": null,
    "lastScheduledRunId": null,
    "lastSuccessfullyExecutedCode": null,
    "outputsMetadata": {
     "0": {
      "height": 80,
      "type": "stream"
     }
    }
   },
   "outputs": [
    {
     "name": "stdout",
     "output_type": "stream",
     "text": [
      "Training data shape: (2400, 31)\n",
      "Test data shape: (600, 31) \n",
      "\n"
     ]
    }
   ],
   "source": [
    "path = os.getcwd()\n",
    "\n",
    "train_df = pd.read_csv(path + '/Training_set_augmented.csv')\n",
    "test_df = pd.read_csv(path + '/Public_Test_Set.csv')\n",
    "\n",
    "print(f\"Training data shape: {train_df.shape}\")\n",
    "print(f\"Test data shape: {test_df.shape} \\n\")"
   ]
  },
  {
   "cell_type": "markdown",
   "id": "6b603554-c43a-489b-b7b1-0fd44bdcf12d",
   "metadata": {},
   "source": [
    "Let's take a first look of the data to understand its structure, columns, content and data types."
   ]
  },
  {
   "cell_type": "code",
   "execution_count": 10,
   "id": "d5358bf4-1c53-4fc7-b370-51fa93233397",
   "metadata": {
    "executionCancelledAt": null,
    "executionTime": null,
    "lastExecutedAt": null,
    "lastExecutedByKernel": null,
    "lastScheduledRunId": null,
    "lastSuccessfullyExecutedCode": null,
    "outputsMetadata": {
     "0": {
      "height": 550,
      "tableState": {
       "customFilter": {
        "const": {
         "type": "boolean",
         "valid": true,
         "value": true
        },
        "id": "f224ec9e-583c-44ea-ba2e-596bdfb5d2ed",
        "nodeType": "const"
       }
      },
      "type": "dataFrame"
     }
    }
   },
   "outputs": [
    {
     "data": {
      "text/html": [
       "<div>\n",
       "<style scoped>\n",
       "    .dataframe tbody tr th:only-of-type {\n",
       "        vertical-align: middle;\n",
       "    }\n",
       "\n",
       "    .dataframe tbody tr th {\n",
       "        vertical-align: top;\n",
       "    }\n",
       "\n",
       "    .dataframe thead th {\n",
       "        text-align: right;\n",
       "    }\n",
       "</style>\n",
       "<table border=\"1\" class=\"dataframe\">\n",
       "  <thead>\n",
       "    <tr style=\"text-align: right;\">\n",
       "      <th></th>\n",
       "      <th>Country</th>\n",
       "      <th>Year</th>\n",
       "      <th>Energy Type</th>\n",
       "      <th>Production (GWh)</th>\n",
       "      <th>Installed Capacity (MW)</th>\n",
       "      <th>Investments (USD)</th>\n",
       "      <th>Energy Consumption</th>\n",
       "      <th>Energy Storage Capacity</th>\n",
       "      <th>Grid Integration Capability</th>\n",
       "      <th>Electricity Prices</th>\n",
       "      <th>...</th>\n",
       "      <th>Ease of Doing Business</th>\n",
       "      <th>Regulatory Quality</th>\n",
       "      <th>Political Stability</th>\n",
       "      <th>Control of Corruption</th>\n",
       "      <th>CO2 Emissions</th>\n",
       "      <th>Average Annual Temperature</th>\n",
       "      <th>Solar Irradiance</th>\n",
       "      <th>Wind Speed</th>\n",
       "      <th>Hydro Potential</th>\n",
       "      <th>Biomass Availability</th>\n",
       "    </tr>\n",
       "  </thead>\n",
       "  <tbody>\n",
       "    <tr>\n",
       "      <th>0</th>\n",
       "      <td>Canada</td>\n",
       "      <td>2012</td>\n",
       "      <td>Hydro</td>\n",
       "      <td>99925.061260</td>\n",
       "      <td>26824.443710</td>\n",
       "      <td>3.439820e+09</td>\n",
       "      <td>743320.095400</td>\n",
       "      <td>523.227159</td>\n",
       "      <td>0.757701</td>\n",
       "      <td>0.135676</td>\n",
       "      <td>...</td>\n",
       "      <td>8.445713</td>\n",
       "      <td>0.838293</td>\n",
       "      <td>3.118576</td>\n",
       "      <td>0.512886</td>\n",
       "      <td>387603.458300</td>\n",
       "      <td>4.365508</td>\n",
       "      <td>230.045861</td>\n",
       "      <td>8.338581</td>\n",
       "      <td>23.547655</td>\n",
       "      <td>15.207672</td>\n",
       "    </tr>\n",
       "    <tr>\n",
       "      <th>1</th>\n",
       "      <td>Brazil</td>\n",
       "      <td>2016</td>\n",
       "      <td>Solar</td>\n",
       "      <td>89553.347010</td>\n",
       "      <td>5021.215089</td>\n",
       "      <td>2.306911e+08</td>\n",
       "      <td>755329.781300</td>\n",
       "      <td>595.364642</td>\n",
       "      <td>0.336436</td>\n",
       "      <td>0.115265</td>\n",
       "      <td>...</td>\n",
       "      <td>15.287388</td>\n",
       "      <td>0.424270</td>\n",
       "      <td>7.687173</td>\n",
       "      <td>7.117310</td>\n",
       "      <td>764702.083900</td>\n",
       "      <td>-7.236200</td>\n",
       "      <td>101.633227</td>\n",
       "      <td>2.755194</td>\n",
       "      <td>93.220741</td>\n",
       "      <td>64.558873</td>\n",
       "    </tr>\n",
       "    <tr>\n",
       "      <th>2</th>\n",
       "      <td>France</td>\n",
       "      <td>2002</td>\n",
       "      <td>Hydro</td>\n",
       "      <td>18200.049220</td>\n",
       "      <td>33611.581480</td>\n",
       "      <td>7.337585e+09</td>\n",
       "      <td>302879.870000</td>\n",
       "      <td>423.230209</td>\n",
       "      <td>0.345480</td>\n",
       "      <td>0.107749</td>\n",
       "      <td>...</td>\n",
       "      <td>42.581570</td>\n",
       "      <td>5.799124</td>\n",
       "      <td>3.198959</td>\n",
       "      <td>1.185237</td>\n",
       "      <td>74699.236370</td>\n",
       "      <td>11.159170</td>\n",
       "      <td>188.694457</td>\n",
       "      <td>12.029651</td>\n",
       "      <td>24.637594</td>\n",
       "      <td>56.523796</td>\n",
       "    </tr>\n",
       "    <tr>\n",
       "      <th>3</th>\n",
       "      <td>Brazil</td>\n",
       "      <td>2014</td>\n",
       "      <td>Solar</td>\n",
       "      <td>82593.101462</td>\n",
       "      <td>30016.235570</td>\n",
       "      <td>4.158375e+09</td>\n",
       "      <td>273895.437151</td>\n",
       "      <td>35.006229</td>\n",
       "      <td>0.425188</td>\n",
       "      <td>0.195446</td>\n",
       "      <td>...</td>\n",
       "      <td>54.425235</td>\n",
       "      <td>7.493098</td>\n",
       "      <td>3.508302</td>\n",
       "      <td>1.282187</td>\n",
       "      <td>87442.612996</td>\n",
       "      <td>14.799615</td>\n",
       "      <td>132.899073</td>\n",
       "      <td>4.775604</td>\n",
       "      <td>66.961779</td>\n",
       "      <td>13.433529</td>\n",
       "    </tr>\n",
       "    <tr>\n",
       "      <th>4</th>\n",
       "      <td>Australia</td>\n",
       "      <td>2015</td>\n",
       "      <td>Biomass</td>\n",
       "      <td>15042.899900</td>\n",
       "      <td>12148.925160</td>\n",
       "      <td>9.426154e+09</td>\n",
       "      <td>465093.510500</td>\n",
       "      <td>874.578417</td>\n",
       "      <td>0.609578</td>\n",
       "      <td>0.166265</td>\n",
       "      <td>...</td>\n",
       "      <td>97.263630</td>\n",
       "      <td>5.899585</td>\n",
       "      <td>4.895402</td>\n",
       "      <td>4.133813</td>\n",
       "      <td>627278.815900</td>\n",
       "      <td>31.289419</td>\n",
       "      <td>210.523525</td>\n",
       "      <td>3.116106</td>\n",
       "      <td>36.359083</td>\n",
       "      <td>41.679364</td>\n",
       "    </tr>\n",
       "  </tbody>\n",
       "</table>\n",
       "<p>5 rows × 31 columns</p>\n",
       "</div>"
      ],
      "text/plain": [
       "     Country  Year Energy Type  Production (GWh)  Installed Capacity (MW)  \\\n",
       "0     Canada  2012       Hydro      99925.061260             26824.443710   \n",
       "1     Brazil  2016       Solar      89553.347010              5021.215089   \n",
       "2     France  2002       Hydro      18200.049220             33611.581480   \n",
       "3     Brazil  2014       Solar      82593.101462             30016.235570   \n",
       "4  Australia  2015     Biomass      15042.899900             12148.925160   \n",
       "\n",
       "   Investments (USD)  Energy Consumption  Energy Storage Capacity  \\\n",
       "0       3.439820e+09       743320.095400               523.227159   \n",
       "1       2.306911e+08       755329.781300               595.364642   \n",
       "2       7.337585e+09       302879.870000               423.230209   \n",
       "3       4.158375e+09       273895.437151                35.006229   \n",
       "4       9.426154e+09       465093.510500               874.578417   \n",
       "\n",
       "   Grid Integration Capability  Electricity Prices  ...  \\\n",
       "0                     0.757701            0.135676  ...   \n",
       "1                     0.336436            0.115265  ...   \n",
       "2                     0.345480            0.107749  ...   \n",
       "3                     0.425188            0.195446  ...   \n",
       "4                     0.609578            0.166265  ...   \n",
       "\n",
       "   Ease of Doing Business  Regulatory Quality  Political Stability  \\\n",
       "0                8.445713            0.838293             3.118576   \n",
       "1               15.287388            0.424270             7.687173   \n",
       "2               42.581570            5.799124             3.198959   \n",
       "3               54.425235            7.493098             3.508302   \n",
       "4               97.263630            5.899585             4.895402   \n",
       "\n",
       "   Control of Corruption  CO2 Emissions  Average Annual Temperature  \\\n",
       "0               0.512886  387603.458300                    4.365508   \n",
       "1               7.117310  764702.083900                   -7.236200   \n",
       "2               1.185237   74699.236370                   11.159170   \n",
       "3               1.282187   87442.612996                   14.799615   \n",
       "4               4.133813  627278.815900                   31.289419   \n",
       "\n",
       "   Solar Irradiance  Wind Speed  Hydro Potential  Biomass Availability  \n",
       "0        230.045861    8.338581        23.547655             15.207672  \n",
       "1        101.633227    2.755194        93.220741             64.558873  \n",
       "2        188.694457   12.029651        24.637594             56.523796  \n",
       "3        132.899073    4.775604        66.961779             13.433529  \n",
       "4        210.523525    3.116106        36.359083             41.679364  \n",
       "\n",
       "[5 rows x 31 columns]"
      ]
     },
     "execution_count": 10,
     "metadata": {},
     "output_type": "execute_result"
    }
   ],
   "source": [
    "train_df.head()"
   ]
  },
  {
   "cell_type": "markdown",
   "id": "da444027-645e-454e-a2de-a1ad9d0c6e07",
   "metadata": {},
   "source": [
    "Looking at the different columns, it is evident that most are of float or binary data types, with a few categorical columns as well. Let's now examine these data types explicitly:"
   ]
  },
  {
   "cell_type": "code",
   "execution_count": 11,
   "id": "50c3f43c-628c-4217-8c95-9a8d177968a1",
   "metadata": {
    "executionCancelledAt": null,
    "executionTime": null,
    "lastExecutedAt": null,
    "lastExecutedByKernel": null,
    "lastScheduledRunId": null,
    "lastSuccessfullyExecutedCode": null,
    "outputsMetadata": {
     "0": {
      "height": 453,
      "type": "stream"
     }
    }
   },
   "outputs": [
    {
     "name": "stdout",
     "output_type": "stream",
     "text": [
      "<class 'pandas.core.frame.DataFrame'>\n",
      "RangeIndex: 2400 entries, 0 to 2399\n",
      "Data columns (total 31 columns):\n",
      " #   Column                                 Non-Null Count  Dtype  \n",
      "---  ------                                 --------------  -----  \n",
      " 0   Country                                2400 non-null   object \n",
      " 1   Year                                   2400 non-null   int64  \n",
      " 2   Energy Type                            2400 non-null   object \n",
      " 3   Production (GWh)                       2400 non-null   float64\n",
      " 4   Installed Capacity (MW)                2400 non-null   float64\n",
      " 5   Investments (USD)                      2400 non-null   float64\n",
      " 6   Energy Consumption                     2400 non-null   float64\n",
      " 7   Energy Storage Capacity                2400 non-null   float64\n",
      " 8   Grid Integration Capability            2400 non-null   float64\n",
      " 9   Electricity Prices                     2400 non-null   float64\n",
      " 10  Energy Subsidies                       2400 non-null   float64\n",
      " 11  Proportion of Energy from Renewables   2400 non-null   float64\n",
      " 12  R&D Expenditure                        2400 non-null   float64\n",
      " 13  Renewable Energy Patents               2400 non-null   int64  \n",
      " 14  Innovation Index                       2400 non-null   float64\n",
      " 15  GDP                                    2400 non-null   int64  \n",
      " 16  Population                             2400 non-null   int64  \n",
      " 17  Government Policies                    2400 non-null   int64  \n",
      " 18  Renewable Energy Targets               2400 non-null   int64  \n",
      " 19  Public-Private Partnerships in Energy  2400 non-null   int64  \n",
      " 20  Energy Market Liberalization           2400 non-null   int64  \n",
      " 21  Ease of Doing Business                 2400 non-null   float64\n",
      " 22  Regulatory Quality                     2400 non-null   float64\n",
      " 23  Political Stability                    2400 non-null   float64\n",
      " 24  Control of Corruption                  2400 non-null   float64\n",
      " 25  CO2 Emissions                          2400 non-null   float64\n",
      " 26  Average Annual Temperature             2400 non-null   float64\n",
      " 27  Solar Irradiance                       2400 non-null   float64\n",
      " 28  Wind Speed                             2400 non-null   float64\n",
      " 29  Hydro Potential                        2400 non-null   float64\n",
      " 30  Biomass Availability                   2400 non-null   float64\n",
      "dtypes: float64(21), int64(8), object(2)\n",
      "memory usage: 581.4+ KB\n"
     ]
    }
   ],
   "source": [
    "train_df.info()"
   ]
  },
  {
   "cell_type": "markdown",
   "id": "41d65d6a",
   "metadata": {},
   "source": [
    "Apparently, the `train_df` data contain no missing values in any column. To confirm this, let's filter and sum the number of missing values in each column."
   ]
  },
  {
   "cell_type": "code",
   "execution_count": 31,
   "id": "9943506b",
   "metadata": {},
   "outputs": [
    {
     "data": {
      "text/plain": [
       "0"
      ]
     },
     "execution_count": 31,
     "metadata": {},
     "output_type": "execute_result"
    }
   ],
   "source": [
    "(\n",
    "    train_df\n",
    "    .isna()\n",
    "    .sum()\n",
    "    .sum()\n",
    ")"
   ]
  },
  {
   "cell_type": "markdown",
   "id": "6c4b7b90-ab8d-45b6-8f3d-81ec5d2948b8",
   "metadata": {},
   "source": [
    "With `Country` and `Energy Type`, besides `Year` as the key dimensions of this analysis of renewable energy adoption trends, we begin by examining the contents of these columns."
   ]
  },
  {
   "cell_type": "code",
   "execution_count": 43,
   "id": "7bc3c2f2-6dd9-44f1-93cf-69c0503dc192",
   "metadata": {
    "executionCancelledAt": null,
    "executionTime": 9,
    "lastExecutedAt": 1751252494663,
    "lastExecutedByKernel": "9ab45037-05ad-4598-b165-ee154da42364",
    "lastScheduledRunId": null,
    "lastSuccessfullyExecutedCode": "print(f\"Time span of the data: \\t {min(train_df['Year'])} - {max(train_df['Year'])}\")",
    "outputsMetadata": {
     "0": {
      "height": 38,
      "type": "stream"
     }
    }
   },
   "outputs": [
    {
     "name": "stdout",
     "output_type": "stream",
     "text": [
      "Time span of the data: \t 2000 - 2023\n"
     ]
    }
   ],
   "source": [
    "print(f\"Time span of the data: \\t {min(train_df['Year'])} - {max(train_df['Year'])}\")"
   ]
  },
  {
   "cell_type": "code",
   "execution_count": 18,
   "id": "8e4c8f0a",
   "metadata": {},
   "outputs": [
    {
     "data": {
      "text/plain": [
       "Year\n",
       "2010    123\n",
       "2006    120\n",
       "2008    118\n",
       "2014    116\n",
       "2018    115\n",
       "2007    112\n",
       "2016    111\n",
       "2011    109\n",
       "2001    108\n",
       "2002    107\n",
       "2023    106\n",
       "2004    102\n",
       "2015     97\n",
       "2021     93\n",
       "2003     92\n",
       "2000     91\n",
       "2022     90\n",
       "2013     87\n",
       "2009     86\n",
       "2019     86\n",
       "2005     86\n",
       "2017     85\n",
       "2020     81\n",
       "2012     79\n",
       "Name: count, dtype: int64"
      ]
     },
     "execution_count": 18,
     "metadata": {},
     "output_type": "execute_result"
    }
   ],
   "source": [
    "train_df['Year'].value_counts()"
   ]
  },
  {
   "cell_type": "code",
   "execution_count": 17,
   "id": "530c97b1-fe9e-4278-92d4-e743ee54dcf5",
   "metadata": {
    "executionCancelledAt": null,
    "executionTime": null,
    "lastExecutedAt": null,
    "lastExecutedByKernel": null,
    "lastScheduledRunId": null,
    "lastSuccessfullyExecutedCode": null,
    "outputsMetadata": {
     "0": {
      "height": 50,
      "tableState": {
       "customFilter": {
        "const": {
         "type": "boolean",
         "valid": true,
         "value": true
        },
        "id": "f224ec9e-583c-44ea-ba2e-596bdfb5d2ed",
        "nodeType": "const"
       }
      },
      "type": "dataFrame"
     }
    }
   },
   "outputs": [
    {
     "data": {
      "text/plain": [
       "Country\n",
       "France       278\n",
       "China        252\n",
       "India        246\n",
       "Brazil       238\n",
       "Japan        232\n",
       "Canada       230\n",
       "Germany      230\n",
       "USA          228\n",
       "Australia    222\n",
       "Russia       200\n",
       "UK            44\n",
       "Name: count, dtype: int64"
      ]
     },
     "execution_count": 17,
     "metadata": {},
     "output_type": "execute_result"
    }
   ],
   "source": [
    "train_df['Country'].value_counts()"
   ]
  },
  {
   "cell_type": "code",
   "execution_count": 20,
   "id": "06d281cb-a1be-45fb-8d1b-abc3781b0c34",
   "metadata": {
    "executionCancelledAt": null,
    "executionTime": null,
    "lastExecutedAt": null,
    "lastExecutedByKernel": null,
    "lastScheduledRunId": null,
    "lastSuccessfullyExecutedCode": null,
    "outputsMetadata": {
     "0": {
      "height": 50,
      "tableState": {
       "customFilter": {
        "const": {
         "type": "boolean",
         "valid": true,
         "value": true
        },
        "id": "f224ec9e-583c-44ea-ba2e-596bdfb5d2ed",
        "nodeType": "const"
       }
      },
      "type": "dataFrame"
     }
    }
   },
   "outputs": [
    {
     "data": {
      "text/plain": [
       "Energy Type\n",
       "Geothermal    488\n",
       "Biomass       485\n",
       "Wind          478\n",
       "Solar         475\n",
       "Hydro         474\n",
       "Name: count, dtype: int64"
      ]
     },
     "execution_count": 20,
     "metadata": {},
     "output_type": "execute_result"
    }
   ],
   "source": [
    "train_df['Energy Type'].value_counts()"
   ]
  },
  {
   "cell_type": "markdown",
   "id": "5150515c-2ba5-40d2-b1a9-dc67f4e90826",
   "metadata": {},
   "source": [
    "This variability in the number of registries for each `Country` and each `Energy Type` reflects the specific circumstances and reporting practices of each country. Some countries may have more consistent data collection processes or prioritize certain energy sources, leading to more comprehensive records. Understanding these differences is essential for interpreting the dataset accurately and avoiding biased conclusions in the analysis.  \n",
    "To visualize this variation, the following heatmap displays the availability of data across different countries, years, and energy types. Each subplot corresponds to a specific energy type, and the color intensity indicates the number of entries for each country–year combination."
   ]
  },
  {
   "cell_type": "code",
   "execution_count": 12,
   "id": "518d8e73-7173-4609-9453-4381806e7f3e",
   "metadata": {
    "executionCancelledAt": null,
    "executionTime": null,
    "lastExecutedAt": null,
    "lastExecutedByKernel": null,
    "lastScheduledRunId": null,
    "lastSuccessfullyExecutedCode": null,
    "outputsMetadata": {
     "0": {
      "height": 467,
      "type": "plotly"
     }
    }
   },
   "outputs": [
    {
     "data": {
      "application/vnd.plotly.v1+json": {
       "config": {
        "plotlyServerURL": "https://plot.ly"
       },
       "data": [
        {
         "coloraxis": "coloraxis",
         "histfunc": "sum",
         "hovertemplate": "Energy Type=Hydro<br>Year=%{x}<br>Country=%{y}<br>sum of entries=%{z}<extra></extra>",
         "name": "",
         "nbinsx": 24,
         "nbinsy": 11,
         "type": "histogram2d",
         "x": {
          "bdata": "3AfSB+AH5gfXB+UH2AfWB+AH4gfaB9QH2wfcB90H3wfnB9YH0QfXB94H4gfRB+cH5wfkB98H1wfgB9UH0AfRB9YH3wfiB94H1gfTB9gH2AfRB9YH4wfXB9MH0gfWB9QH0gfbB9EH0QfmB9IH0QfUB94H5gfaB+AH1wfZB9AH4AfYB+MH4gfkB94H5QffB9QH3AfmB9EH3wfiB9oH2gfZB9AH2gfkB9oH4gfdB+YH4gfYB+UH3gfQB98H3AfSB90H0AfbB9IH0wfeB9gH5wfXB9gH5AfRB9oH3QfnB98H4AfiB9YH2gfiB94H0AfgB+cH3AfkB94H3QfhB+AH2QfbB9cH4wfgB98H3wfXB9UH5wfbB+IH4gfYB9wH5gflB9QH4wfYB+AH3wfQB9oH4AffB9YH1AfYB9QH4QfTB94H0gfbB+QH5gfXB9UH3gfbB+YH5gfgB+QH2gfmB94H5wfSB9cH5QfnB+YH1AfVB9sH0QfWB+cH5QfgB9oH4QfZB9QH3gfgB9YH1wfRB+YH0QfQB+QH2gfdB9UH3QfhB9YH0wfSB9YH3gfWB+AH1AfYB9kH3wfgB+cH0gfeB+AH0QfVB9wH2gfQB+YH3gfiB9oH2gfVB98H1gfkB9kH4gfeB+YH2gfRB9EH1wfYB+cH3gfXB9YH3gfbB9EH3QfhB+QH2wfTB9oH1wfeB+UH4gfSB9cH5wfdB+MH4gfQB+IH4AfXB9UH1AfQB9kH1QflB9cH1QfbB9IH0QfeB+AH2AfYB9kH1QfWB9sH2gfWB90H0wffB+IH2AfjB9sH5gfjB+cH2wflB9sH0QfhB+YH0wfXB9IH2AffB+QH3wfeB9QH1gfjB9wH1gfhB+cH2QfYB90H4AfRB9QH5gfYB9cH2gfbB9wH1wfTB9cH2QfaB+AH2gfRB9QH0AfgB+IH2AfjB9YH4gfQB9EH0gfiB98H4AfiB9EH3gfRB94H0wfkB9oH0AfUB98H4QfjB9kH5gfaB90H4AfTB9oH5AfcB94H5gfiB+IH4wfcB94H0gfSB+cH3gfQB+EH0QflB+cH5QfVB98H5wfiB+QH5QfRB9YH0gfdB9IH1gffB9IH1gflB94H3wfnB9MH0AfbB90H5QfRB9gH1gfhB9cH5AfTB9gH4AfQB9QH2AfiB90H4wfWB9sH2wfdB98H0gfhB9QH2wffB9MH3AfcB9IH4QfkB9gH3wfbB+YH5wfVB9AH3wfjB90H2QfRB9UH0gflB9sH0gfVB9QH2QfbB+IH",
          "dtype": "i2"
         },
         "xaxis": "x",
         "xbingroup": "x",
         "y": [
          "Canada",
          "France",
          "Russia",
          "Japan",
          "Australia",
          "Japan",
          "Brazil",
          "Brazil",
          "Canada",
          "China",
          "USA",
          "Germany",
          "USA",
          "Brazil",
          "Russia",
          "India",
          "India",
          "China",
          "Germany",
          "France",
          "Australia",
          "Brazil",
          "Brazil",
          "Russia",
          "China",
          "Canada",
          "Canada",
          "USA",
          "Japan",
          "Germany",
          "Australia",
          "France",
          "India",
          "Japan",
          "Brazil",
          "USA",
          "Japan",
          "Australia",
          "France",
          "Canada",
          "Russia",
          "Germany",
          "France",
          "China",
          "Russia",
          "Germany",
          "Germany",
          "USA",
          "Canada",
          "India",
          "Australia",
          "Germany",
          "France",
          "Brazil",
          "UK",
          "Canada",
          "Germany",
          "Russia",
          "Russia",
          "France",
          "Canada",
          "Brazil",
          "Germany",
          "India",
          "France",
          "Canada",
          "USA",
          "Australia",
          "Russia",
          "USA",
          "Canada",
          "India",
          "China",
          "China",
          "China",
          "Japan",
          "China",
          "Canada",
          "Brazil",
          "Australia",
          "China",
          "China",
          "Australia",
          "USA",
          "Brazil",
          "Japan",
          "Germany",
          "USA",
          "Japan",
          "Germany",
          "Germany",
          "China",
          "Canada",
          "USA",
          "India",
          "Japan",
          "China",
          "Brazil",
          "France",
          "China",
          "India",
          "France",
          "China",
          "China",
          "UK",
          "Brazil",
          "Australia",
          "China",
          "Australia",
          "Japan",
          "Russia",
          "Russia",
          "China",
          "Canada",
          "France",
          "India",
          "Germany",
          "India",
          "France",
          "India",
          "France",
          "Germany",
          "India",
          "Canada",
          "China",
          "Brazil",
          "Russia",
          "India",
          "Russia",
          "Brazil",
          "USA",
          "Australia",
          "China",
          "Germany",
          "Brazil",
          "USA",
          "Brazil",
          "Germany",
          "Brazil",
          "Brazil",
          "India",
          "Japan",
          "Canada",
          "USA",
          "Brazil",
          "Russia",
          "Japan",
          "UK",
          "Australia",
          "Australia",
          "China",
          "Japan",
          "USA",
          "Japan",
          "Germany",
          "Canada",
          "Japan",
          "Germany",
          "USA",
          "Brazil",
          "Australia",
          "India",
          "Canada",
          "Canada",
          "USA",
          "China",
          "USA",
          "Canada",
          "Australia",
          "Russia",
          "Germany",
          "Germany",
          "France",
          "Canada",
          "India",
          "Russia",
          "Japan",
          "India",
          "Russia",
          "France",
          "Australia",
          "France",
          "Germany",
          "Canada",
          "Germany",
          "France",
          "Brazil",
          "Australia",
          "USA",
          "Australia",
          "China",
          "India",
          "Russia",
          "Canada",
          "Japan",
          "India",
          "France",
          "USA",
          "Australia",
          "France",
          "India",
          "Japan",
          "Germany",
          "China",
          "India",
          "India",
          "Brazil",
          "Brazil",
          "China",
          "France",
          "Canada",
          "Canada",
          "Canada",
          "UK",
          "Japan",
          "Brazil",
          "Germany",
          "Japan",
          "Germany",
          "Australia",
          "India",
          "Australia",
          "India",
          "Germany",
          "France",
          "India",
          "India",
          "Australia",
          "Germany",
          "Japan",
          "Russia",
          "France",
          "Canada",
          "Russia",
          "Germany",
          "Australia",
          "Brazil",
          "China",
          "France",
          "Australia",
          "Russia",
          "Canada",
          "France",
          "Japan",
          "China",
          "Germany",
          "Russia",
          "Brazil",
          "Canada",
          "Japan",
          "Japan",
          "Australia",
          "Japan",
          "India",
          "USA",
          "France",
          "Brazil",
          "France",
          "USA",
          "Canada",
          "USA",
          "Germany",
          "USA",
          "Japan",
          "Brazil",
          "Canada",
          "Brazil",
          "Germany",
          "Brazil",
          "Brazil",
          "France",
          "Germany",
          "Australia",
          "France",
          "Germany",
          "China",
          "Russia",
          "China",
          "Russia",
          "USA",
          "Russia",
          "Canada",
          "France",
          "China",
          "Brazil",
          "Germany",
          "France",
          "France",
          "Japan",
          "Canada",
          "Australia",
          "China",
          "Australia",
          "China",
          "Japan",
          "Germany",
          "Australia",
          "Brazil",
          "Australia",
          "UK",
          "India",
          "Japan",
          "Canada",
          "Australia",
          "Germany",
          "Japan",
          "Germany",
          "France",
          "Russia",
          "USA",
          "Brazil",
          "Brazil",
          "Japan",
          "Brazil",
          "Germany",
          "Brazil",
          "Canada",
          "France",
          "USA",
          "Canada",
          "Russia",
          "Russia",
          "China",
          "Australia",
          "China",
          "USA",
          "Canada",
          "USA",
          "UK",
          "Germany",
          "Russia",
          "China",
          "Brazil",
          "India",
          "USA",
          "Russia",
          "Japan",
          "France",
          "USA",
          "Australia",
          "Russia",
          "Brazil",
          "India",
          "Canada",
          "Japan",
          "Canada",
          "India",
          "Brazil",
          "Russia",
          "Brazil",
          "Russia",
          "Canada",
          "Brazil",
          "Australia",
          "USA",
          "Australia",
          "India",
          "Germany",
          "France",
          "Brazil",
          "Russia",
          "Brazil",
          "China",
          "USA",
          "India",
          "Canada",
          "Brazil",
          "Canada",
          "Japan",
          "China",
          "Japan",
          "France",
          "Japan",
          "France",
          "India",
          "Australia",
          "USA",
          "Brazil",
          "China",
          "Germany",
          "Brazil",
          "Germany",
          "Brazil",
          "France",
          "India",
          "India",
          "France",
          "USA",
          "UK",
          "India",
          "Canada",
          "France",
          "Germany",
          "Canada",
          "Brazil",
          "Brazil",
          "France",
          "China",
          "Australia",
          "Japan",
          "Russia",
          "Canada",
          "Germany",
          "Australia",
          "Canada",
          "Australia",
          "Canada",
          "France",
          "Russia",
          "China",
          "Russia",
          "Australia",
          "Germany",
          "China",
          "Brazil",
          "Canada",
          "India",
          "Australia",
          "Germany",
          "India",
          "Brazil",
          "Canada",
          "France",
          "Japan",
          "India",
          "Japan",
          "China",
          "Russia",
          "UK",
          "Japan",
          "China",
          "France",
          "Japan",
          "Australia",
          "USA",
          "India",
          "USA",
          "Germany",
          "Australia",
          "France",
          "France",
          "Australia",
          "Japan",
          "India",
          "Russia",
          "Brazil",
          "Canada",
          "Germany",
          "India",
          "Canada",
          "Germany",
          "Russia",
          "Brazil",
          "Brazil",
          "Canada",
          "France",
          "Japan",
          "China",
          "Germany",
          "Brazil",
          "Canada",
          "Germany",
          "Germany",
          "France",
          "Russia",
          "India",
          "Canada",
          "Japan",
          "Australia",
          "Japan",
          "Japan",
          "Germany",
          "India",
          "China"
         ],
         "yaxis": "y",
         "ybingroup": "y",
         "z": {
          "bdata": "AQEBAQEBAQEBAQEBAQEBAQEBAQEBAQEBAQEBAQEBAQEBAQEBAQEBAQEBAQEBAQEBAQEBAQEBAQEBAQEBAQEBAQEBAQEBAQEBAQEBAQEBAQEBAQEBAQEBAQEBAQEBAQEBAQEBAQEBAQEBAQEBAQEBAQEBAQEBAQEBAQEBAQEBAQEBAQEBAQEBAQEBAQEBAQEBAQEBAQEBAQEBAQEBAQEBAQEBAQEBAQEBAQEBAQEBAQEBAQEBAQEBAQEBAQEBAQEBAQEBAQEBAQEBAQEBAQEBAQEBAQEBAQEBAQEBAQEBAQEBAQEBAQEBAQEBAQEBAQEBAQEBAQEBAQEBAQEBAQEBAQEBAQEBAQEBAQEBAQEBAQEBAQEBAQEBAQEBAQEBAQEBAQEBAQEBAQEBAQEBAQEBAQEBAQEBAQEBAQEBAQEBAQEBAQEBAQEBAQEBAQEBAQEBAQEBAQEBAQEBAQEBAQEBAQEBAQEBAQEBAQEBAQEBAQEBAQEBAQEBAQEBAQEBAQEBAQEBAQEBAQEBAQEBAQEBAQEBAQEBAQEBAQEBAQEBAQEBAQEBAQEBAQEBAQEBAQEBAQEBAQEBAQEBAQEBAQEBAQEBAQEBAQEBAQEBAQEBAQEBAQEBAQEBAQEB",
          "dtype": "i1"
         }
        },
        {
         "coloraxis": "coloraxis",
         "histfunc": "sum",
         "hovertemplate": "Energy Type=Solar<br>Year=%{x}<br>Country=%{y}<br>sum of entries=%{z}<extra></extra>",
         "name": "",
         "nbinsx": 24,
         "nbinsy": 11,
         "type": "histogram2d",
         "x": {
          "bdata": "4AfeB+UH2gfWB9YH4wfaB+QH1AffB9EH1wfaB9EH3AfeB9QH0gfeB9cH4wfTB9sH0wfYB9oH3QfmB+YH1wfbB+YH1QflB94H1gfWB94H0QfZB9IH5QfhB9cH5AfbB+EH2wfdB94H1wfTB9oH4QfnB9UH5wffB+IH4gfXB+cH1wfQB9wH2gfRB9UH3AfiB9QH1gfhB9oH2AfkB9cH4wfaB9wH5gfZB+UH5wfZB9EH1QfdB+UH4QfmB9EH2wfaB94H1gfRB9EH4QfeB98H0QfYB9UH1wfSB9QH5wfkB9QH4QfeB94H4QfSB94H2AfdB9AH4gfSB+IH1gfeB+UH2wfiB+cH4AfRB+IH1QfbB+EH3wfdB9gH1gfZB9MH3AfXB+AH2AfaB9MH1QfTB+YH2gfnB9AH2AfYB9sH0AfUB+AH2AfhB9kH2AfiB+QH2QfTB9UH4gfbB9wH0wfTB9QH3gfeB+MH4QffB+UH4wfjB9IH0gfgB9sH4AfXB90H0wfZB9MH4wfnB94H2QfgB+cH0AfZB+cH0wfmB9IH0wfhB98H3wfcB+cH4gfTB+MH0gfUB9IH5QfjB9wH3gfZB+IH0gfbB+AH3gfYB9kH1wfeB+EH2gfSB9oH1QfgB9YH1AfgB9sH4AfdB9wH4gfnB+UH5AfTB+QH4gfhB+EH2wfTB9EH0AfhB+UH1AfiB+IH4AfiB9AH5AfQB9gH1wfgB9sH3wfQB90H4QfSB+MH1AfYB+UH0AfhB94H1gfUB+YH0wfgB+EH4wfiB+MH3QfSB+cH2gfSB9gH5gfRB+IH2QfVB9cH0QfaB9sH0gfaB9QH1gfkB9sH2wfZB9UH1gflB9oH4QfeB+QH2AfgB+AH1gfbB9sH4gflB98H2gfcB9AH4QfWB9AH0AffB+AH2wfnB9MH1gfVB+cH5QfmB+MH2gfaB9AH3wfXB9kH5QfWB9YH1wfgB+UH4wflB90H5gfkB9oH1AflB9UH2gfXB9IH2gfmB9AH2gfRB+cH0gfSB+QH4gfRB9YH5gfVB+UH2gfSB94H0QfSB9IH3gfgB+AH0wfcB94H4AfeB9wH0gfWB+MH0gfiB+AH5QfYB9wH3QfYB9gH5AfQB94H2QfTB9cH0gfjB+QH4gffB9AH1gffB+YH3AfeB9MH4AfeB9sH1AfTB9QH0gfRB9IH3AfgB9UH0gfcB+cH3QfSB94H2gfXB9QH3QfjB9sH1gfhB94H1AfRB9kH3QfgB9YH5QfUB9QH1gfkB9UH4AfZB9kH2gc=",
          "dtype": "i2"
         },
         "xaxis": "x2",
         "xbingroup": "x",
         "y": [
          "Brazil",
          "Brazil",
          "Russia",
          "France",
          "China",
          "USA",
          "Brazil",
          "Russia",
          "Russia",
          "Germany",
          "Germany",
          "China",
          "Brazil",
          "Brazil",
          "Canada",
          "France",
          "India",
          "Canada",
          "USA",
          "Russia",
          "Canada",
          "Canada",
          "Germany",
          "Brazil",
          "China",
          "Germany",
          "Russia",
          "USA",
          "Canada",
          "Russia",
          "Germany",
          "Japan",
          "China",
          "Australia",
          "Germany",
          "UK",
          "France",
          "USA",
          "India",
          "Russia",
          "China",
          "Russia",
          "France",
          "USA",
          "Germany",
          "Canada",
          "USA",
          "India",
          "Brazil",
          "USA",
          "USA",
          "France",
          "Germany",
          "USA",
          "Canada",
          "Japan",
          "China",
          "Brazil",
          "Canada",
          "Japan",
          "France",
          "Russia",
          "Russia",
          "Australia",
          "Russia",
          "India",
          "USA",
          "Brazil",
          "India",
          "Brazil",
          "France",
          "UK",
          "China",
          "Brazil",
          "India",
          "China",
          "Russia",
          "Canada",
          "Japan",
          "India",
          "Germany",
          "Brazil",
          "India",
          "Russia",
          "Australia",
          "China",
          "Russia",
          "Germany",
          "Russia",
          "Canada",
          "India",
          "USA",
          "Canada",
          "Brazil",
          "Japan",
          "USA",
          "Canada",
          "Australia",
          "Japan",
          "China",
          "India",
          "Russia",
          "Australia",
          "Brazil",
          "Brazil",
          "India",
          "France",
          "UK",
          "China",
          "Brazil",
          "Canada",
          "Germany",
          "USA",
          "Brazil",
          "India",
          "India",
          "Japan",
          "USA",
          "Russia",
          "Germany",
          "Brazil",
          "Russia",
          "Canada",
          "Germany",
          "India",
          "Germany",
          "France",
          "France",
          "Germany",
          "Australia",
          "China",
          "Russia",
          "Germany",
          "Japan",
          "France",
          "France",
          "Canada",
          "Russia",
          "China",
          "Germany",
          "Brazil",
          "Australia",
          "Russia",
          "France",
          "Australia",
          "China",
          "China",
          "Brazil",
          "Brazil",
          "Germany",
          "Brazil",
          "USA",
          "Australia",
          "USA",
          "China",
          "USA",
          "Russia",
          "China",
          "Germany",
          "USA",
          "China",
          "India",
          "Japan",
          "China",
          "USA",
          "Germany",
          "Japan",
          "USA",
          "France",
          "Brazil",
          "China",
          "Canada",
          "China",
          "Russia",
          "Australia",
          "India",
          "Russia",
          "Russia",
          "Australia",
          "France",
          "India",
          "Canada",
          "Russia",
          "Russia",
          "Brazil",
          "Japan",
          "Germany",
          "France",
          "Australia",
          "Canada",
          "Canada",
          "USA",
          "Russia",
          "Brazil",
          "France",
          "Russia",
          "Germany",
          "Japan",
          "China",
          "Japan",
          "Russia",
          "China",
          "France",
          "France",
          "Australia",
          "Japan",
          "Australia",
          "UK",
          "China",
          "USA",
          "Canada",
          "India",
          "China",
          "Japan",
          "China",
          "Australia",
          "USA",
          "Japan",
          "USA",
          "Canada",
          "Canada",
          "USA",
          "Germany",
          "China",
          "Germany",
          "Australia",
          "India",
          "Canada",
          "UK",
          "France",
          "Brazil",
          "France",
          "India",
          "Canada",
          "Australia",
          "China",
          "Germany",
          "India",
          "Japan",
          "France",
          "Japan",
          "Canada",
          "Canada",
          "France",
          "China",
          "Russia",
          "Brazil",
          "China",
          "Australia",
          "France",
          "China",
          "China",
          "France",
          "China",
          "India",
          "France",
          "India",
          "Canada",
          "France",
          "Canada",
          "USA",
          "USA",
          "India",
          "Russia",
          "India",
          "France",
          "Australia",
          "France",
          "Brazil",
          "Australia",
          "Australia",
          "USA",
          "Russia",
          "India",
          "India",
          "Canada",
          "Germany",
          "France",
          "USA",
          "Japan",
          "Brazil",
          "India",
          "Brazil",
          "Japan",
          "Japan",
          "USA",
          "Canada",
          "Brazil",
          "France",
          "UK",
          "Japan",
          "India",
          "France",
          "Brazil",
          "China",
          "France",
          "India",
          "France",
          "China",
          "Russia",
          "Australia",
          "Canada",
          "Canada",
          "Japan",
          "France",
          "France",
          "Japan",
          "China",
          "Germany",
          "Brazil",
          "China",
          "Australia",
          "Canada",
          "Brazil",
          "India",
          "Canada",
          "Germany",
          "Japan",
          "Brazil",
          "USA",
          "USA",
          "USA",
          "Germany",
          "Australia",
          "Brazil",
          "Canada",
          "France",
          "Australia",
          "Brazil",
          "Australia",
          "Russia",
          "Japan",
          "China",
          "Brazil",
          "France",
          "Germany",
          "India",
          "Russia",
          "USA",
          "Germany",
          "France",
          "France",
          "France",
          "Japan",
          "Japan",
          "Germany",
          "Germany",
          "France",
          "USA",
          "France",
          "France",
          "USA",
          "India",
          "Germany",
          "Russia",
          "India",
          "Australia",
          "Canada",
          "USA",
          "Canada",
          "Russia",
          "Japan",
          "USA",
          "Japan",
          "UK",
          "Brazil",
          "France",
          "Japan",
          "France",
          "Russia",
          "USA",
          "France",
          "India",
          "USA",
          "China",
          "Canada",
          "USA",
          "Canada",
          "Russia",
          "France",
          "Germany",
          "Brazil",
          "Japan",
          "Brazil",
          "USA",
          "Brazil",
          "India",
          "Japan",
          "USA",
          "China",
          "France",
          "Japan",
          "Japan",
          "Australia",
          "USA",
          "Japan",
          "Japan",
          "India",
          "Russia",
          "Canada",
          "Canada",
          "France",
          "France",
          "Russia",
          "USA",
          "Japan",
          "China",
          "USA",
          "Germany",
          "India",
          "Russia",
          "Australia",
          "Japan",
          "India",
          "USA",
          "Brazil",
          "Australia",
          "Australia",
          "Russia",
          "China",
          "USA",
          "France",
          "USA",
          "France",
          "USA",
          "USA",
          "Brazil",
          "China",
          "France",
          "Australia",
          "Germany",
          "Japan",
          "Japan",
          "Brazil",
          "USA",
          "USA",
          "Russia",
          "India",
          "Australia",
          "India",
          "Germany",
          "Russia",
          "Russia",
          "Germany",
          "Japan",
          "Australia",
          "Brazil",
          "France",
          "Canada",
          "Russia",
          "USA",
          "Brazil",
          "China",
          "Australia",
          "China",
          "Russia",
          "Brazil",
          "India",
          "UK",
          "Japan",
          "Australia",
          "Japan",
          "Brazil",
          "Russia",
          "France",
          "Brazil",
          "Japan",
          "Russia",
          "France",
          "USA",
          "Australia",
          "UK",
          "Canada",
          "Germany",
          "Brazil"
         ],
         "yaxis": "y2",
         "ybingroup": "y",
         "z": {
          "bdata": "AQEBAQEBAQEBAQEBAQEBAQEBAQEBAQEBAQEBAQEBAQEBAQEBAQEBAQEBAQEBAQEBAQEBAQEBAQEBAQEBAQEBAQEBAQEBAQEBAQEBAQEBAQEBAQEBAQEBAQEBAQEBAQEBAQEBAQEBAQEBAQEBAQEBAQEBAQEBAQEBAQEBAQEBAQEBAQEBAQEBAQEBAQEBAQEBAQEBAQEBAQEBAQEBAQEBAQEBAQEBAQEBAQEBAQEBAQEBAQEBAQEBAQEBAQEBAQEBAQEBAQEBAQEBAQEBAQEBAQEBAQEBAQEBAQEBAQEBAQEBAQEBAQEBAQEBAQEBAQEBAQEBAQEBAQEBAQEBAQEBAQEBAQEBAQEBAQEBAQEBAQEBAQEBAQEBAQEBAQEBAQEBAQEBAQEBAQEBAQEBAQEBAQEBAQEBAQEBAQEBAQEBAQEBAQEBAQEBAQEBAQEBAQEBAQEBAQEBAQEBAQEBAQEBAQEBAQEBAQEBAQEBAQEBAQEBAQEBAQEBAQEBAQEBAQEBAQEBAQEBAQEBAQEBAQEBAQEBAQEBAQEBAQEBAQEBAQEBAQEBAQEBAQEBAQEBAQEBAQEBAQEBAQEBAQEBAQEBAQEBAQEBAQEBAQEBAQEBAQEBAQEBAQEBAQEBAQ==",
          "dtype": "i1"
         }
        },
        {
         "coloraxis": "coloraxis",
         "histfunc": "sum",
         "hovertemplate": "Energy Type=Biomass<br>Year=%{x}<br>Country=%{y}<br>sum of entries=%{z}<extra></extra>",
         "name": "",
         "nbinsx": 24,
         "nbinsy": 11,
         "type": "histogram2d",
         "x": {
          "bdata": "3wfYB9YH5wfbB+cH4wfkB9oH2AfUB9cH1wfRB9QH5QfmB+YH1wfXB9gH3QfaB94H3AfbB+EH3wfQB94H2wfYB+UH0QfgB9oH5gfiB9cH0gfmB9EH1wfnB9QH4QffB9sH2QfiB9MH3wfYB+IH2gfmB9EH1wfXB+QH5gffB+YH0AfmB9EH5AfjB+AH3gfVB9QH5wfXB+IH4QfRB9YH1AfQB+EH0QffB9IH1AfSB9UH0gfWB98H3wfjB9QH5wfYB9cH0AfVB9gH5wfYB+cH3AffB+MH1AfeB+YH1gfbB9sH2wfTB98H3AflB+IH3gfdB9EH4gfdB+MH2gfUB9cH1gfjB9UH3QfZB98H5gfWB9YH5gfjB90H3QffB+QH5wfnB98H2gffB94H2wfWB+YH2QfYB98H0gfhB9wH1wfnB94H3AfWB+MH5wfaB9cH2QfVB+EH4wfnB9sH4wfRB9UH5gfXB9EH3gfeB9AH4AfWB9EH0QfgB+cH1gfiB9oH5wfiB9IH5QfZB9MH4AfmB98H1gfSB9kH4QfiB9UH1wfUB9QH0wflB9MH5gfgB90H2wfWB9UH5wfnB+IH0wfkB+AH3AfhB+IH2QfbB9wH3QfkB9oH4gfiB9IH2QflB9wH4AflB9MH5QfQB+AH4gfiB+EH5AfQB9EH3AfiB9AH2gfgB9MH0QfgB9QH5gflB+MH4AffB9YH5gfUB9AH2gffB9MH4QflB9AH2AfgB98H3AfYB90H5gfcB98H0QfgB98H5gfdB+QH2QfWB9sH0wfQB9AH5wfVB+EH4AfnB9IH4gfaB+UH3wfdB+EH5wffB9MH1wfhB98H3gfaB9cH1QfaB94H2QflB+MH4QfUB9cH4QfUB90H4wfWB+AH1wfiB90H1wfkB9oH2QfWB9UH3wfTB9YH0wfQB9YH5wfVB9sH2AfaB+QH4gfXB9kH2QfTB+EH4gfYB9MH5QfnB+UH4gfXB9oH0QfVB+AH1QfRB9cH1gfnB9gH5QfnB9UH4AfgB+MH1wfVB9UH0QfeB9QH1gfZB90H3AfZB9oH0wfSB9wH4gfjB9gH3gfhB9EH0gfUB9QH4AfQB9EH3AfaB+MH2AfnB9QH2gfgB+QH1QfcB9gH1gfiB+AH0QfkB+MH1AfiB+IH5QfbB94H3gfTB90H0QfVB+AH0AfWB98H5AfSB9UH5AfaB9QH3AfdB+AH5QfYB9EH5gfbB9UH4AfSB9sH4gfZB9kH2gfRB9cH1gfRB9IH1AfdB90H4gfnB9gH4wfYB+cH2QfWB98H0gfXB94H5AfZBw==",
          "dtype": "i2"
         },
         "xaxis": "x3",
         "xbingroup": "x",
         "y": [
          "Australia",
          "Australia",
          "Japan",
          "Australia",
          "France",
          "China",
          "France",
          "Germany",
          "France",
          "Canada",
          "USA",
          "France",
          "UK",
          "Canada",
          "Australia",
          "Russia",
          "Australia",
          "Canada",
          "Germany",
          "USA",
          "China",
          "India",
          "Russia",
          "France",
          "Russia",
          "Germany",
          "Canada",
          "Germany",
          "Japan",
          "Germany",
          "USA",
          "Australia",
          "UK",
          "USA",
          "USA",
          "Australia",
          "Japan",
          "India",
          "China",
          "China",
          "Russia",
          "China",
          "India",
          "Australia",
          "Australia",
          "Japan",
          "France",
          "Japan",
          "France",
          "India",
          "Canada",
          "USA",
          "Germany",
          "Canada",
          "France",
          "India",
          "Germany",
          "Russia",
          "Canada",
          "India",
          "China",
          "France",
          "USA",
          "Japan",
          "Germany",
          "Brazil",
          "Brazil",
          "Australia",
          "Japan",
          "Canada",
          "UK",
          "Japan",
          "France",
          "USA",
          "USA",
          "Japan",
          "USA",
          "Germany",
          "Russia",
          "Germany",
          "China",
          "Canada",
          "India",
          "Canada",
          "Germany",
          "Canada",
          "Germany",
          "France",
          "Russia",
          "USA",
          "Germany",
          "Australia",
          "China",
          "Japan",
          "India",
          "China",
          "China",
          "UK",
          "France",
          "Russia",
          "Canada",
          "India",
          "UK",
          "Brazil",
          "France",
          "France",
          "Brazil",
          "Germany",
          "China",
          "China",
          "Germany",
          "Japan",
          "China",
          "USA",
          "France",
          "Australia",
          "India",
          "Germany",
          "Brazil",
          "China",
          "Japan",
          "Canada",
          "Canada",
          "Brazil",
          "India",
          "USA",
          "Russia",
          "USA",
          "France",
          "Brazil",
          "France",
          "USA",
          "China",
          "India",
          "China",
          "France",
          "China",
          "Japan",
          "Australia",
          "Japan",
          "Brazil",
          "UK",
          "India",
          "Japan",
          "Brazil",
          "Brazil",
          "UK",
          "Brazil",
          "India",
          "France",
          "Australia",
          "Canada",
          "Australia",
          "Canada",
          "Russia",
          "Germany",
          "Russia",
          "Japan",
          "Russia",
          "France",
          "China",
          "India",
          "USA",
          "China",
          "Japan",
          "Canada",
          "UK",
          "Canada",
          "Canada",
          "USA",
          "USA",
          "Australia",
          "Brazil",
          "Australia",
          "UK",
          "Brazil",
          "China",
          "Germany",
          "France",
          "Germany",
          "Brazil",
          "USA",
          "Australia",
          "Germany",
          "China",
          "China",
          "USA",
          "Germany",
          "China",
          "Germany",
          "France",
          "Japan",
          "India",
          "Germany",
          "Australia",
          "Australia",
          "India",
          "India",
          "Canada",
          "Brazil",
          "India",
          "Brazil",
          "France",
          "France",
          "Australia",
          "France",
          "USA",
          "Germany",
          "Brazil",
          "France",
          "Germany",
          "France",
          "Australia",
          "China",
          "Russia",
          "Russia",
          "Russia",
          "Germany",
          "Japan",
          "Germany",
          "Japan",
          "China",
          "France",
          "Germany",
          "Canada",
          "India",
          "Japan",
          "Japan",
          "France",
          "France",
          "Japan",
          "Australia",
          "Australia",
          "Russia",
          "Australia",
          "Brazil",
          "France",
          "France",
          "Canada",
          "Canada",
          "India",
          "USA",
          "Australia",
          "Germany",
          "China",
          "Canada",
          "Japan",
          "Australia",
          "Japan",
          "Canada",
          "Canada",
          "Germany",
          "USA",
          "Germany",
          "USA",
          "China",
          "USA",
          "Japan",
          "India",
          "China",
          "Russia",
          "Russia",
          "Brazil",
          "Canada",
          "China",
          "India",
          "Canada",
          "Russia",
          "Brazil",
          "Japan",
          "Japan",
          "Russia",
          "France",
          "Germany",
          "Germany",
          "Canada",
          "China",
          "China",
          "India",
          "Russia",
          "China",
          "Germany",
          "France",
          "Japan",
          "China",
          "China",
          "USA",
          "Canada",
          "Brazil",
          "France",
          "France",
          "Australia",
          "Russia",
          "India",
          "Canada",
          "Australia",
          "France",
          "USA",
          "Japan",
          "Brazil",
          "China",
          "Russia",
          "USA",
          "Brazil",
          "France",
          "Russia",
          "China",
          "Canada",
          "Japan",
          "Japan",
          "France",
          "Australia",
          "Japan",
          "France",
          "France",
          "Brazil",
          "Canada",
          "Canada",
          "Canada",
          "India",
          "France",
          "China",
          "USA",
          "Germany",
          "China",
          "Russia",
          "Japan",
          "Germany",
          "USA",
          "Australia",
          "Russia",
          "UK",
          "Germany",
          "France",
          "Russia",
          "Russia",
          "Japan",
          "France",
          "Australia",
          "USA",
          "France",
          "China",
          "India",
          "Russia",
          "India",
          "Germany",
          "Brazil",
          "Brazil",
          "France",
          "Japan",
          "Brazil",
          "Japan",
          "France",
          "USA",
          "France",
          "USA",
          "Australia",
          "Canada",
          "Canada",
          "Australia",
          "Brazil",
          "France",
          "France",
          "India",
          "UK",
          "Canada",
          "Australia",
          "France",
          "India",
          "India",
          "Canada",
          "India",
          "Russia",
          "France",
          "Russia",
          "UK",
          "China",
          "Germany",
          "China",
          "USA",
          "India",
          "India",
          "Japan",
          "Brazil",
          "USA",
          "Brazil",
          "China",
          "Australia",
          "Brazil",
          "Canada",
          "Japan",
          "Russia",
          "Russia",
          "Australia",
          "USA",
          "Germany",
          "USA",
          "Australia",
          "India",
          "Japan",
          "China",
          "China",
          "China",
          "India",
          "Russia",
          "Brazil",
          "France",
          "USA",
          "USA",
          "Canada",
          "Canada",
          "Australia",
          "France",
          "Germany",
          "China",
          "India",
          "Australia",
          "Australia",
          "China",
          "France",
          "India",
          "Russia",
          "Canada",
          "Germany",
          "Germany",
          "Germany",
          "Australia",
          "France",
          "Brazil",
          "Germany",
          "UK",
          "Brazil",
          "India",
          "Russia",
          "Australia",
          "China",
          "China",
          "Japan",
          "India",
          "Germany",
          "USA",
          "India",
          "Brazil",
          "UK",
          "China",
          "Japan",
          "Russia",
          "Japan",
          "Canada",
          "Germany",
          "India",
          "Japan",
          "Australia",
          "Japan",
          "Canada",
          "China",
          "China",
          "France",
          "China",
          "UK",
          "Japan",
          "Brazil",
          "France",
          "Japan",
          "Japan",
          "Canada",
          "Australia",
          "Brazil",
          "Brazil",
          "UK",
          "India",
          "France",
          "Germany",
          "France",
          "USA",
          "India",
          "Russia",
          "USA",
          "France",
          "Russia",
          "France",
          "Japan",
          "Australia",
          "Japan",
          "Brazil"
         ],
         "yaxis": "y3",
         "ybingroup": "y",
         "z": {
          "bdata": "AQEBAQEBAQEBAQEBAQEBAQEBAQEBAQEBAQEBAQEBAQEBAQEBAQEBAQEBAQEBAQEBAQEBAQEBAQEBAQEBAQEBAQEBAQEBAQEBAQEBAQEBAQEBAQEBAQEBAQEBAQEBAQEBAQEBAQEBAQEBAQEBAQEBAQEBAQEBAQEBAQEBAQEBAQEBAQEBAQEBAQEBAQEBAQEBAQEBAQEBAQEBAQEBAQEBAQEBAQEBAQEBAQEBAQEBAQEBAQEBAQEBAQEBAQEBAQEBAQEBAQEBAQEBAQEBAQEBAQEBAQEBAQEBAQEBAQEBAQEBAQEBAQEBAQEBAQEBAQEBAQEBAQEBAQEBAQEBAQEBAQEBAQEBAQEBAQEBAQEBAQEBAQEBAQEBAQEBAQEBAQEBAQEBAQEBAQEBAQEBAQEBAQEBAQEBAQEBAQEBAQEBAQEBAQEBAQEBAQEBAQEBAQEBAQEBAQEBAQEBAQEBAQEBAQEBAQEBAQEBAQEBAQEBAQEBAQEBAQEBAQEBAQEBAQEBAQEBAQEBAQEBAQEBAQEBAQEBAQEBAQEBAQEBAQEBAQEBAQEBAQEBAQEBAQEBAQEBAQEBAQEBAQEBAQEBAQEBAQEBAQEBAQEBAQEBAQEBAQEBAQEBAQEBAQEBAQEBAQEBAQEBAQE=",
          "dtype": "i1"
         }
        },
        {
         "coloraxis": "coloraxis",
         "histfunc": "sum",
         "hovertemplate": "Energy Type=Geothermal<br>Year=%{x}<br>Country=%{y}<br>sum of entries=%{z}<extra></extra>",
         "name": "",
         "nbinsx": 24,
         "nbinsy": 11,
         "type": "histogram2d",
         "x": {
          "bdata": "4gfSB9MH3gfWB9wH5wfbB9oH2AfjB+YH2gfUB+MH1wfXB9YH2QfeB+UH2wfmB9cH4gfWB90H2wfbB9oH3gfVB+EH0QfQB+YH1wfVB+UH0gffB9cH3QfRB9sH3wfVB+IH1wfkB9wH2QfUB9wH0wfWB9cH2gfiB9kH3gfiB9IH5AfQB+QH5gfUB9UH0wfgB9EH1wfWB+AH2wfgB9cH0gfSB9cH4wfQB+IH0gfUB+QH5AfnB+AH2AfnB+MH1AfjB9QH4wflB9AH5gfQB9oH0wfaB9sH3AfZB+UH4QfdB9kH2AfiB9wH1gfkB9gH3AfUB9YH5AfnB+IH4wfVB9wH2AflB94H1gfQB9oH5wffB9gH3gfeB9UH0AfhB+EH5wfgB+IH4AfWB9oH2AfXB9UH1AfbB9kH0AfeB9QH0QfmB+YH2AfeB9MH0wfjB9sH3gfjB+QH3gfWB9oH3wfaB9sH2AfgB+QH2wfjB+UH2QfTB+cH1AfVB9IH1AfeB+IH4QfmB9IH4wffB9kH1wfTB9QH0AfWB90H5wfnB9MH4gfbB98H4wfUB9YH2AfQB+cH2wfhB9kH2wfaB9gH2AfSB+MH1wfeB+UH5AfSB+cH0AfgB9QH2AfhB9kH3gfjB9gH1wfaB9EH2AfaB9oH2wfaB9AH4wfiB98H4AfVB+AH5QfmB9kH4wfeB+YH3gfiB9gH4gfUB9EH2AfiB+UH2AfbB+YH2QfUB+EH0gfXB9wH1gflB9gH3QfTB9gH5wfjB+MH1gfRB9EH1QfkB9kH2gfcB9YH5AfnB+MH1AfjB+UH2wfVB9oH1gfiB+AH5wfUB94H1gfnB9UH5QfTB9MH2gffB9gH5wfdB9QH0wfgB9cH2AfVB+IH5AfYB9YH1gfVB9EH5gfQB+MH2wfeB+YH5wfiB94H5AfXB9wH3AfiB9wH5AfeB98H1wfYB9EH5gfhB9sH1gfhB9AH0wfQB9YH3QfUB9EH2QfZB9gH2gfdB+AH1QfZB9oH0gfRB9oH2QffB+EH5wfVB9IH5wfhB+QH2wfiB9AH1QfaB+cH2AfTB+EH2wfaB+UH0AfTB+AH2wfnB9gH5wfbB9YH2AfRB9IH0AfcB9kH5QfgB+QH0gfmB+IH3QfWB9oH1AfmB9cH2AfiB+QH1QfSB98H1wfgB+IH2gfkB9YH4QfmB9YH0AfcB90H4AfVB9cH4wfYB9AH3QfXB9QH2wfYB9AH0gfaB98H4AfhB98H3AfhB+EH0wfZB94H4wfRB94H1wfXB9sH2AfXB+UH1wfgB90H4gfaB9EH2QffB9cH4wfnBw==",
          "dtype": "i2"
         },
         "xaxis": "x4",
         "xbingroup": "x",
         "y": [
          "China",
          "India",
          "Australia",
          "China",
          "Germany",
          "USA",
          "USA",
          "France",
          "India",
          "India",
          "Canada",
          "Australia",
          "France",
          "China",
          "Germany",
          "Russia",
          "France",
          "Russia",
          "Canada",
          "China",
          "India",
          "China",
          "Australia",
          "USA",
          "China",
          "UK",
          "Russia",
          "Australia",
          "China",
          "France",
          "France",
          "Brazil",
          "Japan",
          "France",
          "India",
          "USA",
          "India",
          "USA",
          "Canada",
          "Brazil",
          "China",
          "Japan",
          "Australia",
          "Brazil",
          "Australia",
          "Russia",
          "Germany",
          "India",
          "Russia",
          "Brazil",
          "Japan",
          "Japan",
          "France",
          "Australia",
          "India",
          "Japan",
          "Canada",
          "Brazil",
          "Brazil",
          "Australia",
          "Australia",
          "Russia",
          "USA",
          "Russia",
          "Japan",
          "Canada",
          "Canada",
          "UK",
          "China",
          "Brazil",
          "Australia",
          "India",
          "Japan",
          "France",
          "China",
          "Japan",
          "Germany",
          "Canada",
          "Brazil",
          "Brazil",
          "France",
          "Australia",
          "India",
          "Germany",
          "Russia",
          "China",
          "Russia",
          "France",
          "Germany",
          "Canada",
          "Russia",
          "India",
          "Russia",
          "Australia",
          "Germany",
          "China",
          "USA",
          "China",
          "Brazil",
          "Brazil",
          "India",
          "China",
          "Australia",
          "Russia",
          "Brazil",
          "Australia",
          "Australia",
          "China",
          "Brazil",
          "India",
          "Germany",
          "Brazil",
          "USA",
          "Canada",
          "Australia",
          "Canada",
          "Germany",
          "Australia",
          "China",
          "USA",
          "Russia",
          "Australia",
          "Canada",
          "Russia",
          "China",
          "Brazil",
          "India",
          "USA",
          "India",
          "France",
          "China",
          "Australia",
          "Germany",
          "USA",
          "Japan",
          "India",
          "Australia",
          "USA",
          "Germany",
          "Brazil",
          "France",
          "Canada",
          "France",
          "Australia",
          "Russia",
          "India",
          "Germany",
          "Brazil",
          "Brazil",
          "Canada",
          "India",
          "France",
          "Russia",
          "Japan",
          "Japan",
          "Canada",
          "France",
          "Canada",
          "Canada",
          "China",
          "Canada",
          "Japan",
          "USA",
          "UK",
          "China",
          "India",
          "Brazil",
          "Australia",
          "India",
          "Brazil",
          "India",
          "UK",
          "Canada",
          "Canada",
          "Canada",
          "India",
          "Germany",
          "USA",
          "Japan",
          "Brazil",
          "USA",
          "USA",
          "France",
          "USA",
          "USA",
          "China",
          "Australia",
          "Japan",
          "Australia",
          "Australia",
          "Russia",
          "USA",
          "Germany",
          "Russia",
          "Germany",
          "India",
          "France",
          "China",
          "India",
          "Brazil",
          "Russia",
          "Germany",
          "China",
          "Canada",
          "Russia",
          "India",
          "China",
          "China",
          "Australia",
          "Germany",
          "Canada",
          "Brazil",
          "China",
          "Japan",
          "India",
          "Germany",
          "Australia",
          "Brazil",
          "India",
          "USA",
          "Russia",
          "France",
          "Australia",
          "Japan",
          "China",
          "Canada",
          "Japan",
          "France",
          "France",
          "Brazil",
          "Canada",
          "USA",
          "Canada",
          "Japan",
          "Canada",
          "Russia",
          "USA",
          "Japan",
          "Germany",
          "Canada",
          "Germany",
          "Russia",
          "India",
          "Germany",
          "Brazil",
          "India",
          "India",
          "Russia",
          "Australia",
          "Brazil",
          "India",
          "Canada",
          "China",
          "Canada",
          "Russia",
          "Japan",
          "Australia",
          "India",
          "France",
          "Japan",
          "Canada",
          "Germany",
          "France",
          "USA",
          "Russia",
          "China",
          "India",
          "Canada",
          "Australia",
          "Russia",
          "Australia",
          "China",
          "Australia",
          "Germany",
          "China",
          "Germany",
          "France",
          "Australia",
          "China",
          "China",
          "Japan",
          "Australia",
          "Canada",
          "Russia",
          "France",
          "Russia",
          "Canada",
          "India",
          "France",
          "Japan",
          "Australia",
          "Canada",
          "USA",
          "China",
          "India",
          "France",
          "Germany",
          "Canada",
          "USA",
          "USA",
          "India",
          "Canada",
          "France",
          "India",
          "France",
          "Russia",
          "India",
          "USA",
          "Brazil",
          "USA",
          "France",
          "France",
          "Germany",
          "Germany",
          "Brazil",
          "Australia",
          "Russia",
          "Japan",
          "Canada",
          "China",
          "China",
          "Australia",
          "USA",
          "Brazil",
          "Russia",
          "USA",
          "France",
          "Brazil",
          "China",
          "Brazil",
          "Canada",
          "Canada",
          "France",
          "Australia",
          "China",
          "China",
          "Russia",
          "Japan",
          "Japan",
          "Russia",
          "India",
          "Russia",
          "Canada",
          "Japan",
          "Japan",
          "India",
          "Japan",
          "China",
          "Japan",
          "USA",
          "Canada",
          "Australia",
          "Brazil",
          "Japan",
          "India",
          "Australia",
          "France",
          "Germany",
          "Brazil",
          "Australia",
          "Brazil",
          "USA",
          "France",
          "Australia",
          "Australia",
          "Canada",
          "USA",
          "Australia",
          "Brazil",
          "Germany",
          "Russia",
          "USA",
          "France",
          "China",
          "France",
          "Australia",
          "Australia",
          "China",
          "India",
          "Germany",
          "Brazil",
          "Germany",
          "Japan",
          "Japan",
          "Brazil",
          "France",
          "Germany",
          "India",
          "Australia",
          "Brazil",
          "Germany",
          "Germany",
          "USA",
          "Germany",
          "Australia",
          "India",
          "Brazil",
          "Japan",
          "Germany",
          "Russia",
          "France",
          "India",
          "China",
          "France",
          "Australia",
          "Germany",
          "Germany",
          "Russia",
          "USA",
          "USA",
          "Brazil",
          "Australia",
          "India",
          "France",
          "Australia",
          "China",
          "France",
          "Canada",
          "Brazil",
          "Russia",
          "Australia",
          "India",
          "India",
          "France",
          "Canada",
          "China",
          "USA",
          "Japan",
          "India",
          "Germany",
          "Brazil",
          "China",
          "China",
          "Germany",
          "Canada",
          "India",
          "Germany",
          "USA",
          "China",
          "Russia",
          "UK",
          "USA",
          "Japan",
          "Germany",
          "Brazil",
          "France",
          "France",
          "France",
          "China",
          "USA",
          "USA",
          "France",
          "France",
          "Australia",
          "India",
          "India",
          "Australia",
          "France",
          "China",
          "Japan",
          "Australia",
          "Brazil",
          "France",
          "Australia",
          "Japan",
          "USA",
          "Germany",
          "China",
          "France",
          "Canada",
          "Germany",
          "France",
          "Canada",
          "China",
          "Japan",
          "Germany",
          "China",
          "Japan",
          "Canada",
          "Germany",
          "USA",
          "Canada",
          "Canada",
          "China",
          "France",
          "India",
          "Canada",
          "Japan"
         ],
         "yaxis": "y4",
         "ybingroup": "y",
         "z": {
          "bdata": "AQEBAQEBAQEBAQEBAQEBAQEBAQEBAQEBAQEBAQEBAQEBAQEBAQEBAQEBAQEBAQEBAQEBAQEBAQEBAQEBAQEBAQEBAQEBAQEBAQEBAQEBAQEBAQEBAQEBAQEBAQEBAQEBAQEBAQEBAQEBAQEBAQEBAQEBAQEBAQEBAQEBAQEBAQEBAQEBAQEBAQEBAQEBAQEBAQEBAQEBAQEBAQEBAQEBAQEBAQEBAQEBAQEBAQEBAQEBAQEBAQEBAQEBAQEBAQEBAQEBAQEBAQEBAQEBAQEBAQEBAQEBAQEBAQEBAQEBAQEBAQEBAQEBAQEBAQEBAQEBAQEBAQEBAQEBAQEBAQEBAQEBAQEBAQEBAQEBAQEBAQEBAQEBAQEBAQEBAQEBAQEBAQEBAQEBAQEBAQEBAQEBAQEBAQEBAQEBAQEBAQEBAQEBAQEBAQEBAQEBAQEBAQEBAQEBAQEBAQEBAQEBAQEBAQEBAQEBAQEBAQEBAQEBAQEBAQEBAQEBAQEBAQEBAQEBAQEBAQEBAQEBAQEBAQEBAQEBAQEBAQEBAQEBAQEBAQEBAQEBAQEBAQEBAQEBAQEBAQEBAQEBAQEBAQEBAQEBAQEBAQEBAQEBAQEBAQEBAQEBAQEBAQEBAQEBAQEBAQEBAQEBAQEBAQE=",
          "dtype": "i1"
         }
        },
        {
         "coloraxis": "coloraxis",
         "histfunc": "sum",
         "hovertemplate": "Energy Type=Wind<br>Year=%{x}<br>Country=%{y}<br>sum of entries=%{z}<extra></extra>",
         "name": "",
         "nbinsx": 24,
         "nbinsy": 11,
         "type": "histogram2d",
         "x": {
          "bdata": "5QfmB+AH4gfVB+AH2wfRB+MH1AfeB+UH3AflB+YH0QfeB+YH3gfbB9gH5QflB9EH5wfnB+MH3AfbB9AH5AfTB9wH2gfUB+YH0QfnB9gH0QfbB9gH0gfeB90H1AfjB+cH4gfXB98H3QfWB90H2QfVB+IH1gfkB+YH3QfbB9wH2AfbB9MH0wfiB9QH3QfcB90H1AfjB98H4AfXB9oH3wflB+UH1AfSB9IH1gfZB9IH4wfdB9gH2QffB+cH2QfWB9sH0wfbB9MH1QfnB+YH4gflB+YH0gfaB+EH0AfhB+IH3gfhB+IH5QfgB9AH3QfVB9wH3wfcB9cH1wfWB9IH0AfYB+cH3AfmB9UH2wfQB9EH5AfQB+IH5AfhB94H1QfbB+UH3QfTB9MH0gfaB+AH3wfiB9MH1wfXB9cH1gfTB+IH1AfiB9sH1gfXB+EH2wfdB9cH0gfRB9UH1gfSB9EH2AfnB+cH2QfmB94H0AfhB+UH0AflB9sH4QffB+UH4wfkB9gH3QfRB+UH5wfZB9oH3AflB9oH1gfnB9gH2wfQB98H3wfZB9oH5gfeB94H0AfWB9AH1AfWB9MH2QfkB9IH4AfcB90H0AfhB9MH1gfgB9wH3QfhB+EH0AfmB+YH3gflB9UH2AfRB9gH4wfhB90H0AfQB9sH4gfaB9MH0AfZB9YH3wflB9oH2gfYB9IH2wfcB9QH3QfWB9AH4QfVB9MH2AfhB98H2AfbB9sH1AffB+YH5wfRB9MH2wfbB9MH5QfVB9oH5QfRB9kH2AfkB+UH1wfVB+cH1AfYB+EH2wfkB9gH0wfiB+MH5gfaB+cH5QfbB9QH3QfbB+QH3AfXB9MH2AfYB9wH2AfeB9MH1QfWB+MH5AfeB9IH5AfXB9QH0QfeB9MH0AfaB9oH5gfnB9oH2gfmB9MH3QfWB9IH3QfXB9QH4AfjB90H5wfgB90H4AfZB9QH4AfSB9oH4AfeB+UH0QfeB9cH2QfnB+IH4wfgB94H3wfRB94H2gfcB9oH0gfeB90H4gfWB9YH4QflB9EH3gfhB9kH3QfnB9EH1wfmB9QH3wfSB9UH4AfZB90H4QfkB9EH1AfkB94H5wfaB9gH0gfUB9oH0gffB94H1AfcB9gH2AfZB9gH3gffB9EH5AfVB9EH0QfRB90H0AfYB9kH3AfSB90H1wffB98H0gfgB+QH4wfQB+UH0gfRB9oH5QfTB9IH1wfkB9QH1gfWB+AH3QfXB9wH4wfWB9MH0gfmB9oH3AfVB+YH4gfWB+cH4wc=",
          "dtype": "i2"
         },
         "xaxis": "x5",
         "xbingroup": "x",
         "y": [
          "Germany",
          "France",
          "Brazil",
          "Germany",
          "India",
          "France",
          "Germany",
          "India",
          "France",
          "USA",
          "Japan",
          "India",
          "Canada",
          "Australia",
          "Russia",
          "India",
          "USA",
          "USA",
          "USA",
          "France",
          "India",
          "India",
          "UK",
          "Russia",
          "Australia",
          "Australia",
          "China",
          "France",
          "India",
          "Japan",
          "Canada",
          "Germany",
          "India",
          "Japan",
          "Russia",
          "China",
          "Russia",
          "Brazil",
          "Russia",
          "France",
          "China",
          "Canada",
          "USA",
          "Brazil",
          "Japan",
          "Australia",
          "France",
          "Japan",
          "France",
          "UK",
          "Brazil",
          "Brazil",
          "Russia",
          "Japan",
          "France",
          "Brazil",
          "France",
          "Germany",
          "Japan",
          "India",
          "Canada",
          "India",
          "France",
          "France",
          "Germany",
          "Russia",
          "Japan",
          "Australia",
          "China",
          "China",
          "USA",
          "Russia",
          "India",
          "Japan",
          "Japan",
          "Brazil",
          "Brazil",
          "Brazil",
          "India",
          "India",
          "China",
          "India",
          "Germany",
          "Brazil",
          "Australia",
          "Australia",
          "Germany",
          "Canada",
          "China",
          "Canada",
          "Japan",
          "China",
          "Brazil",
          "Japan",
          "India",
          "Russia",
          "Japan",
          "China",
          "China",
          "Australia",
          "Brazil",
          "France",
          "India",
          "USA",
          "Brazil",
          "China",
          "India",
          "India",
          "Japan",
          "France",
          "Japan",
          "Brazil",
          "China",
          "Japan",
          "France",
          "France",
          "China",
          "USA",
          "Brazil",
          "India",
          "France",
          "Brazil",
          "Australia",
          "Australia",
          "Canada",
          "France",
          "USA",
          "France",
          "Germany",
          "Australia",
          "Russia",
          "Brazil",
          "France",
          "Japan",
          "USA",
          "France",
          "Russia",
          "France",
          "India",
          "China",
          "Australia",
          "Australia",
          "Japan",
          "USA",
          "Brazil",
          "Germany",
          "India",
          "Australia",
          "India",
          "India",
          "Canada",
          "Japan",
          "Russia",
          "USA",
          "Germany",
          "China",
          "Canada",
          "Germany",
          "Brazil",
          "Canada",
          "Japan",
          "China",
          "USA",
          "France",
          "Germany",
          "India",
          "Germany",
          "Japan",
          "Germany",
          "Russia",
          "Brazil",
          "Japan",
          "India",
          "Russia",
          "India",
          "USA",
          "China",
          "France",
          "Canada",
          "Russia",
          "China",
          "Japan",
          "Germany",
          "France",
          "China",
          "India",
          "USA",
          "India",
          "France",
          "Canada",
          "France",
          "Brazil",
          "Brazil",
          "USA",
          "USA",
          "France",
          "Russia",
          "Brazil",
          "Russia",
          "Australia",
          "Brazil",
          "Canada",
          "Germany",
          "Canada",
          "USA",
          "France",
          "India",
          "Germany",
          "Germany",
          "Japan",
          "Canada",
          "China",
          "Brazil",
          "Japan",
          "USA",
          "France",
          "France",
          "USA",
          "France",
          "India",
          "Australia",
          "Germany",
          "China",
          "Brazil",
          "Russia",
          "USA",
          "India",
          "France",
          "Australia",
          "China",
          "Japan",
          "Germany",
          "France",
          "China",
          "USA",
          "India",
          "Brazil",
          "USA",
          "Australia",
          "USA",
          "France",
          "Australia",
          "Canada",
          "USA",
          "China",
          "Russia",
          "China",
          "Canada",
          "Australia",
          "China",
          "China",
          "France",
          "France",
          "Germany",
          "Japan",
          "UK",
          "Germany",
          "China",
          "Canada",
          "Japan",
          "France",
          "Canada",
          "Russia",
          "China",
          "USA",
          "USA",
          "China",
          "China",
          "India",
          "Australia",
          "Germany",
          "Russia",
          "India",
          "Russia",
          "China",
          "Australia",
          "India",
          "Canada",
          "France",
          "Japan",
          "USA",
          "Germany",
          "Australia",
          "Australia",
          "Japan",
          "India",
          "Japan",
          "France",
          "UK",
          "Canada",
          "India",
          "Germany",
          "Germany",
          "Germany",
          "Brazil",
          "USA",
          "USA",
          "Canada",
          "Japan",
          "China",
          "UK",
          "Canada",
          "Japan",
          "Brazil",
          "India",
          "Brazil",
          "China",
          "USA",
          "China",
          "Germany",
          "India",
          "USA",
          "China",
          "India",
          "Australia",
          "India",
          "Germany",
          "USA",
          "Russia",
          "Canada",
          "India",
          "Japan",
          "India",
          "Japan",
          "Japan",
          "India",
          "Canada",
          "China",
          "France",
          "Brazil",
          "Brazil",
          "Brazil",
          "Australia",
          "Japan",
          "Brazil",
          "China",
          "Australia",
          "Germany",
          "Australia",
          "Brazil",
          "Australia",
          "France",
          "Japan",
          "USA",
          "USA",
          "Canada",
          "Germany",
          "India",
          "China",
          "Canada",
          "Russia",
          "India",
          "Brazil",
          "Brazil",
          "Australia",
          "Japan",
          "Australia",
          "Germany",
          "Russia",
          "Japan",
          "India",
          "Russia",
          "USA",
          "India",
          "India",
          "USA",
          "Russia",
          "USA",
          "India",
          "USA",
          "Canada",
          "France",
          "Canada",
          "Japan",
          "Germany",
          "Germany",
          "USA",
          "France",
          "India",
          "France",
          "China",
          "Russia",
          "Germany",
          "China",
          "USA",
          "Japan",
          "Germany",
          "France",
          "China",
          "France",
          "Canada",
          "India",
          "Germany",
          "Brazil",
          "USA",
          "India",
          "USA",
          "USA",
          "Brazil",
          "USA",
          "India",
          "Japan",
          "Russia",
          "France",
          "Australia",
          "Japan",
          "Australia",
          "China",
          "Australia",
          "Brazil",
          "France",
          "India",
          "Germany",
          "China",
          "France",
          "Canada",
          "Japan",
          "China",
          "China",
          "France",
          "Japan",
          "Canada",
          "India",
          "USA",
          "Germany",
          "China",
          "China",
          "India",
          "Japan",
          "China",
          "USA",
          "UK",
          "India",
          "USA",
          "Japan",
          "France",
          "China",
          "France",
          "Germany",
          "Canada",
          "Australia",
          "Australia",
          "India",
          "China",
          "Canada",
          "Brazil",
          "Brazil",
          "India",
          "USA",
          "China",
          "Canada",
          "China",
          "USA",
          "France",
          "Russia",
          "Brazil",
          "Brazil",
          "France",
          "Canada",
          "Germany",
          "France",
          "China",
          "France",
          "Germany",
          "India",
          "China",
          "China",
          "France",
          "Brazil",
          "India",
          "France",
          "Brazil",
          "Japan",
          "Brazil",
          "Australia",
          "Canada",
          "Japan",
          "USA"
         ],
         "yaxis": "y5",
         "ybingroup": "y",
         "z": {
          "bdata": "AQEBAQEBAQEBAQEBAQEBAQEBAQEBAQEBAQEBAQEBAQEBAQEBAQEBAQEBAQEBAQEBAQEBAQEBAQEBAQEBAQEBAQEBAQEBAQEBAQEBAQEBAQEBAQEBAQEBAQEBAQEBAQEBAQEBAQEBAQEBAQEBAQEBAQEBAQEBAQEBAQEBAQEBAQEBAQEBAQEBAQEBAQEBAQEBAQEBAQEBAQEBAQEBAQEBAQEBAQEBAQEBAQEBAQEBAQEBAQEBAQEBAQEBAQEBAQEBAQEBAQEBAQEBAQEBAQEBAQEBAQEBAQEBAQEBAQEBAQEBAQEBAQEBAQEBAQEBAQEBAQEBAQEBAQEBAQEBAQEBAQEBAQEBAQEBAQEBAQEBAQEBAQEBAQEBAQEBAQEBAQEBAQEBAQEBAQEBAQEBAQEBAQEBAQEBAQEBAQEBAQEBAQEBAQEBAQEBAQEBAQEBAQEBAQEBAQEBAQEBAQEBAQEBAQEBAQEBAQEBAQEBAQEBAQEBAQEBAQEBAQEBAQEBAQEBAQEBAQEBAQEBAQEBAQEBAQEBAQEBAQEBAQEBAQEBAQEBAQEBAQEBAQEBAQEBAQEBAQEBAQEBAQEBAQEBAQEBAQEBAQEBAQEBAQEBAQEBAQEBAQEBAQEBAQEBAQEBAQ==",
          "dtype": "i1"
         }
        }
       ],
       "layout": {
        "annotations": [
         {
          "font": {},
          "showarrow": false,
          "text": "Energy Type=Hydro",
          "x": 0.09200000000000001,
          "xanchor": "center",
          "xref": "paper",
          "y": 1,
          "yanchor": "bottom",
          "yref": "paper"
         },
         {
          "font": {},
          "showarrow": false,
          "text": "Energy Type=Solar",
          "x": 0.29600000000000004,
          "xanchor": "center",
          "xref": "paper",
          "y": 1,
          "yanchor": "bottom",
          "yref": "paper"
         },
         {
          "font": {},
          "showarrow": false,
          "text": "Energy Type=Biomass",
          "x": 0.5,
          "xanchor": "center",
          "xref": "paper",
          "y": 1,
          "yanchor": "bottom",
          "yref": "paper"
         },
         {
          "font": {},
          "showarrow": false,
          "text": "Energy Type=Geothermal",
          "x": 0.7040000000000002,
          "xanchor": "center",
          "xref": "paper",
          "y": 1,
          "yanchor": "bottom",
          "yref": "paper"
         },
         {
          "font": {},
          "showarrow": false,
          "text": "Energy Type=Wind",
          "x": 0.908,
          "xanchor": "center",
          "xref": "paper",
          "y": 1,
          "yanchor": "bottom",
          "yref": "paper"
         }
        ],
        "coloraxis": {
         "colorbar": {
          "title": {
           "text": "sum of entries"
          }
         },
         "colorscale": [
          [
           0,
           "rgb(0,0,0)"
          ],
          [
           0.2,
           "rgb(30,0,100)"
          ],
          [
           0.4,
           "rgb(120,0,100)"
          ],
          [
           0.6,
           "rgb(160,90,0)"
          ],
          [
           0.8,
           "rgb(230,200,0)"
          ],
          [
           1,
           "rgb(255,250,220)"
          ]
         ]
        },
        "legend": {
         "tracegroupgap": 0
        },
        "template": {
         "data": {
          "bar": [
           {
            "error_x": {
             "color": "#2a3f5f"
            },
            "error_y": {
             "color": "#2a3f5f"
            },
            "marker": {
             "line": {
              "color": "#E5ECF6",
              "width": 0.5
             },
             "pattern": {
              "fillmode": "overlay",
              "size": 10,
              "solidity": 0.2
             }
            },
            "type": "bar"
           }
          ],
          "barpolar": [
           {
            "marker": {
             "line": {
              "color": "#E5ECF6",
              "width": 0.5
             },
             "pattern": {
              "fillmode": "overlay",
              "size": 10,
              "solidity": 0.2
             }
            },
            "type": "barpolar"
           }
          ],
          "carpet": [
           {
            "aaxis": {
             "endlinecolor": "#2a3f5f",
             "gridcolor": "white",
             "linecolor": "white",
             "minorgridcolor": "white",
             "startlinecolor": "#2a3f5f"
            },
            "baxis": {
             "endlinecolor": "#2a3f5f",
             "gridcolor": "white",
             "linecolor": "white",
             "minorgridcolor": "white",
             "startlinecolor": "#2a3f5f"
            },
            "type": "carpet"
           }
          ],
          "choropleth": [
           {
            "colorbar": {
             "outlinewidth": 0,
             "ticks": ""
            },
            "type": "choropleth"
           }
          ],
          "contour": [
           {
            "colorbar": {
             "outlinewidth": 0,
             "ticks": ""
            },
            "colorscale": [
             [
              0,
              "#0d0887"
             ],
             [
              0.1111111111111111,
              "#46039f"
             ],
             [
              0.2222222222222222,
              "#7201a8"
             ],
             [
              0.3333333333333333,
              "#9c179e"
             ],
             [
              0.4444444444444444,
              "#bd3786"
             ],
             [
              0.5555555555555556,
              "#d8576b"
             ],
             [
              0.6666666666666666,
              "#ed7953"
             ],
             [
              0.7777777777777778,
              "#fb9f3a"
             ],
             [
              0.8888888888888888,
              "#fdca26"
             ],
             [
              1,
              "#f0f921"
             ]
            ],
            "type": "contour"
           }
          ],
          "contourcarpet": [
           {
            "colorbar": {
             "outlinewidth": 0,
             "ticks": ""
            },
            "type": "contourcarpet"
           }
          ],
          "heatmap": [
           {
            "colorbar": {
             "outlinewidth": 0,
             "ticks": ""
            },
            "colorscale": [
             [
              0,
              "#0d0887"
             ],
             [
              0.1111111111111111,
              "#46039f"
             ],
             [
              0.2222222222222222,
              "#7201a8"
             ],
             [
              0.3333333333333333,
              "#9c179e"
             ],
             [
              0.4444444444444444,
              "#bd3786"
             ],
             [
              0.5555555555555556,
              "#d8576b"
             ],
             [
              0.6666666666666666,
              "#ed7953"
             ],
             [
              0.7777777777777778,
              "#fb9f3a"
             ],
             [
              0.8888888888888888,
              "#fdca26"
             ],
             [
              1,
              "#f0f921"
             ]
            ],
            "type": "heatmap"
           }
          ],
          "histogram": [
           {
            "marker": {
             "pattern": {
              "fillmode": "overlay",
              "size": 10,
              "solidity": 0.2
             }
            },
            "type": "histogram"
           }
          ],
          "histogram2d": [
           {
            "colorbar": {
             "outlinewidth": 0,
             "ticks": ""
            },
            "colorscale": [
             [
              0,
              "#0d0887"
             ],
             [
              0.1111111111111111,
              "#46039f"
             ],
             [
              0.2222222222222222,
              "#7201a8"
             ],
             [
              0.3333333333333333,
              "#9c179e"
             ],
             [
              0.4444444444444444,
              "#bd3786"
             ],
             [
              0.5555555555555556,
              "#d8576b"
             ],
             [
              0.6666666666666666,
              "#ed7953"
             ],
             [
              0.7777777777777778,
              "#fb9f3a"
             ],
             [
              0.8888888888888888,
              "#fdca26"
             ],
             [
              1,
              "#f0f921"
             ]
            ],
            "type": "histogram2d"
           }
          ],
          "histogram2dcontour": [
           {
            "colorbar": {
             "outlinewidth": 0,
             "ticks": ""
            },
            "colorscale": [
             [
              0,
              "#0d0887"
             ],
             [
              0.1111111111111111,
              "#46039f"
             ],
             [
              0.2222222222222222,
              "#7201a8"
             ],
             [
              0.3333333333333333,
              "#9c179e"
             ],
             [
              0.4444444444444444,
              "#bd3786"
             ],
             [
              0.5555555555555556,
              "#d8576b"
             ],
             [
              0.6666666666666666,
              "#ed7953"
             ],
             [
              0.7777777777777778,
              "#fb9f3a"
             ],
             [
              0.8888888888888888,
              "#fdca26"
             ],
             [
              1,
              "#f0f921"
             ]
            ],
            "type": "histogram2dcontour"
           }
          ],
          "mesh3d": [
           {
            "colorbar": {
             "outlinewidth": 0,
             "ticks": ""
            },
            "type": "mesh3d"
           }
          ],
          "parcoords": [
           {
            "line": {
             "colorbar": {
              "outlinewidth": 0,
              "ticks": ""
             }
            },
            "type": "parcoords"
           }
          ],
          "pie": [
           {
            "automargin": true,
            "type": "pie"
           }
          ],
          "scatter": [
           {
            "fillpattern": {
             "fillmode": "overlay",
             "size": 10,
             "solidity": 0.2
            },
            "type": "scatter"
           }
          ],
          "scatter3d": [
           {
            "line": {
             "colorbar": {
              "outlinewidth": 0,
              "ticks": ""
             }
            },
            "marker": {
             "colorbar": {
              "outlinewidth": 0,
              "ticks": ""
             }
            },
            "type": "scatter3d"
           }
          ],
          "scattercarpet": [
           {
            "marker": {
             "colorbar": {
              "outlinewidth": 0,
              "ticks": ""
             }
            },
            "type": "scattercarpet"
           }
          ],
          "scattergeo": [
           {
            "marker": {
             "colorbar": {
              "outlinewidth": 0,
              "ticks": ""
             }
            },
            "type": "scattergeo"
           }
          ],
          "scattergl": [
           {
            "marker": {
             "colorbar": {
              "outlinewidth": 0,
              "ticks": ""
             }
            },
            "type": "scattergl"
           }
          ],
          "scattermap": [
           {
            "marker": {
             "colorbar": {
              "outlinewidth": 0,
              "ticks": ""
             }
            },
            "type": "scattermap"
           }
          ],
          "scattermapbox": [
           {
            "marker": {
             "colorbar": {
              "outlinewidth": 0,
              "ticks": ""
             }
            },
            "type": "scattermapbox"
           }
          ],
          "scatterpolar": [
           {
            "marker": {
             "colorbar": {
              "outlinewidth": 0,
              "ticks": ""
             }
            },
            "type": "scatterpolar"
           }
          ],
          "scatterpolargl": [
           {
            "marker": {
             "colorbar": {
              "outlinewidth": 0,
              "ticks": ""
             }
            },
            "type": "scatterpolargl"
           }
          ],
          "scatterternary": [
           {
            "marker": {
             "colorbar": {
              "outlinewidth": 0,
              "ticks": ""
             }
            },
            "type": "scatterternary"
           }
          ],
          "surface": [
           {
            "colorbar": {
             "outlinewidth": 0,
             "ticks": ""
            },
            "colorscale": [
             [
              0,
              "#0d0887"
             ],
             [
              0.1111111111111111,
              "#46039f"
             ],
             [
              0.2222222222222222,
              "#7201a8"
             ],
             [
              0.3333333333333333,
              "#9c179e"
             ],
             [
              0.4444444444444444,
              "#bd3786"
             ],
             [
              0.5555555555555556,
              "#d8576b"
             ],
             [
              0.6666666666666666,
              "#ed7953"
             ],
             [
              0.7777777777777778,
              "#fb9f3a"
             ],
             [
              0.8888888888888888,
              "#fdca26"
             ],
             [
              1,
              "#f0f921"
             ]
            ],
            "type": "surface"
           }
          ],
          "table": [
           {
            "cells": {
             "fill": {
              "color": "#EBF0F8"
             },
             "line": {
              "color": "white"
             }
            },
            "header": {
             "fill": {
              "color": "#C8D4E3"
             },
             "line": {
              "color": "white"
             }
            },
            "type": "table"
           }
          ]
         },
         "layout": {
          "annotationdefaults": {
           "arrowcolor": "#2a3f5f",
           "arrowhead": 0,
           "arrowwidth": 1
          },
          "autotypenumbers": "strict",
          "coloraxis": {
           "colorbar": {
            "outlinewidth": 0,
            "ticks": ""
           }
          },
          "colorscale": {
           "diverging": [
            [
             0,
             "#8e0152"
            ],
            [
             0.1,
             "#c51b7d"
            ],
            [
             0.2,
             "#de77ae"
            ],
            [
             0.3,
             "#f1b6da"
            ],
            [
             0.4,
             "#fde0ef"
            ],
            [
             0.5,
             "#f7f7f7"
            ],
            [
             0.6,
             "#e6f5d0"
            ],
            [
             0.7,
             "#b8e186"
            ],
            [
             0.8,
             "#7fbc41"
            ],
            [
             0.9,
             "#4d9221"
            ],
            [
             1,
             "#276419"
            ]
           ],
           "sequential": [
            [
             0,
             "#0d0887"
            ],
            [
             0.1111111111111111,
             "#46039f"
            ],
            [
             0.2222222222222222,
             "#7201a8"
            ],
            [
             0.3333333333333333,
             "#9c179e"
            ],
            [
             0.4444444444444444,
             "#bd3786"
            ],
            [
             0.5555555555555556,
             "#d8576b"
            ],
            [
             0.6666666666666666,
             "#ed7953"
            ],
            [
             0.7777777777777778,
             "#fb9f3a"
            ],
            [
             0.8888888888888888,
             "#fdca26"
            ],
            [
             1,
             "#f0f921"
            ]
           ],
           "sequentialminus": [
            [
             0,
             "#0d0887"
            ],
            [
             0.1111111111111111,
             "#46039f"
            ],
            [
             0.2222222222222222,
             "#7201a8"
            ],
            [
             0.3333333333333333,
             "#9c179e"
            ],
            [
             0.4444444444444444,
             "#bd3786"
            ],
            [
             0.5555555555555556,
             "#d8576b"
            ],
            [
             0.6666666666666666,
             "#ed7953"
            ],
            [
             0.7777777777777778,
             "#fb9f3a"
            ],
            [
             0.8888888888888888,
             "#fdca26"
            ],
            [
             1,
             "#f0f921"
            ]
           ]
          },
          "colorway": [
           "#636efa",
           "#EF553B",
           "#00cc96",
           "#ab63fa",
           "#FFA15A",
           "#19d3f3",
           "#FF6692",
           "#B6E880",
           "#FF97FF",
           "#FECB52"
          ],
          "font": {
           "color": "#2a3f5f"
          },
          "geo": {
           "bgcolor": "white",
           "lakecolor": "white",
           "landcolor": "#E5ECF6",
           "showlakes": true,
           "showland": true,
           "subunitcolor": "white"
          },
          "hoverlabel": {
           "align": "left"
          },
          "hovermode": "closest",
          "mapbox": {
           "style": "light"
          },
          "paper_bgcolor": "white",
          "plot_bgcolor": "#E5ECF6",
          "polar": {
           "angularaxis": {
            "gridcolor": "white",
            "linecolor": "white",
            "ticks": ""
           },
           "bgcolor": "#E5ECF6",
           "radialaxis": {
            "gridcolor": "white",
            "linecolor": "white",
            "ticks": ""
           }
          },
          "scene": {
           "xaxis": {
            "backgroundcolor": "#E5ECF6",
            "gridcolor": "white",
            "gridwidth": 2,
            "linecolor": "white",
            "showbackground": true,
            "ticks": "",
            "zerolinecolor": "white"
           },
           "yaxis": {
            "backgroundcolor": "#E5ECF6",
            "gridcolor": "white",
            "gridwidth": 2,
            "linecolor": "white",
            "showbackground": true,
            "ticks": "",
            "zerolinecolor": "white"
           },
           "zaxis": {
            "backgroundcolor": "#E5ECF6",
            "gridcolor": "white",
            "gridwidth": 2,
            "linecolor": "white",
            "showbackground": true,
            "ticks": "",
            "zerolinecolor": "white"
           }
          },
          "shapedefaults": {
           "line": {
            "color": "#2a3f5f"
           }
          },
          "ternary": {
           "aaxis": {
            "gridcolor": "white",
            "linecolor": "white",
            "ticks": ""
           },
           "baxis": {
            "gridcolor": "white",
            "linecolor": "white",
            "ticks": ""
           },
           "bgcolor": "#E5ECF6",
           "caxis": {
            "gridcolor": "white",
            "linecolor": "white",
            "ticks": ""
           }
          },
          "title": {
           "x": 0.05
          },
          "xaxis": {
           "automargin": true,
           "gridcolor": "white",
           "linecolor": "white",
           "ticks": "",
           "title": {
            "standoff": 15
           },
           "zerolinecolor": "white",
           "zerolinewidth": 2
          },
          "yaxis": {
           "automargin": true,
           "gridcolor": "white",
           "linecolor": "white",
           "ticks": "",
           "title": {
            "standoff": 15
           },
           "zerolinecolor": "white",
           "zerolinewidth": 2
          }
         }
        },
        "title": {
         "text": "Data Availability by Country and Energy Type"
        },
        "xaxis": {
         "anchor": "y",
         "domain": [
          0,
          0.18400000000000002
         ],
         "title": {
          "text": "Year"
         }
        },
        "xaxis2": {
         "anchor": "y2",
         "domain": [
          0.20400000000000001,
          0.388
         ],
         "matches": "x",
         "title": {
          "text": "Year"
         }
        },
        "xaxis3": {
         "anchor": "y3",
         "domain": [
          0.40800000000000003,
          0.5920000000000001
         ],
         "matches": "x",
         "title": {
          "text": "Year"
         }
        },
        "xaxis4": {
         "anchor": "y4",
         "domain": [
          0.6120000000000001,
          0.7960000000000002
         ],
         "matches": "x",
         "title": {
          "text": "Year"
         }
        },
        "xaxis5": {
         "anchor": "y5",
         "domain": [
          0.8160000000000001,
          1
         ],
         "matches": "x",
         "title": {
          "text": "Year"
         }
        },
        "yaxis": {
         "anchor": "x",
         "domain": [
          0,
          1
         ],
         "title": {
          "text": "Country"
         }
        },
        "yaxis2": {
         "anchor": "x2",
         "domain": [
          0,
          1
         ],
         "matches": "y",
         "showticklabels": false
        },
        "yaxis3": {
         "anchor": "x3",
         "domain": [
          0,
          1
         ],
         "matches": "y",
         "showticklabels": false
        },
        "yaxis4": {
         "anchor": "x4",
         "domain": [
          0,
          1
         ],
         "matches": "y",
         "showticklabels": false
        },
        "yaxis5": {
         "anchor": "x5",
         "domain": [
          0,
          1
         ],
         "matches": "y",
         "showticklabels": false
        }
       }
      }
     },
     "metadata": {},
     "output_type": "display_data"
    }
   ],
   "source": [
    "train_df_copy = train_df.copy()\n",
    "train_df_copy['entries'] = 1 \n",
    "\n",
    "fig = px.density_heatmap(\n",
    "    train_df_copy,\n",
    "    x='Year',\n",
    "    y='Country',\n",
    "    z='entries',\n",
    "    facet_col='Energy Type',\n",
    "    nbinsx=len(train_df['Year'].unique()),\n",
    "    nbinsy=len(train_df['Country'].unique()),\n",
    "    color_continuous_scale='electric',\n",
    "    title='Data Availability by Country and Energy Type'\n",
    ")\n",
    "fig.show()\n",
    "\n",
    "train_df_copy.drop('entries', axis= 1, inplace= True)\n"
   ]
  },
  {
   "cell_type": "markdown",
   "id": "9dc462a2-f330-402a-82c9-367a3468a4e8",
   "metadata": {},
   "source": [
    "This visualization reveals areas of dense data coverage as well as notable gaps. For example, countries like France or China tend to exhibit consistent records across many years for most energy types. In contrast, other countries may show sparser data concentrated in specific periods, which can stem from a variety of factors such as climatic constraints, lack of installed capacity, inconsistencies in data reporting, or a complete absence of reporting, as in the case of the United Kingdom, where there is a clear lack of data across different years and energy types."
   ]
  },
  {
   "cell_type": "markdown",
   "id": "886836c4-3138-4994-b72e-ce91c60e4569",
   "metadata": {},
   "source": [
    "With the `object` columns examined, let's now turn to the numeric columns, those of `int64` and `float64` data types. The `float64` covers a wide range of quantitative indicators, let's see what are they about:"
   ]
  },
  {
   "cell_type": "code",
   "execution_count": null,
   "id": "13ef3290-207c-4eda-949d-b40cdf9ebee7",
   "metadata": {
    "executionCancelledAt": null,
    "executionTime": 11,
    "lastExecutedAt": 1751249691168,
    "lastExecutedByKernel": "9ab45037-05ad-4598-b165-ee154da42364",
    "lastScheduledRunId": null,
    "lastSuccessfullyExecutedCode": "energy = ['Production (GWh)', 'Installed Capacity (MW)', 'Energy Consumption', 'Energy Storage Capacity']\neconomic = ['Investments (USD)', 'Electricity Prices', 'Energy Subsidies']\ninnovation = ['R&D Expenditure', 'Innovation Index']\ngovernance = ['Regulatory Quality', 'Political Stability', 'Control of Corruption', 'Ease of Doing Business']\nsustainability = ['Proportion of Energy from Renewables', 'CO2 Emissions', 'Grid Integration Capability']\nenvironmental = ['Average Annual Temperature', 'Solar Irradiance', 'Wind Speed', 'Hydro Potential', 'Biomass Availability']\n\ndef boxplots(df, vars, title):\n    \n    fig = make_subplots(rows=1, cols=len(vars), subplot_titles='')\n    \n    for i, metric in enumerate(vars):\n        fig.add_trace(go.Box(y=df[metric],\n                             name=metric, \n                             boxpoints='outliers'),\n                      row=1, col=i+1\n                     )       \n    fig.update_layout(height= 320,\n                      title_text= title,\n                      showlegend= False\n                     )\n    fig.show()",
    "outputsMetadata": {
     "0": {
      "height": 17,
      "type": "plotly"
     }
    }
   },
   "outputs": [],
   "source": [
    "\n",
    "\n",
    "energy = ['Production (GWh)', 'Installed Capacity (MW)', 'Energy Consumption', 'Energy Storage Capacity']\n",
    "economic = ['Investments (USD)', 'Electricity Prices', 'Energy Subsidies']\n",
    "innovation = ['R&D Expenditure', 'Renewable Energy Patents', 'Innovation Index']\n",
    "governance = ['Regulatory Quality', 'Political Stability', 'Control of Corruption', 'Ease of Doing Business']\n",
    "sustainability = ['Proportion of Energy from Renewables', 'CO2 Emissions', 'Grid Integration Capability']\n",
    "environmental = ['Average Annual Temperature', 'Solar Irradiance', 'Wind Speed', 'Hydro Potential', 'Biomass Availability']\n",
    "\n",
    "def boxplots(df, vars, title):\n",
    "    \n",
    "    fig = make_subplots(rows=1, cols=len(vars), subplot_titles='')\n",
    "    \n",
    "    for i, metric in enumerate(vars):\n",
    "        fig.add_trace(go.Box(y=df[metric],\n",
    "                             name=metric, \n",
    "                             boxpoints='outliers'),\n",
    "                      row=1, col=i+1\n",
    "                     )       \n",
    "    fig.update_layout(height= 320,\n",
    "                      title_text= title,\n",
    "                      showlegend= False\n",
    "                     )\n",
    "    fig.update_layout(margin = dict(l=60, r= 60))\n",
    "\n",
    "    return fig"
   ]
  },
  {
   "cell_type": "code",
   "execution_count": 71,
   "id": "ab86a966-18c4-45e7-84ab-17fe63e3af27",
   "metadata": {
    "executionCancelledAt": null,
    "executionTime": null,
    "lastExecutedAt": null,
    "lastExecutedByKernel": null,
    "lastScheduledRunId": null,
    "lastSuccessfullyExecutedCode": null,
    "outputsMetadata": {
     "0": {
      "height": 467,
      "type": "plotly"
     }
    }
   },
   "outputs": [
    {
     "data": {
      "application/vnd.plotly.v1+json": {
       "config": {
        "plotlyServerURL": "https://plot.ly"
       },
       "data": [
        {
         "boxpoints": "outliers",
         "name": "Production (GWh)",
         "type": "box",
         "xaxis": "x",
         "y": {
          "bdata": "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",
          "dtype": "f8"
         },
         "yaxis": "y"
        },
        {
         "boxpoints": "outliers",
         "name": "Installed Capacity (MW)",
         "type": "box",
         "xaxis": "x2",
         "y": {
          "bdata": "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",
          "dtype": "f8"
         },
         "yaxis": "y2"
        },
        {
         "boxpoints": "outliers",
         "name": "Energy Consumption",
         "type": "box",
         "xaxis": "x3",
         "y": {
          "bdata": "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",
          "dtype": "f8"
         },
         "yaxis": "y3"
        },
        {
         "boxpoints": "outliers",
         "name": "Energy Storage Capacity",
         "type": "box",
         "xaxis": "x4",
         "y": {
          "bdata": "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",
          "dtype": "f8"
         },
         "yaxis": "y4"
        }
       ],
       "layout": {
        "height": 320,
        "margin": {
         "l": 40,
         "r": 40
        },
        "showlegend": false,
        "template": {
         "data": {
          "bar": [
           {
            "error_x": {
             "color": "#2a3f5f"
            },
            "error_y": {
             "color": "#2a3f5f"
            },
            "marker": {
             "line": {
              "color": "#E5ECF6",
              "width": 0.5
             },
             "pattern": {
              "fillmode": "overlay",
              "size": 10,
              "solidity": 0.2
             }
            },
            "type": "bar"
           }
          ],
          "barpolar": [
           {
            "marker": {
             "line": {
              "color": "#E5ECF6",
              "width": 0.5
             },
             "pattern": {
              "fillmode": "overlay",
              "size": 10,
              "solidity": 0.2
             }
            },
            "type": "barpolar"
           }
          ],
          "carpet": [
           {
            "aaxis": {
             "endlinecolor": "#2a3f5f",
             "gridcolor": "white",
             "linecolor": "white",
             "minorgridcolor": "white",
             "startlinecolor": "#2a3f5f"
            },
            "baxis": {
             "endlinecolor": "#2a3f5f",
             "gridcolor": "white",
             "linecolor": "white",
             "minorgridcolor": "white",
             "startlinecolor": "#2a3f5f"
            },
            "type": "carpet"
           }
          ],
          "choropleth": [
           {
            "colorbar": {
             "outlinewidth": 0,
             "ticks": ""
            },
            "type": "choropleth"
           }
          ],
          "contour": [
           {
            "colorbar": {
             "outlinewidth": 0,
             "ticks": ""
            },
            "colorscale": [
             [
              0,
              "#0d0887"
             ],
             [
              0.1111111111111111,
              "#46039f"
             ],
             [
              0.2222222222222222,
              "#7201a8"
             ],
             [
              0.3333333333333333,
              "#9c179e"
             ],
             [
              0.4444444444444444,
              "#bd3786"
             ],
             [
              0.5555555555555556,
              "#d8576b"
             ],
             [
              0.6666666666666666,
              "#ed7953"
             ],
             [
              0.7777777777777778,
              "#fb9f3a"
             ],
             [
              0.8888888888888888,
              "#fdca26"
             ],
             [
              1,
              "#f0f921"
             ]
            ],
            "type": "contour"
           }
          ],
          "contourcarpet": [
           {
            "colorbar": {
             "outlinewidth": 0,
             "ticks": ""
            },
            "type": "contourcarpet"
           }
          ],
          "heatmap": [
           {
            "colorbar": {
             "outlinewidth": 0,
             "ticks": ""
            },
            "colorscale": [
             [
              0,
              "#0d0887"
             ],
             [
              0.1111111111111111,
              "#46039f"
             ],
             [
              0.2222222222222222,
              "#7201a8"
             ],
             [
              0.3333333333333333,
              "#9c179e"
             ],
             [
              0.4444444444444444,
              "#bd3786"
             ],
             [
              0.5555555555555556,
              "#d8576b"
             ],
             [
              0.6666666666666666,
              "#ed7953"
             ],
             [
              0.7777777777777778,
              "#fb9f3a"
             ],
             [
              0.8888888888888888,
              "#fdca26"
             ],
             [
              1,
              "#f0f921"
             ]
            ],
            "type": "heatmap"
           }
          ],
          "histogram": [
           {
            "marker": {
             "pattern": {
              "fillmode": "overlay",
              "size": 10,
              "solidity": 0.2
             }
            },
            "type": "histogram"
           }
          ],
          "histogram2d": [
           {
            "colorbar": {
             "outlinewidth": 0,
             "ticks": ""
            },
            "colorscale": [
             [
              0,
              "#0d0887"
             ],
             [
              0.1111111111111111,
              "#46039f"
             ],
             [
              0.2222222222222222,
              "#7201a8"
             ],
             [
              0.3333333333333333,
              "#9c179e"
             ],
             [
              0.4444444444444444,
              "#bd3786"
             ],
             [
              0.5555555555555556,
              "#d8576b"
             ],
             [
              0.6666666666666666,
              "#ed7953"
             ],
             [
              0.7777777777777778,
              "#fb9f3a"
             ],
             [
              0.8888888888888888,
              "#fdca26"
             ],
             [
              1,
              "#f0f921"
             ]
            ],
            "type": "histogram2d"
           }
          ],
          "histogram2dcontour": [
           {
            "colorbar": {
             "outlinewidth": 0,
             "ticks": ""
            },
            "colorscale": [
             [
              0,
              "#0d0887"
             ],
             [
              0.1111111111111111,
              "#46039f"
             ],
             [
              0.2222222222222222,
              "#7201a8"
             ],
             [
              0.3333333333333333,
              "#9c179e"
             ],
             [
              0.4444444444444444,
              "#bd3786"
             ],
             [
              0.5555555555555556,
              "#d8576b"
             ],
             [
              0.6666666666666666,
              "#ed7953"
             ],
             [
              0.7777777777777778,
              "#fb9f3a"
             ],
             [
              0.8888888888888888,
              "#fdca26"
             ],
             [
              1,
              "#f0f921"
             ]
            ],
            "type": "histogram2dcontour"
           }
          ],
          "mesh3d": [
           {
            "colorbar": {
             "outlinewidth": 0,
             "ticks": ""
            },
            "type": "mesh3d"
           }
          ],
          "parcoords": [
           {
            "line": {
             "colorbar": {
              "outlinewidth": 0,
              "ticks": ""
             }
            },
            "type": "parcoords"
           }
          ],
          "pie": [
           {
            "automargin": true,
            "type": "pie"
           }
          ],
          "scatter": [
           {
            "fillpattern": {
             "fillmode": "overlay",
             "size": 10,
             "solidity": 0.2
            },
            "type": "scatter"
           }
          ],
          "scatter3d": [
           {
            "line": {
             "colorbar": {
              "outlinewidth": 0,
              "ticks": ""
             }
            },
            "marker": {
             "colorbar": {
              "outlinewidth": 0,
              "ticks": ""
             }
            },
            "type": "scatter3d"
           }
          ],
          "scattercarpet": [
           {
            "marker": {
             "colorbar": {
              "outlinewidth": 0,
              "ticks": ""
             }
            },
            "type": "scattercarpet"
           }
          ],
          "scattergeo": [
           {
            "marker": {
             "colorbar": {
              "outlinewidth": 0,
              "ticks": ""
             }
            },
            "type": "scattergeo"
           }
          ],
          "scattergl": [
           {
            "marker": {
             "colorbar": {
              "outlinewidth": 0,
              "ticks": ""
             }
            },
            "type": "scattergl"
           }
          ],
          "scattermap": [
           {
            "marker": {
             "colorbar": {
              "outlinewidth": 0,
              "ticks": ""
             }
            },
            "type": "scattermap"
           }
          ],
          "scattermapbox": [
           {
            "marker": {
             "colorbar": {
              "outlinewidth": 0,
              "ticks": ""
             }
            },
            "type": "scattermapbox"
           }
          ],
          "scatterpolar": [
           {
            "marker": {
             "colorbar": {
              "outlinewidth": 0,
              "ticks": ""
             }
            },
            "type": "scatterpolar"
           }
          ],
          "scatterpolargl": [
           {
            "marker": {
             "colorbar": {
              "outlinewidth": 0,
              "ticks": ""
             }
            },
            "type": "scatterpolargl"
           }
          ],
          "scatterternary": [
           {
            "marker": {
             "colorbar": {
              "outlinewidth": 0,
              "ticks": ""
             }
            },
            "type": "scatterternary"
           }
          ],
          "surface": [
           {
            "colorbar": {
             "outlinewidth": 0,
             "ticks": ""
            },
            "colorscale": [
             [
              0,
              "#0d0887"
             ],
             [
              0.1111111111111111,
              "#46039f"
             ],
             [
              0.2222222222222222,
              "#7201a8"
             ],
             [
              0.3333333333333333,
              "#9c179e"
             ],
             [
              0.4444444444444444,
              "#bd3786"
             ],
             [
              0.5555555555555556,
              "#d8576b"
             ],
             [
              0.6666666666666666,
              "#ed7953"
             ],
             [
              0.7777777777777778,
              "#fb9f3a"
             ],
             [
              0.8888888888888888,
              "#fdca26"
             ],
             [
              1,
              "#f0f921"
             ]
            ],
            "type": "surface"
           }
          ],
          "table": [
           {
            "cells": {
             "fill": {
              "color": "#EBF0F8"
             },
             "line": {
              "color": "white"
             }
            },
            "header": {
             "fill": {
              "color": "#C8D4E3"
             },
             "line": {
              "color": "white"
             }
            },
            "type": "table"
           }
          ]
         },
         "layout": {
          "annotationdefaults": {
           "arrowcolor": "#2a3f5f",
           "arrowhead": 0,
           "arrowwidth": 1
          },
          "autotypenumbers": "strict",
          "coloraxis": {
           "colorbar": {
            "outlinewidth": 0,
            "ticks": ""
           }
          },
          "colorscale": {
           "diverging": [
            [
             0,
             "#8e0152"
            ],
            [
             0.1,
             "#c51b7d"
            ],
            [
             0.2,
             "#de77ae"
            ],
            [
             0.3,
             "#f1b6da"
            ],
            [
             0.4,
             "#fde0ef"
            ],
            [
             0.5,
             "#f7f7f7"
            ],
            [
             0.6,
             "#e6f5d0"
            ],
            [
             0.7,
             "#b8e186"
            ],
            [
             0.8,
             "#7fbc41"
            ],
            [
             0.9,
             "#4d9221"
            ],
            [
             1,
             "#276419"
            ]
           ],
           "sequential": [
            [
             0,
             "#0d0887"
            ],
            [
             0.1111111111111111,
             "#46039f"
            ],
            [
             0.2222222222222222,
             "#7201a8"
            ],
            [
             0.3333333333333333,
             "#9c179e"
            ],
            [
             0.4444444444444444,
             "#bd3786"
            ],
            [
             0.5555555555555556,
             "#d8576b"
            ],
            [
             0.6666666666666666,
             "#ed7953"
            ],
            [
             0.7777777777777778,
             "#fb9f3a"
            ],
            [
             0.8888888888888888,
             "#fdca26"
            ],
            [
             1,
             "#f0f921"
            ]
           ],
           "sequentialminus": [
            [
             0,
             "#0d0887"
            ],
            [
             0.1111111111111111,
             "#46039f"
            ],
            [
             0.2222222222222222,
             "#7201a8"
            ],
            [
             0.3333333333333333,
             "#9c179e"
            ],
            [
             0.4444444444444444,
             "#bd3786"
            ],
            [
             0.5555555555555556,
             "#d8576b"
            ],
            [
             0.6666666666666666,
             "#ed7953"
            ],
            [
             0.7777777777777778,
             "#fb9f3a"
            ],
            [
             0.8888888888888888,
             "#fdca26"
            ],
            [
             1,
             "#f0f921"
            ]
           ]
          },
          "colorway": [
           "#636efa",
           "#EF553B",
           "#00cc96",
           "#ab63fa",
           "#FFA15A",
           "#19d3f3",
           "#FF6692",
           "#B6E880",
           "#FF97FF",
           "#FECB52"
          ],
          "font": {
           "color": "#2a3f5f"
          },
          "geo": {
           "bgcolor": "white",
           "lakecolor": "white",
           "landcolor": "#E5ECF6",
           "showlakes": true,
           "showland": true,
           "subunitcolor": "white"
          },
          "hoverlabel": {
           "align": "left"
          },
          "hovermode": "closest",
          "mapbox": {
           "style": "light"
          },
          "paper_bgcolor": "white",
          "plot_bgcolor": "#E5ECF6",
          "polar": {
           "angularaxis": {
            "gridcolor": "white",
            "linecolor": "white",
            "ticks": ""
           },
           "bgcolor": "#E5ECF6",
           "radialaxis": {
            "gridcolor": "white",
            "linecolor": "white",
            "ticks": ""
           }
          },
          "scene": {
           "xaxis": {
            "backgroundcolor": "#E5ECF6",
            "gridcolor": "white",
            "gridwidth": 2,
            "linecolor": "white",
            "showbackground": true,
            "ticks": "",
            "zerolinecolor": "white"
           },
           "yaxis": {
            "backgroundcolor": "#E5ECF6",
            "gridcolor": "white",
            "gridwidth": 2,
            "linecolor": "white",
            "showbackground": true,
            "ticks": "",
            "zerolinecolor": "white"
           },
           "zaxis": {
            "backgroundcolor": "#E5ECF6",
            "gridcolor": "white",
            "gridwidth": 2,
            "linecolor": "white",
            "showbackground": true,
            "ticks": "",
            "zerolinecolor": "white"
           }
          },
          "shapedefaults": {
           "line": {
            "color": "#2a3f5f"
           }
          },
          "ternary": {
           "aaxis": {
            "gridcolor": "white",
            "linecolor": "white",
            "ticks": ""
           },
           "baxis": {
            "gridcolor": "white",
            "linecolor": "white",
            "ticks": ""
           },
           "bgcolor": "#E5ECF6",
           "caxis": {
            "gridcolor": "white",
            "linecolor": "white",
            "ticks": ""
           }
          },
          "title": {
           "x": 0.05
          },
          "xaxis": {
           "automargin": true,
           "gridcolor": "white",
           "linecolor": "white",
           "ticks": "",
           "title": {
            "standoff": 15
           },
           "zerolinecolor": "white",
           "zerolinewidth": 2
          },
          "yaxis": {
           "automargin": true,
           "gridcolor": "white",
           "linecolor": "white",
           "ticks": "",
           "title": {
            "standoff": 15
           },
           "zerolinecolor": "white",
           "zerolinewidth": 2
          }
         }
        },
        "title": {
         "text": "Energy Metrics"
        },
        "xaxis": {
         "anchor": "y",
         "domain": [
          0,
          0.2125
         ]
        },
        "xaxis2": {
         "anchor": "y2",
         "domain": [
          0.2625,
          0.475
         ]
        },
        "xaxis3": {
         "anchor": "y3",
         "domain": [
          0.525,
          0.7375
         ]
        },
        "xaxis4": {
         "anchor": "y4",
         "domain": [
          0.7875,
          1
         ]
        },
        "yaxis": {
         "anchor": "x",
         "domain": [
          0,
          1
         ]
        },
        "yaxis2": {
         "anchor": "x2",
         "domain": [
          0,
          1
         ]
        },
        "yaxis3": {
         "anchor": "x3",
         "domain": [
          0,
          1
         ]
        },
        "yaxis4": {
         "anchor": "x4",
         "domain": [
          0,
          1
         ]
        }
       }
      }
     },
     "metadata": {},
     "output_type": "display_data"
    }
   ],
   "source": [
    "boxplots(train_df, energy, 'Energy Metrics')"
   ]
  },
  {
   "cell_type": "code",
   "execution_count": 72,
   "id": "2ffc6ab7-05ce-49a4-9073-b9c9d59600d2",
   "metadata": {
    "executionCancelledAt": null,
    "executionTime": null,
    "lastExecutedAt": null,
    "lastExecutedByKernel": null,
    "lastScheduledRunId": null,
    "lastSuccessfullyExecutedCode": null,
    "outputsMetadata": {
     "0": {
      "height": 467,
      "type": "plotly"
     }
    }
   },
   "outputs": [
    {
     "data": {
      "application/vnd.plotly.v1+json": {
       "config": {
        "plotlyServerURL": "https://plot.ly"
       },
       "data": [
        {
         "boxpoints": "outliers",
         "name": "Investments (USD)",
         "type": "box",
         "xaxis": "x",
         "y": {
          "bdata": "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",
          "dtype": "f8"
         },
         "yaxis": "y"
        },
        {
         "boxpoints": "outliers",
         "name": "Electricity Prices",
         "type": "box",
         "xaxis": "x2",
         "y": {
          "bdata": "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",
          "dtype": "f8"
         },
         "yaxis": "y2"
        },
        {
         "boxpoints": "outliers",
         "name": "Energy Subsidies",
         "type": "box",
         "xaxis": "x3",
         "y": {
          "bdata": "MzOzSGaVtEFmZmYy7+G+QTMzc1qaLclBZ4EJ2BbdtUEzM/NXd6TFQc3MzN3McrNBAACAi+xYxUHhehReTqmSQZqZmTKjqKNBMzMznqfpvUFmZmaFrf/GQZqZGRE/OclBmplZfgAty0EAAEB8mX/LQT6mxBEi46FBMzOzwy96tUHHCEiSg42FQTMzc/YWWstBzcxMcMpztkE9CtcTkZyDQby8xn82AL5BZmYm74YzxEHNzMw+FZPEQWZm5kygQ7xBzczMQPkVqUGuR+GqbU2BQc3MTD9XvsNBZmZmT5Kol0EAAABXJP64QVK4HqM9a49BZmZmiEJduEFmZuYe91q6Qc3MTHB0ibZBzcwMFAJ1xkGHFtlmf+tTQQAAgDIpmLFBmpmZj/9OskEAAMB4vZbFQc3MzDYzBrZBw7lvROFjoEFmZqbOiKXKQTMzszyrzrpBMzMzMezcnUGamVnSwuHEQROjPAy/E8BBMzNzH5uTxUGamdlEgbTCQZY7qJPDeqNBzczMSW0Vq0EzMzN9MnS7QQAAAD7OtMdBmpnZKH7JyEEzM7MSag/EQWrSj98vZcxBZmbmcHG1s0Gj6jF6/vnAQc3MjHqdhclBBkQMYkf5o0FmZmZmCOmfQcP1KMZrN4xBzczMdXu0pUEzM7ODXGrNQQAAgLvFlLRBAAAAlF3Es0EAAID42S/HQQAAAJ51iMxBmpmZyxkttUEzMzN8UgO+Qfztg2885aZBw/Uog2xXl0HNzIyeT9jCQTVeujm9NVhBf2q8SOjUYUHNzIyh31PDQc3MTEmfl8JBZmZm3pwprUFIn31UZhzAQT8/6n7+TndBZmZmSGl3tEHNzAxmFzTLQc3MDLLrhsFBmpkZooPAt0HNzEzN/4uxQTMzs+trJclBZmbmhpopsUEzMzMaXtinQWZmZore1KFBZmZmYOPPxUEzMzPwIV3NQc3MTCUXLLBBAABAxujXxEEzMzN2TvjEQWZmJrNkNcpBmpnZMH6hw0FmZmZtfDnAQQAAAFEmR8RBmpkZAr6PtkEzMzMOVMeqQZqZ2VcsbslBzcxMzUtNxUEzM7P55SK2QZqZ2VWVDsdBzczMfljzr0HNzIw+ReDKQQAAQH9EMcFBZmYmAM0cxkHNzExGtB64QTMzszSxvcdBZmbmghOWwkFmZmbAvW+4QZqZGY6Dc8tBMzMz+6gbrUG3wwm+bTihQc3MzOlD7r9BHgML+w1OsUEzM7PUwQbBQWZmZsvhzsNBJ3dj7LCzkEEWyjTxiePJQWZm5u5aab9BmpkZpEBPuEEAAIBuCp/FQQAAwPOFN8BBmpkZFYnNuEHFJlmitPrJQc3MTMXQg8NBb72/6h3Ou0EzMzOn4tW+Qc3MTM2yqrJBzczM0j5HrkFmZqbCihvGQQAAQOo2bc1B66LRDaRawUHNzAyYjmfEQZqZmfU42cJBnh0Wn2UczUEAAABhiqHAQTMzM4nbesZBzczM4qQyxUEzMzMYcirKQZ/fkErJb69Bn4P547h3sEEzMzNrodO9QdjnWw/80rtBpHA96Dz7hEGYPIjXTfTBQQAAwAzg68pBec2FmRzEwUFmZmagIyGbQZqZGUngObdBZmZmLMLWwEHjzpiBDqTGQQrXox6fQI9BMzNzRYF3xEFmZqYGvwvNQb/1pvTN1shBmpkZPFimsUHNzAzB+gfAQc3MzNK30LtBzczMxAFfpUHNzEzX8c2+Qc3MzHC/Pr5BMzMzwbTVxEGg/9hILz+9QTMz8zrWz8JBzczMQ/AJxEED+yxNz2bHQQAAAKW/ZrJBuB6FYkRgkEHNzMxwCUOjQZqZmTAwabFBZmZm5IJGk0EAAAB5qi6gQZqZmVzpw7tBMzOzkIYKxkEAAAC8E4jHQWZmporLWsxBzcyM1spZw0HNzIwYnbrNQWZmZiix4bNBmpkZbeQ/vUFmZubO2N+zQX0/NT75n1JBMzOzxUUHtEEAAIBfSOO3QcAwvDVF+b1BzcyMFTUbyEHNzMxknK+lQeCvD/gE6MpBMzMzJQ2KtEGamZkgOSqnQY/C9bj2BGtBMzNz4o8YxEEAAIAF4wKyQWYy5GkbOMZBZmbmvNGAtEHNzEyA24rIQagbW50bZLVBMzMzbHmErEFGiWve2h3GQWZmJidmCs1BmpkZvEIms0GamZmVHv3IQTMzMyJmr8ZBAABAZW8RxkGuNpozYf1SQc3MTE4b3sNBAACAFJdot0EAAIB+qhnCQWZmZvGOSb5BAAAA7PafqUGamZn76WClQWZmZp0AIKRBMzMzxCuyuUEAAAB16kqvQQAAAKzyAJtBMzOzGBwKzEEzMzMZXLubQTMzs4aLLcpBMzOzlfvqskFmZmbaIOnGQWZmpo2shc1BzcyMf6cfwUGamZmzAlKcQfgBycOMQLdBw/UoIHRjf0EZuLF6ejm8QQAAAH/d8LxBMzMzKhfuv0Gq8dKFxSVcQSqWVl6s55VBZmbmRO73x0EzM/NifVPNQexRuA6MTItBmpkZPmsuuUHNzEyYzQS0QZqZmSOoPqtBzczMs5OMskEAAICrD6nFQTN8ah1+YMdBMzPzp3Z9xkG3wERrCnO1QTMz88BkCMtBMzNzaTxLwEHBaa2AXV27QamMQTekSa9BzczMTOgJvkHNzMwfFJi6QZqZmTVdPr5BAAAAhuW4rkHR0cvkd8KxQc3MzDC47ahBzcyMBv6dx0Ffa4+On+62Qc3MTEuNBM1BAACAsfJKvEFmZmbOt1mbQYXrUfRbrZVBAADAA8hCxEEAAMB8MnzHQQAAgBMa/79BAAAAD7sKoEFmZqZC/jPEQTMzM2GqKb1BZmZmsBSWzEHNzMwITDScQc3MDEx9EstBzcxMRLSWukHNzMw00ju5QZqZmVye2sxBMzPzXIfazEG+Ol/x4yCWQc3MjDAnPMFBMzMz1zSUxEEAAICRLu2zQc3MzL8LFb9BAACALguxwUEjxXAGZrrHQdT6IM06J5hBJztHDyMCoEFI4XrMTD9TQWZmZmHoUq1BKO5DCPuOvkGamZmEzuq4QTMzMziJYKNBmpmZEwDUvkFmZmaqWJ2wQc3MzBkhpMNBMzOzy25WwkGamZn1sfilQWZm5sPEsLhBmpmZPLlTqEHNzMz64R6lQTMzc0VzH8FBmpmZUHburUHNzMwRY7nIQTMzM3D3Y7dBhZ6ofEhovEHNzEzA9FLHQWZmZqiRXbhBMzPzwGRmwkFmZuYAyZTKQTMzM5Il369BMzPzN0ixxkGamdloZ2nGQZqZmRJkYKdB4XoUjFfagUGamZm+XnCmQfutgJezOp1BMzMzwD5hqUFmZuYBeePLQc3MDKgzEctB66LB/irZzEGkcD1OZj5xQeaOWbCsZMpBMzMzgAIUqEHNzMwvtzG+QXE9CjPTyYNBZmbmglG0wEFdYFUESfCwQZqZ2b5TX8lBZmZmM6W8p0GamVly/1HDQfTVBgg19pNBZmbmYVcMvUEzM7NYme3IQc3MzJvgg6ZB9jhvPpv8t0GamRmlUsLGQQAAAMGsGchBMzOzCGMrsUEAAACwwYahQZqZmQw9AKFBAACAjdXDy0GamZld0efFQcP1KH5uuYBBhetR2JgVj0GamZm6PYPIQeF6FCaCUXBBMzMz8iwGxUGamZnILjKuQRDSSOxzY7VBZmZmRgpFsEGF61F2rcaIQQAAQOUiPc1BS2kO43/us0E+gxO8w8DBQTMzs+L3Wc1Bj8L17rxBikFmZqZadpLEQZqZGbeVv8dBH4Xr6uickkFmZmYGzJqNQQrXo5Q6CHxBzczME70Av0GamZlt4yKyQTMzM2CiAatBAABAecPBw0FpIaARtVWyQTMzM9u2asJBmpmZnSQyzEFfGlMT/hq/QWZm5mbF8sNBClRYVgrYv0HNzAwD1aPEQXWTGOS7r0pBMzMzVlZnoUGamZlYCWXGQTMzM9asRbhBmpmZmrlJzEG4HoW4mKiQQTMzswN2q8hB7FG4plmbekHNzMxqG8i0QQAAgI3EI7ZBAADAJHPJxkEzM3OosXzHQXmYVVyo5MtBZmbmikiJtkEAAABpBBTBQX7l9EIWXrdBMzNziAIczEFmZmZv1pGtQZqZGUAnF79BmpmZoaLRkkHyG6K2vFXKQTMzs+2U5bBBzczMW86UkkFmZiYmOSHJQfYoXAE2l5RBAADAmNJSxEFmZubnnZW7Qc3MzHRa6qRBMzMz8T7OxUHNzMx2O9G+QVK4HiWMFGhBmpmZAayRpUFmZibeNe7JQb6GBGduLstBZmZmhsESo0HNzMyiu9OjQTMzMwOfDb1BAAAAaSPJvUHNzMzsctZuQTMzM9fbYLZBAACAfK10zUEAAAAO+C24Qa5H4VaE8otBZmZmngZFskGamVkFx1vDQTMzMxnotKFBAAAA8HNWmUFmZuaKn9K6Qc3MjG+gXc1BAAAAHZ5Hq0EjQpMZGBSnQTMzMxlv26pBo9sdQH9UsEHNzMzvnuu1Qc3MzFohGbFBVg4tktT4M0FmZqayVhPJQV7p2LTpGLxBzcxMEs6otUFmZmbCZRWfQTMzM5ZkGapBZmZmR/hrlUHNzMygVGS1QWeKma72VM1BMzMzNTP1qEEzMzOb8r27QWZmZhHpPaFBAACAFh5tv0FvIWe7KVfLQQAAAADNkadBmpmZ/16hvEEzM7PrxdvJQWZmpuKx+shBMzMzVAc0s0GamZkHmnjNQQAAAD7TErRBmpmZBmxasUHNzMzFOZ7CQZqZ2crW/cBBmpkZiUFGzUEsQ1EPhYHMQc3MzDAfhJ1BbsdH4xH2uUGamZlmgwO5Qc3MzK4MVa5BMzNzOrFozUHNzMxf0l7LQQAAgHrXUMtBAACABuFHwkEzMzP2c+yzQZqZGYs3ZMpBlMYvu1oOqEEzMzN9vheYQYmEK6+LHrxBMzMztxfAhEHsUbh8yr2WQc3MTPsBPMVBMzNzRQpxxEEAAAB0KNnKQWZmZgJtssJBmplZlgXtykHNzMxQwIOZQV0wrxYUCM1BZmampjOJx0GamZnKHqWjQZqZGarIOslBzczM22k4u0HNzAx/Vj3CQXZ312JglshBZmbmKBPIskEzMzNbj1evQTMz82/44sdBPYb2uCtshUFF1gwoeBy1QWZm5oU4KMZBzcxMV3+pxkHy0k1ijSNUQc3MjHvQKMRBmplZNVfLykHNzMyDI+bEQWZmpmWBacZBmpkZdfqrvEHNzMy1NFC+QcJulXOBPrxBMzMzTGN1yEHNzMyvc/DCQTeb/Eo5QsVBApjI//deyEEfhevyabyXQTMzMzplx6VBZmZmQknHxEGamZke6lbAQZqZmfCjz7BBpjinJ1Svw0EAAIDypP+yQTMzM6Gl/slBzcxMxsgBw0GamVnfM5TKQWZmJruRVsRB1a/mgmINykGdv1O293h+QZqZmXc4LJ9Bf4z6d228wkEEb3NGTxqtQWZmpsS6kshBZmZm6LsxoUE2Jtxv+tnEQc3MzMk+iKBBmpmZBNqBtEGfYEhKl0J0Qc3MzPLnQLhBwYnLvHhGsEEM3jB8+77HQWZmJoYjiMRBzcxMhZanu0EzM7PnGnG3QZqZmeNbV81BmpmZIGcZv0FmZqbkj+zBQSlcj0pOUnNBAABA+G82xkFmZqYj13rJQWZmZuuqArhBzczMfOdkv0GamVlE6HPMQZqZ2cH4ssRBAACAiCToyUHNzAxfbETHQc3MTGQd+8xBehowpHgYtkG/gVZMNliKQRXfE8u4Y4lBmpkZckLtyEEdFDrxA7a+QWZmZgy6qKRBmpmZS+Pjm0GamZlGg6CxQc3MDDmmDMNBmpkZOMWKskEzM7OvRxq5QZqZGdqDj7lBMzNzJdt+wUEzM7OYqfi6QQAAQASUecpBAAAAxlM/n0FmZmac/CCkQXsUrl07v4lBZmbm5EdfuUHNzMwcyACzQZqZ2QCIS8hBMzOz2LhctkHNzIzxt87LQc3MjKpQR8ZBVCqkfocMuEEsXcpTiTGpQc3MTLMYoc1BzczMkjQKxEEzMzOc4fKpQeF6FPxFSoBBmpkZq+G+w0HNzMz+dbyuQWZmZqo6mrlBrkfhyLJqgUHiYdpoj+CfQc3MTN98K8dBzczMKiSIk0FxzuMkKBm5QTwMESu1OcZBAAAAdJALmkFmZmYxnze+QX9714OYorxBZmbmzEYuu0EySrLLJuCvQTMzs6ekfc1BWhGRblbQxkFmZmYXWaO4QTMzMxLX3rZB3MujXg7/xEGamZmiaAnGQZqZ2VzhrcFBzcyMMovYxkHNzAyVbn7EQQAAABsrU6VBMzPzGHAmy0GamdmfYKDBQQAAAGE0hbJB16Nw8cbkhEE4FCdx0MasQdejcKu4m4NBhetRuAd1d0HNzMwLAFWyQb1cP34IeqJBZM0UevYDzUFmZmbSe4K5QQAAAFSFqapBAABAZTVPxEHNzIwU0ynGQc3MzM2DK7NBMzOzbKcqukEAAIC4ZTi/QTMz80kyW8VBMzMzFYWImEHNzIxs/ZbMQafqqEs8dstBzcyM19KLxkGamRksGqjJQQAAgBSFSMRBAACADnajzUEAAABVLzzBQbgehftDyYFBAAAAR8hDqkHWVBtU61W0QTMzc5KQf8JBzcxMHnRrvUEzMzO+CLizQZqZ2cTXfsNBzcxMdqemxUHNzMxzL5GoQQAcfaLcF1lBzcwMhdIezEEzM/ON9E3BQTMzM34YDZZBAAAABlf4vkGamZngsfGrQQAAgJHPTcBBzF7kwq3syEFmZuYr193AQZqZmZmuPLBBZmamNixEykGamZnKyQq3QQAAgOnLXsZBzcxM3KUZtUEAAAAre+evQc3MjH5TcMVBZmbmwUMMuEH1T7CnnX2yQZqZmTmrU6VB8O3x/iPcuEGamZnigge4QQAAgB/S8bRBIzTgFr0ExUFmZmZS0BB9Qc3MzJRHVq5BZmYm8FLjx0EAAEBFWKvCQWZm5gNvG8RBmpnZ84m5yEEzM7O9jzHGQTMz8763ncFBZmbmjcEtu0GamRmGrC26QeslONpZq7NBx9P1fKX7wUH6kn/eavrHQZqZmYaq/bFBZmamlElryUGamRnD0Wm4QQAAAMhJ/qhBMzMzznM+v0EAAACXLqrBQc3MTAA14LhBZmZmDz25kkE78L7a4lDKQZqZGRgAc8tBmpmZA2CwtkFmZmbxScOlQY2ldnoyXctBZmbmkNBJxEFhK0CnZ4+1Qc3MzIqPIchBWaGGcq1zwEHNzMwE9bnGQS4Z/v1FI8RBMzNzxw0PyEH5/q1/3ECwQZqZ2RiSsMVBAACAWwgsskHNzMySc127QTMzs3+fGcJBqt8a2Qguq0EzMzO7o5mrQWZm5tcSHbJB16Nw4TsVj0EAAIBZq8zNQYzHHT9zE8BBmpmZiXzml0GnVUEBSinJQTMz8/E5RchBAAAA9KYuuEFmZmaunNarQWZm5jrSZbFBmpmZjJxbrkEzM/Ovnc7EQWZmZq1+t6pBzczM9YOnu0H7jHkonDHKQb7EwsOx0rFBAACAP7EAvkHXo3Ch8eyKQc3MzCJ8/L5BMzOzQ/Ugs0HNzAzpptXDQWZmZlhsAppBZmbm3ojyw0FmZmbyvh+nQQAAADD7esFBzcxM+hwzw0HLNzxn3zvHQc3MzEKwQrNBZmamrzcyy0GWF5jnKDnJQTMz82NeUMlBMzPzxI/PxEHNzMz1C4i2QQAAAE5c6bVBAAAADxGqqUGamRldZxq5QRLE7H951bxBmpkZ6LEuwkHp9AUtCC3BQZqZmXxIk8RBZmbmCVPhwEHNzMyqMK++QTMzs+1KlsZBmplZO8XLy0GamVnjIe7BQc3MTKdtt8VBMzOzl6X2xkEAAAAuAN7DQQAAANwqQXRB7FG4Xov6ckE6Tq3EDs3CQc3MzHcnqaBBzczM8jCZu0EzMzO4zvi9QQAAAAPQ96NBmpkZz4rQsEGamZk6CoG9QXsUrnd9GGVBmpkZJVZ/sEEAAMDRRu/JQZqZmYRWP7pBLGUm2jDGmEGJ7IcDFCrNQWStLCwzJ7pBzcyMV07AwkFJir+V5pTCQY/C9YqLMZRBmpmZiQO/ykEAAIDMxuG2Qc3MjIoYVsxBmpkZ76xxxUFSBrHtqh2WQTMz81f8U81BZmZmdIpWt0EAAAA+uYbBQV5C5gxvJc1BmplZAfO/zUEAAEDF+djJQc3MTNRkTMdBLuDg5TIRy0FmZmYVMQy0QQBqA+ceuLJBmpmZz0xsh0HNzMwE1+OfQTMzs0DZ/rtBMzMzELdXtEGamZn9nEjCQTMzc1jegsZBMzMzyDUQtkHNzEygjy/KQTMzM1U+B8RBMzOzlE4jwkGamZnq2QTCQWZmppeZNM1BzczM0Ibzx0EAAABvrwmgQc3MjCkyrMxBZmamou0Hw0FmZmZkmjaqQbAxK17HQrlBMzMzqgqqvEEAAABAoOeXQTMzM4ZOfq9Beh++AsJWv0EzM7MEquLAQTMzMydgxK1BVqap3o+JwkEAAABYhna8QQjIY8xvwcRBAABA977dykEZmqOwjNLBQWZmps/U7MpBAABAPoRIyEFTfs8ikS6rQZqZGbyeWsBBZmYm5yjtyEEzMzOst2+iQWZmZopco6VBzcxMVuArwUEzM7OsNavMQQAAACi1mMxBmplZ/8WJzUFmZmaCv6/MQc3MjMH2o8FBAAAAekRtrkEAAICKY0DFQZqZmdmNQcxBzczMUr4RqkGamVlqdv7IQc3MzEcnL5RBMzOzAcwfzEHNzMypUJauQZqZmbKqSqZBRiTrYPbGx0EzM7OJATfIQQAAgBtzGsBBzczMGqfDwUEK16P6apuJQWZmZu4VwMVBZmampeAXwUFmZua5ZUfNQQAAQBTFEM1BgWTKVpp+rEGamZnQ0mC4QWZmZtGQ/LJBZmZm69Z+skGHG/fKuP3DQQAAQBoFD8NBt2HesfV5vkFmZubyotS6QZqZWTWOc8NBMzOzct4ow0GamZlfL9WfQQAAQNN1l8dB1VUKP5xXsUHNzIzHqWrLQTMzM3vhNaVBmplZ+vLbykGamVno5oXCQc3MzIcTxsxBMzPzquHizEHNzMz/J8LGQTMzc5YhTspBmpmZXxYRxkFmZmaAGvOzQQAAABauc4VBmpmZXEsKvkEAAADyrEeqQWZmZqgjOcdBmpkZL7Chu0GNl24aIgxRQQAAgIdKBbFBzczMdw8Xt0EzM3OD2irGQWZm5npWOMJBpa7yPml/wkEzM7MRc+i1QQAAAGtuOcZBmpmZ5WRwu0HgSWwx8+wyQZqZ2aiIFctBSBOKRqhEuEHsUbgfYkmTQZqZ2Toe/clBzczMcPh4qUHNzAwO5sDKQWZm5m/kvbpBAAAA7qWiwEHNzExn69q7QWZmJj30Y8JBRMD4A8Box0FmZuZ3BLCzQR+F66ftQYlBznybIDElyEEzM7N9nqS+QZqZ2a5e0cVB0+WE9TrWyUEzMzNljG6CQc3MzPX3Qb1BAACA/FbXx0GF61GBPmeXQauyXS+q6sxBMzMze3LdnEF7FK4VW8COQTMzM08nRZ1BZmZmgC2Gv0FmZmZu36aYQWZmps7I9MBBAAAA78BXwUHNzMyqP2e+Qc3MzLw4DrRBMzMzwUxrvUHNzIy1PQPNQZqZGSRpIL1BmpnZmY/QwUEzMzPoayKyQXE9Ch1mPI9BZmbm8bOyvEGamZl3mmTLQQAAAP8cw7tBMzNz8bDxxkE/5TtANMTGQZqZmQF8iL5BmpkZmY2vsEEzM7Nf1SO9QTMzsxTPo7dBZmZm+VuVq0EzM7PRNP6+QQAAAKVwHqtBvAibcFUYwkEayQLy+sWoQZqZWVEcWMlBAAAAcs0SpEEAAABQmGeZQe6H7iw3oMdBZmZmsyreokGamdn9RpLIQZqZWRHr7sxBmpkZhSd5w0GamZlI0tPLQbcEhejGWqhBMzOza/8Hv0GamRkJPq+zQYvROx11MbZB9P3UMM5eXEHfuJutzeqzQWZmZuPA8MhBzcxMlhOptEFmZia+7/fMQWZm5ghXJcxBzczMbN+Zr0FmZqbe3KfIQc3MzAlgS75BzczMDd94xkEzMzNDKaiOQTMzszTCrc1BZmYmDXlfzUFmZqYBQcnJQU9ZXmGQArtBzczM2CPinkHNzMz8wdahQbEwfz78/slBPQrXPU7/j0FmZuaRcBuwQTMzMxAWB8VBzczM672aqUEzMzP3CseyQc3MTCe/ScBBMzOzj5vRtkEzMzPTxFGdQQAAQDyYRcVBzczMK3hvokEAAIBK7Ia9QZqZGSMYj8hBzcwMXAh6xUHNzAx4DGvGQQAAAODkQqtBmpkZoL8axUHNzIzEn6TKQZqZWdBvkspBAAAAjR8vs0EzM3Mzz/7EQbC/E4FAY8BBMzMzv2uhxUEAAIDvaH/GQQAAgKKPJcBBmpnZnsYgx0EzMzNNHJ/CQQAAgHkCXrVBzcwMwFtCx0EAAAC8aN6cQc3MTIXiksNBMzOzhRQ+tkFmZma7jwq3Qc3MzHLpoqRBMzOzT43txEFeKser8pbKQQAAgDFWH71BzcyMq9wcw0GamRkfTHuzQa7OJlT2rbpBAACAoHH/ykFmZuanOfDKQWZmZsyj6LdBK7gFonX0x0EzM3OmKs/DQc3MDPMDP8RBoZBXo4kgyUEzM7MOmyy2QZqZWXDRLslBmpmZ3rXnoUEQWDkkBX1TQc3MTECx9LxBxRO3HPvHx0HNzExuF0rKQWZmpjMh9MJBMzNzUKzEy0GamZnR5/i6Qc3MzB9s6cNBAABAB1TZy0Gamdl7AWHKQfYoXPO473ZBMzOz07hNsUEAAEASE9XAQTMz87nPOcdBz4GuTZC1xkFmZiaXfgnCQT0K1xvV/nVBAACA/MaVx0HNzMzV7sixQZqZmb6eCLFBAAAAYH7Sv0EUgPYyMBTBQTMzM0KVNrFBzcxMcG2AuUHNzIwbgkrHQVyPwnE1gHhBAAAApSvxskFmZuZ8LHq3QTMzMyYd+aVBAAAAlcXSoEFmZqZLFovEQTMzM12KTb9BzcyMjhpBwUEAAMAzVCzLQc435DUWkshBmaPm5IUtlUHNzEw/Q4fDQSS0mZTLv7FBAAAAFotJoEFmZmbnTf/JQWZmZg+FVKtBZmamtZ/uw0EzM3OVIrLGQc3MzIkseqpBvaSVKaHNxEGamdl9Ym/NQZqZWfMRHcpBqGy9lEmKzEFmZubk+KK/QQTvsXJzK8BBmpmZBcxcpEEAAADttRu4QXEgUXnFsshBK51l2U63lUEzMzNfRIOlQWZm5goDe8dBzcwMhKwhw0GamZlX35iaQZqZGZG6E8BBKVyPJFbXiEHNzIz58onKQQAAgO2L7btBZmampvfCxEEzMzNh2jmjQWWTKea69pRBmpkZqaWayEGTV7RF4HDDQWZmZuO66qBBMzMzwRZirEEzMzPBD7y4QZqZGRmoKrBBAADAprO+yEEAAACNE/rAQZqZmTmZoLBBQ3BIU0gwi0EAAADW2ECuQSQoVInOgMhBAACAFDyJzEGamZk3DM+zQQAAgH7hfclBtDhn8ndmw0FmZiZtX0vAQejw2fzCscxBAACAy8/tykFmZmZtM7u7QTMzM/eNDrBBMzNzYkRuy0EwYwsbQ1yUQTMz8+9EHMdBZmZmzDitqEGuSmwWYEnMQTMz8wY6KMxBmpnZw759wUEAAICAqgGxQQAAgDhK3MdBMzOzmhc7sEEzM7Pvqbe8Qa5H4aqiuXJBTJ+hYmUKsEGamVkF6jLNQc3MDLizrMBBOI/PenpSuUF7FK4Gzt2QQWZmZrb/T7ZBMzMzTlLJpUGF61E1qwOXQc3MzHss+7hBzcxMGZ2jt0EAAAB26fGfQc3MzJ3sJMJBFOv39IEhUUFmZmZ5dl3NQc3MDJQajMlBZmbmfJ3DvkGdiFvPRMa+QXE9Cig5upRBMzNzIw5py0GamZn7lRGdQQAAgJ3BCL5BZheXxOKVr0FmZmZNj9TDQWZm5leeer5BmpkZ9cmZtEFmZmafD6ukQTMzMzNFIb1BZmZmqdJ2tEFmZuY2tTy0QQAAQDXezclBmpmZh0uGqUEzM/Nv5BzHQZqZmeIQNbJBzczMg/KXqEHNzEwLtoHBQc3MzLKjjK1BMzPzQeZ9ykEzMzOvKD23QWZmpnax2MFBp2NrMQDMwkGamRm36EbAQXE9CmvHKIFBMzPzRkIsyEFmZuZ0U/rKQWZm5lfJ0MpBzcxMIgL2wEFmZiY0/bPHQc3MzIAyJsVBmpmZ21u3nUGamdlcPefCQZqZWdntUMxBph7r4wvts0ELvGwl5fWyQTMzM8O9KLlBMzOz4NsxwEG5q/v/DjSwQTMzs3lT2shBzczM7y/joEHNzMz4nVaNQWZmZqZPQsZBAABAM7QoxkFmZmZEBCOeQWZmZoFuYLhBzcyMbH+vwUGamVlGPwvAQYLRvO0+acRBMzOzafwtukH2KFyXepOLQTMzM/j6lrNBMzOzYJ5SvUFli/cwZOq9Qc3MDDRRvsRBZmZmxIO7tEFI4XpMnAWEQQAAAFQ3maRBZmbmnJV8t0GamZkEg3GxQTMzc7K9MsVBAACA9qs3yUEzM7O3VJC2QQrXo4zZ/HFBzcxMFzT8yUGEhgH+5YK0QTMz89MttspBAAAA6dFdsEGamZkXnILFQWZmZiodhsRBmpmZXDPmtUHNzAxs6eLJQTMzM33xIJVBzcyMc5Y0x0GamZmFutLFQQAAQAfEC8tBzcyMjp2iyUEAAADwjBzEQaFn5UGklcRBZmbmNGUkyUEzMzPrAV2aQaTQ8JbJYMtBUs07/sqdxUEzMzOc+IHDQQAAwAs2mspB2vaJfEaepUFLzICPS9auQc3MzIv4qsZBzcyM7yWkwUELy7S86CrNQZqZmSvtiqFBAAAAqZkLukENyxVkZWPGQc3MzL+HYc1BMzNzIuMgzEEr2reF1LS9QTMzsz8VksxBmpmZT7ASp0FedaT7OJLMQc3MjP+n2sFBZmYmwqYLzEEzMzPzDZqyQUm3yjR/LqZBAABAVyebwUFmZmYokSy3Qc3MzLfEg6ZBmpkZH1QoxUEAAADN78ulQWZmZpA50LBBmpmZtuMZxUHNzMwg3M2dQWZmZohFfJpBAADAPiycwEGamVmpQ/7KQWZm5l/agcxBAAAAsMnDt0FmZuYg/6yyQZqZ2bxuosRBrikCFlKUvEFmZqY07zXFQZqZWS30/MVBMzPzY2wTwEGamRmsD2PHQZqZmSTFdLtBmpmZ733ByUHNzAyQ3lHIQQAAgHomo8FBSO3cMbo2zUEzMzOJVu+jQZqZmTnQE6NBZmZmWN3fv0FVGeb0fmDDQTMzs7y7+7BBMzNzlXPCy0GamVlVtCrEQQAAALhoNstBMzNzPkIqwUGamdktZY7KQc3MzBXoeqBBzcyMmWTaxkEAAAD4oO6aQa5H4WDn1ZFBzczMXHi3mkFmZuZnaCPLQdejcKF/QIxBMzNzqpLow0GamZmLvtG4QbZYgEMm1npBmpkZLv7us0EzMzPkeozCQZqZmQoeQqdBZmbmUAn1vkEzMzPohDi7QT7kzHvAoMtBzcxMNocauUGamZm/hNqvQc3MzH11JMpBAACA9rOAyEF7FK44lxCTQTcd1mWzLK5BAACAtS2GzEFmZmZH302nQQAAAJIHRa1BMzPzYZgayUFTP+OWcTjBQVpzMSA77KFBmpkZ2bBxwUErmfQJ5f25QTMupVBQiMFBAAAAXaUIukEAAIDX/Vy8QRSuRxllFn5B25somSqTyUFhcrxWryjDQWZm5nLE8spBMzMz5j/uyEEzMzOlJ6OrQZqZGd0tB8JBZmYmB5lQyUFmZiZIJyPNQWZm5gmVLrpBmpkZj4d9tkGamVksnIfFQQAAQLRbqctBAACAFnkIzUFmZuYC3CG+QY/C9ZbTAotBAAAALomhvUFmZua1Wlm/QTMz88kPYMxBzczMWfIyq0EzMzNCE3PEQR2MWqHaFcFBXI/C7f4xi0EzM7OrKfbHQc3MzDwfl69BmpkZWN+0wkGamZmLj4K9QRClZD1wXrdBzcwMtdVGyUEzMzOfFHqoQcLwzjljdrtBCtejP97LkEGamZnBo2XIQTMzM/b4nbZBmpmZxE4lykEzM7OPkjq3QQAAgHH0ZbtBmpkZTO2MyEEAAAAWf+2sQZqZGUvlNL1BuB6FlhgKlkHNzAyllyfJQWZmZk6kaLFBZmamheFJxEGDqFnRgDubQQAAwCmEEMBBMzNzibwgzUG7G3chItW7QTMz8xx+Bs1BAAAA9WpnpkGamdm2P2TKQWZm5uN+DMhBZmYm83hsykEzM3OsIxHNQVIZVfkHgs1Bj8L1Mqvtk0GamZk16gacQZqZGWa0IrlBAACAIEc7vkEzMzMIaUrIQQAAAIjOCq5BmplZDphCyEEUkk6JyAW/QVyPwp0/+JZBMzMzY0DtxEHNzExVa2vNQWZm5g4f0r9BBaL3ASMmzEEeJaEpcca3QR+F6/di7YpBZmbmeYsIskHNzEzhJtrFQQAAAMO6j79BZmYmpjUJxkFmZmY0QCOuQZqZmZy+t7BBZmbm7xbNuEEAAMBJY2PLQQPuF3Mzs59BmpmZG8fzvkHNzMyWs32gQWZm5hrder5BNnsP6+P6x0HNzIxVEDXAQWZmphONCchBzczMaOK3zUEAAACJzIbNQTMzs3ElQcdBmpkZ0yaRskEK16O0xP50QQAAAHbheaNBmpkZgpLzyUEzM7MuO9e8QRr3UaGMdMhBAAAAzoyfu0HNzMwxrsbBQQAAQIWwIcRBzczMLSfqskEzMzP2dba7Qc3MzI5v549BAADAAZBGyUFmZmb0oD6OQQAAwKswUcRBMzOznFI8vUGkcD3Wj+h2QQAAAF7/I6ZBmpnZ00FuxkGamRkyIaC0QZqZ2XuHGMxBAAAAhdurpUHGa81EfduiQWZm5iAQqrBBL82kmUMFw0HMMyOlpQyZQTMz85LZ2slB/UoTQboPrEEAAIBOR+u7QTMzMyWdF6ZB8jaJn5u/rkFmZuacjZjDQWSwGxiGM5NBmpmZxXa+mkHNzMzV1M22QWZmJnQ7/chBmpmZmJg7v0HNzAxY/23MQa5H4TQxYYdBmpkZgJu+y0EzMzOt81rEQTMzM61+oLhB6OiDI7A1q0EzMzP7iB3GQWZm5h+X38NBAADAT0eEykEfhetpDbRcQWZm5kK3B7dBkc9gAQ1YsEG3G/p6ud3KQZqZGaQGJMdBSkK5k4nemkGamZnEKHexQWZJucVciM1BmpmZBYOQokGamRl33+K0QWZmZkIoc55BmpkZv/FCw0GuR+E+dpGGQQAAgA6A1LxBQA7zJg6Mx0EzM3P9x1rLQTWoSEfb/rNBzczMU2/crkFmZqYTu2zAQTMzc9DVKcdBzcxMxuIdyUEzMzMzN5jDQSEadpziQM1BNAWVXnPew0GgGi/t88NTQZqZGa4Xj7BBzcyMxKRlyUHNzMzdTiK4QTVeukn2BT1BmplZfADWwEEAAABa6XeTQWZmZjlnQb1BexSu8w+CgkEAAADSI7irQWZmZsMFy8JB0yJBfLRiy0GamZk/J5TFQQCH5dCJh51BAAAAehd/sEEAAIBGQNXBQTMzM2KK9cZBzcxMqZY/skHNzMzpDSi2QRw70KuM+MRBmpkZLZ7NvEFmZqaygA7GQZqZWRlgx8pBmpmZ2yV0u0EAAIDrUJXFQZqZGbDSN7RBzcwMcbHGx0EAAABSaAeYQdjvIt6s3rVBmpkZhoyYwkEeeMdBWgXCQXb0xqih0blB1CnicBGEl0FmZmaaOgSuQZqZmU7BGaFBZmbm1+TuxEEAAIC1WLvKQQAAQOVmKMdBZmamLx7Ax0EAAAAS+HTDQQAAwE/cC8ZBmpmZd5nCy0Go/bKNtunHQc3MDDPLpMhBxoz9vakZu0GTTsLnvVSpQc3MjNiq5slBmpnZItz0wEEBPz+ZHRWjQQAAgEYak8pBzczMPLCgwkEzM7OgY8/EQTMz86kV88VBmpmZ+nIvpkFmZuYSg+zBQUHuX4tT37RBmpmZ3yLvyUHNzMyS/H7BQWZmJqGnLcJBw/UoSFnLhUFSOVRAmJXGQWZm5qHOE8NBMzMzX97DyUHNzMyu50C7QZqZmfYmCb9BexSu14tZekHNzEybLyaxQZqZ2SrphchBAACACe2RskEzMzMqtum9QVp2YdYx+YVBMzMz5yV2vEGamZmTyKusQXwWo5FT9KNBZmbm/1a3xUHNzAzH5zjCQWZmZvRg8K9BrRZ/b4o/l0EAAECWjq3MQVK4Hs1Pt25BAAAACzTGxUFRP7xmaSqrQZH8BXxuDcJBZmZmzZndqEGamRn+U6bEQZqZmS+ZJK1BZmZmyOrmnkHNzMy3xPPBQTMzM5eKbaZB4XoUViuUekHNzIyXW+3GQTMzMx1s8MxBmpmZfTIOyEGamZlAVOSnQdejcKH8OXVBw/UoiCKjj0FNw1s7/cm5QWZmJkwFIclBrkfh2uHLS0HNzMwub0mwQXlsaUceJstBzczMszfsp0GamdnafUbGQc3MjO1/QspBISq0x5lHqUEAAAA/h5XKQaRjvak1wshBMzMz8eX8sUEzM7NEhae7QQAAADvZ0stBoPJY4EpZu0EAAIBp/n7DQTMzcz/Ut8lBMzNz5tL6x0EzMzNcTbiqQT0K1+8I0I9BMzNzSAP7y0EzM/MseuPDQZqZmZoPZr1BzcwMxVnRwUEzM7NtrN63QTMzs/4EgstBzczM7pWovEGamZnvtRKrQWZm5if1t7VBAABAd6A3xEGkcD0wCuGMQZqZmXyUgLtBmpkZ4GOLxkGamZmVzw6RQTMzM3d7ppdBzczMkfdYr0GamZkFGvC9Qc3MzOWxi6JBZmZmT+JNo0HfqX9D6nmaQYdRRbiewspBzcxMdEEXsUEzMzPdnljIQWZmZmlv9K1BAADAXA7fyUGkcD0ur6lyQWZmpgvzp8pBmpmZNZLst0EAAMD0RMnHQWZmJhNAcc1BV7P8i7HavkEuGaE1cvGrQTMzM9a7e7dBzcwMm5cRxUEUyBDIj3vJQWZmZoHVDrxBmpkZbmXbwkHNzEwgpxyxQc3MzLCrk6BBMzMzHDL9vEEAAIBGZE/NQc3MzPKRg8JBmpmZHJMDxkHNzMxCm0abQWZmZhhtOsRBZmbmfUCsxEFmZiaiaSzIQc3MjBOR/8xBAAAAwcVIxkFmZqbwbcbIQdqADBiG76xBZmZmWHOLkEFmZqY5wG3CQQAAANzTL7xBmpmZuAF8vUEzMzOXSiitQQAAABdHSLVBMzMzwyCzvkGamZmDgWa9QZqZWc8oQMNBAAAA7NN/q0FmZmYhLCCqQWZmpgA00MRBmpnZjpZQxUHNzEy5Rk21Qc3MzIGarsBBAACAGlRVxEELEhafQBjLQdBPNijwratBzcwMJ+wAyEGamVnBpAnBQTMzM5RR8MlBmpmZEPawskE3t88KpWvLQTMzs3Gev71BzcwMRMzAxEFmZiZ823DNQTMzc7D9CM1BMzOziGJusUEAAIBc2DjBQc3MTAj6B7tBZmZm7/d5vkEAAIBT7bvFQWZmZg0Ih8VBMzMzfAE/t0FmZmZKizGpQYXrUayNOIlBmpkZjk70xEF4EcVI1VLNQZqZGcj5LcRBMzOzbcecukFmZqa44w7DQdzGb2UHtrRBMzNz/sqQwUEzMzO639mpQWZmZn6Ulq1BZmZmZ0cEkEEV+TQMRXbLQc3MTB1f9L1BZmbmMkkOwkGamZnHUuC2QTMzM4n92L1BmpkZGtjiukEzM7P9+Mi1QQAAAHJxpa5BZmbmHuV9tkEAAABnltWSQc3MTMsCirVBZmZm0tNFuUGamZnB7WepQTMz83JzNcRBAACAc2jmsUFmZqYSslPBQTMz87QcX8JBmpmZ5z6Ty0GiRbbTHJE6QTMzM6myzqlBmpnZd6dmwUFmZub6w1/NQVXvNzJvOJtBFK5HV5vMk0FmZuZ/2zK0Qc3MTFA7ub1BzcwMysnwxkFmZuZ0qbi6QTMzM1Z/AsFBMzOzPBswyUEAAEBQa9PMQeF6FEKDGYhBZmZmgXG/p0EAAABrIa3BQVyPwk0Zi21BzcxMpm3RsEEAAAActBe3QQAAAEDyjK1BbT2y1hXDrUFmZuZugWPGQTMzc8fHecBBAADADJo2y0FmZiZ3I7DIQWZmZvUSKKFBzcxMKUoLxEFSuB6Z2aePQc3MzPkC5rZBmpmZSVP6v0EAAIC7YZXCQTMzs+5XT81Bm/KuWO/Jw0EzMzOrK6u4QTMzM07RHKFBmplZMADrykGamdlPGX/HQW+kBRsGCMZBAACAg+ZlsUFmZmZpKEfNQTMzMz7PObhBZmbmqHLVukFmZmaYa6GfQSNrC/rIhaJBzczM+F3ns0GamZnZomenQZ0eMSw8k8pBmpkZ/iUzyEHcgpZ/QFvKQQAAAJ/zL81BzczM8+59sUFmZuZq0ajNQTMzM/bV4qVBhetRFkvUl0EzM7N2PX28Qc3MDIhAwchBZmZmRJqBq0EzMzMTat2XQWZmZlQMWrpBDXUM2QbRtUEAAMAerBTIQVsmmaDLuKtBZmZmhkhXm0EzM3OsTk3EQZqZmYnWqHRBAAAAAg+nmUFmZubVnQm8Qc3MTEf6HLRBzcwMqHUty0GamVn4NLzBQc3MzBNYw5JBZmZmvRqJskEAAABfYWCxQRBYOQSHlklB4CqyMGJ9vkFdWRX1M9PMQa5H4TBsXYlBzcwMvoIixUFmZuYHIZfBQWZmZia7yLVBMzMzNEDXq0GamVkVGTvCQedrqoM/E5dBzczMMTyArEFmZmaQFFi6QUjheiqazIJBVePfh8Awk0EAAEBlxkHLQWZmpvi/iMhBmpkZm4x2wkF7FK4hZYyTQWZm5oGgUsVBmpmZ1pFpy0GamRm80xzNQcP1KGDyDJFBsx+DXlh/iUHNzIyPo+PIQRPniS30HrZBmpmZsfUWt0EAAADSuxzBQTMzM7nJt4NBmpnZNJvdwUEzMzOzzJbIQTMz88248cNBmpkZ77n1uEEzMzPF2A3HQTMzM9qU3cNBDErheUcZxEEzM3OgYxfDQc3MzNusyMZBMzPzPP2QwUGamZn+oIGrQYVjjad10L9BzczM0U3avkEqfW6hXiGNQWZmZhbmD6RBPEhaqO/GxkHMCb3qfa3CQZqZmUurXs1BzcwMKJkbxkFmZubftnrFQTMz83erf8lBZmZm5LrpxUGamZnt/2nCQQrXozDmO4NBmpmZz9fZn0GamdlcSFrHQQrXo3REy3lBAAAAkagBw0EzMzNLndecQc3MzMlt08BBzcyMsqTiyUGamZmyhF2gQc3MzLrah7JBAACA7k4uyUEAAAAuodmcQc3MzCTedq1BzcwMLCN/wUGamVnawgfGQTMz85SKpcBBVA1QtcQht0EAAIC/9bi2QQAAgBQsB7ZBAAAAPcPExkGkP9YTFau2QQjweBy//rRBBwRZby8sxkEAAIAPcle4QZiYHkjZRIlBMzOzbqsxvUEpXI/2xQV6QQAAAObMfp9BzcyM5OaIykHsUbhCzc6WQTMzs6vMTsZBmpmZas+fqEGamZm1i3mkQQAAAD3kEKNBAAAAfq2CmEEdXJPi2O+hQc3MzKj5Nc1BWF1sYSAPxUFmZuboIkO8QQR8zlj55sZBzcxMmm7qsUEzM7NOMAC4QT3M9pP/T3BBMzPzjPhlwEHNzMzeC6KkQWZm5kAelMVBAAAAunuNqUFmZuZzkDSyQQAAgMC80rpBzczMuaY7pEEzMzMgo3SoQXmbUcyJn8pBmplZymZRykEzM7MW/gW4QVyPwpd6JIlBthK3TsiDcUGZs8L+3LrBQc3MzNCqwpZBMzMzeCs0sEHNzMwejIGtQTMzs7a22cRB4XoUMsw0fkHNzMxCBKnIQQAAAPlHd6VBmpkZ2O0SwUEzM7O4PqawQWZmZrrUq8hBMzMzMcwgv0GamRk/9De8QZqZmTIZt7JBZmZmCpVCm0HVXx0rADjCQQAAgCyOscpBmpmZYry2zUGamZlUTr++QZCrMltutp1BpHA9LejRlkGamZn0pm+nQTMzsx3+u8pBAAAAOmPemEEzM7Orc6i4QQAAgBRuvc1BMzMzyaGuo0HNzMwupC2cQQAAgP2I6bRBZmbm/qPUx0FmZmbZioLKQcP1KL4kbpdBHmShvTThrUFmZmawLCqbQTMzsxZxLsJBzczMiCk6oUHNzMwit//FQVyPwglMLnxBZmYmnkjQw0HNzMxiOebBQWZmZvbPlJBBxWV8J+x1tkEAAAC9ldSwQQAAgF9ukrpB+SqPDWSsx0HNzEz0s0iwQc3MDEirNMRBv0gs1FB2vEGamRn1IOy0Qc3MzOGqV8hBMzOzIMlyzUFmZubIg52+QZqZGfLIO8lBuB6FGX1piEEAAMCWWZ7KQQAAwM+6tMxBSn7GwNIjtUFmZmZ57/GnQS9Tz5lZ28lBMzOzrCpvyUG4HoVwdNKWQWZmZl6gYppBMzMz7JUspkEAAEDqCajNQQAAAJVERaBBMzNznZOly0HNzEwNJ3m8Qc3MTFky/8lBZmZmPZb2rkGkcD1sqUqGQUjherhnuHhBENsQDW4tgEEAAACrcSqtQWZm5vhMUMNBmpkZdDCJskEzM7PyviiwQaOzqNC116BBmpnZShzyy0GamZli39StQc3MTFuZscNBzczModacykGODguUkWHAQcOGOzOq9MdBzczMv/wOv0EzMzOuFxy2QWZmZodRuqVBMzMzkNPFuEEAAACTN82gQZqZGSxsmrZBtnamL8UQx0EpMjaKyqjBQTMzc7aSDslBZmZmtOUVvEGSfvjvv2qlQQAAAIbCpZpBNxErjTVMy0EAAAC43yBaQUyp3pT4kMlBd8m9mcQeyUHNzMxVg6bGQbeb9K0D/8VBdcviyAF+y0HNzIyzzXDKQWZmZsIIMsZBXI/CwcDXhEFmZqZODR/LQQAAwEu/0sRBmplZgxAPzUFmZuZ7DnjFQZqZmfHT3r5BZmZmfNN4wEGPwvViMfyWQQAAgC0HOcVBAACAS1i5skFuYjCAvBXBQQAAAKW5dq5BAADAM33FyUEAAADT2naiQbgehW+7J5NBZmYmh8TAxUGamRkPY8O/QTMzsxaR77pBAACA1ciPsUEzMzPla36oQWZmZhDDMpBBgLXPYHwVzUEzM/Nxw3LHQZqZmWa/B8dBMzPzEJeDwkFmZmZa0h6eQWZm5mPDgcNBZmZmDs/yukGamVkBjzDJQdXUpa5YUM1BbNcY/ldfxEEAAMAPwsLJQQAAgPNHJLlBzcyM+ENbyEHNzExvKM/FQQAAgAhMsMFBMzOzN+5SwEGuR+FqitB1QYmlLrd4iLFBZmYm9CuiyEHNzMy3Q+6yQTMzM91KJ7VBAACAVOD/vkFmZmaGjAWtQQAAAL7yaZxBBC9poiD8vUHNzEwu11jLQc3MzCOtzK5B3EHBnubjykFmZub5VbTAQWZmZgLkUMxBmpmZgM5NpkEKRcn/gmnDQT7b3pSu1a1BzczMQXeZt0GamdmOM1fFQXE9CkuQhpBBZmbmOZWJwUEzM7PN5//HQR+F64M/F5NBzcxMamVpx0EzMzM5oDyGQZqZWRNFVcVBzczMPIPrwUEzMzOD3duFQZqZ2QVhV8BBzczMqJYJx0FmZmZ6ROJ+Qc3wFiUthcxBZmZmhLgLy0HNzIyIHOrMQSIMeYiLmblBZmZmXuEzs0EAAADAcCa7Qc3MzGhluZpBzczMotgyx0HBQuaEc4KiQSXkuUiK6MJBZmZmPxMxyUGamVkTRivEQRFaKEaVbXpBMzOzVPNNvkHNzIxMCmvIQZqZmZkbCadBmpnZ2wwEwUFmZmYYkGWVQTA3Naq2bMpBuB6F22XsgUEAAAB1Ze6jQWZm5iDtqMBBMzOzhkGutkGamZmYwxa8Qc3MjK+2XMFBZCi3ekL+xEEzMzNkJTy0QR+F69yR5JBBAABAMtgewEGamZmXPrfFQTMzMzXNKqBBZmamLVyPyUGPwvXMijZ4Qc3MTJzmZbdBZmYmI302zEHNzMzuaeK4QWZm5n4B4LFBZmamkMaXxEEAAAAKg9/DQWZmZq1gOchBZmZmtAV7x0HNzAwhWzPIQc3MDB1zasNBZmYmubO/x0H2KFxPeB19QTMzM0vUQLhBZmZmwKnopEGamRmGAqG6QZqZmaYid6RBhetRADrni0GlrLS3RkiwQZqZGXvAH7dBZmZmLbbxp0HNzEzUHUzBQTMz80Gp+MFB/RO071xnvUGamZm79bGZQZqZmYP0Ys1BH1quWIRorEEAAMA9PnbKQQAAwIE5JMBBzczM63AApEGamdlsMWvKQTMzM5FTOLRBAABAa5WmyUEAAMBPN9fIQWZmZmqm4ZlBazsty5NjuUEAAIA5vNy1QVyPwh1lh4tBmpkZMnopu0GamZk5kqCpQZqZme+qhctBmpmZMEMlokEAAIBeLTK/QVQ8oSBAiKpBmpmZQ8IUo0GuLhsVJDXEQZqZmYUSpLpBZmZmBPsov0E9CtePIbeDQQAAwM8DmcZBzcwMwz+DxEEAAECIEx3JQTMzMxPOB5tBmpkZLOecy0HNzEwkXyXAQc3MzCJgvq5BAACASi0xyEEAAEAQvMXNQTMzM7AfX8tBAADAyat9xkHNzMwUcPCvQQAAgKb+vrJBmpkZUZ48skEAAMDMYvzGQQAAANwlubFBAADA8wg8yEFmZqaLvnnNQWZm5pEdErVBROLH8hW/skEAAEDSOL3DQTMzMwlzh6ZBKVyPvSkPl0FmZqYgYh3DQR7223QK3cxBmpkZEJtGvUEAAICod92zQc3MzHCXnptBzcxMStUjvEGamZngqU63Qdn809+7tstBZmamKyPmwUHgdYmA/4uxQUCGhs2Fy8lBgBDbEm1opUGe76eGtOxDQTMzs0aqEMpBzczMUioGn0EAAEA4O33LQQAAgGDLNMxBzczMiXrUo0HNzIxKmmTDQTMzM/Pg1ZhBmplZuh8+x0HNzMyRoLugQQN24BzqtspBZmamsgpgw0EAAIDmksjAQY/C9VBj5WxBmpmZz8xonUEAAIBFVhu7QWZmZgtahpVBmpmZWwqwvkEAAEAtk8jGQWZmZtVJya9BmplZX6Eay0GamRl9G8m0QQAAALeKOMNBMzMzxgmUsEHNzMzQd3ejQTMzMzQtw71BYk9e5ez0r0E9CtdwxaeTQZqZmSfmGcVB7FG4NgKshEHNzMzKWbKYQXDKv5IH3sxBmpkZ1VkpzEH2KFxTzvaBQf2NNlJHYMFBjZduOmtBW0EAAMDHWmfAQZqZmXtyBrNBZmYmF0FyzUFmZmZEVoqOQWZmpnTdnsVBKVyPRKFWlUHNzEwIu/m5QWZmZpm3KJRBZ5Irf/Jnw0EK16PSix6SQXbHmacg9MpBzcxM9WejvUGamVnaL0zAQc3MjBiGq8VBBiZWDgTAyUGamZnJ96+/QZqZWVO/FsNBMzPzfoFuw0HxNX7fLxt1QTMzM4vin8FBZmbmYvAtukFmZuYH/57EQQAAAAPaec1BzczMsMoypkGamZnHjzTGQZqZWeAcaMJBZmZm/gfKmUGamRkfmdS0Qc3MjCSxKsxBcD80wrQytEEAAICjnsGyQc3MzPrFLbFBMzOzxxhozEHghyJ6s0jJQTMzM4s/2bFBMzOzAvItzUG4HoXJ9v+TQZTIcDtkBbZBMzMzWs+OpkGamVn2W5TMQXE9Cnmhv4JBELEvirXFwkHNzMykTE1+QZqZGdXNMcRBMzPzRLBCx0G4HoVfhmCPQSinyhOGvLNBMzMzyiyWtEHBsu/A8M7BQTMzsydpU7pBzczMfHwzzUEzMzM54S3MQWewvmSHHM1BZmZmO66FwUGamRl24BO0Qc3MzE/PVq5BMzMzCgmExkHNzMzN2ROgQZqZWeaocMlBAAAAWvCaqUEdWmQLA8BKQZqZ2X5Oc8lBMzMzG2yCvUHNzMwToVXMQQAAgA3dE7JBbLKDReBIsEFmZmZe8mZvQc9Ls6ULOmNBXiyEY1/HxEEAAADRzSapQWZm5uSnCb9BzcyMR9x3wkEzM7O6oIq1QZqZmdF6rbNBcbUflfArtUEzM7NfHHG7QZqZmRaAxbtBuB6Fq0vujEEpXI+gIs6EQZqZmTn8ErxBzcxMi2iqw0HXo3ChpoaCQWZmJjZHj81BzczMd7ayrEHNzExiZmPGQc3MjDf3YsxBZmampw7xxEEAAACUjhuvQWZmpooH4cBBAACAZp8SykEzMzMx6u7BQQAAgHcJnr9BZmbm69VKwUHNzMzlnEKwQXE9Cl1lnYhBAABAZQVlxUHNzExWiv2wQZqZGXzsF7VBMzMzWBAyxkGamRmf4Qi6QWZmpg5QsspBZmZmXckBqkF41QPDUQaJQc3MzNzlc6NBAAAAj5z6r0Gamdk7byjJQQAAABX3+stBAACAnF73y0HNzEyVbdS/Qc3MDOrMJMZBmpmZiQkosUFmZiaqqlrEQZqZ2Ti7lMVBAACAFS2PuEFmZqbSINXIQWZm5mqAv8RBzcwM0skszUFmZmbnQaiiQTMzMy76XKhBMzOzsUFwxEGamZmgPGumQWZmZrNcia1BZmYmxK0Pw0FmZmbqaL25QWZmZqW0yqxBMzPzgKEixUFmZmZuVRCbQWZmJnraX8ZBAAAAaml4pkHNzMzhdAHAQTMzc+lJQsBB7EIbAkvgxEGamdnvMdbJQWZmZj68tslBmplZFZb/w0FmZubbgs/BQQAAAFe80qJBMzMzk9y5v0EzMzM9nVioQWZmpvkZD81BMzMz6+3nxEHlpl5EczHGQWZm5hLFXshBzcxM757gx0FmZqZb0MfBQRDOlWaNfshBAAAAVZ//v0HNzEwOrfawQWZm5lctIb5BmplZKIXoyUEAAADvmQC6QZqZmXNU+5pBmpmZATpTr0HNzIy3UKzGQc3MzHx+dJtBAACAAHibsUGuR+H0EiOIQQAAQKOUtctBmpmZpcKtvEF9KciGtlWlQZqZ2RSl/8NBZmamJii3y0GamRl/jG/AQZqZmbrBgs1BZmZmSW9NxkHNzEyTme+1QZg8l3WvJL5BzcxMmLixu0FEmvjwKHKuQTMzs3/HbsFBAAAAd/fFtUGamVkKMDTIQZqZmTt+Y6RBmpkZXXiWyEGamVlJYPXBQWZmZlv3jbJBzcxMRu2mtUEFISoadeidQQAAAEjZiK5BMzNzl6fVwkEfheunBlmOQWRJE3nO4MdBAACA2n4OtEEAAIAd8+q7QQAAANd47aFBPq8SHpoTt0FmZmaEYDnLQS5N47msj71BAAAA4c+NpEEAAMD7Id/KQTMzMziYC8ZBZmbmsy4CtEFmZuZZsVDEQSAtrcj4v81BZmZmzKY0w0GXubdCMMDHQTMzc6uuf8NBao7MJpOsxEFmZuYXrcnNQZqZmYbZPLhBzczMsK1GyUEvMC1TuNfCQWZm5uPywcBBMzOzHY0wyUGF61Euv7SOQc3MzPoUV6xBmpmZSxEdoEHkab8a2ZC+QWZm5sCyDcZBZmZmo27dr0HNzEyPnpTJQQAAgDdBrr1BMzPzFHRAykHNzEw3rQHHQWZmZoH3f5NBMzMzos6BxUG4HoW9yuKSQTMzM6bRm6BBmpmZUGV0oEFxPQqXy112QQAAgBkVz8xBMzMzJdGprUEUrkffUwyJQcC6dBEQkrZB",
          "dtype": "f8"
         },
         "yaxis": "y3"
        }
       ],
       "layout": {
        "height": 320,
        "margin": {
         "l": 40,
         "r": 40
        },
        "showlegend": false,
        "template": {
         "data": {
          "bar": [
           {
            "error_x": {
             "color": "#2a3f5f"
            },
            "error_y": {
             "color": "#2a3f5f"
            },
            "marker": {
             "line": {
              "color": "#E5ECF6",
              "width": 0.5
             },
             "pattern": {
              "fillmode": "overlay",
              "size": 10,
              "solidity": 0.2
             }
            },
            "type": "bar"
           }
          ],
          "barpolar": [
           {
            "marker": {
             "line": {
              "color": "#E5ECF6",
              "width": 0.5
             },
             "pattern": {
              "fillmode": "overlay",
              "size": 10,
              "solidity": 0.2
             }
            },
            "type": "barpolar"
           }
          ],
          "carpet": [
           {
            "aaxis": {
             "endlinecolor": "#2a3f5f",
             "gridcolor": "white",
             "linecolor": "white",
             "minorgridcolor": "white",
             "startlinecolor": "#2a3f5f"
            },
            "baxis": {
             "endlinecolor": "#2a3f5f",
             "gridcolor": "white",
             "linecolor": "white",
             "minorgridcolor": "white",
             "startlinecolor": "#2a3f5f"
            },
            "type": "carpet"
           }
          ],
          "choropleth": [
           {
            "colorbar": {
             "outlinewidth": 0,
             "ticks": ""
            },
            "type": "choropleth"
           }
          ],
          "contour": [
           {
            "colorbar": {
             "outlinewidth": 0,
             "ticks": ""
            },
            "colorscale": [
             [
              0,
              "#0d0887"
             ],
             [
              0.1111111111111111,
              "#46039f"
             ],
             [
              0.2222222222222222,
              "#7201a8"
             ],
             [
              0.3333333333333333,
              "#9c179e"
             ],
             [
              0.4444444444444444,
              "#bd3786"
             ],
             [
              0.5555555555555556,
              "#d8576b"
             ],
             [
              0.6666666666666666,
              "#ed7953"
             ],
             [
              0.7777777777777778,
              "#fb9f3a"
             ],
             [
              0.8888888888888888,
              "#fdca26"
             ],
             [
              1,
              "#f0f921"
             ]
            ],
            "type": "contour"
           }
          ],
          "contourcarpet": [
           {
            "colorbar": {
             "outlinewidth": 0,
             "ticks": ""
            },
            "type": "contourcarpet"
           }
          ],
          "heatmap": [
           {
            "colorbar": {
             "outlinewidth": 0,
             "ticks": ""
            },
            "colorscale": [
             [
              0,
              "#0d0887"
             ],
             [
              0.1111111111111111,
              "#46039f"
             ],
             [
              0.2222222222222222,
              "#7201a8"
             ],
             [
              0.3333333333333333,
              "#9c179e"
             ],
             [
              0.4444444444444444,
              "#bd3786"
             ],
             [
              0.5555555555555556,
              "#d8576b"
             ],
             [
              0.6666666666666666,
              "#ed7953"
             ],
             [
              0.7777777777777778,
              "#fb9f3a"
             ],
             [
              0.8888888888888888,
              "#fdca26"
             ],
             [
              1,
              "#f0f921"
             ]
            ],
            "type": "heatmap"
           }
          ],
          "histogram": [
           {
            "marker": {
             "pattern": {
              "fillmode": "overlay",
              "size": 10,
              "solidity": 0.2
             }
            },
            "type": "histogram"
           }
          ],
          "histogram2d": [
           {
            "colorbar": {
             "outlinewidth": 0,
             "ticks": ""
            },
            "colorscale": [
             [
              0,
              "#0d0887"
             ],
             [
              0.1111111111111111,
              "#46039f"
             ],
             [
              0.2222222222222222,
              "#7201a8"
             ],
             [
              0.3333333333333333,
              "#9c179e"
             ],
             [
              0.4444444444444444,
              "#bd3786"
             ],
             [
              0.5555555555555556,
              "#d8576b"
             ],
             [
              0.6666666666666666,
              "#ed7953"
             ],
             [
              0.7777777777777778,
              "#fb9f3a"
             ],
             [
              0.8888888888888888,
              "#fdca26"
             ],
             [
              1,
              "#f0f921"
             ]
            ],
            "type": "histogram2d"
           }
          ],
          "histogram2dcontour": [
           {
            "colorbar": {
             "outlinewidth": 0,
             "ticks": ""
            },
            "colorscale": [
             [
              0,
              "#0d0887"
             ],
             [
              0.1111111111111111,
              "#46039f"
             ],
             [
              0.2222222222222222,
              "#7201a8"
             ],
             [
              0.3333333333333333,
              "#9c179e"
             ],
             [
              0.4444444444444444,
              "#bd3786"
             ],
             [
              0.5555555555555556,
              "#d8576b"
             ],
             [
              0.6666666666666666,
              "#ed7953"
             ],
             [
              0.7777777777777778,
              "#fb9f3a"
             ],
             [
              0.8888888888888888,
              "#fdca26"
             ],
             [
              1,
              "#f0f921"
             ]
            ],
            "type": "histogram2dcontour"
           }
          ],
          "mesh3d": [
           {
            "colorbar": {
             "outlinewidth": 0,
             "ticks": ""
            },
            "type": "mesh3d"
           }
          ],
          "parcoords": [
           {
            "line": {
             "colorbar": {
              "outlinewidth": 0,
              "ticks": ""
             }
            },
            "type": "parcoords"
           }
          ],
          "pie": [
           {
            "automargin": true,
            "type": "pie"
           }
          ],
          "scatter": [
           {
            "fillpattern": {
             "fillmode": "overlay",
             "size": 10,
             "solidity": 0.2
            },
            "type": "scatter"
           }
          ],
          "scatter3d": [
           {
            "line": {
             "colorbar": {
              "outlinewidth": 0,
              "ticks": ""
             }
            },
            "marker": {
             "colorbar": {
              "outlinewidth": 0,
              "ticks": ""
             }
            },
            "type": "scatter3d"
           }
          ],
          "scattercarpet": [
           {
            "marker": {
             "colorbar": {
              "outlinewidth": 0,
              "ticks": ""
             }
            },
            "type": "scattercarpet"
           }
          ],
          "scattergeo": [
           {
            "marker": {
             "colorbar": {
              "outlinewidth": 0,
              "ticks": ""
             }
            },
            "type": "scattergeo"
           }
          ],
          "scattergl": [
           {
            "marker": {
             "colorbar": {
              "outlinewidth": 0,
              "ticks": ""
             }
            },
            "type": "scattergl"
           }
          ],
          "scattermap": [
           {
            "marker": {
             "colorbar": {
              "outlinewidth": 0,
              "ticks": ""
             }
            },
            "type": "scattermap"
           }
          ],
          "scattermapbox": [
           {
            "marker": {
             "colorbar": {
              "outlinewidth": 0,
              "ticks": ""
             }
            },
            "type": "scattermapbox"
           }
          ],
          "scatterpolar": [
           {
            "marker": {
             "colorbar": {
              "outlinewidth": 0,
              "ticks": ""
             }
            },
            "type": "scatterpolar"
           }
          ],
          "scatterpolargl": [
           {
            "marker": {
             "colorbar": {
              "outlinewidth": 0,
              "ticks": ""
             }
            },
            "type": "scatterpolargl"
           }
          ],
          "scatterternary": [
           {
            "marker": {
             "colorbar": {
              "outlinewidth": 0,
              "ticks": ""
             }
            },
            "type": "scatterternary"
           }
          ],
          "surface": [
           {
            "colorbar": {
             "outlinewidth": 0,
             "ticks": ""
            },
            "colorscale": [
             [
              0,
              "#0d0887"
             ],
             [
              0.1111111111111111,
              "#46039f"
             ],
             [
              0.2222222222222222,
              "#7201a8"
             ],
             [
              0.3333333333333333,
              "#9c179e"
             ],
             [
              0.4444444444444444,
              "#bd3786"
             ],
             [
              0.5555555555555556,
              "#d8576b"
             ],
             [
              0.6666666666666666,
              "#ed7953"
             ],
             [
              0.7777777777777778,
              "#fb9f3a"
             ],
             [
              0.8888888888888888,
              "#fdca26"
             ],
             [
              1,
              "#f0f921"
             ]
            ],
            "type": "surface"
           }
          ],
          "table": [
           {
            "cells": {
             "fill": {
              "color": "#EBF0F8"
             },
             "line": {
              "color": "white"
             }
            },
            "header": {
             "fill": {
              "color": "#C8D4E3"
             },
             "line": {
              "color": "white"
             }
            },
            "type": "table"
           }
          ]
         },
         "layout": {
          "annotationdefaults": {
           "arrowcolor": "#2a3f5f",
           "arrowhead": 0,
           "arrowwidth": 1
          },
          "autotypenumbers": "strict",
          "coloraxis": {
           "colorbar": {
            "outlinewidth": 0,
            "ticks": ""
           }
          },
          "colorscale": {
           "diverging": [
            [
             0,
             "#8e0152"
            ],
            [
             0.1,
             "#c51b7d"
            ],
            [
             0.2,
             "#de77ae"
            ],
            [
             0.3,
             "#f1b6da"
            ],
            [
             0.4,
             "#fde0ef"
            ],
            [
             0.5,
             "#f7f7f7"
            ],
            [
             0.6,
             "#e6f5d0"
            ],
            [
             0.7,
             "#b8e186"
            ],
            [
             0.8,
             "#7fbc41"
            ],
            [
             0.9,
             "#4d9221"
            ],
            [
             1,
             "#276419"
            ]
           ],
           "sequential": [
            [
             0,
             "#0d0887"
            ],
            [
             0.1111111111111111,
             "#46039f"
            ],
            [
             0.2222222222222222,
             "#7201a8"
            ],
            [
             0.3333333333333333,
             "#9c179e"
            ],
            [
             0.4444444444444444,
             "#bd3786"
            ],
            [
             0.5555555555555556,
             "#d8576b"
            ],
            [
             0.6666666666666666,
             "#ed7953"
            ],
            [
             0.7777777777777778,
             "#fb9f3a"
            ],
            [
             0.8888888888888888,
             "#fdca26"
            ],
            [
             1,
             "#f0f921"
            ]
           ],
           "sequentialminus": [
            [
             0,
             "#0d0887"
            ],
            [
             0.1111111111111111,
             "#46039f"
            ],
            [
             0.2222222222222222,
             "#7201a8"
            ],
            [
             0.3333333333333333,
             "#9c179e"
            ],
            [
             0.4444444444444444,
             "#bd3786"
            ],
            [
             0.5555555555555556,
             "#d8576b"
            ],
            [
             0.6666666666666666,
             "#ed7953"
            ],
            [
             0.7777777777777778,
             "#fb9f3a"
            ],
            [
             0.8888888888888888,
             "#fdca26"
            ],
            [
             1,
             "#f0f921"
            ]
           ]
          },
          "colorway": [
           "#636efa",
           "#EF553B",
           "#00cc96",
           "#ab63fa",
           "#FFA15A",
           "#19d3f3",
           "#FF6692",
           "#B6E880",
           "#FF97FF",
           "#FECB52"
          ],
          "font": {
           "color": "#2a3f5f"
          },
          "geo": {
           "bgcolor": "white",
           "lakecolor": "white",
           "landcolor": "#E5ECF6",
           "showlakes": true,
           "showland": true,
           "subunitcolor": "white"
          },
          "hoverlabel": {
           "align": "left"
          },
          "hovermode": "closest",
          "mapbox": {
           "style": "light"
          },
          "paper_bgcolor": "white",
          "plot_bgcolor": "#E5ECF6",
          "polar": {
           "angularaxis": {
            "gridcolor": "white",
            "linecolor": "white",
            "ticks": ""
           },
           "bgcolor": "#E5ECF6",
           "radialaxis": {
            "gridcolor": "white",
            "linecolor": "white",
            "ticks": ""
           }
          },
          "scene": {
           "xaxis": {
            "backgroundcolor": "#E5ECF6",
            "gridcolor": "white",
            "gridwidth": 2,
            "linecolor": "white",
            "showbackground": true,
            "ticks": "",
            "zerolinecolor": "white"
           },
           "yaxis": {
            "backgroundcolor": "#E5ECF6",
            "gridcolor": "white",
            "gridwidth": 2,
            "linecolor": "white",
            "showbackground": true,
            "ticks": "",
            "zerolinecolor": "white"
           },
           "zaxis": {
            "backgroundcolor": "#E5ECF6",
            "gridcolor": "white",
            "gridwidth": 2,
            "linecolor": "white",
            "showbackground": true,
            "ticks": "",
            "zerolinecolor": "white"
           }
          },
          "shapedefaults": {
           "line": {
            "color": "#2a3f5f"
           }
          },
          "ternary": {
           "aaxis": {
            "gridcolor": "white",
            "linecolor": "white",
            "ticks": ""
           },
           "baxis": {
            "gridcolor": "white",
            "linecolor": "white",
            "ticks": ""
           },
           "bgcolor": "#E5ECF6",
           "caxis": {
            "gridcolor": "white",
            "linecolor": "white",
            "ticks": ""
           }
          },
          "title": {
           "x": 0.05
          },
          "xaxis": {
           "automargin": true,
           "gridcolor": "white",
           "linecolor": "white",
           "ticks": "",
           "title": {
            "standoff": 15
           },
           "zerolinecolor": "white",
           "zerolinewidth": 2
          },
          "yaxis": {
           "automargin": true,
           "gridcolor": "white",
           "linecolor": "white",
           "ticks": "",
           "title": {
            "standoff": 15
           },
           "zerolinecolor": "white",
           "zerolinewidth": 2
          }
         }
        },
        "title": {
         "text": "Economic and Policy metrics"
        },
        "xaxis": {
         "anchor": "y",
         "domain": [
          0,
          0.2888888888888889
         ]
        },
        "xaxis2": {
         "anchor": "y2",
         "domain": [
          0.35555555555555557,
          0.6444444444444445
         ]
        },
        "xaxis3": {
         "anchor": "y3",
         "domain": [
          0.7111111111111111,
          1
         ]
        },
        "yaxis": {
         "anchor": "x",
         "domain": [
          0,
          1
         ]
        },
        "yaxis2": {
         "anchor": "x2",
         "domain": [
          0,
          1
         ]
        },
        "yaxis3": {
         "anchor": "x3",
         "domain": [
          0,
          1
         ]
        }
       }
      }
     },
     "metadata": {},
     "output_type": "display_data"
    }
   ],
   "source": [
    "boxplots(train_df, economic, 'Economic and Policy metrics')"
   ]
  },
  {
   "cell_type": "code",
   "execution_count": 41,
   "id": "6d4dbe1d-56c7-458f-b516-52a0df0042a7",
   "metadata": {
    "executionCancelledAt": null,
    "executionTime": null,
    "lastExecutedAt": null,
    "lastExecutedByKernel": null,
    "lastScheduledRunId": null,
    "lastSuccessfullyExecutedCode": null,
    "outputsMetadata": {
     "0": {
      "height": 467,
      "type": "plotly"
     }
    }
   },
   "outputs": [
    {
     "data": {
      "application/vnd.plotly.v1+json": {
       "config": {
        "plotlyServerURL": "https://plot.ly"
       },
       "data": [
        {
         "boxpoints": "outliers",
         "name": "R&D Expenditure",
         "type": "box",
         "xaxis": "x",
         "y": {
          "bdata": "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",
          "dtype": "f8"
         },
         "yaxis": "y"
        },
        {
         "boxpoints": "outliers",
         "name": "Renewable Energy Patents",
         "type": "box",
         "xaxis": "x2",
         "y": {
          "bdata": "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",
          "dtype": "i2"
         },
         "yaxis": "y2"
        },
        {
         "boxpoints": "outliers",
         "name": "Innovation Index",
         "type": "box",
         "xaxis": "x3",
         "y": {
          "bdata": "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",
          "dtype": "f8"
         },
         "yaxis": "y3"
        }
       ],
       "layout": {
        "height": 320,
        "showlegend": false,
        "template": {
         "data": {
          "bar": [
           {
            "error_x": {
             "color": "#2a3f5f"
            },
            "error_y": {
             "color": "#2a3f5f"
            },
            "marker": {
             "line": {
              "color": "#E5ECF6",
              "width": 0.5
             },
             "pattern": {
              "fillmode": "overlay",
              "size": 10,
              "solidity": 0.2
             }
            },
            "type": "bar"
           }
          ],
          "barpolar": [
           {
            "marker": {
             "line": {
              "color": "#E5ECF6",
              "width": 0.5
             },
             "pattern": {
              "fillmode": "overlay",
              "size": 10,
              "solidity": 0.2
             }
            },
            "type": "barpolar"
           }
          ],
          "carpet": [
           {
            "aaxis": {
             "endlinecolor": "#2a3f5f",
             "gridcolor": "white",
             "linecolor": "white",
             "minorgridcolor": "white",
             "startlinecolor": "#2a3f5f"
            },
            "baxis": {
             "endlinecolor": "#2a3f5f",
             "gridcolor": "white",
             "linecolor": "white",
             "minorgridcolor": "white",
             "startlinecolor": "#2a3f5f"
            },
            "type": "carpet"
           }
          ],
          "choropleth": [
           {
            "colorbar": {
             "outlinewidth": 0,
             "ticks": ""
            },
            "type": "choropleth"
           }
          ],
          "contour": [
           {
            "colorbar": {
             "outlinewidth": 0,
             "ticks": ""
            },
            "colorscale": [
             [
              0,
              "#0d0887"
             ],
             [
              0.1111111111111111,
              "#46039f"
             ],
             [
              0.2222222222222222,
              "#7201a8"
             ],
             [
              0.3333333333333333,
              "#9c179e"
             ],
             [
              0.4444444444444444,
              "#bd3786"
             ],
             [
              0.5555555555555556,
              "#d8576b"
             ],
             [
              0.6666666666666666,
              "#ed7953"
             ],
             [
              0.7777777777777778,
              "#fb9f3a"
             ],
             [
              0.8888888888888888,
              "#fdca26"
             ],
             [
              1,
              "#f0f921"
             ]
            ],
            "type": "contour"
           }
          ],
          "contourcarpet": [
           {
            "colorbar": {
             "outlinewidth": 0,
             "ticks": ""
            },
            "type": "contourcarpet"
           }
          ],
          "heatmap": [
           {
            "colorbar": {
             "outlinewidth": 0,
             "ticks": ""
            },
            "colorscale": [
             [
              0,
              "#0d0887"
             ],
             [
              0.1111111111111111,
              "#46039f"
             ],
             [
              0.2222222222222222,
              "#7201a8"
             ],
             [
              0.3333333333333333,
              "#9c179e"
             ],
             [
              0.4444444444444444,
              "#bd3786"
             ],
             [
              0.5555555555555556,
              "#d8576b"
             ],
             [
              0.6666666666666666,
              "#ed7953"
             ],
             [
              0.7777777777777778,
              "#fb9f3a"
             ],
             [
              0.8888888888888888,
              "#fdca26"
             ],
             [
              1,
              "#f0f921"
             ]
            ],
            "type": "heatmap"
           }
          ],
          "histogram": [
           {
            "marker": {
             "pattern": {
              "fillmode": "overlay",
              "size": 10,
              "solidity": 0.2
             }
            },
            "type": "histogram"
           }
          ],
          "histogram2d": [
           {
            "colorbar": {
             "outlinewidth": 0,
             "ticks": ""
            },
            "colorscale": [
             [
              0,
              "#0d0887"
             ],
             [
              0.1111111111111111,
              "#46039f"
             ],
             [
              0.2222222222222222,
              "#7201a8"
             ],
             [
              0.3333333333333333,
              "#9c179e"
             ],
             [
              0.4444444444444444,
              "#bd3786"
             ],
             [
              0.5555555555555556,
              "#d8576b"
             ],
             [
              0.6666666666666666,
              "#ed7953"
             ],
             [
              0.7777777777777778,
              "#fb9f3a"
             ],
             [
              0.8888888888888888,
              "#fdca26"
             ],
             [
              1,
              "#f0f921"
             ]
            ],
            "type": "histogram2d"
           }
          ],
          "histogram2dcontour": [
           {
            "colorbar": {
             "outlinewidth": 0,
             "ticks": ""
            },
            "colorscale": [
             [
              0,
              "#0d0887"
             ],
             [
              0.1111111111111111,
              "#46039f"
             ],
             [
              0.2222222222222222,
              "#7201a8"
             ],
             [
              0.3333333333333333,
              "#9c179e"
             ],
             [
              0.4444444444444444,
              "#bd3786"
             ],
             [
              0.5555555555555556,
              "#d8576b"
             ],
             [
              0.6666666666666666,
              "#ed7953"
             ],
             [
              0.7777777777777778,
              "#fb9f3a"
             ],
             [
              0.8888888888888888,
              "#fdca26"
             ],
             [
              1,
              "#f0f921"
             ]
            ],
            "type": "histogram2dcontour"
           }
          ],
          "mesh3d": [
           {
            "colorbar": {
             "outlinewidth": 0,
             "ticks": ""
            },
            "type": "mesh3d"
           }
          ],
          "parcoords": [
           {
            "line": {
             "colorbar": {
              "outlinewidth": 0,
              "ticks": ""
             }
            },
            "type": "parcoords"
           }
          ],
          "pie": [
           {
            "automargin": true,
            "type": "pie"
           }
          ],
          "scatter": [
           {
            "fillpattern": {
             "fillmode": "overlay",
             "size": 10,
             "solidity": 0.2
            },
            "type": "scatter"
           }
          ],
          "scatter3d": [
           {
            "line": {
             "colorbar": {
              "outlinewidth": 0,
              "ticks": ""
             }
            },
            "marker": {
             "colorbar": {
              "outlinewidth": 0,
              "ticks": ""
             }
            },
            "type": "scatter3d"
           }
          ],
          "scattercarpet": [
           {
            "marker": {
             "colorbar": {
              "outlinewidth": 0,
              "ticks": ""
             }
            },
            "type": "scattercarpet"
           }
          ],
          "scattergeo": [
           {
            "marker": {
             "colorbar": {
              "outlinewidth": 0,
              "ticks": ""
             }
            },
            "type": "scattergeo"
           }
          ],
          "scattergl": [
           {
            "marker": {
             "colorbar": {
              "outlinewidth": 0,
              "ticks": ""
             }
            },
            "type": "scattergl"
           }
          ],
          "scattermap": [
           {
            "marker": {
             "colorbar": {
              "outlinewidth": 0,
              "ticks": ""
             }
            },
            "type": "scattermap"
           }
          ],
          "scattermapbox": [
           {
            "marker": {
             "colorbar": {
              "outlinewidth": 0,
              "ticks": ""
             }
            },
            "type": "scattermapbox"
           }
          ],
          "scatterpolar": [
           {
            "marker": {
             "colorbar": {
              "outlinewidth": 0,
              "ticks": ""
             }
            },
            "type": "scatterpolar"
           }
          ],
          "scatterpolargl": [
           {
            "marker": {
             "colorbar": {
              "outlinewidth": 0,
              "ticks": ""
             }
            },
            "type": "scatterpolargl"
           }
          ],
          "scatterternary": [
           {
            "marker": {
             "colorbar": {
              "outlinewidth": 0,
              "ticks": ""
             }
            },
            "type": "scatterternary"
           }
          ],
          "surface": [
           {
            "colorbar": {
             "outlinewidth": 0,
             "ticks": ""
            },
            "colorscale": [
             [
              0,
              "#0d0887"
             ],
             [
              0.1111111111111111,
              "#46039f"
             ],
             [
              0.2222222222222222,
              "#7201a8"
             ],
             [
              0.3333333333333333,
              "#9c179e"
             ],
             [
              0.4444444444444444,
              "#bd3786"
             ],
             [
              0.5555555555555556,
              "#d8576b"
             ],
             [
              0.6666666666666666,
              "#ed7953"
             ],
             [
              0.7777777777777778,
              "#fb9f3a"
             ],
             [
              0.8888888888888888,
              "#fdca26"
             ],
             [
              1,
              "#f0f921"
             ]
            ],
            "type": "surface"
           }
          ],
          "table": [
           {
            "cells": {
             "fill": {
              "color": "#EBF0F8"
             },
             "line": {
              "color": "white"
             }
            },
            "header": {
             "fill": {
              "color": "#C8D4E3"
             },
             "line": {
              "color": "white"
             }
            },
            "type": "table"
           }
          ]
         },
         "layout": {
          "annotationdefaults": {
           "arrowcolor": "#2a3f5f",
           "arrowhead": 0,
           "arrowwidth": 1
          },
          "autotypenumbers": "strict",
          "coloraxis": {
           "colorbar": {
            "outlinewidth": 0,
            "ticks": ""
           }
          },
          "colorscale": {
           "diverging": [
            [
             0,
             "#8e0152"
            ],
            [
             0.1,
             "#c51b7d"
            ],
            [
             0.2,
             "#de77ae"
            ],
            [
             0.3,
             "#f1b6da"
            ],
            [
             0.4,
             "#fde0ef"
            ],
            [
             0.5,
             "#f7f7f7"
            ],
            [
             0.6,
             "#e6f5d0"
            ],
            [
             0.7,
             "#b8e186"
            ],
            [
             0.8,
             "#7fbc41"
            ],
            [
             0.9,
             "#4d9221"
            ],
            [
             1,
             "#276419"
            ]
           ],
           "sequential": [
            [
             0,
             "#0d0887"
            ],
            [
             0.1111111111111111,
             "#46039f"
            ],
            [
             0.2222222222222222,
             "#7201a8"
            ],
            [
             0.3333333333333333,
             "#9c179e"
            ],
            [
             0.4444444444444444,
             "#bd3786"
            ],
            [
             0.5555555555555556,
             "#d8576b"
            ],
            [
             0.6666666666666666,
             "#ed7953"
            ],
            [
             0.7777777777777778,
             "#fb9f3a"
            ],
            [
             0.8888888888888888,
             "#fdca26"
            ],
            [
             1,
             "#f0f921"
            ]
           ],
           "sequentialminus": [
            [
             0,
             "#0d0887"
            ],
            [
             0.1111111111111111,
             "#46039f"
            ],
            [
             0.2222222222222222,
             "#7201a8"
            ],
            [
             0.3333333333333333,
             "#9c179e"
            ],
            [
             0.4444444444444444,
             "#bd3786"
            ],
            [
             0.5555555555555556,
             "#d8576b"
            ],
            [
             0.6666666666666666,
             "#ed7953"
            ],
            [
             0.7777777777777778,
             "#fb9f3a"
            ],
            [
             0.8888888888888888,
             "#fdca26"
            ],
            [
             1,
             "#f0f921"
            ]
           ]
          },
          "colorway": [
           "#636efa",
           "#EF553B",
           "#00cc96",
           "#ab63fa",
           "#FFA15A",
           "#19d3f3",
           "#FF6692",
           "#B6E880",
           "#FF97FF",
           "#FECB52"
          ],
          "font": {
           "color": "#2a3f5f"
          },
          "geo": {
           "bgcolor": "white",
           "lakecolor": "white",
           "landcolor": "#E5ECF6",
           "showlakes": true,
           "showland": true,
           "subunitcolor": "white"
          },
          "hoverlabel": {
           "align": "left"
          },
          "hovermode": "closest",
          "mapbox": {
           "style": "light"
          },
          "paper_bgcolor": "white",
          "plot_bgcolor": "#E5ECF6",
          "polar": {
           "angularaxis": {
            "gridcolor": "white",
            "linecolor": "white",
            "ticks": ""
           },
           "bgcolor": "#E5ECF6",
           "radialaxis": {
            "gridcolor": "white",
            "linecolor": "white",
            "ticks": ""
           }
          },
          "scene": {
           "xaxis": {
            "backgroundcolor": "#E5ECF6",
            "gridcolor": "white",
            "gridwidth": 2,
            "linecolor": "white",
            "showbackground": true,
            "ticks": "",
            "zerolinecolor": "white"
           },
           "yaxis": {
            "backgroundcolor": "#E5ECF6",
            "gridcolor": "white",
            "gridwidth": 2,
            "linecolor": "white",
            "showbackground": true,
            "ticks": "",
            "zerolinecolor": "white"
           },
           "zaxis": {
            "backgroundcolor": "#E5ECF6",
            "gridcolor": "white",
            "gridwidth": 2,
            "linecolor": "white",
            "showbackground": true,
            "ticks": "",
            "zerolinecolor": "white"
           }
          },
          "shapedefaults": {
           "line": {
            "color": "#2a3f5f"
           }
          },
          "ternary": {
           "aaxis": {
            "gridcolor": "white",
            "linecolor": "white",
            "ticks": ""
           },
           "baxis": {
            "gridcolor": "white",
            "linecolor": "white",
            "ticks": ""
           },
           "bgcolor": "#E5ECF6",
           "caxis": {
            "gridcolor": "white",
            "linecolor": "white",
            "ticks": ""
           }
          },
          "title": {
           "x": 0.05
          },
          "xaxis": {
           "automargin": true,
           "gridcolor": "white",
           "linecolor": "white",
           "ticks": "",
           "title": {
            "standoff": 15
           },
           "zerolinecolor": "white",
           "zerolinewidth": 2
          },
          "yaxis": {
           "automargin": true,
           "gridcolor": "white",
           "linecolor": "white",
           "ticks": "",
           "title": {
            "standoff": 15
           },
           "zerolinecolor": "white",
           "zerolinewidth": 2
          }
         }
        },
        "title": {
         "text": "Innovation and Technology metrics"
        },
        "xaxis": {
         "anchor": "y",
         "domain": [
          0,
          0.2888888888888889
         ]
        },
        "xaxis2": {
         "anchor": "y2",
         "domain": [
          0.35555555555555557,
          0.6444444444444445
         ]
        },
        "xaxis3": {
         "anchor": "y3",
         "domain": [
          0.7111111111111111,
          1
         ]
        },
        "yaxis": {
         "anchor": "x",
         "domain": [
          0,
          1
         ]
        },
        "yaxis2": {
         "anchor": "x2",
         "domain": [
          0,
          1
         ]
        },
        "yaxis3": {
         "anchor": "x3",
         "domain": [
          0,
          1
         ]
        }
       }
      }
     },
     "metadata": {},
     "output_type": "display_data"
    }
   ],
   "source": [
    "boxplots(train_df, innovation, 'Innovation and Technology metrics')"
   ]
  },
  {
   "cell_type": "code",
   "execution_count": 42,
   "id": "a0f15dff-4ab3-47b3-b9e7-b9519157a403",
   "metadata": {
    "executionCancelledAt": null,
    "executionTime": null,
    "lastExecutedAt": null,
    "lastExecutedByKernel": null,
    "lastScheduledRunId": null,
    "lastSuccessfullyExecutedCode": null,
    "outputsMetadata": {
     "0": {
      "height": 467,
      "type": "plotly"
     }
    }
   },
   "outputs": [
    {
     "data": {
      "application/vnd.plotly.v1+json": {
       "config": {
        "plotlyServerURL": "https://plot.ly"
       },
       "data": [
        {
         "boxpoints": "outliers",
         "name": "Regulatory Quality",
         "type": "box",
         "xaxis": "x",
         "y": {
          "bdata": "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",
          "dtype": "f8"
         },
         "yaxis": "y"
        },
        {
         "boxpoints": "outliers",
         "name": "Political Stability",
         "type": "box",
         "xaxis": "x2",
         "y": {
          "bdata": "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",
          "dtype": "f8"
         },
         "yaxis": "y2"
        },
        {
         "boxpoints": "outliers",
         "name": "Control of Corruption",
         "type": "box",
         "xaxis": "x3",
         "y": {
          "bdata": "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",
          "dtype": "f8"
         },
         "yaxis": "y3"
        },
        {
         "boxpoints": "outliers",
         "name": "Ease of Doing Business",
         "type": "box",
         "xaxis": "x4",
         "y": {
          "bdata": "sJzbiTTkIECUhhqFJJMuQH/mpN5wSkVAcdOtGW42S0ALdWBS31BYQF2Jox/LvTxA0mbmE8NBRkAbYXIfECdDQDOkDht681FAn6rnSb7QU0DnF4gS6xFGQEF0lMX1QTJAPFLYoIqnSkBoWM7WqKVTQNzWMnBKaTVAPlvm+JFGTUD5xDklaY04QGxFWccKgQBAdC2UK8B1SEAl3mw5+D5XQLA+FTJnOuk/lRjb1twaR0BTgx+LI645QKu77LYPhlNA00N+R54AMkBAwcWKGhhNQO14ekKCXUFAENdBkImJUUCA33XsFhNTQOwayty+wSZAYdKMA3fYVEB31/qe6MxNQFfs8lcPwg9AscsqS/iYO0AdCtlYDUtIQLZ688AsTVNAJ8e2b2LtN0Cf/IKCt6JVQPmfPvqN50VAc+ouopucTUBFQK6ieVgiQM7ipLSnLUNAeAD2l/6nJ0C9WJTpAsVWQE/7EBiQMkRAMFNqYRxzV0Anl++uLV1QQH4BGH+kslhAXpoJI8mSSEDVzcXftk9SQNqRqB9tzVJAntWfUBFaRkAU4wS/sE1RQPEe+2HSukpAGagxxqwdTkA/vI/fQw1EQJOyoIvhd0ZAqsj1tsY/U0AYLy8jqV1UQBlAlSZnOUJAUKPzjhHXNUDE2vR0aW8iQB7O9PnFBC1AqK46ehWSVUBoy5gGLhtVQF6i9jJ8jlJAJJw3ytHOLUDtYdRaPVJJQJkJ+JwtrlBA8GUFM+QgQEC+XLSVUZ5HQB3GSQYl90JApnud1JeuSkBhb/8dkzc7QAhkhvhN7kZA/lY+DRCLLUC8i1KF8N9BQElDAYFJG1dA1nfZCvVoNkALUwii9rIuQN55fw9gZlRATiLKMFGgUUBASNyEt8FQQIrbGnH+KR5AoAx+sMYzMUAVwBi6JyVFQBUfn5AdvENAskg0/ekpTUAzEiVKkApTQLvG2wgTdE1A7Mn/yb901j+XIcgg+9c/QASY4ylsfx1AZqNzfkpNUUCSXnHEHFVCQJFGBU424ExA+FHnM5sDG0C0RYjhWY9NQLru1sf9EUVAY00bxH1PVEBZrztAZLtYQCNriWxS4FVAlY5OaiN3IkB6TdVewIwqQHD8WNqMqlVAOn5/tTCBU0AyodULNqJSQF1Hh01FP1RAdttsSVoBV0DvN9pxwzNHQDd7813CMVRAhDp6NoovO0BXRx5U74gzQNm/wrQ1fVFAv4vLynJrT0AR26NY6gRBQAJbTtdNjkpA+Ue+mjHeBEBbrS6qpohLQMBm0glVmVdAMKUmqH7lOUAPj8w8nLdMQLir/NdeSDNAhJ1BxzedKkBTM6gc6cdMQOHcNr789lhANGsURgHqMUBBJZXGOzhXQKryPSMRTVNA4IKudZBwLkDawS3EjzVCQAbJjs9cujBAtZ8WcJA1NkBLYpKPsrUjQNn14vYRUU5AgycaRCpGUkCSUvlsV8VBQA4e6ppwXwVAhr8u3FyBUkD9sCd/zJ74P5QqSRqeXkBAlCAS9JKIVEDVSc9XvQVXQLQLYzFrjlFAyurAs+ki8z/ulmvvHDU2QJd+eEyTAlNAwNJKv0eVUUCxNRld9444QLN+0Aai9kRA5XhHvvnQQ0CaboON92sWQDto1E5d8xFAPJv65TjRNUDLFTmfleJIQO74+M7C2VNABBJjhZpi/j8YQSEKf6E+QBBv0HBgcAFAbX9wfyMS5j+yTq6MurgkQNgDGFyUoytAIP2CH830REB8DcQWK59FQI4DjohSQ0BAdtbZVtScP0BuwXdmogZBQO2ch4/f50RA1dgUfh9dUUBKiyOkqA1LQHnjB1vqO1VA1a/4dmDzR0AYtG9y6BxIQHq8NVXcZVFAUtx5qth70T8e6PxvgKs9QNW6os67jyBALkD0B/eKTUCqf86sfr5YQAUfvcAwEy1A3/yGiUaRVEDFYif+IP1CQGtaMXW6FCRAX5O5IgZ4VUA0541RJsdJQE6gorLk7BBAZlEz/0ORLkA2zl9O9AzoP/94QF4bpklAq6LL3V9qVkA8Brf3oWU2QA6QP4OTCFFAdt7GZsdBTUDJn7mYsARUQGGlzH7chERAgqDM1F7LKUD2GzdG/IgwQAP73uQ4CFZATqgugPMR+z9kCRTJ45xCQP4xxupDYFBAQ1OXCOtaUECXp9ZvpKhWQLiZRJxSHEhAe1DHmPhpGkAA1xxeHIo9QKZE0KC6NztAk1Y6J4+xWEBf2WA83pFHQPS2wokigkBAc/hi9zZbRUA42lC1hodGQLPZqofc1kxA57WnHsjUQkA/U45Nm+9XQKuSbYVVF0ZAO+l1ciN7UUCfCF4E+BBPQHYJHEPf0ztAW0k/oognCUA+RYrYEq9QQAXfdplIyUJAos/LURWXK0AkyzCLnEpYQOkcJrVpVFJAGbjySHJnWEDqd5UPG9IUQJOcfhZs9UxAKRu9t/U2RkCL0znUKXAsQL/7wU+ztylALpI0h31UUkDiqMOnjHtUQO2t2a724hxAEUpneQFgUkB8d148GWQQQGXe7Aej11ZAJ6oSwChhVUAvUFJgATA4QCTViOcOnk9Ay23zrexwVECxOjclo3hXQHjoP5R9/E9AJ96/geIYKkB8v5cGPUI5QHRkZUJCNUpAI7PEFPY4L0BY5YQBMlQzQLkViL+ikExAjj7mAwJDTkDlFe2F9UtWQICupoDufFRAWDFkjkg6Q0B92mPlbso6QO7NkKZRpDRAJrYOUJK8Q0CkLGybHAYxQCox+MmLqDxAUt8JKJoxPECrcx6rGkAPQHt2jjtEXFdAEwFWYKuOT0CLWWkxfF5XQEvqX+2DgkhAlAXANur2T0CGWHnZ4TRGQAWk/Q+w4T1AFyQBk6koU0DtQe8q92U2QKvoUekOFkJAGU5f8OVRVkAGDrmjLlRJQBBndsS+dTZAGIZdTmjCT0B2HP03SGI2QL5vGcNe30dAFQCA7zhSWEDdMq+V+oxQQNJRzKMt5xVAYeBUIs9lPUDm1KWxgwtTQNAjDCSkRQFALOhRCx6iTkCujfrpFPsiQDBIPNFccidAgND+MNd1UkBBtJjQi65AQMO0FDW96ERAgUI9fYTWUUDQGzixUeJOQHWsMWx9CFJAYgm18IbMS0DD8XwG1A0sQHq7kNRjrExAuOaO/pfJTUCZbxK9a+IxQMOaDL/Ch1BAu9lKIkWNR0CfAdRYq8JUQGPLuMoPx0lAJey6O9sOQ0AX7Cu0WANWQN1CeDA5009AI5fF5fQYP0AYgQx4NI1XQB+RtPD8OwpAhXXKQPGaPkD3udIZtRVXQL9gTn/TjUtAF/nt0uMNU0Dr44DhxeNQQG1A33HlgklAJO5HsMd8PUCEq2678RBXQDgo1E2l5+g/vUol2XZkUUBXwdreD/tUQIUNDZPCqztAJbJWh7iwFEAlwmxEYp1RQH0sEk3/SE1A5gCWnOBdGkDr5XeazPw9QLTOD/tpEFRAfWcorFxmPUBH8FT66Ig4QIj1BJFe009AUJ1dpPh9NUAg/xauWBFUQF+TmBSd0FZAEPDeMFWKPECMZV1QneAkQERs0X57a09AlZA4+WeiUEBkWAc4a0JAQJA2hudCRjxAiiPuNS0fNUAkRvA73WVUQIS3rGetyxpA1cqEX+qlPECidI6mn+NNQBn45r2s5FFAZQZDgEDBUECrR5ajMiFCQO9uyLOJTzpAlnyafio3S0DQG88ypQ0bQEyrfCoCukpA8frl9j8tR0CwMiJqBcFSQCiCk8iZYjZAuHEwQEexUkDE3vbK3RdXQDCsTSnQcUVAybniHNQXUkATFwaAuMgFQAnqrNU/45k/a4UjJ5fxREBzilwJk5VGQKJnDqQm6VFAeyYDWbIPTkC6Xjnn35VCQKPQy4vAnkhA+mbWG4ILL0AdHdtbX0k0QLXkbXxY/U9AcXyjDIsmWEDwshXqX3JUQEYPlan2KSRAkcRgOLYeVECCAmusrytRQCi5gQpgTVhABFtfA6byJ0AyyhIhnrM6QMAZ42DCEDFASgFxcMwdQEDSAN4CSfxSQID4013s4VdA8lvX3E/oWEDA6siRznkxQD+Zq3EX3BFAO8uH+yNiMUCPibV0XCREQDgwmEN72UFA3n/YkIejTUAy6Ga+gZAqQOHOKtjrgjFAM4Vzsvm0R0AxLLlp9yxRQBbOA5LPBVBAY8iYWOyGQEC9P7UsJQs0QLu9vc56SU5Ad5uaeIUAUkC4BWyDaq5VQP7Ncnb+mVhAveM1KzI3S0D1KyFI8+tVQFAZiTW3YCpA+T1eBmuHJUDA+mgGKzM4QFKEgO5emSJAoq1zoSwBJUC5isVvypBWQOMa4eVQH0NAjXrKYkkTOECCXcllji5WQKdcXSWKqlJAoPa+ZYwXTEBwWSoUjtBIQEPBEGJ8JkVAhq2XrvkbS0BIWgHw1XZWQGwVUOrDVVFAANiIefk1VEBBUNFVB+NPQDfq+JornElAI6QaHChgSUAdvUzadTskQIKtMzr3G1FAZvgNG36sKEBNcpcvdflJQHQOOYBc1kxAz0CXNv0IUkC2HcfNeAtAQHh6xjosZDpAwUKcPYZ1MkCuHRiCFPUZQM3PIayGNUJAeltEbwyZVEAwwzUtZ5Q9QD9p0dC5l1JARZS8W1VFTkAxFd9HVNBYQKR4z2DXmkFA/G6ZVx6tTkA6dJvstrpRQJN/+3SbAkFALfyNNECZSUDqnURj8atNQMug++6tz1VAhTTXJ4j4MECtaBjj6PRJQE/PmqN3ilNAYIXn534qO0CpbL43W7VYQGz5s+V9mDBAOrQlaMH+IEB4UD9efj9WQIq2nZU41EVAVJpBOkT6OkDFlwXq/0I9QMn6F1KPBThAE+H0aMkvUkAsF7Xx44ACQKj5NyPbnQdA61AflHrxSUD4V8mm4IQ7QD6OjiGKSFFA/e7Ce/NQVkBl051puhBIQIu2lSTw7zFA3UbBWzkkV0CqnxYHQCBVQBLsCVyoyFRAtqiJHREoKEAJ00GonOUzQAD5NcA2870/3YpQrqG1UEAii5cbSg9IQH1Uy+8X5EBANN1nbFpcUkC2ONfuJrUqQAQdQ7DBZ0hA9YKyna01TUB34QQvxXofQEBp6m1a91NABo05ARyDPkBEvAS/we8wQPXPQ9X+zglAnspQsqixUkB7NkgUHCBOQLnlXdRySFBA8wXK+aRFS0C2DWl1LlRYQNdVuwWWKDZAM4tQbAUhFEBiNdBbgLhXQIBW0DyDd8c/DCY41HM+TUDOI3e/J8BTQPhuWwFVu1dAG4eslQq7UUDHe1kDqQpNQNzCTgzkM1FAjfTcIUlsTUDr2DFDHWE6QJgxaJUXtVNApaXcwjkJIEC/zD1FiqhTQLDkjUB6mjpAH/fTnSwXEUB9omTS3AEWQAOYEWJXAipAqjGBgJtKV0DMxN5nj9ZVQHBwVDR3lEhAApA8LOXSNUAHpkYmyplAQGJ+dtmSq0JAogJxaNs9TUBae06GHnBSQKmHBUqMv1hAx2MGKqPvUUA+C5dBYCr3P85ZlwGEG0dAOpfNq1WlT0A4TmT0kpRKQDoT5LGw6jVAbaicHxRqMEAbdmvbqPNRQHQO+cK/tFBAa2zIol3SQ0D7KjOE54swQNz+l5ZRxyJAepySQaiPTUAj5LSOh/tVQNDg0Ar1TBdAb0iC9L3YQEBX0R+a+SxMQPkbSHJUEjBALD3kd+RHPEAe1E17bS1TQKQ/TZDFtFNAvph/PTYPQkDaI71IARgxQFrGcVMiBFRAsp3vp4bkVEBptPOGsWtIQGixVuUpSDBAmlpbHSVJUUDz3lCs3h8MQJzIhUYv/q0/QsWjGhczMUBVvutcZvxWQHZb2ImBKDdAjPB6WahZTUB7rM+LyUlKQNPVJfy1UjdA5+HCiQG/VUAWDgidZQlQQB8LuITPlkJA1gBjhbRJWECXF+RXwahKQPcnbYFvTkxAlGOZG19UMEAIIPelZSpGQI8lIOTEbEpAq9U+hlAMV0ALtX6F019HQPEqjKnLLkdAnJ5exqBhUEDd0igsSl1YQEoQKkieUlhAonqtfH17P0CPBirCEWpTQCX8OaLOuD9AylZVNzBOU0DeD5CW1ENXQLZ442oFTkFA9OU/g9FmO0AdzMZJFV1CQGQ69J/w2jxAv2C7pP89N0CqMK6fG7FRQLNcFJG/eVFARuGChfZPR0ACKkKIZ+1CQLIJOJ1H90VAlgRNwVgWMUBvqkHa99k4QFGhurn4QDNAWz7Th86QUEC66WmcWsEBQHzj93iZIlZArfoaUfNpV0D8A4KMwidJQGBY/nyb7VJAlsM4yWC5U0BNTYI3pEw5QJjWjRSdfU5Ale86l7nhRUCSroO39CIwQH8LHQF9YUJACQGW6G4OT0B1HhX/N/lYQMXULmhZRTVA4fM+Vzd0REBp8RjUrTJUQDaNswoXrytA4vvqw921KkAa1+hqJctWQIN2f6O6s01AyT3KeeBiC0BiJMURtdJEQFXsNyxw6j5Ak6ZB0byyR0BdEFfvLBVVQLycp1gwXFNAmDrAevmYVEAtswjFVis+QC+Pb85MXlVAzjTEJYVvLkB3qAHeXbhUQFLYA7UxTjNAGABP/76cWEDOOT0vVopRQIZxu8D6rUtAjN7CHRxnV0DP6JoLFKxRQNy93CfHf1ZAeoUNaEyYU0CsW3fSxh5RQLyMpzJK1StAYT3F3HshOUCMEGVCqEAgQLlisRM/p1FAJY7ASP1YMkBERp0/wRcTQHCQcw/H3VBAc4COJ/nJNEAz2g1PbcVCQABFXVJSiSdAN8jtnS215D/I9eeJhMotQMS/W2Ldm09AYCU4WOxiU0AuljuWq1lUQFB14WoRsFBAngLkdCeCWEDXHZyq7O9KQAvd/PEkEzlA4IM50cmhMEBc4Nm7EqVNQMqOCQhYRldAgkjhuirUHkDSWFb1zX5RQM2H0qQ1klFAe/eFXwOoM0CaaCXno+NPQB+Xgn/b6kZAm9Y7FrrHN0AbvK/KhdFWQAeivMlOCUBAawoqy4y4JECQI+cOLGxKQDJlWAy+qSpA3lb1xSUGVUCPUH91RZAyQFq88DSt9xxASEjN7G23VEDzzvzFx7s6QHCT9qulpiFAnvu889VeOUBzk2KR8GNXQGWuiHGpVFBA3JE9hOkWP0DyFDcs6UtWQJWXwqT0MEFA0H6kiAyGN0B/mkEZNp0xQNSBdK0WzldAok3lH8NRVEDzKMITKHhJQHLlBTvy01NA0XIfF461N0BGuyPGXz9EQOGFo3ShQ1ZAuFgwdYAGOEBpGdLzgYZXQBKIldk5hzlAVh84/KhdREChLL6ZfyQzQO95enyt305AunmRC9GsVEC46jpU0ytIQCEiFN/5TUlAOv6wSs7+UEDHbEVypE1TQN4b7cFQh0pAU3katAAnS0BWMxgeAc9RQMfrqAdYvxJAUtBxXrHFQ0CIaHQH8dZUQJabwUKaZFRAVoWCKbW7SUCuYvGbwqIXQMzepRYC9FRAd7iARBFZWEDFGJ76TuJBQJCJfQTHfiNADGcr7dzWUUDq23/tK6wTQFp8TJzD8TVAazH0X1LAU0A29AXjFmxCQNr4+vfs8k9Atj3NC6g5PUA0tlu7wjNSQOU5KlAuolBAHSwQ+wxaS0D/OQiXA2BXQM84R/wORE5AqI0skXJySkBiq1mDQJFQQMUiRAF0qkpAEQyU0ruLSECCSTt/JII3QA1QXIbm5ktAihj6ULfaRUDoiFuJ6Z9QQGdpKWZJxJ4/oWez6jODVUBEpTtE3PBKQHk9+z6anlVAI0NUAl52S0BC13TzwwVDQL56BTeMAy1Al932sUC0PECRrMtCnuM9QB2s/3OYgkhAISw6xAWLMEDhpEDRAt1OQGUSmskc+1dAM8W52WERNUDZP+povPtGQInt7gE6SkxA6Q2UZ+C6V0B8/NY19380QIZC25xQqFNAXOgur3pVIUDQ0n50vQfgPzuIIWLYBlZAZSpaP1F3+D9VsxiG2UgxQNS+0lzbX1FAoHl3rJoOTkBVMEfpWAIcQC55NVYfvyBA82DmlrG2O0CsIW6HbfhVQOf17UUwtSVA16d3TLhRQ0D7gu2SfpNXQBdKgWBpf1NANZAVmQzhPkAqD6fnOMxDQDzhwg06ljVAVnE2Xx2OT0DYX/qHwqpMQDajRvEEkFJAl0glGZILBUCQcSB/BG5SQDLkO6XB10NAoHqK5wPfUEDy1ad/vU9LQIXyChw2rCVA2Zn+gBlA7j/DSSjqvfIAQOuysXUdWiVAxmjjqUOZQEDzG0cojRhQQApYQNvJrUFA6VXwHS0ETEBdXLq0p7tBQI2/gm6O7VVAXfZOeXKpWECRbMc3iLc5QAb3oPMcVlVAaQnHZibPO0Cxs3RHt2FUQHX1dL/U+E5AlOE2IjF3QUAV0vEDnWxMQHHm41oUIFdAx0GNa5F3TkB0C36Xac5QQPmAgoOkVk1Aq/KVPpqxQECQzNnxlZVTQEuqyH6ckBdAzkrjkn/sA0DOHsO+ePZJQBUl9lCP50RA6Gy/hCP0SkDzeCz4dzlLQIGFH97rlFhAzOxWQ6DaKkC/THugBG1IQNbHZO3G3y9ALmnWY2xoSkB/drgE/WtFQMi+2DlVj0ZAUn+ctBl5WEB2AjfeX9c9QM81J4rriSdAP+862dUJLEBBwZwL6Yk0QD3ofvPHOFVAQiJM1eY0R0B+UnEMlio7QKQVhJcFxENAQZlnoTQUV0DranbN+ZRFQF25pIvJSThAY64UG9aJUkDyLaljYJAJQFq9HqdDAvQ/W9De+RknVUB6qCE14xgQQMZ0fA8ytFhAchNae0SUPkA3xBWj8L9OQF4ow2XTlzFAy7Iv8hUYMUD+oj6oD+0mQCb1r/YBElNAMDcotWoLQEBwr1CUWdpVQFi1nDLUQUZAdMX3i3rSSECj9tDs35NTQCX4EYW3ij5ANKHBPI1TM0AmNO5yNvJKQBu1qVfdl1FA3xnpHO6TQ0BXutRrpxpTQDWbx2GwxVRA6vKBusBnVkDO+Uqc7GlCQBp8DuoqcEBAkkSrarQ6M0AHlG7Hq7MxQPl5viwOPVdAjL9p0e3GRUAxN+f5tllPQMXoVltz+UNACBawsnCxTkDHuwJVzHU2QFc8mo8Q4FRAcoW51VqvMUDa3xs7jyxBQFCam6nvrhhANpGZC1w7RUDkr/tUNj8xQPDrNJA2EzVAovlzPCywNkDJtiqOpY0FQBamjAtJXz9AzPL8PtQ0NkBT08t73nA3QJLDDgCoZlVApCFfGQaFT0AMhQjnRvMoQAZwzBUSqFFAaByqD+OMVECb0iIk0K39P4NfdpG6YFZA7slHexGyUECnaaN8uRZRQPDfehyfqlBAOBiHhgdoSUDNxSET1389QE6RbEN/4lJAFP1b9xOgJUD9SNdtzLZQQFBwTnjLgVBA43wbHfBMIEAH3GdT/U9EQN9IyUBYilBAQTE239YwSkDMBXCrB51NQLplv6Lm3QRA5j737f0DUEBZMHo5rysDQCEWahCgVkhAsS9dsVSpQ0DRGBg/ru0nQKO/Al6H+UFAuZZ/4+G4WEBWSxm82IcwQIiVYiuOMfo/TlXrDnNOMkBVu4nO8FoLQNHPccFblz5AWZGHdK7nR0DVeZvRa4gJQMHQG9WGhg5AlrTBDSFYMUD2A8NeTcdIQIgfzoneEldAl0L3F4fjRUCKO//yoEssQNmJAuUFUBpA+MrV8vfTQEAg3D9eJYBFQPizVdJVLR9A0AvaWEc1MUBDeA8rN0hAQO8fC9EhhThAA92oX7NLREBlEtcs9fAQQHAD44UZ51JA5p6ss/9+VkCG66zsnotPQNRMlBDu605ApB79ihBzWEAucrKBMgZMQG6WUY+0MUdA5mNvEMpnVUA6ZSQxdxRXQGCNNyKt5DBAUWydadYUH0DjfD2hz4pRQAFTbMgAbVdA/pI7CfjKOEAZerx38QdUQIDyok5US0VA04YF7xJXQkBcAfeWsDhPQNrVFmTsjk9ADvKbPpKXRkCFBM5KQTBJQGLJyYKRJTlARDFY9eKnRECJxywYKKFSQIOluoDXDFhAcCcR4V8rS0ATuNhhyiRWQMMTtKhTdFRA7ek0HOAeV0BsY2hMcy5UQD4Ehz4U6EFA85VZ54xqVUD+QYdtyVRFQLORRypH2lVAjtUgq19wUkC5I3OXSq5YQHuhPtGOLUtABJWv02F4RUCOv2FgJSw3QJoC/McAqkpAr+fOwIaLJkDROQ+MWzv3P7bi8optDTtAtr7lPRAtV0A0ZYYR65g9QBdYdKnZ4lZAfROWulxpQEBuNrEbUftXQPo15UwL/DBADVphXYkFQEC9JKULd640QM8vKcL2TkxAOFMZrQABVEDrEGpMKb1RQJUNabQ2T1ZApYQ/R9TdNUCTVRFu8t1WQIKlX8fkWFBA8XxI8C1zVUCbp50OIkckQMo6NfpFDVdAO5p2c+mgT0BhLIpZWhohQDAj5bw5+SxAKkcSzrgFMUCnnGmhaMZJQEAO7962Y1ZA/4VQa7vzR0C6pN4m9YFWQJxuVelZNTdArL6Af8bWSkCEyktABAxTQId8cd+wikxAzAwbZf3PMkBDCnXDfC89QJU7v2pdJyxAETDmdPrkOUBKWMCp9JVTQDX0yzeN7kBAv/lgFe00UEAjpXYSUxY0QD3tlR5y/FdAq+gw2yUUJ0DRgkhtvw5VQKlR5QdwjkNAt0WcD/6FVUBtPeANK1NRQKkfaaqGVFdATxmiOybB2D84MFYnqT5WQEGJCUlqQ0ZAYk+WtegYUkD1+WLOd5JRQOjj8+3RoVJAmrvxSYINR0Ba8+MvbZRUQDO+s2b5N0FAj7MUGw80M0ATSbIWuDo2QALhGgrlmVZAuUGCHHMqO0B8KxIT1MNCQEH3H3iAKVRAOJ0qAALwWECqiLLmwj1VQHFJHwQu/QNAeKGQz/H4O0Cpa4pT7w0pQKsQqGGsqVNAHM9nQP2KV0Bj/gyaVtXzP0Bph0Pfo01AoSSPbTrqO0CcCiOD/TZWQPrRrS31oSBAnxKE6UMpU0Apr/j6WPRUQETbhv8cR1NAnYISVkj7S0Bear4pcKBRQIyXFF0dWFVAJ50vk3R1WEB4eBGet+kjQNzMEcc0blFAP9AjqXn7RkCK/ekvCeRFQK3dgBMtJApAyx8WHQEvU0BCJa5jXCozQLX7NHIGiUhAtOKsQMagQUDysPWxJ/JNQN1pLUQ4RFhAJsF+/GPtNEB4XPnRlYxVQKqs4HZV2FVA1MuPUxQGRUDkC/+ODUdXQH9U/SmZEFJAZQy9D5FPU0DsDaWT+OJOQAAHBnNoHTdAGlxr1rZBS0AySfruNXhGQMTGo/GXazpAJQDm94kLNEAA79OnCytUQIxdzYTfu0pAA8cKI2LnQ0DxG6glUWpYQPz3pgoCWVJAMue20NcKFED6zx5YoylRQOMKWg5VQVRA3g2aRBq0V0D/octhGFotQNJUcPQIaCtAM5ozS8STK0D2yw6O5RA+QML/M7o701dAOhi5wAjcVECZpEtiva1EQMchTYIYZFNAXc2EnN3xOEAuwpgdN+FUQO4CkPbIbFRArq4SRSv4UEDer1PDtrsXQPD7WD035T1AElrm3/QlOEBPnVaIepVYQCYs2OMReUNAw4QsZp99U0BcriTtAfFGQMFKLpSG6kZArxZtyB6NK0AReLu5k7tVQDCq1e9zOPw/ynlSaFG9OUBF4pKhMhAwQErIctgeeEpAmmUXMnnjFkCUWyjTx1RCQB4oQ5doLVVAEIDwUKTkMkAu5Z2/4HY9QPNrGeDqJxdACDBV/u+2TkAZjmtsRMY7QKDdxguOAERAypjMwmiaSkDMg8uVB9tJQJrzqtMjwwFAvepxtMzgRkAxM7/cHwk9QPy6PjnrcVBAOSRal39iUEAV4yX7ALQ5QAiT4uMTB0pA0kGP/58TVkDXJA2oFg9GQFNrDs4vLE9AKtwL4hx1V0BPOYm1NilXQH1Hx7R6LVRArxznVy8LVUDhhJ29jnlLQIi0MoZecUNAnawHgrabM0CaWWwPUgM4QLFE80Iy6zJAZWgCZjq6UUCidDPtrIZVQKmQAnb7/DRAx+vJFUGLNkBijWlc7mczQHf4xmv5VldAnzOz4I/DN0Ay8gVvwI1RQMhv+kiECUhAF6Rico/GTUDyWBqVJ/szQFdNxueE5EFAqiBQRxEcQEDVGApeSMUFQHihNRb/DFJAKVtmCZknRkBoYz6D+pYqQP9zPXa8yVZA54DRo7EXS0Dq7GRwFAFTQBMR3Tdn3VZAyZniXWJ3P0BnzDJenxJTQDtrXKR1c0VAvwFW3HIwUEDfealOM+FXQCMoROGvMlBAHhKlWpeORUCyL3ZO9ZlLQMYo+DuO/VZAeEBdzU+wUEDnplFxsYJAQLsjShhZXi5AYKJqic98WECu1kevH30AQMDkfkQSBSBASF/W/q3TPEBo23qXnKg5QEhcP37oYyBA6u8huPwmTEBzVnFxTwFVQEiBDaGtDyhAgjZ7mKSwT0ALn+cuDc5GQHvEImUP40pAlHCdVrx9TkD3aWhFTGVUQITkrm9xHzVA4eSLsaTaG0B37dr3C1dSQKXDAfzsHE1AAoqqwhPfN0ASwYBhShZHQOpMkMfC4lJASykBlDPMVUCJPuW5OlRKQNaoC6EY5SdAlAF8xKOXEECd0JCWbwI1QDlMjwE0ZjpA9wKSNCjWUkAefd0z3BJSQPVi7nsQ/VVAsDONP3Q5UkCyXrEr0rU/QEMcdo/XtEVAslSsVK+FWECscy3WRy1JQGV3JMWbJ0VAEcrBfHIZT0DqmiTxTUk8QEgJbmJQQTVAAjpLJwaEKUA6il5SrKVBQJxnsqAspkxA2OELOvHSIUA3FUn2wV5JQL+PtGVKrFJAFXWD9NYCSkAaN9tJ2hsqQGmg4P+aJEFAhn3Q7cSsUkDm69iwoyQ5QGrhy6c730tAJUh8WaBJWEBuzFQLdxNQQNamVgQkwU9AgY3SQtUcUkDANcGB2v0nQFSqWhIOWjBAPo2DZGQHT0BMti7zJTkyQEd9SK4R81dAyTmxhza0VkCvswDxI/NQQKyNFD6ZclVAL9MfL97LQUAghcLSBu5WQG3G7cAODlZAhOQRmuw1VkCRh/hmH3dAQDnZYaez81hA4GbxYmHuMkBhQybPqyZGQH0ZlIJR4EZAn0Wgu/tJO0B5aO3wdjNXQFDIrc0vtFdA4IQh9rLgVkDLMv5cOOZOQGeRs9E1G0xAFZXk6/h4NUArDgzFwoZGQPZKMAcH/1RAIegG/B5pUECqmv/bldZRQAk91QApcENADP9MMcVrMkBCbA4jre1SQJ2xN0rBcU1A6c2PXIqNP0C9uWwysqdDQNQ9v+NsWh9AlG/PVlLGQ0BW+ornzN0VQJVyjJ66fFBAE8MnAHPeTEA8ek8nUVZVQHBKcTw8Az9A/MJMV8d4U0BIIur08ixLQGC1CWJmRT5AwtUYrOyRI0BGfVqRDQIjQBrVKWHa6kVA1jwm1tJyTUBPq65kQw45QMOTBkwawTtAnJR6/eYASEC0DVDYzf9DQEstR4RIrjZAy00vjE+5MkAGEpAGIk47QPyZMFAIy/A/HARfybwSQkApMzGfJKZDQPA0wA7YtiZA4PpuwlbSS0A2mlQbuX9IQO+qavZ+lE9A+xMJZH5tO0BS0aBudARRQJeNrBJuci9AlDhEP4cdUECXqhG5WsNQQN80HJQIGxhAE4XQIIkzWEBUzUl7xW8mQANz21sdzU1AFo1wfG/jTUC0dXJdN8xGQFSWfEfoc01Av5iQg5BSUkDRyGtOM0RUQEqPz/njYlVAIeC18GGuR0CQCULDLAtNQNYkkeA6SE9AuwCHkkGFU0C8aDzPp/xAQHvgnVtsK1VAcfphIcYVQUBZ9DVoO/AoQGKmaSe1okxA9kONvlnpBUBTNrQatT5VQM7tkCjVUz9Ay1NOYi0CSEBetgDhwYVTQCTomPNAzz9AvnvTNvZxTkCKpCd2fgM/QM9jOa7rk0BAdL6O7hZrVkDEmZS/0ZAiQBy1eCoxRypAOxYdwfQPSEAS1WN0o/I8QDR1GRpGGz1ALmdC1eDAJED8KeFLmfpTQH9wmS4fCiRAeYuPaGWRSEBdJIKrG8QjQJStjhkxcBVAqBJt4PEaUEADBDlJLx9VQAeO0ylypVdAyf8mDLETK0COPuYDwmxVQOyFI8RsplNAyjT9hkc+L0DHpeT7jNBXQGZlHJ9gIFhAvM/Qw3mARkAdG+et+eM5QKDo9JsNxjxABHPT6pR4VEAlFM+X5k9CQKw5HyJe01VArQirb2iz9j95RrZO9xFSQBdCleGveSNAG7Q+gu7NVEB5gB+8E7Q+QNkuhtVMHFVAT9L0wGSSREDYsdfcjQdSQG6o99jGFFZAa4UCGa7vTEByrPH+DXBDQJy4h0pE6zNABNOCeqf7OUA+JlKaTcBMQOdhFS1IKj5AnRD5OiF6WEDvlaECi4dCQFikkehIREVAeCDbx0TxSkCDgvf6P3dXQFjCoG2xaj5A+NIlLSa0SEAyPLSXhrVVQOyZLXKy5y1AF4TgW9JnEkAkkccdgDYkQFT7juhUBUNA5CUHBYjYTEA8/LEgv6pXQNl7bQ1XcFJAQw0R5izeQ0DKoE/uuyYgQLaPaEQhqlVAnoNf0QqMWEDfDVC3/z9XQCCSCCo23lhAoCdoCtI5EUBOi4+Jcwg0QIOhcVUXZFVAqBzV4U+2TED2UuNr8ML0P3BWPjN9jTJAYKGk+q2DL0AlBTfO/cdAQJkNEbvf0kpAdLsTw0DHN0C9Q91JPOtDQINIK2NowkRAiVtoW4tiBEAwzd9KF1lJQKyyxgtvBVRAzFv5Vc5wSkDMYbUBscFXQNFX85Dn9UhAWFcFajFoMUDilcGkOoZQQBliq7r9nTNAmLwidKcCP0CSuVBpUXI6QEIqIEi5MVBAsHJrCEHCTEC17z6gAQJVQJnOd4X4ZUdAFx3y80wvN0DqIqbAWShEQMAinnCf9kJA81XGz/f1RECLuTFe7y1VQEzTuNihKlRA2FRIv55UNUColkJawkZOQLS2Ia3O2zhAmmInH69VUkA6mGYdAl47QPM5+/OCJ1hACxl+JjHIUkAyQaq0B7QuQOdY9/Iv5U9ALPFsEQMTDEAikfCcsRJOQILauXrfUVBATQUFcy4+KUAup0bg9r1BQBBzzQ0baUpAaYzlPNVtT0AtNZxGYDVWQIk0O5yK3klAsbMmXhYCUkB0eRj/4wE9QAjcFTBvmzxA2BIs7VgSNEBEhwKuEvhYQJOJfBOaNk5Awiyb1nlhREBUNUHUfRlTQCteVYvC+FZALrVkxLEjU0DYHFLSpCNSQKMEmWKbFUhAV6R4S2hNUUDJ1mW+pPkUQJshNAYG+FdA6Pr8/1HWNECIm9cBpfA4QCKFpwP6R0xAI6iY6RLBUUDoCGwQ3ppFQJgOY/NtnENA4jUzI1HiMUBQ5rxS2LZCQHVSZwe/CU1ABtIHw2emLEA21N6W/iVGQLlF7FXcxUJABaHdnYw4LECGlzuO+mlVQKtGyKOIDlFAEybyHa+oUECddPCGU4NVQJLR/mQHeEBANNrLMhu9QUCJEUMko1wMQCWdNwR9mB1AUn0IJg7vR0AEOWp9+I1LQMUwIUVUTUZAPTiODn6lRUD12HXz/WJGQBPy3qQrBkdAiTDjRd0J/z/b6TT2GA8RQMrS2nbSGFJA2BpHNbe1HUC0DCcfcc4mQCbn8/sPQ1dASqqd/j/3WEBjWmovOZZKQG5b6fXPZUdAHBlSzWzVMkAtfH2ty/xNQKH9QKDQc0FAdyFnq1zUSUBIDuBGrc5XQIbeyUSda1FADuPJyZ8jRUCfXdeSAhM9QLIPsiwYQFRAGV1a5AneVUBkZP0PT4I3QKaHV0ivtTVASkDKXdkrFEA5K9xPqyk1QHwDvJr23E5ALX4RPFdfSUBNqlbykp9LQKiMPYOfHTZACWHBPx1bU0DHl3lAEwoVQJRAtYfeTjZADnYW/28bIUCLQA6twpFOQJCiugW6nlFA0ajpSOjJR0C1ATM6e9NUQI27nG1JtlVAUfsIVxs5UEChr5gTiwBTQEB1Qbc211JAH9NebVqVL0DdK+FzoQoZQB7iwUTzKhlA+9UUr08UTkDHPJ+/2BcwQOvEJ5WXVVNA40NgFwtcQEATy/MB/RpOQKjmUguYQFZAjQ/tQvfqN0DbwIDSDgs5QNCT/0d1SylAoA0KlF5SNkAL/kz3GeVSQMdA6OrYVVdAXZSorAbpUkC5wAbAT6Q8QO7YQm91cDpAYfJ27LbnG0DKvVoYE2FSQIk/ZJpITx5AGKpJjdz6QkAy/wmqHWY6QB4PxwTG1ElAEORm2Y8CTUA5B7bnhY9NQDwpvJkLlylAbU2hkPBDNUCcFt32FDU/QGxLkToJkUlAaFBdjhEeR0AcIcnNbAhJQC8LmlR8EFNArpsxUMLyRUC0Rs/X54NXQFeg7QNWoxhAHVEl813OKkCpJB2rte00QBnY/C6axEdAQW5U4a5AWEBUr9fLoaRFQA0cK4yIjDpA61Fn8vrrTUAn9J/ahXtTQPEOpVhyylZA/MdjgnE1WED/Ldh4duhJQH/o1ULBYy9AkXC1JS6XQUDbGQFwRwdLQIchi5cbIDhA1l5+hvsAUUAVpN/f3NRXQHe+G+LKkVFAMYh1zkJP+D+lATBcJd0xQPmWQc7exUVAVhEsFhh2WEAmNkpX4/IjQBq4TQLlJhlAzVRvqkGYK0BgGf1jfw0XQLdPXMgCpDJAOKNBZVeATkDr1ymYaQxRQKiGBRAhsE1Ar+4WUMHOKkBjuQCPg6pMQMtdUzmQy1dAhh2lltZHP0DNbes8ZNpFQHWFygGzyTdA4ztrlo/4WEDj6CsouvBNQG6TZAyJuVFABQFsH/YJRkDAuG1Czjw/QEwkhz6O1ktAdaEk6iYvV0Dhw7or2thVQLQ5zm1CyldA9P2SXBeUT0D7XdiarZA9QLouPv0OglZAYqsg0diiFECRxnK8cGwaQFHVqZeEjjlA7FoxEpAsTUCno2VhKxxJQIwZuG5QbFJARm/AACXSKEAs0pm7YwMaQBuN8LQE5TRApLTMXD8OTEAJOveql8NVQKcRhkNnuDZA9CGgqfRmU0BnqvW4jkpTQH4vbGosAUJA/dxtaiJyVkAGQ4CAc9AlQK+ftCZMu0RAPRMbpaup8T/0BS8li+YOQJwLrKMN60tAfkoAxL5DWEC5khWqODRFQCSqZL6LvidAeBvEnFo2WEDHCZd+V0ZYQI4ev7fphFBABWfXWmsBQkBgRT6W2/w5QCKA5VIm4UdAapl3YvdkUEBnjjimnzBFQC1zoY+FWzNAbAXRg1C8JkBsJjom5pszQFqPTp8VZjNArJKL268tEkC+ldsR4+dXQNV9fJseW01AegIfi8YnVEB2nfRbRzJIQJbUAffZ5C9A/wuh1na2TECKYo+Lc2FWQDNLpxoiFFJAYxDUABAVTkDTs2ohEpMdQMyaee4UFxdA2MIkQytHM0BK3Ft4ezpRQOI6xhVXjFZARuiI+F5UJkCbKM3c/zwSQNYOFLLS8jVA1SnJGQ7EREDwVDwFKx45QEgAs1JzmjVAiz1qAvt8O0DR7qB1trcqQMHnJOeGHEtAbXCmMtoaSUBgi0Bp5gFGQCsZC46WvkhAbAxTvhQ3UUAMmUQgCwgzQGZ69EzQMUxAYSeKyiVLUUD+POu/btFDQEji5enc3lVA6G4CzK+4FUAE9OscvbBNQBUiO8qcZElAe6tkthoZOEDVeOkmMeJSQMEkuDj6ZRFAdFyu+jO0SkCX5F9P5PJWQEfCDeQYlh1AcU6R6EoQU0BnSsphIFpYQHHORrYMyUVA0+xc/QHr7T8zUjZ/KEkYQD/8XyKcSFBAv8h4Um5DUEB6RQHsrXNWQA3yYZOI7jVA58fWaHbPFUB6l0FrtAdYQECKsAc660RAY6wdYo8BWEA6aCOVMYNJQI1D3CADN01A4s3Yn11yR0BY7fVJSS9QQL9tO6c4jkFA3QRjbSE7P0CxwFd067pHQC0kYHR5XStAMS3iIpS4LUCjf3oaDXhRQEzsI7UllSFA+cq+VgIWEUBAmZAgJvxAQERoym9NESRA9tcUbXHiVkBBdn5UOp0BQIKtEiwOlSVAxj1tv0JcO0CblUj9EEFUQHZd8FCxb0JAib+7z1CaU0C5mobyT6pMQKZB8kpp91JAMSQnE7dFREBQptHk4q1FQG04TRtlclNACmRHMfUuPEAD5xBhUQZSQK4Cdf2UCAdAGsw2okENQUCIibfioyz/P6kk1AKKo1RAZDq2ljDvUkArtyRvzwf4Pxd9aJOBHwRAauXzxFLuOEDKKtehu7k8QEWpCLAoM1RAEaqz3phLTUBUw8BrvqpSQEtI0UZSCgxAU8fw+Z35VEBhBTzK475VQBM+Y3jPxklAc0ekEsMnTUAHsiwFlRYLQHJUqE2geVVAKcQrYvu1UUDYyAH9NodAQNODxG6GGDRANggOR5IK7j8XAxS47zdYQD9iqk/opVJAwjvcn3LZSUBeiby869pAQJNC80OqPUVArLwuDQ05REAXTcLg9TlIQJOKxtrfBExAVCyGxCDaUUD0YL0XgP4yQMp9H8y1AlZAsJ5JUR1HMkCJRQw7DCdVQMxY2eMqvjdA7Kq89GEBRUAaGi72R91SQFN7EW1HS0JA8p5uOCKTHEBpTpR4bwlCQCaADxyfM0RAK5ZshmVwSED39TJAWBZBQDs4stR1gh1AIY4auKiSMECcoDRx/u1IQD3XfZKTS0xAvTzSHRrHCUAToAFQoKFSQD6Oiw/YfEBAwyt2wGVFREC+SZn13j08QO+Uq6tEvFBA8krMkgRbSEBs2jmL5nVFQIV5sEF2Y1RAtFvLZLgvQkAHVwb2FGw8QI2NaTvg3jBArZxJJgXoQEDK1VWiaM82QHmubuwUv0JAO7DzodHdMEBd2Do7kLIFQBTXKT1w2TBAqyWZrLwML0CnzXopI/MwQH3rgV7RmPY/Mi6Ho4yEVECl+SE+ycgPQPSfjvdFSglAlZj9BusxSECgHKJdR8dIQMFGxFqdHjlAH5wVcqFqQ0CO0GyqMAQ3QBRbo8w7glFABziMm30zQ0D22irA82RDQI1VlFwP/TxAy9DTSndZCkAkezqOvBk8QIbICvrilFBAtTvew6kjP0CCC8sCmv0+QIZRlHRiOk5AiO3VZNn8U0D9F+fzegc8QGkXFWnJEVhAEXJ71YzAQUD2TwUWn0FCQHm+8mLZB0lAGD7aq5Oz7j+M5MDlEBlQQKAVvfgHGFJA6bTRrRWLS0DiVuZSQd9SQHL+BQa54ldAPujPOodBGEBbbptv5SJSQF9dNrauyUxAE852ntuoJkDge2bmFZ9RQCii2yIbHkpADXxR6Ci9K0CqL+gQejRDQPLEnDXyM1JAU+Ugja/qOUDj7ReBlbFXQOqE+daNoVhAvoGpF8GtVUDMoaBv5j5HQCecM0doWEBAnpfb1Hg3G0CrX8huD7ZLQIz0Jq/jUElAmrA/gV5IMECqeju6+MhIQJUB89JFek9AB3GrQRSLPkCBwBQv4MBGQE4EFmVbakZAhEBX8NXWVEBAjrRWYddAQDBtcteWQ0pAFimivspHUECSw+3xvkk6QKlUWJjc6FBAmw2gQf2lxz8afRaVnnBSQMhqp7K0TlhAJNtUOB3YVECSDf9EwCJUQEc8l7G6kDtAPGy/CFxCSECXf1/pnaZTQCpTqzNn7EhAaBuHE7sJUkBSNhdFMIFRQFahTLHVFCxAd6S4sh0bV0AsWBWn+65TQBl7infbdDNA3KHmbQefRkC8IjVfnBZVQMVgk2+VRyRAs0znDIqPCkCjB9vbb0ZSQIa6JNu0JgpApWZbQkh+H0BoTV4q15FAQIsJQXnll0RANyl5M3KWMkBdQ/wFs5JYQN//E5hYtRVAe3+LZzPbNECT1zFLzsdTQJndzTJPIVRAzHlK90jMU0BTZM/510RQQBCJSjyDTlNAFnX/uzI1R0D2IIgcMHVTQM+F6C4y/VNA7XK+lt/JVEDHZK5iqvYdQPOhl5PIdUtAiNZpKF7/QkAMqvSwo68kQBxtC4W+QDNAtQArj4cdSECSUGXeSx1VQBdFMIo1cVRANRMlhDuCQUBd3TURi+BXQB/VVSYhylBABZDxsVa2UkCNkImtAx4oQELgUBGKPlZAMV6xjnyDSUBSD/L297U7QMtvC3XcnEhAjcEW/Rm1TUCP4U51Cl08QHTrVksRVjFAUShKrg3SNkAv3QP4l6o2QJzDUrAIrk1AnsxFQDGiVUBnmSQazehWQHRbQyUFYUtA45ckMBucSEB/cLo8CB5HQLUwBjTjMCBA+JAJW+C5SUAa1Ibcb4Q9QCq0QWDEgFRAiM+l0UcdGECZL4p5MVtCQEo8yev7IkFAGP1DRt1ZUUBeOnuh3xNLQHAUGttgcVdAeob0BJcVV0Ar2AyRzyFUQI3xcCHglw1ARDZOEmTKMUAx2U8xVHhSQBoLVBDNmlRAgVJAHJyQRkDe8R5O/TYyQEFkkSZeBkRAx9sIk/vtVkBFbuHU4ldMQBdur7uvEEJA36oaNkqhRUDp30eY1l5TQK2Bc2ei/1NAj8frRZ1cWEBYR0Tn6zdXQMLuRxFEbx1AtTLhl/pINEBFacqp+FIvQNeXdK2gQlVA3sOI8VjUN0DS0UEI42hJQI/+7axXpCNAhfgT1ykCUkDwmC6Czls8QJJmJCnGTVBA8YbyDR6MRUCBo09xPR1HQAW9u74k4kNA0ozipFQ1WEDYUwoACfNTQI6bMwVfpU5AmAr5uUQTV0A/r3tzObAxQMcuUb21IVdACcax+HJQU0A21UlsbSpXQHFtz7uTG1RAuvuIrxzvNkB1AVBBlVpRQIfQq8wobVRAG5bBanMQUECCe9jq9k0xQKqD9snVX0FAMFCMC4vISkDZRCQSnro7QN0ydZEhOUNAefd0MytZQ0Cko17ouGxSQCQlwUTR+0RAxrSm4aqWHkBcn+aiKUlKQHOVtAMqWTVASa7umojyNkBkynGZy55GQGix0qwFZEtArLjl4YyHS0AD/4RIwFlKQO6tq3YLwlhAyelnwfbrVUAkq66F0RFRQCZAZsr7ik9A6eANJzgBWEAynSm2+jFYQFKCcJh3Qw5AIn5m5uN1SUBqy7GjDkZNQHjbfXUy8lhAuPr71hjTQkCna5o1wGJXQAM3ORloUlVACsC7bGaBUkDU6yhkbS/8P0ESGOcRlS9A5/944NNmIUAvrTw3I5VAQKbZ2ePHN0lASaB/iryLV0AoMxgCBEFRQB7g5uDbGlhAXM+tY56fQUDTgQ/SEeVLQDerBiMZG1JA8rzapZvR0D8tV0enkQpJQKVfjXk+YkxA8zbbgd9GNUBgCZxTprlQQOlctHTDzz1AK1VKor/cWEAcYAdKYUVVQPT8lCOXvSJASrA+YvvUVkCcWLesyGtXQInA5IitJzlA93oxc4X0WEDLI7vQ3ylQQDrWzVBOcB9AZCH457tbNUD0ylBwzBNVQG9K9XTg81BAyPkPp5v5MEA63uwosShNQL9nf/uVRTlAMMKQrC49V0CZf1d41W9JQDrOK6ZrWUlAUe9O44POVUABWR1zfV1VQBHTlTqOHDVAut6RDJQFEkCeBPw7F/VVQM3jSLFV3kFAgr1whJiTKkDILUGh+VE4QKLmSv1FsDJAQD++Sl8cUkB8chyR0mtWQHMRMNFYlyNAqLBK0LwYWEDGR9q5P7s+QEA6wxwTyFhAFiDA2HHWV0A0aa4ugkRPQOBfPvsIG1VAiAfjk41pIkBLls37g4tEQHLUcf8IvAlAJHd8Zs60wD9NTxbGr7JNQK+k4Qb3oU1A+jJqIbVjV0BYXLlqYMxDQCIMLBVOCVNAbUK1HEN/U0Aiv8CkHzlTQFNb6iAvjUtAFh6TzKS6G0A+8IwR5JM0QB5eY9nERVdAlCJk5qNSREDBLGEr8MZFQDFCV6aIDlVAYOjPhlVSUkAgJXZtbw1OQCouZgKAfv4/DsTQ751SCkDxjGydbu5KQAz2cBP/y0FAV6sblBUZVUA9Tgs9pn5UQNCIZ0MdvlVAyflqYM4pUECpNcARTCUNQGIJUsZLA01A7cTGa0e+IUAMpLTMnMZTQIyXdoOL2lVAyRO18hr3TkA9404rfYI7QBWKOpRdo1JAK+Aar6trJEBBCI63cYVCQL7on55GBUZAYx4+WOJfC0BvLwZiW1VWQF+DOrxSAD9AzkvRY4llM0Aa5vz7aRRVQKQK89wK8VZA7iLrLDmdU0Dz5P0s1CtSQEoCeRtAB0tAQ4w652UoDkBI+0BuloA0QIZqUiPXj1dA/M3dEcJxQUDnnr8aMWBWQMVEOYdh81ZAWb8LDK10TkBvfdyn+BpEQI8FJ9CX4hlAu7oAh1LiV0A+wc37ogtSQBU/Y7L65yZAl6NsNntoQ0A/xh7SVlAoQHzDfw4PFUxA8l4dFlZNAEBUYw+4yvNUQHgO4W+m9FVA07kmzTRZV0ArAwT85fQYQJBcq/uPU1dAbbZm6RLvJ0DRQuE3riVUQAyI97mtgEVAut7TKOZLQkDH8FwIh31DQOlMVhy5W0tA8aHhIGMUPUAyvrvXAVNTQKm0rJjdKFVApAoU63P/VUAlcV61VcBRQHl3AYL7w0pAP9ybAD/ITEDUpMrm4HxYQJYyu/KKXNc/qbDnpUFqUUBdodXq5/JTQJ3pLTe7mFBAFpQiV3mMK0BrZDZMXWwxQKHi7mIQbVFA4Y2zht5NPEDIg4gvbsc+QAIcn0y8dEtAtOfwGDf1NEBN0SwxGMn6PwenT7yUSlVA1ZAb8g0OQEDcBGveKZFSQN2tiN3mllFAhvyWrbNrQEABfytpyyBUQN90aX7GGzpAfrZIwuEiTEDHunZxNDIzQGSRJt4B4CtARvJTJPiRTUB6la3cqKVJQKAfgLPYiVhAYxJj1uHFE0AJSvpJ70FQQGtSfhBRBFNA1ALm52e7U0CNgn3HstpQQG4ZISfzUgxAjxMN78WeN0Aofq3HVL4+QFSc9ta4dkpAwJcdPdnYLEBex7BxmiRKQKBqFXnpY0JAW+2CPX3KVUA8uEPc/+UwQBOXJTJaC0lA3ucZd9ogQkBgkHii+ZBWQL5M8xKM6EJAY5Qts0QRWECN0Z3UVe0TQD7i/PIubFhAk6xBYhXMUUD+AJRUoMlTQPvjg79bQEpAqbPF+xJfTEDMNw0X2sgzQIMOkYzv+zBAK6tq+7d8FUC8RgUtqMgkQAoFY4X6cSxAnSSsec3wDUA/0jP/4M1FQJGhAN3ZVjlAClr1dz4gUEC4zr9ddsBJQK+iz981yAxAhJJVUwpJQUBhnTJQfGhWQDODW+tJmz9A3LFjjDyCRkBgvkiq54E+QK9tKfSNkzJAa8N6BoELNUCI/VTLjCUoQCCnfa2q0UNA1G9qPeymEkD7G6BzONYhQIO7mtm6K01AnN7mCVv5QEDzKY56YmRSQAXvs+PpuEpAn0jmR7JpSECbJ8+jP5hWQBA9KZMaBE9AsfAeNWDoUEDpLLMIBXlTQCEI61rWVDZAC8ob/Tt5WED5SEp6GE5BQDO08KuoVEVArXwPD5bBTUCA2uL5kIxJQGoqtEFg+kZAMsE7vJGsGUA6G3Zr2qBYQF3g0UpKwk5A5I2jpM0fWECSP7VN81BRQMJ9oLJmTz5ADLy7F11cIEA3Hb+/WlZIQDqhIS1fEFhA6WffGYa3QkCETiG6lC9DQKsarTiPmVNAixmf0S9fUEBHAnBgMJNCQMbo6n3IB1RAyLzp8db4T0BVxqajT7hXQJ0v1VBTNFVA1LcvFG5+RkBw8OCCR4RJQLY+zQaN11dA63smXpLMREArWHjRNhs6QDqmWWayKExAAaR4jUQyWEA19RBGGXcSQPFZpni/QCxAthfqE21HTkDGLtX12T47QFcxbP/Qy1RA3gd7bvx5P0DFn/L5ctY3QN6T4j7NLU9AnQ2GhBPuMkAlCLL5k3hVQAcEa2ExJVNAzRtqTEQLQ0DPUg1WN1pXQDE/3HqyJlNAYq0tfstJUUBdYwJEYi1CQB9s64bxJ09APvcNUxCcV0BpAMWBveUFQG09MVWqNBdA2iPtqUmuQEDfOKWTV05AQGS9B56xn1VAIef9f5w9T0DC7PUY666/P1n00j2ANkJAfE+8NXYwLkD86oHBe5RIQBoqjE4SEERA4MkbHkpVQEDmXEiPeHpLQHptNlbiN0ZARtvsoPYZ9j+LOu/WJM1SQJUFG/BcOjtAwp5dW8sRSkCH07RRPsFOQKcWOkSWqFJAOIgGxEzEF0CWMAUxcUpAQMHD1X0XJFVAuTC57vniUkDtj8VwVDBMQGHXm73YCjZABVKD5Z9vVUBXmle1W1lXQPlPkglTG1NAnArhZqv4R0BTXHYER2gxQHPlYPTkm1FAtQ8eEmMDNkAek/+okYVXQKoJBj7kyOM/AfHC7wkBNUDJfQYvFZFSQEGdj74LJVNAOzoJAOm1SkBxBbG/Ll00QBvZtqR6rFZAIyltmgzzFEBMSDFhsK44QO8jEuBP1jlAangnXYIrS0C6OAG4n+9SQCKlG1ngki9AsS+pP5rA7D8qPle+2zdXQB36tKvMsFFAd6noemhYR0Dkk6FsQo5PQHOi2UxwAlNAhq0b590iUEBvY7MjVbdWQHsaiwFt509AZOwhgqBCTUC6prwtQ3dEQCh1sJulJCtACsrX376uIUAxxaitCWRTQFOqTEpk11ZAQ0rc+M3XVEALJReMH9ZQQF0hg0fheTpA7ZlnHTxyQkDYht2JYecVQGGuLm9aFyBAfKaPpwIIV0DUIibR4K9YQKwLZINtzlBAEr45VHqxVkDqDhjab0pXQIns5lbGazhAd4XbLUvQUUA5nJarYRFQQJDMVblxVk1A2i4tHYWpCECe82y5J+lFQN76VSU2YUFAe5My670/OUDwDrb5O7pRQFTMnInEUEVAbMxvweeCP0BIqLKmAj8TQD/Z/8a/mTRAAAKUjov/TUBLIQwTeG40QNjdNGRZ71FAQo97Z3LjUEC45tAaatdJQAs2p0odaTNAFC3jIM3iCEDyqDbg4NJQQKO/RHpZ1UpATg+nH5aoVkA8b1tC27QyQBwXxPbJOENAzxutvkjhFkB8qQrTmMpPQL8DLIcQn1BAqRilU3CcTUAKW3LbQMRIQNRJU5DhyUBAzjzzUQpAUkCiyrQma5xWQGln/jiB+zxAZTmFbItKSEB/BZsAZL1BQG8V/uvgckdAgmMKIYx8U0ClC3dPmrY2QFWwB/3YYCFAGD1cFyPcQUDvaRSz2vcsQH4XatjlOwBA9Ga733S6Q0DEAdteXpE7QNTatbLuMVJADHxeVP91UUCqLluFZtNXQFK1gktsIStA4PHu8j39TEBhnOiItl41QNRTN1kb6lhAcvhJWpaDQEClXw/654cDQC4kuy1sa1NAVl8VkDAgpD+pjUUuk7g6QE8ImTtl0yZAS3LhvA+qS0B9JSWzz5U/QA5zWbcHoTRA0Us5HdA9SUBsDd+h7GxUQLqcdTpOFjdAPtcxjapeVkBneHlb5dhDQGQq1AWCtz1AmwtUrWKkVkCIA1OTQS1VQIzVi0ZjKVFANy3CXnJNOUBLihOI7B9CQCeVnTx0WlFAQuT8ZsV1MUBVx2RQ8a5HQKn27Du/PkhA",
          "dtype": "f8"
         },
         "yaxis": "y4"
        }
       ],
       "layout": {
        "height": 320,
        "showlegend": false,
        "template": {
         "data": {
          "bar": [
           {
            "error_x": {
             "color": "#2a3f5f"
            },
            "error_y": {
             "color": "#2a3f5f"
            },
            "marker": {
             "line": {
              "color": "#E5ECF6",
              "width": 0.5
             },
             "pattern": {
              "fillmode": "overlay",
              "size": 10,
              "solidity": 0.2
             }
            },
            "type": "bar"
           }
          ],
          "barpolar": [
           {
            "marker": {
             "line": {
              "color": "#E5ECF6",
              "width": 0.5
             },
             "pattern": {
              "fillmode": "overlay",
              "size": 10,
              "solidity": 0.2
             }
            },
            "type": "barpolar"
           }
          ],
          "carpet": [
           {
            "aaxis": {
             "endlinecolor": "#2a3f5f",
             "gridcolor": "white",
             "linecolor": "white",
             "minorgridcolor": "white",
             "startlinecolor": "#2a3f5f"
            },
            "baxis": {
             "endlinecolor": "#2a3f5f",
             "gridcolor": "white",
             "linecolor": "white",
             "minorgridcolor": "white",
             "startlinecolor": "#2a3f5f"
            },
            "type": "carpet"
           }
          ],
          "choropleth": [
           {
            "colorbar": {
             "outlinewidth": 0,
             "ticks": ""
            },
            "type": "choropleth"
           }
          ],
          "contour": [
           {
            "colorbar": {
             "outlinewidth": 0,
             "ticks": ""
            },
            "colorscale": [
             [
              0,
              "#0d0887"
             ],
             [
              0.1111111111111111,
              "#46039f"
             ],
             [
              0.2222222222222222,
              "#7201a8"
             ],
             [
              0.3333333333333333,
              "#9c179e"
             ],
             [
              0.4444444444444444,
              "#bd3786"
             ],
             [
              0.5555555555555556,
              "#d8576b"
             ],
             [
              0.6666666666666666,
              "#ed7953"
             ],
             [
              0.7777777777777778,
              "#fb9f3a"
             ],
             [
              0.8888888888888888,
              "#fdca26"
             ],
             [
              1,
              "#f0f921"
             ]
            ],
            "type": "contour"
           }
          ],
          "contourcarpet": [
           {
            "colorbar": {
             "outlinewidth": 0,
             "ticks": ""
            },
            "type": "contourcarpet"
           }
          ],
          "heatmap": [
           {
            "colorbar": {
             "outlinewidth": 0,
             "ticks": ""
            },
            "colorscale": [
             [
              0,
              "#0d0887"
             ],
             [
              0.1111111111111111,
              "#46039f"
             ],
             [
              0.2222222222222222,
              "#7201a8"
             ],
             [
              0.3333333333333333,
              "#9c179e"
             ],
             [
              0.4444444444444444,
              "#bd3786"
             ],
             [
              0.5555555555555556,
              "#d8576b"
             ],
             [
              0.6666666666666666,
              "#ed7953"
             ],
             [
              0.7777777777777778,
              "#fb9f3a"
             ],
             [
              0.8888888888888888,
              "#fdca26"
             ],
             [
              1,
              "#f0f921"
             ]
            ],
            "type": "heatmap"
           }
          ],
          "histogram": [
           {
            "marker": {
             "pattern": {
              "fillmode": "overlay",
              "size": 10,
              "solidity": 0.2
             }
            },
            "type": "histogram"
           }
          ],
          "histogram2d": [
           {
            "colorbar": {
             "outlinewidth": 0,
             "ticks": ""
            },
            "colorscale": [
             [
              0,
              "#0d0887"
             ],
             [
              0.1111111111111111,
              "#46039f"
             ],
             [
              0.2222222222222222,
              "#7201a8"
             ],
             [
              0.3333333333333333,
              "#9c179e"
             ],
             [
              0.4444444444444444,
              "#bd3786"
             ],
             [
              0.5555555555555556,
              "#d8576b"
             ],
             [
              0.6666666666666666,
              "#ed7953"
             ],
             [
              0.7777777777777778,
              "#fb9f3a"
             ],
             [
              0.8888888888888888,
              "#fdca26"
             ],
             [
              1,
              "#f0f921"
             ]
            ],
            "type": "histogram2d"
           }
          ],
          "histogram2dcontour": [
           {
            "colorbar": {
             "outlinewidth": 0,
             "ticks": ""
            },
            "colorscale": [
             [
              0,
              "#0d0887"
             ],
             [
              0.1111111111111111,
              "#46039f"
             ],
             [
              0.2222222222222222,
              "#7201a8"
             ],
             [
              0.3333333333333333,
              "#9c179e"
             ],
             [
              0.4444444444444444,
              "#bd3786"
             ],
             [
              0.5555555555555556,
              "#d8576b"
             ],
             [
              0.6666666666666666,
              "#ed7953"
             ],
             [
              0.7777777777777778,
              "#fb9f3a"
             ],
             [
              0.8888888888888888,
              "#fdca26"
             ],
             [
              1,
              "#f0f921"
             ]
            ],
            "type": "histogram2dcontour"
           }
          ],
          "mesh3d": [
           {
            "colorbar": {
             "outlinewidth": 0,
             "ticks": ""
            },
            "type": "mesh3d"
           }
          ],
          "parcoords": [
           {
            "line": {
             "colorbar": {
              "outlinewidth": 0,
              "ticks": ""
             }
            },
            "type": "parcoords"
           }
          ],
          "pie": [
           {
            "automargin": true,
            "type": "pie"
           }
          ],
          "scatter": [
           {
            "fillpattern": {
             "fillmode": "overlay",
             "size": 10,
             "solidity": 0.2
            },
            "type": "scatter"
           }
          ],
          "scatter3d": [
           {
            "line": {
             "colorbar": {
              "outlinewidth": 0,
              "ticks": ""
             }
            },
            "marker": {
             "colorbar": {
              "outlinewidth": 0,
              "ticks": ""
             }
            },
            "type": "scatter3d"
           }
          ],
          "scattercarpet": [
           {
            "marker": {
             "colorbar": {
              "outlinewidth": 0,
              "ticks": ""
             }
            },
            "type": "scattercarpet"
           }
          ],
          "scattergeo": [
           {
            "marker": {
             "colorbar": {
              "outlinewidth": 0,
              "ticks": ""
             }
            },
            "type": "scattergeo"
           }
          ],
          "scattergl": [
           {
            "marker": {
             "colorbar": {
              "outlinewidth": 0,
              "ticks": ""
             }
            },
            "type": "scattergl"
           }
          ],
          "scattermap": [
           {
            "marker": {
             "colorbar": {
              "outlinewidth": 0,
              "ticks": ""
             }
            },
            "type": "scattermap"
           }
          ],
          "scattermapbox": [
           {
            "marker": {
             "colorbar": {
              "outlinewidth": 0,
              "ticks": ""
             }
            },
            "type": "scattermapbox"
           }
          ],
          "scatterpolar": [
           {
            "marker": {
             "colorbar": {
              "outlinewidth": 0,
              "ticks": ""
             }
            },
            "type": "scatterpolar"
           }
          ],
          "scatterpolargl": [
           {
            "marker": {
             "colorbar": {
              "outlinewidth": 0,
              "ticks": ""
             }
            },
            "type": "scatterpolargl"
           }
          ],
          "scatterternary": [
           {
            "marker": {
             "colorbar": {
              "outlinewidth": 0,
              "ticks": ""
             }
            },
            "type": "scatterternary"
           }
          ],
          "surface": [
           {
            "colorbar": {
             "outlinewidth": 0,
             "ticks": ""
            },
            "colorscale": [
             [
              0,
              "#0d0887"
             ],
             [
              0.1111111111111111,
              "#46039f"
             ],
             [
              0.2222222222222222,
              "#7201a8"
             ],
             [
              0.3333333333333333,
              "#9c179e"
             ],
             [
              0.4444444444444444,
              "#bd3786"
             ],
             [
              0.5555555555555556,
              "#d8576b"
             ],
             [
              0.6666666666666666,
              "#ed7953"
             ],
             [
              0.7777777777777778,
              "#fb9f3a"
             ],
             [
              0.8888888888888888,
              "#fdca26"
             ],
             [
              1,
              "#f0f921"
             ]
            ],
            "type": "surface"
           }
          ],
          "table": [
           {
            "cells": {
             "fill": {
              "color": "#EBF0F8"
             },
             "line": {
              "color": "white"
             }
            },
            "header": {
             "fill": {
              "color": "#C8D4E3"
             },
             "line": {
              "color": "white"
             }
            },
            "type": "table"
           }
          ]
         },
         "layout": {
          "annotationdefaults": {
           "arrowcolor": "#2a3f5f",
           "arrowhead": 0,
           "arrowwidth": 1
          },
          "autotypenumbers": "strict",
          "coloraxis": {
           "colorbar": {
            "outlinewidth": 0,
            "ticks": ""
           }
          },
          "colorscale": {
           "diverging": [
            [
             0,
             "#8e0152"
            ],
            [
             0.1,
             "#c51b7d"
            ],
            [
             0.2,
             "#de77ae"
            ],
            [
             0.3,
             "#f1b6da"
            ],
            [
             0.4,
             "#fde0ef"
            ],
            [
             0.5,
             "#f7f7f7"
            ],
            [
             0.6,
             "#e6f5d0"
            ],
            [
             0.7,
             "#b8e186"
            ],
            [
             0.8,
             "#7fbc41"
            ],
            [
             0.9,
             "#4d9221"
            ],
            [
             1,
             "#276419"
            ]
           ],
           "sequential": [
            [
             0,
             "#0d0887"
            ],
            [
             0.1111111111111111,
             "#46039f"
            ],
            [
             0.2222222222222222,
             "#7201a8"
            ],
            [
             0.3333333333333333,
             "#9c179e"
            ],
            [
             0.4444444444444444,
             "#bd3786"
            ],
            [
             0.5555555555555556,
             "#d8576b"
            ],
            [
             0.6666666666666666,
             "#ed7953"
            ],
            [
             0.7777777777777778,
             "#fb9f3a"
            ],
            [
             0.8888888888888888,
             "#fdca26"
            ],
            [
             1,
             "#f0f921"
            ]
           ],
           "sequentialminus": [
            [
             0,
             "#0d0887"
            ],
            [
             0.1111111111111111,
             "#46039f"
            ],
            [
             0.2222222222222222,
             "#7201a8"
            ],
            [
             0.3333333333333333,
             "#9c179e"
            ],
            [
             0.4444444444444444,
             "#bd3786"
            ],
            [
             0.5555555555555556,
             "#d8576b"
            ],
            [
             0.6666666666666666,
             "#ed7953"
            ],
            [
             0.7777777777777778,
             "#fb9f3a"
            ],
            [
             0.8888888888888888,
             "#fdca26"
            ],
            [
             1,
             "#f0f921"
            ]
           ]
          },
          "colorway": [
           "#636efa",
           "#EF553B",
           "#00cc96",
           "#ab63fa",
           "#FFA15A",
           "#19d3f3",
           "#FF6692",
           "#B6E880",
           "#FF97FF",
           "#FECB52"
          ],
          "font": {
           "color": "#2a3f5f"
          },
          "geo": {
           "bgcolor": "white",
           "lakecolor": "white",
           "landcolor": "#E5ECF6",
           "showlakes": true,
           "showland": true,
           "subunitcolor": "white"
          },
          "hoverlabel": {
           "align": "left"
          },
          "hovermode": "closest",
          "mapbox": {
           "style": "light"
          },
          "paper_bgcolor": "white",
          "plot_bgcolor": "#E5ECF6",
          "polar": {
           "angularaxis": {
            "gridcolor": "white",
            "linecolor": "white",
            "ticks": ""
           },
           "bgcolor": "#E5ECF6",
           "radialaxis": {
            "gridcolor": "white",
            "linecolor": "white",
            "ticks": ""
           }
          },
          "scene": {
           "xaxis": {
            "backgroundcolor": "#E5ECF6",
            "gridcolor": "white",
            "gridwidth": 2,
            "linecolor": "white",
            "showbackground": true,
            "ticks": "",
            "zerolinecolor": "white"
           },
           "yaxis": {
            "backgroundcolor": "#E5ECF6",
            "gridcolor": "white",
            "gridwidth": 2,
            "linecolor": "white",
            "showbackground": true,
            "ticks": "",
            "zerolinecolor": "white"
           },
           "zaxis": {
            "backgroundcolor": "#E5ECF6",
            "gridcolor": "white",
            "gridwidth": 2,
            "linecolor": "white",
            "showbackground": true,
            "ticks": "",
            "zerolinecolor": "white"
           }
          },
          "shapedefaults": {
           "line": {
            "color": "#2a3f5f"
           }
          },
          "ternary": {
           "aaxis": {
            "gridcolor": "white",
            "linecolor": "white",
            "ticks": ""
           },
           "baxis": {
            "gridcolor": "white",
            "linecolor": "white",
            "ticks": ""
           },
           "bgcolor": "#E5ECF6",
           "caxis": {
            "gridcolor": "white",
            "linecolor": "white",
            "ticks": ""
           }
          },
          "title": {
           "x": 0.05
          },
          "xaxis": {
           "automargin": true,
           "gridcolor": "white",
           "linecolor": "white",
           "ticks": "",
           "title": {
            "standoff": 15
           },
           "zerolinecolor": "white",
           "zerolinewidth": 2
          },
          "yaxis": {
           "automargin": true,
           "gridcolor": "white",
           "linecolor": "white",
           "ticks": "",
           "title": {
            "standoff": 15
           },
           "zerolinecolor": "white",
           "zerolinewidth": 2
          }
         }
        },
        "title": {
         "text": "Social and Governance metrics"
        },
        "xaxis": {
         "anchor": "y",
         "domain": [
          0,
          0.2125
         ]
        },
        "xaxis2": {
         "anchor": "y2",
         "domain": [
          0.2625,
          0.475
         ]
        },
        "xaxis3": {
         "anchor": "y3",
         "domain": [
          0.525,
          0.7375
         ]
        },
        "xaxis4": {
         "anchor": "y4",
         "domain": [
          0.7875,
          1
         ]
        },
        "yaxis": {
         "anchor": "x",
         "domain": [
          0,
          1
         ]
        },
        "yaxis2": {
         "anchor": "x2",
         "domain": [
          0,
          1
         ]
        },
        "yaxis3": {
         "anchor": "x3",
         "domain": [
          0,
          1
         ]
        },
        "yaxis4": {
         "anchor": "x4",
         "domain": [
          0,
          1
         ]
        }
       }
      }
     },
     "metadata": {},
     "output_type": "display_data"
    }
   ],
   "source": [
    "boxplots(train_df, governance, 'Social and Governance metrics')"
   ]
  },
  {
   "cell_type": "code",
   "execution_count": 80,
   "id": "102abd59-a355-4e2f-ada1-2be67d3a5fd4",
   "metadata": {
    "executionCancelledAt": null,
    "executionTime": null,
    "lastExecutedAt": null,
    "lastExecutedByKernel": null,
    "lastScheduledRunId": null,
    "lastSuccessfullyExecutedCode": null,
    "outputsMetadata": {
     "0": {
      "height": 17,
      "type": "plotly"
     }
    }
   },
   "outputs": [
    {
     "data": {
      "application/vnd.plotly.v1+json": {
       "config": {
        "plotlyServerURL": "https://plot.ly"
       },
       "data": [
        {
         "boxpoints": "outliers",
         "name": "Proportion of Energy from Renewables",
         "type": "box",
         "xaxis": "x",
         "y": {
          "bdata": "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",
          "dtype": "f8"
         },
         "yaxis": "y"
        },
        {
         "boxpoints": "outliers",
         "name": "CO2 Emissions",
         "type": "box",
         "xaxis": "x2",
         "y": {
          "bdata": "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",
          "dtype": "f8"
         },
         "yaxis": "y2"
        },
        {
         "boxpoints": "outliers",
         "name": "Grid Integration Capability",
         "type": "box",
         "xaxis": "x3",
         "y": {
          "bdata": "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",
          "dtype": "f8"
         },
         "yaxis": "y3"
        }
       ],
       "layout": {
        "height": 320,
        "margin": {
         "l": 60,
         "r": 60
        },
        "showlegend": false,
        "template": {
         "data": {
          "bar": [
           {
            "error_x": {
             "color": "#2a3f5f"
            },
            "error_y": {
             "color": "#2a3f5f"
            },
            "marker": {
             "line": {
              "color": "#E5ECF6",
              "width": 0.5
             },
             "pattern": {
              "fillmode": "overlay",
              "size": 10,
              "solidity": 0.2
             }
            },
            "type": "bar"
           }
          ],
          "barpolar": [
           {
            "marker": {
             "line": {
              "color": "#E5ECF6",
              "width": 0.5
             },
             "pattern": {
              "fillmode": "overlay",
              "size": 10,
              "solidity": 0.2
             }
            },
            "type": "barpolar"
           }
          ],
          "carpet": [
           {
            "aaxis": {
             "endlinecolor": "#2a3f5f",
             "gridcolor": "white",
             "linecolor": "white",
             "minorgridcolor": "white",
             "startlinecolor": "#2a3f5f"
            },
            "baxis": {
             "endlinecolor": "#2a3f5f",
             "gridcolor": "white",
             "linecolor": "white",
             "minorgridcolor": "white",
             "startlinecolor": "#2a3f5f"
            },
            "type": "carpet"
           }
          ],
          "choropleth": [
           {
            "colorbar": {
             "outlinewidth": 0,
             "ticks": ""
            },
            "type": "choropleth"
           }
          ],
          "contour": [
           {
            "colorbar": {
             "outlinewidth": 0,
             "ticks": ""
            },
            "colorscale": [
             [
              0,
              "#0d0887"
             ],
             [
              0.1111111111111111,
              "#46039f"
             ],
             [
              0.2222222222222222,
              "#7201a8"
             ],
             [
              0.3333333333333333,
              "#9c179e"
             ],
             [
              0.4444444444444444,
              "#bd3786"
             ],
             [
              0.5555555555555556,
              "#d8576b"
             ],
             [
              0.6666666666666666,
              "#ed7953"
             ],
             [
              0.7777777777777778,
              "#fb9f3a"
             ],
             [
              0.8888888888888888,
              "#fdca26"
             ],
             [
              1,
              "#f0f921"
             ]
            ],
            "type": "contour"
           }
          ],
          "contourcarpet": [
           {
            "colorbar": {
             "outlinewidth": 0,
             "ticks": ""
            },
            "type": "contourcarpet"
           }
          ],
          "heatmap": [
           {
            "colorbar": {
             "outlinewidth": 0,
             "ticks": ""
            },
            "colorscale": [
             [
              0,
              "#0d0887"
             ],
             [
              0.1111111111111111,
              "#46039f"
             ],
             [
              0.2222222222222222,
              "#7201a8"
             ],
             [
              0.3333333333333333,
              "#9c179e"
             ],
             [
              0.4444444444444444,
              "#bd3786"
             ],
             [
              0.5555555555555556,
              "#d8576b"
             ],
             [
              0.6666666666666666,
              "#ed7953"
             ],
             [
              0.7777777777777778,
              "#fb9f3a"
             ],
             [
              0.8888888888888888,
              "#fdca26"
             ],
             [
              1,
              "#f0f921"
             ]
            ],
            "type": "heatmap"
           }
          ],
          "histogram": [
           {
            "marker": {
             "pattern": {
              "fillmode": "overlay",
              "size": 10,
              "solidity": 0.2
             }
            },
            "type": "histogram"
           }
          ],
          "histogram2d": [
           {
            "colorbar": {
             "outlinewidth": 0,
             "ticks": ""
            },
            "colorscale": [
             [
              0,
              "#0d0887"
             ],
             [
              0.1111111111111111,
              "#46039f"
             ],
             [
              0.2222222222222222,
              "#7201a8"
             ],
             [
              0.3333333333333333,
              "#9c179e"
             ],
             [
              0.4444444444444444,
              "#bd3786"
             ],
             [
              0.5555555555555556,
              "#d8576b"
             ],
             [
              0.6666666666666666,
              "#ed7953"
             ],
             [
              0.7777777777777778,
              "#fb9f3a"
             ],
             [
              0.8888888888888888,
              "#fdca26"
             ],
             [
              1,
              "#f0f921"
             ]
            ],
            "type": "histogram2d"
           }
          ],
          "histogram2dcontour": [
           {
            "colorbar": {
             "outlinewidth": 0,
             "ticks": ""
            },
            "colorscale": [
             [
              0,
              "#0d0887"
             ],
             [
              0.1111111111111111,
              "#46039f"
             ],
             [
              0.2222222222222222,
              "#7201a8"
             ],
             [
              0.3333333333333333,
              "#9c179e"
             ],
             [
              0.4444444444444444,
              "#bd3786"
             ],
             [
              0.5555555555555556,
              "#d8576b"
             ],
             [
              0.6666666666666666,
              "#ed7953"
             ],
             [
              0.7777777777777778,
              "#fb9f3a"
             ],
             [
              0.8888888888888888,
              "#fdca26"
             ],
             [
              1,
              "#f0f921"
             ]
            ],
            "type": "histogram2dcontour"
           }
          ],
          "mesh3d": [
           {
            "colorbar": {
             "outlinewidth": 0,
             "ticks": ""
            },
            "type": "mesh3d"
           }
          ],
          "parcoords": [
           {
            "line": {
             "colorbar": {
              "outlinewidth": 0,
              "ticks": ""
             }
            },
            "type": "parcoords"
           }
          ],
          "pie": [
           {
            "automargin": true,
            "type": "pie"
           }
          ],
          "scatter": [
           {
            "fillpattern": {
             "fillmode": "overlay",
             "size": 10,
             "solidity": 0.2
            },
            "type": "scatter"
           }
          ],
          "scatter3d": [
           {
            "line": {
             "colorbar": {
              "outlinewidth": 0,
              "ticks": ""
             }
            },
            "marker": {
             "colorbar": {
              "outlinewidth": 0,
              "ticks": ""
             }
            },
            "type": "scatter3d"
           }
          ],
          "scattercarpet": [
           {
            "marker": {
             "colorbar": {
              "outlinewidth": 0,
              "ticks": ""
             }
            },
            "type": "scattercarpet"
           }
          ],
          "scattergeo": [
           {
            "marker": {
             "colorbar": {
              "outlinewidth": 0,
              "ticks": ""
             }
            },
            "type": "scattergeo"
           }
          ],
          "scattergl": [
           {
            "marker": {
             "colorbar": {
              "outlinewidth": 0,
              "ticks": ""
             }
            },
            "type": "scattergl"
           }
          ],
          "scattermap": [
           {
            "marker": {
             "colorbar": {
              "outlinewidth": 0,
              "ticks": ""
             }
            },
            "type": "scattermap"
           }
          ],
          "scattermapbox": [
           {
            "marker": {
             "colorbar": {
              "outlinewidth": 0,
              "ticks": ""
             }
            },
            "type": "scattermapbox"
           }
          ],
          "scatterpolar": [
           {
            "marker": {
             "colorbar": {
              "outlinewidth": 0,
              "ticks": ""
             }
            },
            "type": "scatterpolar"
           }
          ],
          "scatterpolargl": [
           {
            "marker": {
             "colorbar": {
              "outlinewidth": 0,
              "ticks": ""
             }
            },
            "type": "scatterpolargl"
           }
          ],
          "scatterternary": [
           {
            "marker": {
             "colorbar": {
              "outlinewidth": 0,
              "ticks": ""
             }
            },
            "type": "scatterternary"
           }
          ],
          "surface": [
           {
            "colorbar": {
             "outlinewidth": 0,
             "ticks": ""
            },
            "colorscale": [
             [
              0,
              "#0d0887"
             ],
             [
              0.1111111111111111,
              "#46039f"
             ],
             [
              0.2222222222222222,
              "#7201a8"
             ],
             [
              0.3333333333333333,
              "#9c179e"
             ],
             [
              0.4444444444444444,
              "#bd3786"
             ],
             [
              0.5555555555555556,
              "#d8576b"
             ],
             [
              0.6666666666666666,
              "#ed7953"
             ],
             [
              0.7777777777777778,
              "#fb9f3a"
             ],
             [
              0.8888888888888888,
              "#fdca26"
             ],
             [
              1,
              "#f0f921"
             ]
            ],
            "type": "surface"
           }
          ],
          "table": [
           {
            "cells": {
             "fill": {
              "color": "#EBF0F8"
             },
             "line": {
              "color": "white"
             }
            },
            "header": {
             "fill": {
              "color": "#C8D4E3"
             },
             "line": {
              "color": "white"
             }
            },
            "type": "table"
           }
          ]
         },
         "layout": {
          "annotationdefaults": {
           "arrowcolor": "#2a3f5f",
           "arrowhead": 0,
           "arrowwidth": 1
          },
          "autotypenumbers": "strict",
          "coloraxis": {
           "colorbar": {
            "outlinewidth": 0,
            "ticks": ""
           }
          },
          "colorscale": {
           "diverging": [
            [
             0,
             "#8e0152"
            ],
            [
             0.1,
             "#c51b7d"
            ],
            [
             0.2,
             "#de77ae"
            ],
            [
             0.3,
             "#f1b6da"
            ],
            [
             0.4,
             "#fde0ef"
            ],
            [
             0.5,
             "#f7f7f7"
            ],
            [
             0.6,
             "#e6f5d0"
            ],
            [
             0.7,
             "#b8e186"
            ],
            [
             0.8,
             "#7fbc41"
            ],
            [
             0.9,
             "#4d9221"
            ],
            [
             1,
             "#276419"
            ]
           ],
           "sequential": [
            [
             0,
             "#0d0887"
            ],
            [
             0.1111111111111111,
             "#46039f"
            ],
            [
             0.2222222222222222,
             "#7201a8"
            ],
            [
             0.3333333333333333,
             "#9c179e"
            ],
            [
             0.4444444444444444,
             "#bd3786"
            ],
            [
             0.5555555555555556,
             "#d8576b"
            ],
            [
             0.6666666666666666,
             "#ed7953"
            ],
            [
             0.7777777777777778,
             "#fb9f3a"
            ],
            [
             0.8888888888888888,
             "#fdca26"
            ],
            [
             1,
             "#f0f921"
            ]
           ],
           "sequentialminus": [
            [
             0,
             "#0d0887"
            ],
            [
             0.1111111111111111,
             "#46039f"
            ],
            [
             0.2222222222222222,
             "#7201a8"
            ],
            [
             0.3333333333333333,
             "#9c179e"
            ],
            [
             0.4444444444444444,
             "#bd3786"
            ],
            [
             0.5555555555555556,
             "#d8576b"
            ],
            [
             0.6666666666666666,
             "#ed7953"
            ],
            [
             0.7777777777777778,
             "#fb9f3a"
            ],
            [
             0.8888888888888888,
             "#fdca26"
            ],
            [
             1,
             "#f0f921"
            ]
           ]
          },
          "colorway": [
           "#636efa",
           "#EF553B",
           "#00cc96",
           "#ab63fa",
           "#FFA15A",
           "#19d3f3",
           "#FF6692",
           "#B6E880",
           "#FF97FF",
           "#FECB52"
          ],
          "font": {
           "color": "#2a3f5f"
          },
          "geo": {
           "bgcolor": "white",
           "lakecolor": "white",
           "landcolor": "#E5ECF6",
           "showlakes": true,
           "showland": true,
           "subunitcolor": "white"
          },
          "hoverlabel": {
           "align": "left"
          },
          "hovermode": "closest",
          "mapbox": {
           "style": "light"
          },
          "paper_bgcolor": "white",
          "plot_bgcolor": "#E5ECF6",
          "polar": {
           "angularaxis": {
            "gridcolor": "white",
            "linecolor": "white",
            "ticks": ""
           },
           "bgcolor": "#E5ECF6",
           "radialaxis": {
            "gridcolor": "white",
            "linecolor": "white",
            "ticks": ""
           }
          },
          "scene": {
           "xaxis": {
            "backgroundcolor": "#E5ECF6",
            "gridcolor": "white",
            "gridwidth": 2,
            "linecolor": "white",
            "showbackground": true,
            "ticks": "",
            "zerolinecolor": "white"
           },
           "yaxis": {
            "backgroundcolor": "#E5ECF6",
            "gridcolor": "white",
            "gridwidth": 2,
            "linecolor": "white",
            "showbackground": true,
            "ticks": "",
            "zerolinecolor": "white"
           },
           "zaxis": {
            "backgroundcolor": "#E5ECF6",
            "gridcolor": "white",
            "gridwidth": 2,
            "linecolor": "white",
            "showbackground": true,
            "ticks": "",
            "zerolinecolor": "white"
           }
          },
          "shapedefaults": {
           "line": {
            "color": "#2a3f5f"
           }
          },
          "ternary": {
           "aaxis": {
            "gridcolor": "white",
            "linecolor": "white",
            "ticks": ""
           },
           "baxis": {
            "gridcolor": "white",
            "linecolor": "white",
            "ticks": ""
           },
           "bgcolor": "#E5ECF6",
           "caxis": {
            "gridcolor": "white",
            "linecolor": "white",
            "ticks": ""
           }
          },
          "title": {
           "x": 0.05
          },
          "xaxis": {
           "automargin": true,
           "gridcolor": "white",
           "linecolor": "white",
           "ticks": "",
           "title": {
            "standoff": 15
           },
           "zerolinecolor": "white",
           "zerolinewidth": 2
          },
          "yaxis": {
           "automargin": true,
           "gridcolor": "white",
           "linecolor": "white",
           "ticks": "",
           "title": {
            "standoff": 15
           },
           "zerolinecolor": "white",
           "zerolinewidth": 2
          }
         }
        },
        "title": {
         "text": "Sustainability metrics"
        },
        "xaxis": {
         "anchor": "y",
         "domain": [
          0,
          0.2888888888888889
         ]
        },
        "xaxis2": {
         "anchor": "y2",
         "domain": [
          0.35555555555555557,
          0.6444444444444445
         ]
        },
        "xaxis3": {
         "anchor": "y3",
         "domain": [
          0.7111111111111111,
          1
         ]
        },
        "yaxis": {
         "anchor": "x",
         "domain": [
          0,
          1
         ]
        },
        "yaxis2": {
         "anchor": "x2",
         "domain": [
          0,
          1
         ]
        },
        "yaxis3": {
         "anchor": "x3",
         "domain": [
          0,
          1
         ]
        }
       }
      }
     },
     "metadata": {},
     "output_type": "display_data"
    }
   ],
   "source": [
    "boxplots(train_df, sustainability, 'Sustainability metrics')"
   ]
  },
  {
   "cell_type": "code",
   "execution_count": 79,
   "id": "f1657681-49a2-4ef9-8a6e-d5aa221b5393",
   "metadata": {
    "executionCancelledAt": null,
    "executionTime": null,
    "lastExecutedAt": null,
    "lastExecutedByKernel": null,
    "lastScheduledRunId": null,
    "lastSuccessfullyExecutedCode": null,
    "outputsMetadata": {
     "0": {
      "height": 17,
      "type": "plotly"
     }
    }
   },
   "outputs": [
    {
     "data": {
      "application/vnd.plotly.v1+json": {
       "config": {
        "plotlyServerURL": "https://plot.ly"
       },
       "data": [
        {
         "boxpoints": "outliers",
         "name": "Average Annual Temperature",
         "type": "box",
         "xaxis": "x",
         "y": {
          "bdata": "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",
          "dtype": "f8"
         },
         "yaxis": "y"
        },
        {
         "boxpoints": "outliers",
         "name": "Solar Irradiance",
         "type": "box",
         "xaxis": "x2",
         "y": {
          "bdata": "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",
          "dtype": "f8"
         },
         "yaxis": "y2"
        },
        {
         "boxpoints": "outliers",
         "name": "Wind Speed",
         "type": "box",
         "xaxis": "x3",
         "y": {
          "bdata": "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",
          "dtype": "f8"
         },
         "yaxis": "y3"
        },
        {
         "boxpoints": "outliers",
         "name": "Hydro Potential",
         "type": "box",
         "xaxis": "x4",
         "y": {
          "bdata": "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",
          "dtype": "f8"
         },
         "yaxis": "y4"
        },
        {
         "boxpoints": "outliers",
         "name": "Biomass Availability",
         "type": "box",
         "xaxis": "x5",
         "y": {
          "bdata": "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",
          "dtype": "f8"
         },
         "yaxis": "y5"
        }
       ],
       "layout": {
        "height": 320,
        "margin": {
         "l": 60,
         "r": 60
        },
        "showlegend": false,
        "template": {
         "data": {
          "bar": [
           {
            "error_x": {
             "color": "#2a3f5f"
            },
            "error_y": {
             "color": "#2a3f5f"
            },
            "marker": {
             "line": {
              "color": "#E5ECF6",
              "width": 0.5
             },
             "pattern": {
              "fillmode": "overlay",
              "size": 10,
              "solidity": 0.2
             }
            },
            "type": "bar"
           }
          ],
          "barpolar": [
           {
            "marker": {
             "line": {
              "color": "#E5ECF6",
              "width": 0.5
             },
             "pattern": {
              "fillmode": "overlay",
              "size": 10,
              "solidity": 0.2
             }
            },
            "type": "barpolar"
           }
          ],
          "carpet": [
           {
            "aaxis": {
             "endlinecolor": "#2a3f5f",
             "gridcolor": "white",
             "linecolor": "white",
             "minorgridcolor": "white",
             "startlinecolor": "#2a3f5f"
            },
            "baxis": {
             "endlinecolor": "#2a3f5f",
             "gridcolor": "white",
             "linecolor": "white",
             "minorgridcolor": "white",
             "startlinecolor": "#2a3f5f"
            },
            "type": "carpet"
           }
          ],
          "choropleth": [
           {
            "colorbar": {
             "outlinewidth": 0,
             "ticks": ""
            },
            "type": "choropleth"
           }
          ],
          "contour": [
           {
            "colorbar": {
             "outlinewidth": 0,
             "ticks": ""
            },
            "colorscale": [
             [
              0,
              "#0d0887"
             ],
             [
              0.1111111111111111,
              "#46039f"
             ],
             [
              0.2222222222222222,
              "#7201a8"
             ],
             [
              0.3333333333333333,
              "#9c179e"
             ],
             [
              0.4444444444444444,
              "#bd3786"
             ],
             [
              0.5555555555555556,
              "#d8576b"
             ],
             [
              0.6666666666666666,
              "#ed7953"
             ],
             [
              0.7777777777777778,
              "#fb9f3a"
             ],
             [
              0.8888888888888888,
              "#fdca26"
             ],
             [
              1,
              "#f0f921"
             ]
            ],
            "type": "contour"
           }
          ],
          "contourcarpet": [
           {
            "colorbar": {
             "outlinewidth": 0,
             "ticks": ""
            },
            "type": "contourcarpet"
           }
          ],
          "heatmap": [
           {
            "colorbar": {
             "outlinewidth": 0,
             "ticks": ""
            },
            "colorscale": [
             [
              0,
              "#0d0887"
             ],
             [
              0.1111111111111111,
              "#46039f"
             ],
             [
              0.2222222222222222,
              "#7201a8"
             ],
             [
              0.3333333333333333,
              "#9c179e"
             ],
             [
              0.4444444444444444,
              "#bd3786"
             ],
             [
              0.5555555555555556,
              "#d8576b"
             ],
             [
              0.6666666666666666,
              "#ed7953"
             ],
             [
              0.7777777777777778,
              "#fb9f3a"
             ],
             [
              0.8888888888888888,
              "#fdca26"
             ],
             [
              1,
              "#f0f921"
             ]
            ],
            "type": "heatmap"
           }
          ],
          "histogram": [
           {
            "marker": {
             "pattern": {
              "fillmode": "overlay",
              "size": 10,
              "solidity": 0.2
             }
            },
            "type": "histogram"
           }
          ],
          "histogram2d": [
           {
            "colorbar": {
             "outlinewidth": 0,
             "ticks": ""
            },
            "colorscale": [
             [
              0,
              "#0d0887"
             ],
             [
              0.1111111111111111,
              "#46039f"
             ],
             [
              0.2222222222222222,
              "#7201a8"
             ],
             [
              0.3333333333333333,
              "#9c179e"
             ],
             [
              0.4444444444444444,
              "#bd3786"
             ],
             [
              0.5555555555555556,
              "#d8576b"
             ],
             [
              0.6666666666666666,
              "#ed7953"
             ],
             [
              0.7777777777777778,
              "#fb9f3a"
             ],
             [
              0.8888888888888888,
              "#fdca26"
             ],
             [
              1,
              "#f0f921"
             ]
            ],
            "type": "histogram2d"
           }
          ],
          "histogram2dcontour": [
           {
            "colorbar": {
             "outlinewidth": 0,
             "ticks": ""
            },
            "colorscale": [
             [
              0,
              "#0d0887"
             ],
             [
              0.1111111111111111,
              "#46039f"
             ],
             [
              0.2222222222222222,
              "#7201a8"
             ],
             [
              0.3333333333333333,
              "#9c179e"
             ],
             [
              0.4444444444444444,
              "#bd3786"
             ],
             [
              0.5555555555555556,
              "#d8576b"
             ],
             [
              0.6666666666666666,
              "#ed7953"
             ],
             [
              0.7777777777777778,
              "#fb9f3a"
             ],
             [
              0.8888888888888888,
              "#fdca26"
             ],
             [
              1,
              "#f0f921"
             ]
            ],
            "type": "histogram2dcontour"
           }
          ],
          "mesh3d": [
           {
            "colorbar": {
             "outlinewidth": 0,
             "ticks": ""
            },
            "type": "mesh3d"
           }
          ],
          "parcoords": [
           {
            "line": {
             "colorbar": {
              "outlinewidth": 0,
              "ticks": ""
             }
            },
            "type": "parcoords"
           }
          ],
          "pie": [
           {
            "automargin": true,
            "type": "pie"
           }
          ],
          "scatter": [
           {
            "fillpattern": {
             "fillmode": "overlay",
             "size": 10,
             "solidity": 0.2
            },
            "type": "scatter"
           }
          ],
          "scatter3d": [
           {
            "line": {
             "colorbar": {
              "outlinewidth": 0,
              "ticks": ""
             }
            },
            "marker": {
             "colorbar": {
              "outlinewidth": 0,
              "ticks": ""
             }
            },
            "type": "scatter3d"
           }
          ],
          "scattercarpet": [
           {
            "marker": {
             "colorbar": {
              "outlinewidth": 0,
              "ticks": ""
             }
            },
            "type": "scattercarpet"
           }
          ],
          "scattergeo": [
           {
            "marker": {
             "colorbar": {
              "outlinewidth": 0,
              "ticks": ""
             }
            },
            "type": "scattergeo"
           }
          ],
          "scattergl": [
           {
            "marker": {
             "colorbar": {
              "outlinewidth": 0,
              "ticks": ""
             }
            },
            "type": "scattergl"
           }
          ],
          "scattermap": [
           {
            "marker": {
             "colorbar": {
              "outlinewidth": 0,
              "ticks": ""
             }
            },
            "type": "scattermap"
           }
          ],
          "scattermapbox": [
           {
            "marker": {
             "colorbar": {
              "outlinewidth": 0,
              "ticks": ""
             }
            },
            "type": "scattermapbox"
           }
          ],
          "scatterpolar": [
           {
            "marker": {
             "colorbar": {
              "outlinewidth": 0,
              "ticks": ""
             }
            },
            "type": "scatterpolar"
           }
          ],
          "scatterpolargl": [
           {
            "marker": {
             "colorbar": {
              "outlinewidth": 0,
              "ticks": ""
             }
            },
            "type": "scatterpolargl"
           }
          ],
          "scatterternary": [
           {
            "marker": {
             "colorbar": {
              "outlinewidth": 0,
              "ticks": ""
             }
            },
            "type": "scatterternary"
           }
          ],
          "surface": [
           {
            "colorbar": {
             "outlinewidth": 0,
             "ticks": ""
            },
            "colorscale": [
             [
              0,
              "#0d0887"
             ],
             [
              0.1111111111111111,
              "#46039f"
             ],
             [
              0.2222222222222222,
              "#7201a8"
             ],
             [
              0.3333333333333333,
              "#9c179e"
             ],
             [
              0.4444444444444444,
              "#bd3786"
             ],
             [
              0.5555555555555556,
              "#d8576b"
             ],
             [
              0.6666666666666666,
              "#ed7953"
             ],
             [
              0.7777777777777778,
              "#fb9f3a"
             ],
             [
              0.8888888888888888,
              "#fdca26"
             ],
             [
              1,
              "#f0f921"
             ]
            ],
            "type": "surface"
           }
          ],
          "table": [
           {
            "cells": {
             "fill": {
              "color": "#EBF0F8"
             },
             "line": {
              "color": "white"
             }
            },
            "header": {
             "fill": {
              "color": "#C8D4E3"
             },
             "line": {
              "color": "white"
             }
            },
            "type": "table"
           }
          ]
         },
         "layout": {
          "annotationdefaults": {
           "arrowcolor": "#2a3f5f",
           "arrowhead": 0,
           "arrowwidth": 1
          },
          "autotypenumbers": "strict",
          "coloraxis": {
           "colorbar": {
            "outlinewidth": 0,
            "ticks": ""
           }
          },
          "colorscale": {
           "diverging": [
            [
             0,
             "#8e0152"
            ],
            [
             0.1,
             "#c51b7d"
            ],
            [
             0.2,
             "#de77ae"
            ],
            [
             0.3,
             "#f1b6da"
            ],
            [
             0.4,
             "#fde0ef"
            ],
            [
             0.5,
             "#f7f7f7"
            ],
            [
             0.6,
             "#e6f5d0"
            ],
            [
             0.7,
             "#b8e186"
            ],
            [
             0.8,
             "#7fbc41"
            ],
            [
             0.9,
             "#4d9221"
            ],
            [
             1,
             "#276419"
            ]
           ],
           "sequential": [
            [
             0,
             "#0d0887"
            ],
            [
             0.1111111111111111,
             "#46039f"
            ],
            [
             0.2222222222222222,
             "#7201a8"
            ],
            [
             0.3333333333333333,
             "#9c179e"
            ],
            [
             0.4444444444444444,
             "#bd3786"
            ],
            [
             0.5555555555555556,
             "#d8576b"
            ],
            [
             0.6666666666666666,
             "#ed7953"
            ],
            [
             0.7777777777777778,
             "#fb9f3a"
            ],
            [
             0.8888888888888888,
             "#fdca26"
            ],
            [
             1,
             "#f0f921"
            ]
           ],
           "sequentialminus": [
            [
             0,
             "#0d0887"
            ],
            [
             0.1111111111111111,
             "#46039f"
            ],
            [
             0.2222222222222222,
             "#7201a8"
            ],
            [
             0.3333333333333333,
             "#9c179e"
            ],
            [
             0.4444444444444444,
             "#bd3786"
            ],
            [
             0.5555555555555556,
             "#d8576b"
            ],
            [
             0.6666666666666666,
             "#ed7953"
            ],
            [
             0.7777777777777778,
             "#fb9f3a"
            ],
            [
             0.8888888888888888,
             "#fdca26"
            ],
            [
             1,
             "#f0f921"
            ]
           ]
          },
          "colorway": [
           "#636efa",
           "#EF553B",
           "#00cc96",
           "#ab63fa",
           "#FFA15A",
           "#19d3f3",
           "#FF6692",
           "#B6E880",
           "#FF97FF",
           "#FECB52"
          ],
          "font": {
           "color": "#2a3f5f"
          },
          "geo": {
           "bgcolor": "white",
           "lakecolor": "white",
           "landcolor": "#E5ECF6",
           "showlakes": true,
           "showland": true,
           "subunitcolor": "white"
          },
          "hoverlabel": {
           "align": "left"
          },
          "hovermode": "closest",
          "mapbox": {
           "style": "light"
          },
          "paper_bgcolor": "white",
          "plot_bgcolor": "#E5ECF6",
          "polar": {
           "angularaxis": {
            "gridcolor": "white",
            "linecolor": "white",
            "ticks": ""
           },
           "bgcolor": "#E5ECF6",
           "radialaxis": {
            "gridcolor": "white",
            "linecolor": "white",
            "ticks": ""
           }
          },
          "scene": {
           "xaxis": {
            "backgroundcolor": "#E5ECF6",
            "gridcolor": "white",
            "gridwidth": 2,
            "linecolor": "white",
            "showbackground": true,
            "ticks": "",
            "zerolinecolor": "white"
           },
           "yaxis": {
            "backgroundcolor": "#E5ECF6",
            "gridcolor": "white",
            "gridwidth": 2,
            "linecolor": "white",
            "showbackground": true,
            "ticks": "",
            "zerolinecolor": "white"
           },
           "zaxis": {
            "backgroundcolor": "#E5ECF6",
            "gridcolor": "white",
            "gridwidth": 2,
            "linecolor": "white",
            "showbackground": true,
            "ticks": "",
            "zerolinecolor": "white"
           }
          },
          "shapedefaults": {
           "line": {
            "color": "#2a3f5f"
           }
          },
          "ternary": {
           "aaxis": {
            "gridcolor": "white",
            "linecolor": "white",
            "ticks": ""
           },
           "baxis": {
            "gridcolor": "white",
            "linecolor": "white",
            "ticks": ""
           },
           "bgcolor": "#E5ECF6",
           "caxis": {
            "gridcolor": "white",
            "linecolor": "white",
            "ticks": ""
           }
          },
          "title": {
           "x": 0.05
          },
          "xaxis": {
           "automargin": true,
           "gridcolor": "white",
           "linecolor": "white",
           "ticks": "",
           "title": {
            "standoff": 15
           },
           "zerolinecolor": "white",
           "zerolinewidth": 2
          },
          "yaxis": {
           "automargin": true,
           "gridcolor": "white",
           "linecolor": "white",
           "ticks": "",
           "title": {
            "standoff": 15
           },
           "zerolinecolor": "white",
           "zerolinewidth": 2
          }
         }
        },
        "title": {
         "text": "Environmental metrics"
        },
        "xaxis": {
         "anchor": "y",
         "domain": [
          0,
          0.16799999999999998
         ]
        },
        "xaxis2": {
         "anchor": "y2",
         "domain": [
          0.208,
          0.376
         ]
        },
        "xaxis3": {
         "anchor": "y3",
         "domain": [
          0.416,
          0.584
         ]
        },
        "xaxis4": {
         "anchor": "y4",
         "domain": [
          0.624,
          0.792
         ]
        },
        "xaxis5": {
         "anchor": "y5",
         "domain": [
          0.832,
          1
         ]
        },
        "yaxis": {
         "anchor": "x",
         "domain": [
          0,
          1
         ]
        },
        "yaxis2": {
         "anchor": "x2",
         "domain": [
          0,
          1
         ]
        },
        "yaxis3": {
         "anchor": "x3",
         "domain": [
          0,
          1
         ]
        },
        "yaxis4": {
         "anchor": "x4",
         "domain": [
          0,
          1
         ]
        },
        "yaxis5": {
         "anchor": "x5",
         "domain": [
          0,
          1
         ]
        }
       }
      }
     },
     "metadata": {},
     "output_type": "display_data"
    }
   ],
   "source": [
    "boxplots(train_df, environmental, 'Environmental metrics')"
   ]
  },
  {
   "cell_type": "code",
   "execution_count": 130,
   "id": "4ce39795-26ef-47d5-a3e6-afb7c31b6d20",
   "metadata": {
    "executionCancelledAt": null,
    "executionTime": null,
    "lastExecutedAt": null,
    "lastExecutedByKernel": null,
    "lastScheduledRunId": null,
    "lastSuccessfullyExecutedCode": null,
    "outputsMetadata": {
     "0": {
      "height": 50,
      "tableState": {
       "customFilter": {
        "const": {
         "type": "boolean",
         "valid": true,
         "value": true
        },
        "id": "53d18a2c-7ce8-44a3-a890-25986f1c7238",
        "nodeType": "const"
       }
      },
      "type": "dataFrame"
     }
    }
   },
   "outputs": [
    {
     "data": {
      "text/html": [
       "<div>\n",
       "<style scoped>\n",
       "    .dataframe tbody tr th:only-of-type {\n",
       "        vertical-align: middle;\n",
       "    }\n",
       "\n",
       "    .dataframe tbody tr th {\n",
       "        vertical-align: top;\n",
       "    }\n",
       "\n",
       "    .dataframe thead th {\n",
       "        text-align: right;\n",
       "    }\n",
       "</style>\n",
       "<table border=\"1\" class=\"dataframe\">\n",
       "  <thead>\n",
       "    <tr style=\"text-align: right;\">\n",
       "      <th></th>\n",
       "      <th>Year</th>\n",
       "      <th>Renewable Energy Patents</th>\n",
       "      <th>GDP</th>\n",
       "      <th>Population</th>\n",
       "      <th>Government Policies</th>\n",
       "      <th>Renewable Energy Targets</th>\n",
       "      <th>Public-Private Partnerships in Energy</th>\n",
       "      <th>Energy Market Liberalization</th>\n",
       "    </tr>\n",
       "  </thead>\n",
       "  <tbody>\n",
       "    <tr>\n",
       "      <th>0</th>\n",
       "      <td>2012</td>\n",
       "      <td>421</td>\n",
       "      <td>31625827987332</td>\n",
       "      <td>481876601</td>\n",
       "      <td>0</td>\n",
       "      <td>0</td>\n",
       "      <td>0</td>\n",
       "      <td>1</td>\n",
       "    </tr>\n",
       "    <tr>\n",
       "      <th>1</th>\n",
       "      <td>2016</td>\n",
       "      <td>818</td>\n",
       "      <td>102797607167595</td>\n",
       "      <td>1336318209</td>\n",
       "      <td>0</td>\n",
       "      <td>1</td>\n",
       "      <td>1</td>\n",
       "      <td>1</td>\n",
       "    </tr>\n",
       "    <tr>\n",
       "      <th>2</th>\n",
       "      <td>2002</td>\n",
       "      <td>632</td>\n",
       "      <td>25395194643740</td>\n",
       "      <td>677070231</td>\n",
       "      <td>1</td>\n",
       "      <td>1</td>\n",
       "      <td>1</td>\n",
       "      <td>0</td>\n",
       "    </tr>\n",
       "    <tr>\n",
       "      <th>3</th>\n",
       "      <td>2014</td>\n",
       "      <td>875</td>\n",
       "      <td>34418288673773</td>\n",
       "      <td>1422504982</td>\n",
       "      <td>0</td>\n",
       "      <td>1</td>\n",
       "      <td>1</td>\n",
       "      <td>1</td>\n",
       "    </tr>\n",
       "    <tr>\n",
       "      <th>4</th>\n",
       "      <td>2015</td>\n",
       "      <td>358</td>\n",
       "      <td>176196615072280</td>\n",
       "      <td>815611375</td>\n",
       "      <td>0</td>\n",
       "      <td>1</td>\n",
       "      <td>1</td>\n",
       "      <td>1</td>\n",
       "    </tr>\n",
       "  </tbody>\n",
       "</table>\n",
       "</div>"
      ],
      "text/plain": [
       "   Year  Renewable Energy Patents              GDP  Population  \\\n",
       "0  2012                       421   31625827987332   481876601   \n",
       "1  2016                       818  102797607167595  1336318209   \n",
       "2  2002                       632   25395194643740   677070231   \n",
       "3  2014                       875   34418288673773  1422504982   \n",
       "4  2015                       358  176196615072280   815611375   \n",
       "\n",
       "   Government Policies  Renewable Energy Targets  \\\n",
       "0                    0                         0   \n",
       "1                    0                         1   \n",
       "2                    1                         1   \n",
       "3                    0                         1   \n",
       "4                    0                         1   \n",
       "\n",
       "   Public-Private Partnerships in Energy  Energy Market Liberalization  \n",
       "0                                      0                             1  \n",
       "1                                      1                             1  \n",
       "2                                      1                             0  \n",
       "3                                      1                             1  \n",
       "4                                      1                             1  "
      ]
     },
     "execution_count": 130,
     "metadata": {},
     "output_type": "execute_result"
    }
   ],
   "source": [
    "train_df_copy.select_dtypes('int64').head()"
   ]
  },
  {
   "cell_type": "code",
   "execution_count": 131,
   "id": "b20eaea8-6f1e-4943-a7cb-0d6ff864528a",
   "metadata": {
    "executionCancelledAt": null,
    "executionTime": null,
    "lastExecutedAt": null,
    "lastExecutedByKernel": null,
    "lastScheduledRunId": null,
    "lastSuccessfullyExecutedCode": null,
    "outputsMetadata": {
     "0": {
      "height": 50,
      "tableState": {
       "customFilter": {
        "const": {
         "type": "boolean",
         "valid": true,
         "value": true
        },
        "id": "53d18a2c-7ce8-44a3-a890-25986f1c7238",
        "nodeType": "const"
       }
      },
      "type": "dataFrame"
     }
    }
   },
   "outputs": [
    {
     "data": {
      "text/html": [
       "<div>\n",
       "<style scoped>\n",
       "    .dataframe tbody tr th:only-of-type {\n",
       "        vertical-align: middle;\n",
       "    }\n",
       "\n",
       "    .dataframe tbody tr th {\n",
       "        vertical-align: top;\n",
       "    }\n",
       "\n",
       "    .dataframe thead th {\n",
       "        text-align: right;\n",
       "    }\n",
       "</style>\n",
       "<table border=\"1\" class=\"dataframe\">\n",
       "  <thead>\n",
       "    <tr style=\"text-align: right;\">\n",
       "      <th></th>\n",
       "      <th>Year</th>\n",
       "      <th>Renewable Energy Patents</th>\n",
       "      <th>GDP</th>\n",
       "      <th>Population</th>\n",
       "      <th>Government Policies</th>\n",
       "      <th>Renewable Energy Targets</th>\n",
       "      <th>Public-Private Partnerships in Energy</th>\n",
       "      <th>Energy Market Liberalization</th>\n",
       "    </tr>\n",
       "  </thead>\n",
       "  <tbody>\n",
       "    <tr>\n",
       "      <th>count</th>\n",
       "      <td>2400.00</td>\n",
       "      <td>2400.00</td>\n",
       "      <td>2400.00</td>\n",
       "      <td>2400.00</td>\n",
       "      <td>2400.00</td>\n",
       "      <td>2400.00</td>\n",
       "      <td>2400.00</td>\n",
       "      <td>2400.00</td>\n",
       "    </tr>\n",
       "    <tr>\n",
       "      <th>mean</th>\n",
       "      <td>2011.32</td>\n",
       "      <td>501.26</td>\n",
       "      <td>100389911188527.39</td>\n",
       "      <td>749308512.07</td>\n",
       "      <td>0.51</td>\n",
       "      <td>0.50</td>\n",
       "      <td>0.50</td>\n",
       "      <td>0.49</td>\n",
       "    </tr>\n",
       "    <tr>\n",
       "      <th>std</th>\n",
       "      <td>6.85</td>\n",
       "      <td>287.28</td>\n",
       "      <td>57383289085517.38</td>\n",
       "      <td>435441280.29</td>\n",
       "      <td>0.50</td>\n",
       "      <td>0.50</td>\n",
       "      <td>0.50</td>\n",
       "      <td>0.50</td>\n",
       "    </tr>\n",
       "    <tr>\n",
       "      <th>min</th>\n",
       "      <td>2000.00</td>\n",
       "      <td>1.00</td>\n",
       "      <td>56039654636.00</td>\n",
       "      <td>1255357.00</td>\n",
       "      <td>0.00</td>\n",
       "      <td>0.00</td>\n",
       "      <td>0.00</td>\n",
       "      <td>0.00</td>\n",
       "    </tr>\n",
       "    <tr>\n",
       "      <th>25%</th>\n",
       "      <td>2006.00</td>\n",
       "      <td>261.75</td>\n",
       "      <td>50835955468446.25</td>\n",
       "      <td>381278953.75</td>\n",
       "      <td>0.00</td>\n",
       "      <td>0.00</td>\n",
       "      <td>0.00</td>\n",
       "      <td>0.00</td>\n",
       "    </tr>\n",
       "    <tr>\n",
       "      <th>50%</th>\n",
       "      <td>2011.00</td>\n",
       "      <td>495.00</td>\n",
       "      <td>101213468566272.50</td>\n",
       "      <td>753711569.50</td>\n",
       "      <td>1.00</td>\n",
       "      <td>0.00</td>\n",
       "      <td>1.00</td>\n",
       "      <td>0.00</td>\n",
       "    </tr>\n",
       "    <tr>\n",
       "      <th>75%</th>\n",
       "      <td>2017.00</td>\n",
       "      <td>752.25</td>\n",
       "      <td>150234505277426.50</td>\n",
       "      <td>1119418513.75</td>\n",
       "      <td>1.00</td>\n",
       "      <td>1.00</td>\n",
       "      <td>1.00</td>\n",
       "      <td>1.00</td>\n",
       "    </tr>\n",
       "    <tr>\n",
       "      <th>max</th>\n",
       "      <td>2023.00</td>\n",
       "      <td>1000.00</td>\n",
       "      <td>199922253361572.00</td>\n",
       "      <td>1499494307.00</td>\n",
       "      <td>1.00</td>\n",
       "      <td>1.00</td>\n",
       "      <td>1.00</td>\n",
       "      <td>1.00</td>\n",
       "    </tr>\n",
       "  </tbody>\n",
       "</table>\n",
       "</div>"
      ],
      "text/plain": [
       "         Year  Renewable Energy Patents                GDP    Population  \\\n",
       "count 2400.00                   2400.00            2400.00       2400.00   \n",
       "mean  2011.32                    501.26 100389911188527.39  749308512.07   \n",
       "std      6.85                    287.28  57383289085517.38  435441280.29   \n",
       "min   2000.00                      1.00     56039654636.00    1255357.00   \n",
       "25%   2006.00                    261.75  50835955468446.25  381278953.75   \n",
       "50%   2011.00                    495.00 101213468566272.50  753711569.50   \n",
       "75%   2017.00                    752.25 150234505277426.50 1119418513.75   \n",
       "max   2023.00                   1000.00 199922253361572.00 1499494307.00   \n",
       "\n",
       "       Government Policies  Renewable Energy Targets  \\\n",
       "count              2400.00                   2400.00   \n",
       "mean                  0.51                      0.50   \n",
       "std                   0.50                      0.50   \n",
       "min                   0.00                      0.00   \n",
       "25%                   0.00                      0.00   \n",
       "50%                   1.00                      0.00   \n",
       "75%                   1.00                      1.00   \n",
       "max                   1.00                      1.00   \n",
       "\n",
       "       Public-Private Partnerships in Energy  Energy Market Liberalization  \n",
       "count                                2400.00                       2400.00  \n",
       "mean                                    0.50                          0.49  \n",
       "std                                     0.50                          0.50  \n",
       "min                                     0.00                          0.00  \n",
       "25%                                     0.00                          0.00  \n",
       "50%                                     1.00                          0.00  \n",
       "75%                                     1.00                          1.00  \n",
       "max                                     1.00                          1.00  "
      ]
     },
     "execution_count": 131,
     "metadata": {},
     "output_type": "execute_result"
    }
   ],
   "source": [
    "pd.set_option(\"display.float_format\", \"{:.2f}\".format)\n",
    "\n",
    "train_df_copy.select_dtypes('int64').describe()"
   ]
  },
  {
   "cell_type": "markdown",
   "id": "e57811b8",
   "metadata": {},
   "source": [
    "Among the integer-type variables, some were described as values representing specific features, such as Government Policies and Public-Private Partnerships in Energy. However, rather than reflecting magnitudes, these variables actually contain binary values indicating the presence or absence of a given feature, as if a feature engineering process had already been applied. Therefore, and considering that the original magnitudes cannot be retrieved, these variables will be treated as binary for the model implementation."
   ]
  },
  {
   "cell_type": "code",
   "execution_count": 83,
   "id": "b1ddd420-b6fe-4de6-b665-5c0bab284b04",
   "metadata": {
    "executionCancelledAt": null,
    "executionTime": 96,
    "lastExecutedAt": 1751252836498,
    "lastExecutedByKernel": "9ab45037-05ad-4598-b165-ee154da42364",
    "lastScheduledRunId": null,
    "lastSuccessfullyExecutedCode": "int_vals = train_df.select_dtypes('int64').columns[1:]\nboxplots(train_df, int_vals[:3], '')",
    "outputsMetadata": {
     "0": {
      "height": 17,
      "type": "plotly"
     }
    }
   },
   "outputs": [
    {
     "data": {
      "application/vnd.plotly.v1+json": {
       "config": {
        "plotlyServerURL": "https://plot.ly"
       },
       "data": [
        {
         "boxpoints": "outliers",
         "name": "Renewable Energy Patents",
         "type": "box",
         "xaxis": "x",
         "y": {
          "bdata": "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",
          "dtype": "i2"
         },
         "yaxis": "y"
        },
        {
         "boxpoints": "outliers",
         "name": "GDP",
         "type": "box",
         "xaxis": "x2",
         "y": [
          31625827987332,
          102797607167595,
          25395194643740,
          34418288673773,
          176196615072280,
          172375281528140,
          180328679550818,
          89410506018050,
          102474833423464,
          28689623879432,
          57624441556351,
          105633829843778,
          38661371774883,
          117243065506394,
          188187346373424,
          76532736821718,
          192584257538907,
          105668043839556,
          52720928220459,
          12040424023504,
          136573177537299,
          175217932792813,
          47824394346370,
          52325692753309,
          135313901484569,
          195154816987406,
          45295586513185,
          56039654636,
          68135604754183,
          175571349738703,
          174677740418257,
          55738318357241,
          149068965006609,
          133254962047718,
          183342542437639,
          179813376285786,
          8923698277422,
          45543043872048,
          55523369340459,
          101318799695500,
          192998518143030,
          2335467502568,
          118198678537636,
          129231592057407,
          91965838266413,
          34464596061571,
          160698453978504,
          26608664868942,
          87247767112057,
          163153441299333,
          64739141723756,
          97954361704600,
          21028305141899,
          96869054433405,
          100435448836396,
          129005976681950,
          123694547822131,
          117481656150525,
          147774641129884,
          123178417550575,
          43209117526771,
          185851278322630,
          169578081848871,
          112652653031597,
          70258008745085,
          151678095174831,
          129408255162038,
          113137960289543,
          186250923248428,
          169195406716585,
          76403630455943,
          81924341557411,
          124869563215075,
          27864014225264,
          116908576339095,
          120454034239649,
          61576445950971,
          69459711199424,
          181479292286052,
          172733866701893,
          25326056775974,
          18324019277775,
          75377803052307,
          112636777351344,
          63319809325335,
          36658718121718,
          12367480483616,
          32273012272824,
          147231860160647,
          166997014310390,
          155147507450017,
          66634036174713,
          13185368587167,
          199823250877707,
          24041618717887,
          194400201945351,
          179002512470013,
          38570158116257,
          79570981653945,
          192558381344946,
          15935754100290,
          114241546082367,
          160393869720275,
          60683052448198,
          68095526758556,
          32314890658128,
          58366550215591,
          157964397655550,
          96281476328887,
          112535803376678,
          10209636913316,
          140723830481662,
          104793428525149,
          90800098472230,
          14940243427984,
          97745941926650,
          49894514539174,
          134818433973856,
          154563576739900,
          179333595544326,
          164070300674581,
          17545594564823,
          81867691216622,
          57095133998912,
          148704678809673,
          11042355133552,
          77945515026859,
          94789225188884,
          53384796167062,
          847046654589,
          72757128575793,
          75111410777984,
          135393294945481,
          187552450033237,
          173050412004635,
          60770765700779,
          38889561912719,
          137035473324818,
          82106400823520,
          71778981243398,
          159837406999327,
          193396761369618,
          46055203584643,
          15568180118645,
          4913479020637,
          74007020619105,
          171013586070008,
          115121348469767,
          56343273380273,
          71163845834278,
          61555390217324,
          36588750811043,
          118397171109307,
          160697395904622,
          163067218759787,
          161502267882796,
          153499683630811,
          32644628443964,
          76511084321709,
          144624612883575,
          42816539283208,
          191260914901728,
          42682244170036,
          25070761330865,
          124918677242892,
          196170531897124,
          13955321442485,
          94287055278967,
          188829218109644,
          107452430136001,
          83248413249623,
          53122808486391,
          195725877891568,
          191089318757606,
          3591998324332,
          85543901460064,
          134885181590841,
          143393106504390,
          122138511169483,
          167261451573692,
          144496346877334,
          103279862152123,
          196724017431570,
          29920189107192,
          45708378439609,
          56855467721846,
          64537671850208,
          32720589102541,
          86081221706193,
          180479927877484,
          99511134880519,
          13499678041481,
          56321943180333,
          1395826274376,
          148751750718817,
          134287633626628,
          88047624512548,
          74998913043895,
          64473564890816,
          165795231150180,
          106615006856681,
          56338082637677,
          49557653086135,
          9588103705058,
          5831171187959,
          66840017557967,
          153642756858307,
          155961345585898,
          79657741135301,
          101136106001185,
          142581817556090,
          30199432331514,
          177527818919196,
          121232034093967,
          154664265314043,
          118138359835189,
          29857236994644,
          54655765229175,
          114422100938476,
          128388581753670,
          144886135837470,
          170906485958897,
          163173890848025,
          40132374590376,
          21798843725238,
          67778966703400,
          59415543959143,
          127914542629488,
          109262994853256,
          176187624255031,
          48075532288462,
          82392671021368,
          64722301216389,
          151815676261503,
          34920463555230,
          85954829160338,
          52052270161228,
          175537966716827,
          27931097669573,
          195566468995218,
          158965994366907,
          33521963536201,
          8136295084586,
          169998972634852,
          109576052924381,
          18632861217897,
          70566083686713,
          174525145704258,
          57141557376498,
          130768925965769,
          65421601630869,
          175105433776899,
          59240401818772,
          74231396753438,
          113567351633771,
          193798018344069,
          157805309622740,
          4274553803874,
          156587706523737,
          183127854880216,
          151467870759562,
          43115039156555,
          104430912464435,
          126466004844292,
          112633116896955,
          14156269178007,
          105400635731149,
          163654618776262,
          192523178342291,
          168422096524500,
          91037808114686,
          159474641143368,
          136803513567289,
          97428503319186,
          166785948548029,
          33103821512438,
          42926532393923,
          164687075137037,
          158627446531248,
          138190180033926,
          130657576340620,
          35094509838266,
          182419861737115,
          25071042956265,
          177597017346055,
          177608037474582,
          172020636250828,
          41597738074377,
          7360406540106,
          199922253361572,
          50546309039798,
          121402210519288,
          45867217056737,
          87107769425373,
          11897098480024,
          27525806735297,
          82561975287385,
          180715067420844,
          10562203568093,
          72683868081708,
          177068365596411,
          165349385683426,
          121107078767746,
          32912661661046,
          8357935526555,
          101680578283226,
          37942322394597,
          143444960192220,
          50853186494480,
          32214261957466,
          75058723114324,
          165369954584246,
          57241037839709,
          138393073726795,
          106595096428395,
          76614129404200,
          62736351581480,
          74945655112825,
          172374166207584,
          61878435421954,
          149628853283430,
          17769510210471,
          154225025228351,
          118799198493479,
          131248048355095,
          126122995601991,
          115737074102129,
          190566084017819,
          139630592213498,
          27914374421255,
          107631110874952,
          174795579335833,
          17260875219850,
          107897981588599,
          71482492790007,
          51179048154311,
          144630388777135,
          116058481233279,
          42924027990299,
          69982196136886,
          61561338636928,
          85530783459880,
          95175421773672,
          137591765600764,
          171050696753648,
          196494069014601,
          53287872271428,
          66262262316873,
          108988783693785,
          68950038569662,
          139553647694031,
          163125016654360,
          105399365921006,
          158355115684834,
          116856166673775,
          73435427317889,
          120570601888148,
          80904991214251,
          109396029280182,
          8405337546117,
          128273889992641,
          55925631351994,
          105101884347635,
          113263129248872,
          153245053452103,
          72927497444807,
          157735921664289,
          121860573749495,
          187622096781245,
          12125425415371,
          12750011939400,
          42833938164879,
          196099738599438,
          11184550419442,
          75439156657560,
          118870515551673,
          149415778381418,
          21898399690351,
          76984951860192,
          81308157166197,
          135711389889540,
          96607461190834,
          50627651467900,
          79096165380221,
          51391309889764,
          31669133540659,
          181626738162855,
          111259137782488,
          40693361713361,
          31526392148331,
          93448523697198,
          161308821736637,
          11299696257524,
          184886208049211,
          142211356706607,
          107938937912812,
          185840502807601,
          79114019916039,
          14200649078644,
          23567651940793,
          193155464000283,
          175030189352435,
          154987678734470,
          189835861522426,
          165525964618603,
          169353223229099,
          57746184197053,
          162056537366471,
          51182989779663,
          78332503194785,
          48342958617005,
          123177677073337,
          72675681412674,
          109162791684770,
          157552024345034,
          89476601217818,
          54050382857091,
          73688486066525,
          12150116951004,
          191388093040112,
          196522807646542,
          83132951682225,
          73051415205025,
          189008633255208,
          113323061807454,
          168136097922380,
          150385909269406,
          130705066320230,
          132485620974337,
          118886803234606,
          189937002195576,
          78036893051938,
          136063763288785,
          78994481419301,
          74617551299667,
          38038996405976,
          68693137630582,
          101833777534458,
          91869095973851,
          106169618682142,
          143790468534086,
          33197286886297,
          31283371626337,
          186615875615843,
          195061249065887,
          120543949506980,
          150751749194992,
          70571159097080,
          91521007817351,
          119775996465130,
          173842434160657,
          21476672730100,
          181518581712944,
          57831329763172,
          169322764187423,
          171151236767568,
          95638410892388,
          123645894223058,
          149183080434183,
          20436280368867,
          115608368198907,
          85682494758432,
          186607581510175,
          29684508355851,
          42903786070475,
          24555527960041,
          13076152984355,
          39907171960312,
          43853494557795,
          60702468232264,
          118546234792770,
          170552167666548,
          129790933359696,
          123987767004757,
          129248526451568,
          13918892174626,
          36527134976283,
          127640757054405,
          51239490025559,
          77625684201583,
          172478671737392,
          178999126663392,
          169330613965962,
          25656601781270,
          113304063965753,
          30243362606590,
          71845998542511,
          130113035579402,
          87555282511734,
          178754916606621,
          58756225405955,
          60993523439762,
          9566510376195,
          3818502316945,
          15070047345803,
          30695965722925,
          67123756759627,
          99006858411639,
          122338801855154,
          132801502286454,
          53314483626299,
          125007971968891,
          121508105114792,
          78390304571879,
          14043363950499,
          168145711313229,
          7731963987939,
          95924852922396,
          48000220683901,
          180150563504571,
          58493087138641,
          108040879619318,
          87074884307717,
          77507104066705,
          128242415414805,
          60295428131752,
          69938202253002,
          46387353317531,
          29653899841721,
          98271445939981,
          148733774041200,
          116852546743842,
          20422782034159,
          63728970480863,
          130038656486427,
          193638400747963,
          170203730794792,
          71128095262519,
          91459155652851,
          165030657653285,
          3177854433070,
          164707040110901,
          116126439235357,
          28904722202089,
          102952845074843,
          4215092390752,
          96656279499508,
          78775593005971,
          118352581370377,
          31320380778676,
          143260263807685,
          68929792304018,
          46084135893714,
          101383331142041,
          23060468249022,
          42836897898895,
          4196601926859,
          105861631230574,
          181957476250362,
          157488569849791,
          188770163206554,
          158833316169647,
          103633013452985,
          124421138033199,
          129030635297556,
          23142571594684,
          6296263910370,
          130933397049252,
          44962816551012,
          50567861494818,
          175762510831375,
          167898089088917,
          126061629907860,
          105182424398682,
          138285630334086,
          156792558512690,
          129029070366127,
          111727088552554,
          126663255323989,
          111755603291209,
          168026572272762,
          194110004207099,
          44653880360468,
          122948767621156,
          165409310288161,
          146323147816355,
          159169947980374,
          124010783356109,
          160151218324972,
          99913120702111,
          71453305687094,
          148679392381802,
          170281338146585,
          140689017193184,
          82825055300951,
          83242706291919,
          4825078477810,
          163656959975886,
          26199990370592,
          94663763704686,
          144974954733116,
          171585742298204,
          162064141019531,
          65642297417912,
          39144812105825,
          11370122210185,
          195100084667526,
          115141626157089,
          131950317403373,
          117577631200610,
          60062011129651,
          149340894073478,
          19405639927675,
          184567112402632,
          26621375047167,
          82726640818581,
          78265809803324,
          45478350076833,
          91966200428375,
          179372282249405,
          128113547858481,
          69693743050511,
          103922885718715,
          104271117211072,
          160978457054918,
          194054780918016,
          74947721068259,
          183734359723000,
          1463882596899,
          58843461062850,
          45371804918785,
          118256444605470,
          20956727792752,
          3077276822844,
          69971580489296,
          38433123840990,
          116176338975137,
          25394003188760,
          52179829349130,
          134776925657494,
          44241470200329,
          50970688271193,
          169870065235503,
          17581188111596,
          118106776054104,
          62298084188377,
          152789205506781,
          145597167187347,
          57100604624325,
          95954011711299,
          119438793120415,
          104953168726226,
          150184037280100,
          90599604225968,
          84492331228548,
          186182871338617,
          78456364194841,
          105578905665320,
          24261231789703,
          179290474286760,
          125175290068357,
          60886171438020,
          75093136159237,
          49009827979063,
          55713466422782,
          173802480958622,
          197107735368760,
          6277406464247,
          37932216245091,
          87142292279651,
          73156256355708,
          100029993309740,
          85326827252968,
          116610883979183,
          166907104039585,
          171887766033714,
          134656668595294,
          87304637066094,
          9415202807766,
          58557923010019,
          55972405975503,
          40469245597514,
          70958850168322,
          53704323624381,
          54112215692266,
          184954859486377,
          133235734129639,
          64370107369466,
          131195437830301,
          76219895253659,
          79752751825915,
          191749676932388,
          21466184495648,
          94437057220877,
          75409719752103,
          58633211769517,
          17767138632165,
          126251678292947,
          134986823717443,
          40521519970356,
          25994445453173,
          101279084939799,
          93087318016859,
          135419558424555,
          144461208330847,
          128070349999743,
          33632078399488,
          6848907178323,
          78803839220760,
          126003163654217,
          99297474759774,
          166593017221312,
          39311910726853,
          3769604175254,
          149102051225922,
          28822642212257,
          14807656174987,
          156731959315466,
          133094088706911,
          86595790071919,
          15316986463318,
          87237305562579,
          56052282938187,
          122156834556409,
          78846386275539,
          60555428391800,
          163614138834845,
          174277953228752,
          144829365895028,
          98336764001923,
          139578405424370,
          107687807472350,
          31580016212590,
          3553451620789,
          28777230122783,
          23811954116975,
          32984457672168,
          3835822822848,
          13832458810184,
          79774693747668,
          20541343180102,
          164799843042418,
          120131033558095,
          94866140169198,
          96819945774351,
          19007697358012,
          69047263966001,
          56296890735522,
          97245795481892,
          54035433465150,
          166927233909589,
          185518248951882,
          122813325529680,
          61194191936436,
          4027248104423,
          17836501783265,
          199033268868034,
          46130825774594,
          137399167371285,
          199431544827702,
          121877918392809,
          53789077894696,
          25773678928052,
          171506155334765,
          106500403338438,
          176084829125133,
          171320607038419,
          100466048384109,
          92315751851568,
          155784281135223,
          153634618216389,
          46521458458190,
          92397174428648,
          178279123836026,
          123291071522102,
          112899174737745,
          65763806577393,
          140445649493747,
          80046927666704,
          188349547290138,
          111408905093768,
          31841151677352,
          161777270939737,
          196743994951372,
          198166641293841,
          63409519063679,
          96944360718723,
          54197488949663,
          57697466433577,
          13189917712324,
          131536408869993,
          57926490296174,
          70095657898708,
          117271182560054,
          88321126391871,
          152769796809866,
          106182226113728,
          67806986540941,
          156428270769312,
          145386490251870,
          108024858185699,
          116221292260782,
          188367936157902,
          63057984113168,
          154622290216118,
          194075539661033,
          121054568500476,
          118314895756160,
          65453239549379,
          63051326826901,
          99367261243245,
          184134384759431,
          166181531151367,
          49789780458157,
          117121294341354,
          196872794944130,
          95288185375339,
          16917871942589,
          697811553888,
          135329336468415,
          10437409036509,
          194589431957323,
          111497941087782,
          115410973447683,
          61129563657614,
          28471436841164,
          171924217856643,
          190796616267616,
          137529333596143,
          186799859645769,
          181605943889934,
          179341243310012,
          191024835082505,
          91967887925484,
          96941505665874,
          159867826490428,
          148682936221471,
          137701063311793,
          55021256320042,
          148542390066787,
          149782803572778,
          1909889960357,
          41357645970032,
          70721262149372,
          177469433647138,
          179001138834019,
          95809712194323,
          115620246653266,
          76524258790149,
          22898900628309,
          114194214975615,
          86156992267209,
          81807052396949,
          135449990565961,
          159027053528818,
          123359354352814,
          155192039856511,
          32790096045001,
          171032215950889,
          47693361017828,
          129487820235371,
          183870233514477,
          63012720528788,
          191144355867396,
          124764806411829,
          75371953809847,
          120434522523151,
          124408208024936,
          68830755176510,
          183659359354771,
          39874993000480,
          16092141486586,
          76950213610996,
          138884180195612,
          199746377160537,
          131837086493141,
          114747281913138,
          70154804136912,
          89203938063160,
          27497237062776,
          119683023801374,
          86476049319767,
          189895759625602,
          105699937050484,
          70715771634329,
          94744580589494,
          42352405882702,
          134058377968034,
          153248408190507,
          134807977690642,
          31764626275918,
          133052517704707,
          161624083652342,
          182556667881644,
          135243500161742,
          23357738039335,
          49255982579923,
          39661347115536,
          41474564923851,
          177664757899533,
          59796492212954,
          52923847598116,
          171984157701703,
          105808546933335,
          92678611354711,
          65524664244159,
          75207951707354,
          195912189848046,
          86523179714294,
          170666623504709,
          117337119986398,
          4119821809657,
          123596755765468,
          110863868412862,
          32037677337073,
          29558514198570,
          20113016251137,
          82339649531435,
          86565677630520,
          156018394397830,
          126070534553200,
          135447627460688,
          1472532016673,
          40107735074969,
          7055696423428,
          131211258362337,
          169518930754964,
          57295812638088,
          183937299201592,
          158270349151362,
          107440578498108,
          32504367935736,
          191796629028464,
          51370473962618,
          2507053005449,
          156322125174514,
          65344153354513,
          59756362076519,
          40372763899130,
          31241249290953,
          173810456179762,
          145966647067149,
          135849602291794,
          82119839648492,
          172582534041661,
          20862079406727,
          84182781013382,
          125467565628984,
          172285988923259,
          184120046068367,
          146555131935330,
          160783918509747,
          145753458833023,
          39395758518780,
          160252833196545,
          29094398391727,
          156635055732981,
          162598223016463,
          18661279059822,
          27627518317418,
          12151577330861,
          106006325297225,
          188819791997307,
          6936974427613,
          43779404829355,
          61803333501863,
          179489435640932,
          38007431239060,
          25580788336994,
          124161662698417,
          9217137964341,
          188823873208814,
          195384798975376,
          114702162753902,
          129491652192966,
          65356750763636,
          99507533169911,
          37514487365761,
          84374171508191,
          171999722590436,
          143599520633376,
          185366708414994,
          143396466023350,
          161812625537300,
          15692954469026,
          93529341304018,
          24706566980065,
          41407586879231,
          153936614431069,
          80118634895065,
          56297014206191,
          189363531218156,
          160324158841244,
          154715296727580,
          25333080789793,
          184354335633920,
          117065180930982,
          31087812246172,
          163245352944384,
          55429532859246,
          193252065141408,
          62240077966773,
          103112733419997,
          181047430735835,
          93635175818539,
          50150059079587,
          80348959577785,
          179703299281796,
          107265151441246,
          40427105275768,
          18325334190779,
          147038738457850,
          93536271660153,
          115220189926004,
          171033374315944,
          7233877231538,
          177862093076784,
          106971996432563,
          145457622444806,
          23605351305972,
          166860108589016,
          136801268094771,
          114970271143513,
          30315708548811,
          197130220310003,
          73967760791535,
          135092842077230,
          197976194087741,
          154541657204679,
          46823077703054,
          130930485538151,
          185086802353913,
          131298370389045,
          37354026325489,
          193723869539257,
          102047495432039,
          176740205127491,
          143004118831321,
          181415121900020,
          164228504244062,
          30779522425884,
          34804575715896,
          185576331053037,
          29468360111200,
          28140053565199,
          43126430894361,
          47525200125017,
          161982900911412,
          143578812372697,
          29764263500907,
          153842600044582,
          186900800392191,
          18992602448788,
          71844720979234,
          143567370772120,
          2429212065587,
          119398482887233,
          158426236228035,
          101248530137401,
          80576409249911,
          178627093488423,
          51236516390967,
          72579630774088,
          68903493529743,
          139767814401582,
          193500445991630,
          74034912911793,
          35925710932285,
          150521599584363,
          13328585304434,
          39068618510523,
          29343483977141,
          146448889262547,
          13346111416070,
          30076493957688,
          155307054140603,
          32999698200056,
          73762601278870,
          36156295181722,
          175269406612257,
          4208509966918,
          44349551654863,
          47855459070919,
          157104852106351,
          181370016058742,
          145340304359092,
          2244535593888,
          3422231128940,
          58428095239013,
          52286963058583,
          85213111128369,
          145210225995664,
          116069982013839,
          132179510108978,
          37072595550838,
          105346026803341,
          47045252033839,
          198573252332538,
          183137832209183,
          125005074975803,
          151916238896539,
          5875061124327,
          22875491420410,
          114292345544323,
          160901724261874,
          68990122188149,
          36236519118848,
          71743602408016,
          134855494579707,
          60532047593905,
          160013955222149,
          63188362891006,
          155307390037563,
          180441879541354,
          56472959011748,
          6164627196018,
          110342592831354,
          89769810696342,
          14101989159852,
          53265574912485,
          195480936042425,
          96538455994054,
          79642465962,
          179613590870128,
          3520405447850,
          45909333362045,
          30715263380441,
          186927866106356,
          142604627905749,
          176628959409004,
          185300334322771,
          170153534675923,
          39475635447339,
          138651036846262,
          147350459612955,
          59622315662058,
          110819603904104,
          70383454320430,
          15893670506063,
          157570048659700,
          156215698306655,
          54146545119347,
          82747666345873,
          16363494585301,
          193075776562156,
          39938999372811,
          152598914549609,
          7373346782837,
          101232160626305,
          163139008632216,
          169629322124846,
          192957944610305,
          117907679882454,
          173381952881137,
          101194776506240,
          168282378337377,
          99267823850046,
          62659537213545,
          93487454027236,
          157734306062548,
          116796665362183,
          33334501800115,
          33510244656831,
          104483651294221,
          96943215009988,
          97035052645871,
          172233708714295,
          75097928682685,
          196573226616098,
          175968320044441,
          140429879084297,
          196798108449053,
          55906773666885,
          30159623423893,
          58953627060908,
          175925543316823,
          65820663555888,
          154289320294462,
          124404665718050,
          51263350278041,
          75038301100826,
          83668302016273,
          181078118068939,
          142217649054016,
          65991618798317,
          20087057266324,
          158000290080079,
          18089035838725,
          138517387664805,
          51842091609071,
          35967552955653,
          141466967245111,
          177785937913029,
          122549510470529,
          121634515908074,
          87534475714076,
          175768601870333,
          78194827080689,
          43917735379068,
          69651445190198,
          69011574536611,
          98459862582147,
          169459939269179,
          14633129822306,
          133975911968605,
          80689554485849,
          68350470959936,
          16835109555832,
          90903392224474,
          184773712445107,
          121460817274255,
          63806340108598,
          128578334801334,
          139852742659762,
          197467633943519,
          169196613432184,
          63842941194764,
          153666431403149,
          118079674718306,
          65341355942159,
          37809517259540,
          41039727610144,
          147783261700827,
          145296750097872,
          122802235517934,
          183851793810953,
          67397210349098,
          185608111132356,
          45637155983083,
          175669803584613,
          173582110597229,
          34744389284125,
          29730094564424,
          161650358906035,
          168604385841468,
          57307526183173,
          124361251640046,
          42917838020621,
          125863174870852,
          164899079735184,
          91906336692622,
          144941891178817,
          27111924401733,
          35498645459929,
          106856240664061,
          87434204101694,
          106585672850592,
          124259987859692,
          32789904240751,
          39550270031542,
          67860021164386,
          5939089697603,
          180933548459929,
          38421213714006,
          178967879068977,
          196651685076723,
          192681926488478,
          1290435509584,
          187463487155398,
          85574647574798,
          51928638678113,
          175252791926143,
          167146204345329,
          34247396827773,
          156467863527960,
          39080248491653,
          36057696796685,
          174900404160539,
          197600120549831,
          65416337756719,
          176226714021934,
          65963614922202,
          29107542935287,
          145582532123148,
          131720550790347,
          128358966075069,
          113657686297495,
          84221303403465,
          55829249223422,
          39960400210684,
          103736314060460,
          51663705921038,
          139241944160282,
          173919823897340,
          16324259431246,
          60116847513392,
          133005394097403,
          130379165649843,
          65033735015756,
          136014271183554,
          142096536209028,
          132491239372140,
          156533467034585,
          176639554848777,
          67518092315829,
          76297836120815,
          159188686777367,
          98465695514641,
          182972561875978,
          116492029729535,
          171029172679812,
          25077963519524,
          156509802871453,
          177372827307262,
          185752557049032,
          37654225517198,
          165699911735116,
          829462933407,
          140810420018589,
          125294097760150,
          77134914920780,
          44064608922216,
          81032857699763,
          183842367917344,
          117163904588036,
          124810217178396,
          132247757227237,
          147122956124887,
          14738783326168,
          17483952992141,
          66704671101718,
          43453576398605,
          191400652592323,
          136919325489974,
          80576718496172,
          149943301152797,
          172469707452511,
          180909974436852,
          14838376804387,
          24329125163398,
          26009592802197,
          134468596799094,
          152790547427654,
          95544193496111,
          78210748534026,
          197650313308913,
          106482738115084,
          50462848087562,
          122310381811540,
          85134902092891,
          188539530100230,
          177099809830693,
          76190941767900,
          142619635115854,
          57943339257113,
          119477771996222,
          191480148592811,
          121676778365075,
          30646119200117,
          180864186814072,
          118318521645384,
          185800582012160,
          184864763590951,
          145667455207274,
          139514564154825,
          197612162472530,
          150029010176975,
          77436427760835,
          186832563707330,
          43636284453573,
          102063791387023,
          77116314132752,
          102146518584367,
          191471630336759,
          151438413441078,
          158983348111922,
          18583696788948,
          183994439857474,
          84707068983480,
          36147234218695,
          40495006210386,
          101731580581124,
          42235120061878,
          168750217931969,
          2363402637668,
          158650673823097,
          30666755689602,
          163149384580149,
          138567213135698,
          180982253931355,
          47384975802729,
          94311563800069,
          105385657167982,
          14539797949227,
          179105521027024,
          104026858926269,
          46790855624338,
          191644462216537,
          61366516071434,
          140464132244104,
          133955228464849,
          195561168604208,
          130202512428602,
          127212220982199,
          156799917337836,
          96567706813097,
          92309729449093,
          107024871101706,
          154909910849342,
          123702947113672,
          155814283311309,
          155703034635011,
          91568928466641,
          62789590570427,
          68718655963285,
          19156248845955,
          43613336832069,
          99710187321438,
          177844094446380,
          174793923359362,
          181741853148287,
          50783267914177,
          149672861244151,
          44661824899245,
          171468114416555,
          181840970713897,
          168115101190195,
          42165080421698,
          20348431142459,
          198675425727527,
          3414754119548,
          192060892170567,
          150892569347210,
          95345082972003,
          120015731751122,
          8113434617954,
          18043361911934,
          62138731699649,
          77279054375695,
          167636020696497,
          83571423884836,
          116480653108154,
          167129821928929,
          170726728775994,
          48957016993472,
          156279366099578,
          180366591979343,
          181392891912301,
          109642428001827,
          20343735522762,
          118073195262264,
          145647413855814,
          7832939167814,
          124941968068597,
          37183963509828,
          87429922791299,
          95634777965241,
          18643395841436,
          26144922081197,
          41858086463342,
          8437876908543,
          66872258515273,
          93432206364320,
          123502476240736,
          184430294824389,
          183736902337435,
          54103938726864,
          165480336235201,
          128232879448212,
          130128436423702,
          173251596290559,
          80665010669550,
          35731004404933,
          89213928590134,
          157086852179291,
          123681796145793,
          27460634720825,
          197554872429544,
          42541893734051,
          113492005854226,
          111827654640723,
          81286426545298,
          132413180387882,
          174226778576530,
          158073640890258,
          25226007683966,
          143224942453580,
          28251234109059,
          176320441076623,
          139726063852682,
          28956268172546,
          120132734230136,
          80077341796830,
          118038485056588,
          52713248283503,
          39243279923889,
          160523551851483,
          195876242109516,
          93747760251705,
          33537118045910,
          7257163665062,
          190971060500070,
          109992473011633,
          144739306217563,
          113949512517358,
          102999688274758,
          69536406817378,
          101722468048182,
          150674304903540,
          107049252907200,
          169903698809336,
          196918647345875,
          2222490368545,
          20213241819675,
          1056817146465,
          56711926244355,
          116767204403289,
          61064652722070,
          131796059750736,
          92213852132320,
          16146004062010,
          69584122561458,
          98466646328506,
          64621472147158,
          190210799685110,
          173681331685606,
          133281943713554,
          85451182929586,
          157777520882732,
          82526340061229,
          93337031889447,
          137472794171832,
          165435381509097,
          20003590807656,
          69914376995630,
          119916065308192,
          182608639214998,
          195614513391821,
          50047294637247,
          132602090490888,
          188470043520423,
          188303197000950,
          8715118538760,
          59189329993304,
          196203840275576,
          186147683119655,
          622903837222,
          94001974540684,
          194633354866215,
          173306294957786,
          88966603242009,
          172326908197742,
          186762397541635,
          186710165062288,
          16568024285064,
          77469307408213,
          179038552447833,
          53783901772170,
          83632386334349,
          42662794234070,
          11992054944497,
          100442615335850,
          59964998147709,
          55112277621447,
          177661832322338,
          111969027568553,
          81545677915075,
          75707607083604,
          126883411864536,
          76673464847512,
          12116944297636,
          181287854049847,
          55816667718543,
          181209692178483,
          159795371760223,
          24704725360755,
          97437494147417,
          9020873147144,
          129718931078705,
          160212830767118,
          123108627645236,
          180394858256949,
          107012870080007,
          69794642615091,
          96617153047829,
          40285748706790,
          87431897493785,
          192581039456949,
          149334715673690,
          42886031342577,
          8878628793293,
          79846254314066,
          165338424231292,
          178694320696745,
          67886128792227,
          36974358141771,
          176101394000805,
          51095528988147,
          89373212918394,
          56259966157084,
          103178310151692,
          139507935290809,
          12010867961552,
          139242336294498,
          74753478576351,
          15748251075508,
          69653073423,
          3184600864579,
          177717161348825,
          102299664783886,
          139375292042909,
          131684715719944,
          154648644605608,
          54192600985967,
          27764958072773,
          116587224831652,
          4039874885771,
          129872274360361,
          40861554611216,
          181898002172991,
          153961955409464,
          6015846659378,
          131582070292870,
          77692725042665,
          105968162894349,
          142837673681912,
          162196920235310,
          37437214905347,
          102211490197218,
          33378603525457,
          5663294467513,
          126216956890653,
          59361900201021,
          73886714030653,
          180814063558270,
          46500063904223,
          51452840005219,
          198814436465567,
          97847047841740,
          11786514082785,
          76911016385119,
          14629067376200,
          120164830953273,
          131053556563709,
          46733360256689,
          130707811749905,
          68662570446579,
          25832075029596,
          190892107574365,
          81307081443038,
          170831788373991,
          52431652819636,
          110903232416364,
          100219384015243,
          70402220200438,
          32463682918604,
          80483865926837,
          78123922921083,
          134125011203100,
          10931352498491,
          83581702980206,
          178910415009075,
          52680442314658,
          199313025930148,
          169042803621926,
          11594436020097,
          35149488369188,
          42500963886409,
          143119554461799,
          172861783425271,
          104871741498379,
          171448610474587,
          27850496519640,
          189076333175864,
          6579278385178,
          141984708267638,
          176980599415396,
          38316568599649,
          134225000630542,
          178672283977526,
          175745819732063,
          23429602275189,
          49872144603552,
          119851467920937,
          161786480821242,
          191022028184365,
          30618255417326,
          53564361602145,
          94549790212522,
          6977820216000,
          113477609980314,
          98572051465462,
          100216376138879,
          85693234349433,
          40986375756219,
          178909170165800,
          88772746974236,
          136219483523621,
          30871780941649,
          176949904390385,
          151099151545134,
          18676518580624,
          185963445002155,
          104947784013100,
          148361750667792,
          117601801677805,
          139991346302220,
          92131823933358,
          63933940562689,
          104257490729297,
          173732798739309,
          10712556927324,
          113200546389213,
          152210736636406,
          185500453780882,
          168317901690900,
          184298969773058,
          162077740117160,
          133938321208850,
          148629005503754,
          116708383286377,
          106229975079382,
          99715086267618,
          155212620999632,
          71963679241126,
          27473504281911,
          82677484665422,
          125225616367204,
          165425198372362,
          156961441577193,
          155929064422481,
          178356770999357,
          72046573474960,
          70760251889936,
          18124602987892,
          87073583217069,
          50109869584318,
          150786624118257,
          59163696599345,
          102861509524665,
          36664086165845,
          28130299062846,
          176306039779310,
          36936155794710,
          12718366902602,
          174902505266432,
          165523677074542,
          155061549838197,
          121465029560649,
          47851123408921,
          14236590952130,
          58278087408629,
          45807963961190,
          49039496894258,
          34998858108203,
          55169706079675,
          135730498155695,
          151715847695908,
          2041680911765,
          81114421407669,
          195328425046967,
          72722661724030,
          140070627660940,
          109982836398141,
          73400482547914,
          136071167327181,
          94510183754101,
          63439580189919,
          33159835611049,
          111004814165409,
          109521812422023,
          156808478585190,
          30757847652507,
          83003712163788,
          9698301849655,
          16771748424399,
          138048629660918,
          192085665550620,
          74711225970366,
          170215699486463,
          125323180515502,
          89646101112067,
          49474756019896,
          14716978664148,
          129750593651555,
          83630061093826,
          112666231047630,
          51533384511837,
          35838333627507,
          190974040438275,
          97657429347052,
          182810703611312,
          43847683107552,
          58716047520954,
          84876831145442,
          137362802849678,
          61542165257584,
          22877962161603,
          30703546295135,
          142024083949701,
          69832977432025,
          133448122971316,
          171496820806780,
          109891350512716,
          173520757334165,
          67705859733400,
          104697080390524,
          63148537602245,
          146033645744207,
          22282011620720,
          145587404380017,
          7500239720974,
          92775160529277,
          17250699387881,
          120647916594119,
          91972560648475,
          49417596549340,
          84678618929627,
          88247766686127,
          16295559919411,
          9483817303671,
          176298216801952,
          193573706384793,
          144922277997953,
          105922686009735,
          15774027058597,
          46817055260142,
          145215114976040,
          77837670919907,
          122344784940979,
          149184397992715,
          89962831970775,
          113688470756306,
          136861564257427,
          22523991297833,
          5255730283018,
          67189009988330,
          129138085825125,
          26405372629934,
          196164744133826,
          139982865904641,
          9004019196368,
          67765873922874,
          28341879284989,
          122322852161350,
          167077463311898,
          22421503541134,
          126896676818585,
          166576980744992,
          48058410445068,
          15692860166137,
          197847176946098,
          199478310820776,
          22039859525526,
          66002802283054,
          154145931612358,
          25822092370386,
          150855119613284,
          90651789911855,
          50687144166348,
          50493001708218,
          168776416784530,
          78447450319828,
          55594218677825,
          79116219766335,
          83726543239512,
          76362957981600,
          23752756604463,
          47516967169593,
          8351854591135,
          32792243531191,
          57135607682615,
          100589021663464,
          126306141580290,
          49003272278203,
          18467518414409,
          3736148945070,
          172846322040144,
          122321198392260,
          185121483109765,
          29432200521700,
          56315283711998,
          28546064877024,
          35524724023754,
          26064941857168,
          35417106600862,
          181335748787261,
          97458718158800,
          9509989873928,
          84682849596346,
          179781679158095,
          173828914506908,
          146191639730047,
          27144713698155,
          59127597260185,
          152385938229870,
          7540444696699,
          75251072540909,
          120957814360848,
          32835893999918,
          32612394623160,
          12846033167864,
          24451589760650,
          36447750031243,
          10366309785097,
          62116560801690,
          41243217286667,
          58012901575371,
          85633433161671,
          151406953357545,
          13721948839924,
          145905615255410,
          130040589605730,
          144622503470544,
          184534057330784,
          98698505735807,
          46911506122488,
          149234822598819,
          12568776123921,
          129491276061129,
          40283318135336,
          160440844513130,
          164294354252000,
          178367865754561,
          14842124505357,
          26589283443714,
          134831858084861,
          83623500407843,
          129053770182065,
          110480523170481,
          173406324469826,
          94372572453470,
          130743388035284,
          36778551888784,
          93360843653918,
          176764147972608,
          13097235119385,
          42982562221445,
          26433066821521,
          102603653806408,
          163013914340185,
          168120658733763,
          10906693924414,
          161503363908351,
          80944232976470,
          96245590387202,
          178319964214508,
          94418513305901,
          65349188285760,
          103215583960451,
          129175359600540,
          146653723101510,
          151800682422055,
          152792003651055,
          16439039467420,
          12272721255605,
          34098985329679,
          96853953148599,
          177873169053096,
          21321987096520,
          128270801307189,
          148927029206980,
          199297320523756,
          113948281537971,
          11788259051646,
          32371588907423,
          90595423683913,
          197641720559001,
          100571596628115,
          51203036317542,
          84800445974864,
          137997794689807,
          79162795439654,
          92918011901381,
          196438924682760,
          31645567820789,
          155952496217462,
          155439268334507,
          134179789523152,
          111535656538895,
          65810162294396,
          133061254926688,
          80759348966461,
          185415090091116,
          187337811062120,
          150791598482885,
          164451576293831,
          169465568208673,
          12460723307764,
          164782607736706,
          39271500236380,
          116997143143815,
          17613662009357,
          60768428179005,
          8362587825726,
          93753813489574,
          19503645102239,
          153214058799622,
          77195659043504,
          119442069977877,
          3846762637142,
          135892504888218,
          6065112408407,
          120144490146648,
          64353719977941,
          176085846337707,
          21984712479124,
          26923985013286,
          95458744967841,
          18144865157469,
          157356657459590,
          71645481937488,
          98609224186962,
          166701542332269,
          79867697919163,
          51238311876647,
          7260378701645,
          48819858142454,
          180864625232854,
          188129977184758,
          79276792905374,
          86050800386163,
          155814732781965,
          166158976792897,
          88821021316108,
          73901331652516,
          129669023027525,
          85882435961410,
          90776292257224,
          163740216460159,
          93116286810229,
          40277737297971,
          41740119417494,
          79251302326425,
          52632284808860,
          87733277626716,
          26269378111751,
          126508389902910,
          14947102444349,
          8146669579624,
          188468827517252,
          174980791376100,
          125670372066378,
          168050541499039,
          65530530742103,
          133332897225939,
          17628134016260,
          16073091850945,
          165992096604186,
          371146258886,
          90632826784765,
          185082639161873,
          137009135157911,
          1018853009630,
          194331518905493,
          86779560922578,
          131022157555037,
          62834003190371,
          186883807638466,
          45527106007105,
          114763150013175,
          125243713984435,
          121429028266812,
          118472555542628,
          127734240025242,
          149261824283316,
          63602748445716,
          152092686846916,
          27239563744656,
          137343153815756,
          191254496954599,
          118625033834358,
          117910369904824,
          47698584946281,
          147340566173116,
          100580995321628,
          1836211207952,
          8108527362390,
          112331848600266,
          26798449680315,
          47187591165179,
          23595713713430,
          67016918334756,
          66690256197746,
          24737706154025,
          119418276848737,
          87758600331230,
          129927545857416,
          22957671650903,
          68049904841506,
          146695027879223,
          109859037191286,
          98994402554858,
          58272279782775,
          69092308126955,
          193350227634838,
          175970049499734,
          164236455559276,
          145127658430943,
          95178279460681,
          151559825751942,
          22979816059093,
          61453710886962,
          110733567743425,
          76738279430339,
          183902175884911,
          117167496570061,
          74232349106129,
          99645758370610,
          191852806322942,
          183533732934360,
          151789804448775,
          122646493248596,
          174182570089576,
          16886795290137,
          196992890670791,
          22137626892882,
          24238487432998,
          145169813987735,
          32973438331072,
          142679524116593,
          82024742444628,
          184836179897778,
          86793624410270,
          196933585497938,
          9565271332223,
          157530180230304,
          185955104933702,
          125198936424444,
          50784262390345,
          82438739357647,
          80831533430786,
          181857698602779,
          72904556211990,
          176175414792583,
          195890550822980,
          4879205630243,
          47210249935631,
          122612107605805,
          134442896869693,
          131922803796378,
          130836875894758,
          10293757337780,
          20905786542732,
          31947646171311,
          93090734891160,
          18565369769755,
          180063488993127,
          175440971544816,
          190979691970629,
          160783971169547,
          105052592434206,
          103276592336230,
          184271142596751,
          127284412094148,
          196208339623027,
          140355051394151,
          195667086383472,
          6670811959348,
          112835842996404,
          41145617232797,
          64476776712354,
          109697378323375,
          61365523785303,
          113169476800665,
          99307529470915,
          25956213176779,
          152283149151808,
          121311696967417,
          56278776852052,
          90491313317034,
          70454145128361,
          29489980938846,
          123485011417417,
          67047941076232,
          125434368748703,
          81724070991877,
          10015512905532,
          70454367119176,
          140067657605949,
          34887936637562,
          134630949579954,
          33765404959926,
          143944608861288,
          198550860960582,
          5121805814256,
          27064677752181,
          175517927891921,
          148894038318218,
          14563079729004,
          159117629461600,
          197169601729803,
          64849055117898,
          3438770737022,
          149912927228888,
          110158556283212,
          130426447439311,
          96635745409781,
          62624295564806,
          18186966457222,
          51292724392489,
          71761682714512,
          171796470390164,
          79172043200657,
          167574456448011,
          102372930970565,
          166119142128118,
          78608202029666,
          547917749645,
          177854771119609,
          105675448359503,
          85483777207778,
          94258728201446,
          82198796057144,
          104540539777773,
          119712975010465,
          6197029195720,
          175399141675109,
          17506740939357,
          76460936111376,
          87373848056597,
          28026257176031,
          156098978158395,
          8485589874663,
          7413619953514,
          41982913838259,
          65134875844185,
          160986261895631,
          184492738011754,
          188464347028608,
          136661758562352,
          129303414082435,
          181931052379784,
          143061188148897,
          107560306612750,
          4750522344762,
          96075739186505,
          106833326207303,
          114772813035375,
          18024896038826,
          130499378970554,
          108520203026887,
          112236406929212,
          84051453154145,
          19558069311824,
          42700913660751,
          135046406195172,
          24100011744207,
          139032876692260,
          164219411041823,
          42460968343456,
          122667717662049,
          45866223612448,
          79793351601567,
          103917599155936,
          139053931666820,
          182507819116750,
          133956134633399,
          2628612855334,
          68688392165566,
          148677344218640,
          84632024734007,
          39326893668633,
          21874458927604,
          157800276841984,
          107646362982367,
          49568528711088,
          107793631775414,
          37938521710066,
          102836037065232,
          83918823129028,
          122836211812236,
          133573920267777,
          105998531972440,
          6263666683614,
          30868665959511,
          24144952736100,
          52413571945172,
          52939447941844,
          59596066923331,
          3102465449905,
          2839886202583,
          176347847907547,
          42651624079716,
          185160961109329,
          44847300231450,
          162481700000195,
          141635633093754,
          116207985503199,
          4899485018496,
          80100449157749,
          116061702370705,
          189659721139892,
          159505129774065,
          84022609362149,
          125148469265461,
          14378859517806,
          168593810280715,
          162646287350361,
          83293215838243,
          82024317133395,
          99948630378721,
          132604064329803,
          32372608576593,
          191004260048758,
          131369327585324,
          115366382929304,
          80239947108272,
          86186078399313,
          121276028070906,
          180362824536189,
          116059163889347,
          48170178326126,
          20565216337823,
          19078093507002,
          15853282720401,
          125269232393716,
          15209088423576,
          146896786022901,
          160337695350917,
          6628640091353,
          133780927559317,
          124060843186900,
          121104274052494,
          38160923079332,
          46249653909960,
          134857828569400,
          53327493864372,
          66566139380556,
          102372238116695,
          85881748480515,
          21873045310997,
          34213613640702,
          43886311573286,
          53343300396610,
          119228093475545,
          164396690999958,
          100768026389601,
          5273229227131,
          158794785939981,
          112776458569605,
          187428885910941,
          47292515871672,
          100572267024971,
          196669289545631,
          43004867628855,
          174081268673090,
          115371670089893,
          117991485475378,
          52501417444013,
          128969005247407,
          9617529781522,
          191313214226990,
          191048001320397,
          92578106444255,
          179370890760610,
          131777545265879,
          25602304887638,
          60510655409997,
          141546502528817,
          139862146416083,
          33237400658116,
          143702843969178,
          123220884025967,
          74335860706256,
          131006355162918,
          157677597966807,
          78287844224260,
          11415175212587,
          105474424557568,
          168529467588321,
          30413171967309,
          130628559307085,
          124918940584360,
          85553636667685,
          142370656216646,
          1663024223132,
          117644894083077,
          22191883627746,
          104450209533835,
          129660679127465,
          82305175871593,
          69202447717502,
          7702766249079,
          139364258593834,
          153298201600125,
          156604284593286,
          185817549984680,
          94016072651633,
          111634974870914,
          107160185961628,
          113742923609793,
          21430836378127,
          162288038313176,
          132451695617761,
          128147674381589,
          74127623256151,
          88919738480472,
          39864282348039,
          73821037261608,
          110177083197447,
          144350692620059,
          95578771607971,
          5701399144007,
          106335858515739,
          73906399047812,
          84888993305674,
          199404477012634,
          125258149941725,
          137623789600718,
          164928138289458,
          138660487829649,
          168648820490059,
          5791495628985,
          68743719295111,
          71690940675254,
          190209127983964,
          14969423461991,
          123927305897633,
          16005917294003
         ],
         "yaxis": "y2"
        },
        {
         "boxpoints": "outliers",
         "name": "Population",
         "type": "box",
         "xaxis": "x3",
         "y": {
          "bdata": "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",
          "dtype": "i4"
         },
         "yaxis": "y3"
        }
       ],
       "layout": {
        "height": 320,
        "margin": {
         "l": 60,
         "r": 60
        },
        "showlegend": false,
        "template": {
         "data": {
          "bar": [
           {
            "error_x": {
             "color": "#2a3f5f"
            },
            "error_y": {
             "color": "#2a3f5f"
            },
            "marker": {
             "line": {
              "color": "#E5ECF6",
              "width": 0.5
             },
             "pattern": {
              "fillmode": "overlay",
              "size": 10,
              "solidity": 0.2
             }
            },
            "type": "bar"
           }
          ],
          "barpolar": [
           {
            "marker": {
             "line": {
              "color": "#E5ECF6",
              "width": 0.5
             },
             "pattern": {
              "fillmode": "overlay",
              "size": 10,
              "solidity": 0.2
             }
            },
            "type": "barpolar"
           }
          ],
          "carpet": [
           {
            "aaxis": {
             "endlinecolor": "#2a3f5f",
             "gridcolor": "white",
             "linecolor": "white",
             "minorgridcolor": "white",
             "startlinecolor": "#2a3f5f"
            },
            "baxis": {
             "endlinecolor": "#2a3f5f",
             "gridcolor": "white",
             "linecolor": "white",
             "minorgridcolor": "white",
             "startlinecolor": "#2a3f5f"
            },
            "type": "carpet"
           }
          ],
          "choropleth": [
           {
            "colorbar": {
             "outlinewidth": 0,
             "ticks": ""
            },
            "type": "choropleth"
           }
          ],
          "contour": [
           {
            "colorbar": {
             "outlinewidth": 0,
             "ticks": ""
            },
            "colorscale": [
             [
              0,
              "#0d0887"
             ],
             [
              0.1111111111111111,
              "#46039f"
             ],
             [
              0.2222222222222222,
              "#7201a8"
             ],
             [
              0.3333333333333333,
              "#9c179e"
             ],
             [
              0.4444444444444444,
              "#bd3786"
             ],
             [
              0.5555555555555556,
              "#d8576b"
             ],
             [
              0.6666666666666666,
              "#ed7953"
             ],
             [
              0.7777777777777778,
              "#fb9f3a"
             ],
             [
              0.8888888888888888,
              "#fdca26"
             ],
             [
              1,
              "#f0f921"
             ]
            ],
            "type": "contour"
           }
          ],
          "contourcarpet": [
           {
            "colorbar": {
             "outlinewidth": 0,
             "ticks": ""
            },
            "type": "contourcarpet"
           }
          ],
          "heatmap": [
           {
            "colorbar": {
             "outlinewidth": 0,
             "ticks": ""
            },
            "colorscale": [
             [
              0,
              "#0d0887"
             ],
             [
              0.1111111111111111,
              "#46039f"
             ],
             [
              0.2222222222222222,
              "#7201a8"
             ],
             [
              0.3333333333333333,
              "#9c179e"
             ],
             [
              0.4444444444444444,
              "#bd3786"
             ],
             [
              0.5555555555555556,
              "#d8576b"
             ],
             [
              0.6666666666666666,
              "#ed7953"
             ],
             [
              0.7777777777777778,
              "#fb9f3a"
             ],
             [
              0.8888888888888888,
              "#fdca26"
             ],
             [
              1,
              "#f0f921"
             ]
            ],
            "type": "heatmap"
           }
          ],
          "histogram": [
           {
            "marker": {
             "pattern": {
              "fillmode": "overlay",
              "size": 10,
              "solidity": 0.2
             }
            },
            "type": "histogram"
           }
          ],
          "histogram2d": [
           {
            "colorbar": {
             "outlinewidth": 0,
             "ticks": ""
            },
            "colorscale": [
             [
              0,
              "#0d0887"
             ],
             [
              0.1111111111111111,
              "#46039f"
             ],
             [
              0.2222222222222222,
              "#7201a8"
             ],
             [
              0.3333333333333333,
              "#9c179e"
             ],
             [
              0.4444444444444444,
              "#bd3786"
             ],
             [
              0.5555555555555556,
              "#d8576b"
             ],
             [
              0.6666666666666666,
              "#ed7953"
             ],
             [
              0.7777777777777778,
              "#fb9f3a"
             ],
             [
              0.8888888888888888,
              "#fdca26"
             ],
             [
              1,
              "#f0f921"
             ]
            ],
            "type": "histogram2d"
           }
          ],
          "histogram2dcontour": [
           {
            "colorbar": {
             "outlinewidth": 0,
             "ticks": ""
            },
            "colorscale": [
             [
              0,
              "#0d0887"
             ],
             [
              0.1111111111111111,
              "#46039f"
             ],
             [
              0.2222222222222222,
              "#7201a8"
             ],
             [
              0.3333333333333333,
              "#9c179e"
             ],
             [
              0.4444444444444444,
              "#bd3786"
             ],
             [
              0.5555555555555556,
              "#d8576b"
             ],
             [
              0.6666666666666666,
              "#ed7953"
             ],
             [
              0.7777777777777778,
              "#fb9f3a"
             ],
             [
              0.8888888888888888,
              "#fdca26"
             ],
             [
              1,
              "#f0f921"
             ]
            ],
            "type": "histogram2dcontour"
           }
          ],
          "mesh3d": [
           {
            "colorbar": {
             "outlinewidth": 0,
             "ticks": ""
            },
            "type": "mesh3d"
           }
          ],
          "parcoords": [
           {
            "line": {
             "colorbar": {
              "outlinewidth": 0,
              "ticks": ""
             }
            },
            "type": "parcoords"
           }
          ],
          "pie": [
           {
            "automargin": true,
            "type": "pie"
           }
          ],
          "scatter": [
           {
            "fillpattern": {
             "fillmode": "overlay",
             "size": 10,
             "solidity": 0.2
            },
            "type": "scatter"
           }
          ],
          "scatter3d": [
           {
            "line": {
             "colorbar": {
              "outlinewidth": 0,
              "ticks": ""
             }
            },
            "marker": {
             "colorbar": {
              "outlinewidth": 0,
              "ticks": ""
             }
            },
            "type": "scatter3d"
           }
          ],
          "scattercarpet": [
           {
            "marker": {
             "colorbar": {
              "outlinewidth": 0,
              "ticks": ""
             }
            },
            "type": "scattercarpet"
           }
          ],
          "scattergeo": [
           {
            "marker": {
             "colorbar": {
              "outlinewidth": 0,
              "ticks": ""
             }
            },
            "type": "scattergeo"
           }
          ],
          "scattergl": [
           {
            "marker": {
             "colorbar": {
              "outlinewidth": 0,
              "ticks": ""
             }
            },
            "type": "scattergl"
           }
          ],
          "scattermap": [
           {
            "marker": {
             "colorbar": {
              "outlinewidth": 0,
              "ticks": ""
             }
            },
            "type": "scattermap"
           }
          ],
          "scattermapbox": [
           {
            "marker": {
             "colorbar": {
              "outlinewidth": 0,
              "ticks": ""
             }
            },
            "type": "scattermapbox"
           }
          ],
          "scatterpolar": [
           {
            "marker": {
             "colorbar": {
              "outlinewidth": 0,
              "ticks": ""
             }
            },
            "type": "scatterpolar"
           }
          ],
          "scatterpolargl": [
           {
            "marker": {
             "colorbar": {
              "outlinewidth": 0,
              "ticks": ""
             }
            },
            "type": "scatterpolargl"
           }
          ],
          "scatterternary": [
           {
            "marker": {
             "colorbar": {
              "outlinewidth": 0,
              "ticks": ""
             }
            },
            "type": "scatterternary"
           }
          ],
          "surface": [
           {
            "colorbar": {
             "outlinewidth": 0,
             "ticks": ""
            },
            "colorscale": [
             [
              0,
              "#0d0887"
             ],
             [
              0.1111111111111111,
              "#46039f"
             ],
             [
              0.2222222222222222,
              "#7201a8"
             ],
             [
              0.3333333333333333,
              "#9c179e"
             ],
             [
              0.4444444444444444,
              "#bd3786"
             ],
             [
              0.5555555555555556,
              "#d8576b"
             ],
             [
              0.6666666666666666,
              "#ed7953"
             ],
             [
              0.7777777777777778,
              "#fb9f3a"
             ],
             [
              0.8888888888888888,
              "#fdca26"
             ],
             [
              1,
              "#f0f921"
             ]
            ],
            "type": "surface"
           }
          ],
          "table": [
           {
            "cells": {
             "fill": {
              "color": "#EBF0F8"
             },
             "line": {
              "color": "white"
             }
            },
            "header": {
             "fill": {
              "color": "#C8D4E3"
             },
             "line": {
              "color": "white"
             }
            },
            "type": "table"
           }
          ]
         },
         "layout": {
          "annotationdefaults": {
           "arrowcolor": "#2a3f5f",
           "arrowhead": 0,
           "arrowwidth": 1
          },
          "autotypenumbers": "strict",
          "coloraxis": {
           "colorbar": {
            "outlinewidth": 0,
            "ticks": ""
           }
          },
          "colorscale": {
           "diverging": [
            [
             0,
             "#8e0152"
            ],
            [
             0.1,
             "#c51b7d"
            ],
            [
             0.2,
             "#de77ae"
            ],
            [
             0.3,
             "#f1b6da"
            ],
            [
             0.4,
             "#fde0ef"
            ],
            [
             0.5,
             "#f7f7f7"
            ],
            [
             0.6,
             "#e6f5d0"
            ],
            [
             0.7,
             "#b8e186"
            ],
            [
             0.8,
             "#7fbc41"
            ],
            [
             0.9,
             "#4d9221"
            ],
            [
             1,
             "#276419"
            ]
           ],
           "sequential": [
            [
             0,
             "#0d0887"
            ],
            [
             0.1111111111111111,
             "#46039f"
            ],
            [
             0.2222222222222222,
             "#7201a8"
            ],
            [
             0.3333333333333333,
             "#9c179e"
            ],
            [
             0.4444444444444444,
             "#bd3786"
            ],
            [
             0.5555555555555556,
             "#d8576b"
            ],
            [
             0.6666666666666666,
             "#ed7953"
            ],
            [
             0.7777777777777778,
             "#fb9f3a"
            ],
            [
             0.8888888888888888,
             "#fdca26"
            ],
            [
             1,
             "#f0f921"
            ]
           ],
           "sequentialminus": [
            [
             0,
             "#0d0887"
            ],
            [
             0.1111111111111111,
             "#46039f"
            ],
            [
             0.2222222222222222,
             "#7201a8"
            ],
            [
             0.3333333333333333,
             "#9c179e"
            ],
            [
             0.4444444444444444,
             "#bd3786"
            ],
            [
             0.5555555555555556,
             "#d8576b"
            ],
            [
             0.6666666666666666,
             "#ed7953"
            ],
            [
             0.7777777777777778,
             "#fb9f3a"
            ],
            [
             0.8888888888888888,
             "#fdca26"
            ],
            [
             1,
             "#f0f921"
            ]
           ]
          },
          "colorway": [
           "#636efa",
           "#EF553B",
           "#00cc96",
           "#ab63fa",
           "#FFA15A",
           "#19d3f3",
           "#FF6692",
           "#B6E880",
           "#FF97FF",
           "#FECB52"
          ],
          "font": {
           "color": "#2a3f5f"
          },
          "geo": {
           "bgcolor": "white",
           "lakecolor": "white",
           "landcolor": "#E5ECF6",
           "showlakes": true,
           "showland": true,
           "subunitcolor": "white"
          },
          "hoverlabel": {
           "align": "left"
          },
          "hovermode": "closest",
          "mapbox": {
           "style": "light"
          },
          "paper_bgcolor": "white",
          "plot_bgcolor": "#E5ECF6",
          "polar": {
           "angularaxis": {
            "gridcolor": "white",
            "linecolor": "white",
            "ticks": ""
           },
           "bgcolor": "#E5ECF6",
           "radialaxis": {
            "gridcolor": "white",
            "linecolor": "white",
            "ticks": ""
           }
          },
          "scene": {
           "xaxis": {
            "backgroundcolor": "#E5ECF6",
            "gridcolor": "white",
            "gridwidth": 2,
            "linecolor": "white",
            "showbackground": true,
            "ticks": "",
            "zerolinecolor": "white"
           },
           "yaxis": {
            "backgroundcolor": "#E5ECF6",
            "gridcolor": "white",
            "gridwidth": 2,
            "linecolor": "white",
            "showbackground": true,
            "ticks": "",
            "zerolinecolor": "white"
           },
           "zaxis": {
            "backgroundcolor": "#E5ECF6",
            "gridcolor": "white",
            "gridwidth": 2,
            "linecolor": "white",
            "showbackground": true,
            "ticks": "",
            "zerolinecolor": "white"
           }
          },
          "shapedefaults": {
           "line": {
            "color": "#2a3f5f"
           }
          },
          "ternary": {
           "aaxis": {
            "gridcolor": "white",
            "linecolor": "white",
            "ticks": ""
           },
           "baxis": {
            "gridcolor": "white",
            "linecolor": "white",
            "ticks": ""
           },
           "bgcolor": "#E5ECF6",
           "caxis": {
            "gridcolor": "white",
            "linecolor": "white",
            "ticks": ""
           }
          },
          "title": {
           "x": 0.05
          },
          "xaxis": {
           "automargin": true,
           "gridcolor": "white",
           "linecolor": "white",
           "ticks": "",
           "title": {
            "standoff": 15
           },
           "zerolinecolor": "white",
           "zerolinewidth": 2
          },
          "yaxis": {
           "automargin": true,
           "gridcolor": "white",
           "linecolor": "white",
           "ticks": "",
           "title": {
            "standoff": 15
           },
           "zerolinecolor": "white",
           "zerolinewidth": 2
          }
         }
        },
        "title": {
         "text": ""
        },
        "xaxis": {
         "anchor": "y",
         "domain": [
          0,
          0.2888888888888889
         ]
        },
        "xaxis2": {
         "anchor": "y2",
         "domain": [
          0.35555555555555557,
          0.6444444444444445
         ]
        },
        "xaxis3": {
         "anchor": "y3",
         "domain": [
          0.7111111111111111,
          1
         ]
        },
        "yaxis": {
         "anchor": "x",
         "domain": [
          0,
          1
         ]
        },
        "yaxis2": {
         "anchor": "x2",
         "domain": [
          0,
          1
         ]
        },
        "yaxis3": {
         "anchor": "x3",
         "domain": [
          0,
          1
         ]
        }
       }
      }
     },
     "metadata": {},
     "output_type": "display_data"
    }
   ],
   "source": [
    "int_vals = train_df.select_dtypes('int64').columns[1:]\n",
    "\n",
    "boxplots(train_df, vars= int_vals[:3], title='')\n"
   ]
  },
  {
   "cell_type": "code",
   "execution_count": 38,
   "id": "0eb34ee8",
   "metadata": {},
   "outputs": [],
   "source": [
    "train_df_copy['Country'] = train_df_copy['Country'].astype('category')\n",
    "train_df_copy['Energy Type'] = train_df_copy['Energy Type'].astype('category')"
   ]
  },
  {
   "cell_type": "markdown",
   "id": "dfa26c06",
   "metadata": {},
   "source": []
  },
  {
   "cell_type": "code",
   "execution_count": 139,
   "id": "96a93ca5",
   "metadata": {},
   "outputs": [
    {
     "data": {
      "image/png": "[encoded data removed]",
      "text/plain": [
       "<Figure size 288x720 with 1 Axes>"
      ]
     },
     "metadata": {
      "needs_background": "light"
     },
     "output_type": "display_data"
    }
   ],
   "source": [
    "pd.set_option(\"display.float_format\", \"{:.3f}\".format)\n",
    "\n",
    "(\n",
    "    train_df_copy\n",
    "    .corr(numeric_only= True)[['Production (GWh)']]\n",
    "    .sort_values(by= 'Production (GWh)', ascending= False)\n",
    "    .pipe(\n",
    "        lambda df:\n",
    "        (   plt.figure(figsize= (4,10)),\n",
    "            sns.heatmap(data= df,\n",
    "                        annot= True,\n",
    "                        cmap= 'coolwarm',\n",
    "                        vmin= -0.1, vmax= 0.1,\n",
    "                        cbar= False)\n",
    "        )\n",
    "    )\n",
    ")\n",
    "\n",
    "plt.show()"
   ]
  },
  {
   "cell_type": "code",
   "execution_count": null,
   "id": "8ad73b74",
   "metadata": {},
   "outputs": [
    {
     "name": "stdout",
     "output_type": "stream",
     "text": [
      "                                  Feature       VIF\n",
      "3                      Energy Consumption  1.017178\n",
      "10               Renewable Energy Patents  1.016035\n",
      "13                             Population  1.014791\n",
      "26                        Hydro Potential  1.014318\n",
      "7                        Energy Subsidies  1.014010\n",
      "19                     Regulatory Quality  1.013824\n",
      "15               Renewable Energy Targets  1.013687\n",
      "17           Energy Market Liberalization  1.013652\n",
      "16  Public-Private Partnerships in Energy  1.013472\n",
      "20                    Political Stability  1.013304\n",
      "2                       Investments (USD)  1.012884\n",
      "23             Average Annual Temperature  1.012252\n",
      "18                 Ease of Doing Business  1.011778\n",
      "14                    Government Policies  1.011561\n",
      "4                 Energy Storage Capacity  1.011362\n",
      "6                      Electricity Prices  1.011217\n",
      "9                         R&D Expenditure  1.011169\n",
      "22                          CO2 Emissions  1.010768\n",
      "1                 Installed Capacity (MW)  1.010388\n",
      "25                             Wind Speed  1.010306\n",
      "11                       Innovation Index  1.009906\n",
      "27                   Biomass Availability  1.009388\n",
      "21                  Control of Corruption  1.008522\n",
      "8    Proportion of Energy from Renewables  1.008493\n",
      "5             Grid Integration Capability  1.006919\n",
      "24                       Solar Irradiance  1.006875\n",
      "12                                    GDP  1.006846\n",
      "0                                    Year  0.000918\n"
     ]
    }
   ],
   "source": [
    "# Multicollinearity analysis\n",
    "from statsmodels.stats.outliers_influence import variance_inflation_factor\n",
    "import pandas as pd\n",
    "\n",
    "# Create DataFrame with numeric predictors\n",
    "X = train_df_copy.drop(columns=['Production (GWh)'])\n",
    "X_num = X.select_dtypes(include=['float64', 'int64'])\n",
    "\n",
    "# Calculate VIF for each feature\n",
    "vif_data = pd.DataFrame()\n",
    "vif_data[\"Feature\"] = X_num.columns\n",
    "vif_data[\"VIF\"] = [variance_inflation_factor(X_num.values, i)\n",
    "                   for i in range(len(X_num.columns))]\n",
    "\n",
    "print(vif_data.sort_values(\"VIF\", ascending=False))"
   ]
  },
  {
   "cell_type": "markdown",
   "id": "5d3d857e",
   "metadata": {},
   "source": [
    "The VIF analysis shows no evidence of multicollinearity among the explanatory variables as all values are close to 1. This indicates that each feature provides independent information, and no feature removal due to multicollinearity is required at this stage."
   ]
  },
  {
   "cell_type": "markdown",
   "id": "e0093e42",
   "metadata": {},
   "source": [
    "##### Feature Engineering"
   ]
  },
  {
   "cell_type": "code",
   "execution_count": null,
   "id": "f1db55e3",
   "metadata": {},
   "outputs": [
    {
     "data": {
      "text/html": [
       "<div>\n",
       "<style scoped>\n",
       "    .dataframe tbody tr th:only-of-type {\n",
       "        vertical-align: middle;\n",
       "    }\n",
       "\n",
       "    .dataframe tbody tr th {\n",
       "        vertical-align: top;\n",
       "    }\n",
       "\n",
       "    .dataframe thead th {\n",
       "        text-align: right;\n",
       "    }\n",
       "</style>\n",
       "<table border=\"1\" class=\"dataframe\">\n",
       "  <thead>\n",
       "    <tr style=\"text-align: right;\">\n",
       "      <th></th>\n",
       "      <th>country</th>\n",
       "      <th>year</th>\n",
       "      <th>energy_type</th>\n",
       "      <th>production_(gwh)</th>\n",
       "      <th>installed_capacity_(mw)</th>\n",
       "      <th>investments_(usd)</th>\n",
       "      <th>energy_consumption</th>\n",
       "      <th>energy_storage_capacity</th>\n",
       "      <th>grid_integration_capability</th>\n",
       "      <th>electricity_prices</th>\n",
       "      <th>...</th>\n",
       "      <th>ease_of_doing_business</th>\n",
       "      <th>regulatory_quality</th>\n",
       "      <th>political_stability</th>\n",
       "      <th>control_of_corruption</th>\n",
       "      <th>co2_emissions</th>\n",
       "      <th>average_annual_temperature</th>\n",
       "      <th>solar_irradiance</th>\n",
       "      <th>wind_speed</th>\n",
       "      <th>hydro_potential</th>\n",
       "      <th>biomass_availability</th>\n",
       "    </tr>\n",
       "  </thead>\n",
       "  <tbody>\n",
       "    <tr>\n",
       "      <th>0</th>\n",
       "      <td>Canada</td>\n",
       "      <td>2012</td>\n",
       "      <td>Hydro</td>\n",
       "      <td>99925.061260</td>\n",
       "      <td>26824.443710</td>\n",
       "      <td>3.439820e+09</td>\n",
       "      <td>743320.095400</td>\n",
       "      <td>523.227159</td>\n",
       "      <td>0.757701</td>\n",
       "      <td>0.135676</td>\n",
       "      <td>...</td>\n",
       "      <td>8.445713</td>\n",
       "      <td>0.838293</td>\n",
       "      <td>3.118576</td>\n",
       "      <td>0.512886</td>\n",
       "      <td>387603.458300</td>\n",
       "      <td>4.365508</td>\n",
       "      <td>230.045861</td>\n",
       "      <td>8.338581</td>\n",
       "      <td>23.547655</td>\n",
       "      <td>15.207672</td>\n",
       "    </tr>\n",
       "    <tr>\n",
       "      <th>1</th>\n",
       "      <td>Brazil</td>\n",
       "      <td>2016</td>\n",
       "      <td>Solar</td>\n",
       "      <td>89553.347010</td>\n",
       "      <td>5021.215089</td>\n",
       "      <td>2.306911e+08</td>\n",
       "      <td>755329.781300</td>\n",
       "      <td>595.364642</td>\n",
       "      <td>0.336436</td>\n",
       "      <td>0.115265</td>\n",
       "      <td>...</td>\n",
       "      <td>15.287388</td>\n",
       "      <td>0.424270</td>\n",
       "      <td>7.687173</td>\n",
       "      <td>7.117310</td>\n",
       "      <td>764702.083900</td>\n",
       "      <td>-7.236200</td>\n",
       "      <td>101.633227</td>\n",
       "      <td>2.755194</td>\n",
       "      <td>93.220741</td>\n",
       "      <td>64.558873</td>\n",
       "    </tr>\n",
       "    <tr>\n",
       "      <th>2</th>\n",
       "      <td>France</td>\n",
       "      <td>2002</td>\n",
       "      <td>Hydro</td>\n",
       "      <td>18200.049220</td>\n",
       "      <td>33611.581480</td>\n",
       "      <td>7.337585e+09</td>\n",
       "      <td>302879.870000</td>\n",
       "      <td>423.230209</td>\n",
       "      <td>0.345480</td>\n",
       "      <td>0.107749</td>\n",
       "      <td>...</td>\n",
       "      <td>42.581570</td>\n",
       "      <td>5.799124</td>\n",
       "      <td>3.198959</td>\n",
       "      <td>1.185237</td>\n",
       "      <td>74699.236370</td>\n",
       "      <td>11.159170</td>\n",
       "      <td>188.694457</td>\n",
       "      <td>12.029651</td>\n",
       "      <td>24.637594</td>\n",
       "      <td>56.523796</td>\n",
       "    </tr>\n",
       "    <tr>\n",
       "      <th>3</th>\n",
       "      <td>Brazil</td>\n",
       "      <td>2014</td>\n",
       "      <td>Solar</td>\n",
       "      <td>82593.101462</td>\n",
       "      <td>30016.235570</td>\n",
       "      <td>4.158375e+09</td>\n",
       "      <td>273895.437151</td>\n",
       "      <td>35.006229</td>\n",
       "      <td>0.425188</td>\n",
       "      <td>0.195446</td>\n",
       "      <td>...</td>\n",
       "      <td>54.425235</td>\n",
       "      <td>7.493098</td>\n",
       "      <td>3.508302</td>\n",
       "      <td>1.282187</td>\n",
       "      <td>87442.612996</td>\n",
       "      <td>14.799615</td>\n",
       "      <td>132.899073</td>\n",
       "      <td>4.775604</td>\n",
       "      <td>66.961779</td>\n",
       "      <td>13.433529</td>\n",
       "    </tr>\n",
       "    <tr>\n",
       "      <th>4</th>\n",
       "      <td>Australia</td>\n",
       "      <td>2015</td>\n",
       "      <td>Biomass</td>\n",
       "      <td>15042.899900</td>\n",
       "      <td>12148.925160</td>\n",
       "      <td>9.426154e+09</td>\n",
       "      <td>465093.510500</td>\n",
       "      <td>874.578417</td>\n",
       "      <td>0.609578</td>\n",
       "      <td>0.166265</td>\n",
       "      <td>...</td>\n",
       "      <td>97.263630</td>\n",
       "      <td>5.899585</td>\n",
       "      <td>4.895402</td>\n",
       "      <td>4.133813</td>\n",
       "      <td>627278.815900</td>\n",
       "      <td>31.289419</td>\n",
       "      <td>210.523525</td>\n",
       "      <td>3.116106</td>\n",
       "      <td>36.359083</td>\n",
       "      <td>41.679364</td>\n",
       "    </tr>\n",
       "  </tbody>\n",
       "</table>\n",
       "<p>5 rows × 31 columns</p>\n",
       "</div>"
      ],
      "text/plain": [
       "     country  year energy_type  production_(gwh)  installed_capacity_(mw)  \\\n",
       "0     Canada  2012       Hydro      99925.061260             26824.443710   \n",
       "1     Brazil  2016       Solar      89553.347010              5021.215089   \n",
       "2     France  2002       Hydro      18200.049220             33611.581480   \n",
       "3     Brazil  2014       Solar      82593.101462             30016.235570   \n",
       "4  Australia  2015     Biomass      15042.899900             12148.925160   \n",
       "\n",
       "   investments_(usd)  energy_consumption  energy_storage_capacity  \\\n",
       "0       3.439820e+09       743320.095400               523.227159   \n",
       "1       2.306911e+08       755329.781300               595.364642   \n",
       "2       7.337585e+09       302879.870000               423.230209   \n",
       "3       4.158375e+09       273895.437151                35.006229   \n",
       "4       9.426154e+09       465093.510500               874.578417   \n",
       "\n",
       "   grid_integration_capability  electricity_prices  ...  \\\n",
       "0                     0.757701            0.135676  ...   \n",
       "1                     0.336436            0.115265  ...   \n",
       "2                     0.345480            0.107749  ...   \n",
       "3                     0.425188            0.195446  ...   \n",
       "4                     0.609578            0.166265  ...   \n",
       "\n",
       "   ease_of_doing_business  regulatory_quality  political_stability  \\\n",
       "0                8.445713            0.838293             3.118576   \n",
       "1               15.287388            0.424270             7.687173   \n",
       "2               42.581570            5.799124             3.198959   \n",
       "3               54.425235            7.493098             3.508302   \n",
       "4               97.263630            5.899585             4.895402   \n",
       "\n",
       "   control_of_corruption  co2_emissions  average_annual_temperature  \\\n",
       "0               0.512886  387603.458300                    4.365508   \n",
       "1               7.117310  764702.083900                   -7.236200   \n",
       "2               1.185237   74699.236370                   11.159170   \n",
       "3               1.282187   87442.612996                   14.799615   \n",
       "4               4.133813  627278.815900                   31.289419   \n",
       "\n",
       "   solar_irradiance  wind_speed  hydro_potential  biomass_availability  \n",
       "0        230.045861    8.338581        23.547655             15.207672  \n",
       "1        101.633227    2.755194        93.220741             64.558873  \n",
       "2        188.694457   12.029651        24.637594             56.523796  \n",
       "3        132.899073    4.775604        66.961779             13.433529  \n",
       "4        210.523525    3.116106        36.359083             41.679364  \n",
       "\n",
       "[5 rows x 31 columns]"
      ]
     },
     "execution_count": 74,
     "metadata": {},
     "output_type": "execute_result"
    }
   ],
   "source": [
    "# Clean column names\n",
    "\n",
    "train_df_copy.columns = train_df_copy.columns.map(lambda x: x.lower().replace(' ', '_'))\n",
    "train_df_copy.head()"
   ]
  },
  {
   "cell_type": "markdown",
   "id": "d11527cf",
   "metadata": {},
   "source": [
    "###### Feature Engineering on categorical variables"
   ]
  },
  {
   "cell_type": "code",
   "execution_count": 75,
   "id": "45e162ce",
   "metadata": {},
   "outputs": [
    {
     "data": {
      "text/html": [
       "<div>\n",
       "<style scoped>\n",
       "    .dataframe tbody tr th:only-of-type {\n",
       "        vertical-align: middle;\n",
       "    }\n",
       "\n",
       "    .dataframe tbody tr th {\n",
       "        vertical-align: top;\n",
       "    }\n",
       "\n",
       "    .dataframe thead th {\n",
       "        text-align: right;\n",
       "    }\n",
       "</style>\n",
       "<table border=\"1\" class=\"dataframe\">\n",
       "  <thead>\n",
       "    <tr style=\"text-align: right;\">\n",
       "      <th></th>\n",
       "      <th>country</th>\n",
       "      <th>energy_type</th>\n",
       "    </tr>\n",
       "  </thead>\n",
       "  <tbody>\n",
       "    <tr>\n",
       "      <th>0</th>\n",
       "      <td>Canada</td>\n",
       "      <td>Hydro</td>\n",
       "    </tr>\n",
       "    <tr>\n",
       "      <th>1</th>\n",
       "      <td>Brazil</td>\n",
       "      <td>Solar</td>\n",
       "    </tr>\n",
       "    <tr>\n",
       "      <th>2</th>\n",
       "      <td>France</td>\n",
       "      <td>Hydro</td>\n",
       "    </tr>\n",
       "    <tr>\n",
       "      <th>3</th>\n",
       "      <td>Brazil</td>\n",
       "      <td>Solar</td>\n",
       "    </tr>\n",
       "    <tr>\n",
       "      <th>4</th>\n",
       "      <td>Australia</td>\n",
       "      <td>Biomass</td>\n",
       "    </tr>\n",
       "  </tbody>\n",
       "</table>\n",
       "</div>"
      ],
      "text/plain": [
       "     country energy_type\n",
       "0     Canada       Hydro\n",
       "1     Brazil       Solar\n",
       "2     France       Hydro\n",
       "3     Brazil       Solar\n",
       "4  Australia     Biomass"
      ]
     },
     "execution_count": 75,
     "metadata": {},
     "output_type": "execute_result"
    }
   ],
   "source": [
    "# Feature Engineering on categorical variables\n",
    "\n",
    "train_df_copy.select_dtypes(include= ['category']).head()"
   ]
  },
  {
   "cell_type": "code",
   "execution_count": 76,
   "id": "e66c5e9c",
   "metadata": {},
   "outputs": [
    {
     "data": {
      "text/html": [
       "<div>\n",
       "<style scoped>\n",
       "    .dataframe tbody tr th:only-of-type {\n",
       "        vertical-align: middle;\n",
       "    }\n",
       "\n",
       "    .dataframe tbody tr th {\n",
       "        vertical-align: top;\n",
       "    }\n",
       "\n",
       "    .dataframe thead th {\n",
       "        text-align: right;\n",
       "    }\n",
       "</style>\n",
       "<table border=\"1\" class=\"dataframe\">\n",
       "  <thead>\n",
       "    <tr style=\"text-align: right;\">\n",
       "      <th></th>\n",
       "      <th>year</th>\n",
       "      <th>production_(gwh)</th>\n",
       "      <th>installed_capacity_(mw)</th>\n",
       "      <th>investments_(usd)</th>\n",
       "      <th>energy_consumption</th>\n",
       "      <th>energy_storage_capacity</th>\n",
       "      <th>grid_integration_capability</th>\n",
       "      <th>electricity_prices</th>\n",
       "      <th>energy_subsidies</th>\n",
       "      <th>proportion_of_energy_from_renewables</th>\n",
       "      <th>...</th>\n",
       "      <th>country_Germany</th>\n",
       "      <th>country_India</th>\n",
       "      <th>country_Japan</th>\n",
       "      <th>country_Russia</th>\n",
       "      <th>country_UK</th>\n",
       "      <th>country_USA</th>\n",
       "      <th>energy_type_Geothermal</th>\n",
       "      <th>energy_type_Hydro</th>\n",
       "      <th>energy_type_Solar</th>\n",
       "      <th>energy_type_Wind</th>\n",
       "    </tr>\n",
       "  </thead>\n",
       "  <tbody>\n",
       "    <tr>\n",
       "      <th>0</th>\n",
       "      <td>2012</td>\n",
       "      <td>99925.061260</td>\n",
       "      <td>26824.443710</td>\n",
       "      <td>3.439820e+09</td>\n",
       "      <td>743320.095400</td>\n",
       "      <td>523.227159</td>\n",
       "      <td>0.757701</td>\n",
       "      <td>0.135676</td>\n",
       "      <td>3.453354e+08</td>\n",
       "      <td>96.684699</td>\n",
       "      <td>...</td>\n",
       "      <td>False</td>\n",
       "      <td>False</td>\n",
       "      <td>False</td>\n",
       "      <td>False</td>\n",
       "      <td>False</td>\n",
       "      <td>False</td>\n",
       "      <td>False</td>\n",
       "      <td>True</td>\n",
       "      <td>False</td>\n",
       "      <td>False</td>\n",
       "    </tr>\n",
       "    <tr>\n",
       "      <th>1</th>\n",
       "      <td>2016</td>\n",
       "      <td>89553.347010</td>\n",
       "      <td>5021.215089</td>\n",
       "      <td>2.306911e+08</td>\n",
       "      <td>755329.781300</td>\n",
       "      <td>595.364642</td>\n",
       "      <td>0.336436</td>\n",
       "      <td>0.115265</td>\n",
       "      <td>5.181233e+08</td>\n",
       "      <td>83.429927</td>\n",
       "      <td>...</td>\n",
       "      <td>False</td>\n",
       "      <td>False</td>\n",
       "      <td>False</td>\n",
       "      <td>False</td>\n",
       "      <td>False</td>\n",
       "      <td>False</td>\n",
       "      <td>False</td>\n",
       "      <td>False</td>\n",
       "      <td>True</td>\n",
       "      <td>False</td>\n",
       "    </tr>\n",
       "    <tr>\n",
       "      <th>2</th>\n",
       "      <td>2002</td>\n",
       "      <td>18200.049220</td>\n",
       "      <td>33611.581480</td>\n",
       "      <td>7.337585e+09</td>\n",
       "      <td>302879.870000</td>\n",
       "      <td>423.230209</td>\n",
       "      <td>0.345480</td>\n",
       "      <td>0.107749</td>\n",
       "      <td>8.448381e+08</td>\n",
       "      <td>50.653186</td>\n",
       "      <td>...</td>\n",
       "      <td>False</td>\n",
       "      <td>False</td>\n",
       "      <td>False</td>\n",
       "      <td>False</td>\n",
       "      <td>False</td>\n",
       "      <td>False</td>\n",
       "      <td>False</td>\n",
       "      <td>True</td>\n",
       "      <td>False</td>\n",
       "      <td>False</td>\n",
       "    </tr>\n",
       "    <tr>\n",
       "      <th>3</th>\n",
       "      <td>2014</td>\n",
       "      <td>82593.101462</td>\n",
       "      <td>30016.235570</td>\n",
       "      <td>4.158375e+09</td>\n",
       "      <td>273895.437151</td>\n",
       "      <td>35.006229</td>\n",
       "      <td>0.425188</td>\n",
       "      <td>0.195446</td>\n",
       "      <td>3.668108e+08</td>\n",
       "      <td>29.755689</td>\n",
       "      <td>...</td>\n",
       "      <td>False</td>\n",
       "      <td>False</td>\n",
       "      <td>False</td>\n",
       "      <td>False</td>\n",
       "      <td>False</td>\n",
       "      <td>False</td>\n",
       "      <td>False</td>\n",
       "      <td>False</td>\n",
       "      <td>True</td>\n",
       "      <td>False</td>\n",
       "    </tr>\n",
       "    <tr>\n",
       "      <th>4</th>\n",
       "      <td>2015</td>\n",
       "      <td>15042.899900</td>\n",
       "      <td>12148.925160</td>\n",
       "      <td>9.426154e+09</td>\n",
       "      <td>465093.510500</td>\n",
       "      <td>874.578417</td>\n",
       "      <td>0.609578</td>\n",
       "      <td>0.166265</td>\n",
       "      <td>7.262000e+08</td>\n",
       "      <td>71.526509</td>\n",
       "      <td>...</td>\n",
       "      <td>False</td>\n",
       "      <td>False</td>\n",
       "      <td>False</td>\n",
       "      <td>False</td>\n",
       "      <td>False</td>\n",
       "      <td>False</td>\n",
       "      <td>False</td>\n",
       "      <td>False</td>\n",
       "      <td>False</td>\n",
       "      <td>False</td>\n",
       "    </tr>\n",
       "    <tr>\n",
       "      <th>...</th>\n",
       "      <td>...</td>\n",
       "      <td>...</td>\n",
       "      <td>...</td>\n",
       "      <td>...</td>\n",
       "      <td>...</td>\n",
       "      <td>...</td>\n",
       "      <td>...</td>\n",
       "      <td>...</td>\n",
       "      <td>...</td>\n",
       "      <td>...</td>\n",
       "      <td>...</td>\n",
       "      <td>...</td>\n",
       "      <td>...</td>\n",
       "      <td>...</td>\n",
       "      <td>...</td>\n",
       "      <td>...</td>\n",
       "      <td>...</td>\n",
       "      <td>...</td>\n",
       "      <td>...</td>\n",
       "      <td>...</td>\n",
       "      <td>...</td>\n",
       "    </tr>\n",
       "    <tr>\n",
       "      <th>2395</th>\n",
       "      <td>2023</td>\n",
       "      <td>4696.024014</td>\n",
       "      <td>3446.239373</td>\n",
       "      <td>9.638803e+09</td>\n",
       "      <td>570924.925600</td>\n",
       "      <td>240.683543</td>\n",
       "      <td>0.828812</td>\n",
       "      <td>0.067964</td>\n",
       "      <td>2.345286e+07</td>\n",
       "      <td>19.050005</td>\n",
       "      <td>...</td>\n",
       "      <td>False</td>\n",
       "      <td>False</td>\n",
       "      <td>True</td>\n",
       "      <td>False</td>\n",
       "      <td>False</td>\n",
       "      <td>False</td>\n",
       "      <td>True</td>\n",
       "      <td>False</td>\n",
       "      <td>False</td>\n",
       "      <td>False</td>\n",
       "    </tr>\n",
       "    <tr>\n",
       "      <th>2396</th>\n",
       "      <td>2009</td>\n",
       "      <td>8333.676113</td>\n",
       "      <td>16193.956840</td>\n",
       "      <td>8.471399e+09</td>\n",
       "      <td>238652.835900</td>\n",
       "      <td>384.654494</td>\n",
       "      <td>0.476267</td>\n",
       "      <td>0.278849</td>\n",
       "      <td>9.666668e+08</td>\n",
       "      <td>48.816418</td>\n",
       "      <td>...</td>\n",
       "      <td>False</td>\n",
       "      <td>False</td>\n",
       "      <td>False</td>\n",
       "      <td>False</td>\n",
       "      <td>False</td>\n",
       "      <td>False</td>\n",
       "      <td>False</td>\n",
       "      <td>False</td>\n",
       "      <td>False</td>\n",
       "      <td>False</td>\n",
       "    </tr>\n",
       "    <tr>\n",
       "      <th>2397</th>\n",
       "      <td>2018</td>\n",
       "      <td>26714.897090</td>\n",
       "      <td>29350.754610</td>\n",
       "      <td>6.630711e+09</td>\n",
       "      <td>920382.335100</td>\n",
       "      <td>337.078185</td>\n",
       "      <td>0.776497</td>\n",
       "      <td>0.059321</td>\n",
       "      <td>2.488342e+08</td>\n",
       "      <td>70.294948</td>\n",
       "      <td>...</td>\n",
       "      <td>False</td>\n",
       "      <td>False</td>\n",
       "      <td>False</td>\n",
       "      <td>False</td>\n",
       "      <td>False</td>\n",
       "      <td>False</td>\n",
       "      <td>False</td>\n",
       "      <td>True</td>\n",
       "      <td>False</td>\n",
       "      <td>False</td>\n",
       "    </tr>\n",
       "    <tr>\n",
       "      <th>2398</th>\n",
       "      <td>2010</td>\n",
       "      <td>78352.859180</td>\n",
       "      <td>4964.017598</td>\n",
       "      <td>7.929218e+09</td>\n",
       "      <td>953471.515900</td>\n",
       "      <td>204.547594</td>\n",
       "      <td>0.383352</td>\n",
       "      <td>0.124858</td>\n",
       "      <td>5.252979e+07</td>\n",
       "      <td>35.860925</td>\n",
       "      <td>...</td>\n",
       "      <td>False</td>\n",
       "      <td>False</td>\n",
       "      <td>False</td>\n",
       "      <td>False</td>\n",
       "      <td>False</td>\n",
       "      <td>False</td>\n",
       "      <td>False</td>\n",
       "      <td>False</td>\n",
       "      <td>True</td>\n",
       "      <td>False</td>\n",
       "    </tr>\n",
       "    <tr>\n",
       "      <th>2399</th>\n",
       "      <td>2019</td>\n",
       "      <td>26542.606719</td>\n",
       "      <td>20702.128828</td>\n",
       "      <td>1.875077e+09</td>\n",
       "      <td>219329.588005</td>\n",
       "      <td>305.972011</td>\n",
       "      <td>0.594954</td>\n",
       "      <td>0.435990</td>\n",
       "      <td>3.786711e+08</td>\n",
       "      <td>47.336752</td>\n",
       "      <td>...</td>\n",
       "      <td>False</td>\n",
       "      <td>False</td>\n",
       "      <td>False</td>\n",
       "      <td>False</td>\n",
       "      <td>False</td>\n",
       "      <td>True</td>\n",
       "      <td>False</td>\n",
       "      <td>False</td>\n",
       "      <td>False</td>\n",
       "      <td>True</td>\n",
       "    </tr>\n",
       "  </tbody>\n",
       "</table>\n",
       "<p>2400 rows × 43 columns</p>\n",
       "</div>"
      ],
      "text/plain": [
       "      year  production_(gwh)  installed_capacity_(mw)  investments_(usd)  \\\n",
       "0     2012      99925.061260             26824.443710       3.439820e+09   \n",
       "1     2016      89553.347010              5021.215089       2.306911e+08   \n",
       "2     2002      18200.049220             33611.581480       7.337585e+09   \n",
       "3     2014      82593.101462             30016.235570       4.158375e+09   \n",
       "4     2015      15042.899900             12148.925160       9.426154e+09   \n",
       "...    ...               ...                      ...                ...   \n",
       "2395  2023       4696.024014              3446.239373       9.638803e+09   \n",
       "2396  2009       8333.676113             16193.956840       8.471399e+09   \n",
       "2397  2018      26714.897090             29350.754610       6.630711e+09   \n",
       "2398  2010      78352.859180              4964.017598       7.929218e+09   \n",
       "2399  2019      26542.606719             20702.128828       1.875077e+09   \n",
       "\n",
       "      energy_consumption  energy_storage_capacity  \\\n",
       "0          743320.095400               523.227159   \n",
       "1          755329.781300               595.364642   \n",
       "2          302879.870000               423.230209   \n",
       "3          273895.437151                35.006229   \n",
       "4          465093.510500               874.578417   \n",
       "...                  ...                      ...   \n",
       "2395       570924.925600               240.683543   \n",
       "2396       238652.835900               384.654494   \n",
       "2397       920382.335100               337.078185   \n",
       "2398       953471.515900               204.547594   \n",
       "2399       219329.588005               305.972011   \n",
       "\n",
       "      grid_integration_capability  electricity_prices  energy_subsidies  \\\n",
       "0                        0.757701            0.135676      3.453354e+08   \n",
       "1                        0.336436            0.115265      5.181233e+08   \n",
       "2                        0.345480            0.107749      8.448381e+08   \n",
       "3                        0.425188            0.195446      3.668108e+08   \n",
       "4                        0.609578            0.166265      7.262000e+08   \n",
       "...                           ...                 ...               ...   \n",
       "2395                     0.828812            0.067964      2.345286e+07   \n",
       "2396                     0.476267            0.278849      9.666668e+08   \n",
       "2397                     0.776497            0.059321      2.488342e+08   \n",
       "2398                     0.383352            0.124858      5.252979e+07   \n",
       "2399                     0.594954            0.435990      3.786711e+08   \n",
       "\n",
       "      proportion_of_energy_from_renewables  ...  country_Germany  \\\n",
       "0                                96.684699  ...            False   \n",
       "1                                83.429927  ...            False   \n",
       "2                                50.653186  ...            False   \n",
       "3                                29.755689  ...            False   \n",
       "4                                71.526509  ...            False   \n",
       "...                                    ...  ...              ...   \n",
       "2395                             19.050005  ...            False   \n",
       "2396                             48.816418  ...            False   \n",
       "2397                             70.294948  ...            False   \n",
       "2398                             35.860925  ...            False   \n",
       "2399                             47.336752  ...            False   \n",
       "\n",
       "      country_India  country_Japan  country_Russia  country_UK  country_USA  \\\n",
       "0             False          False           False       False        False   \n",
       "1             False          False           False       False        False   \n",
       "2             False          False           False       False        False   \n",
       "3             False          False           False       False        False   \n",
       "4             False          False           False       False        False   \n",
       "...             ...            ...             ...         ...          ...   \n",
       "2395          False           True           False       False        False   \n",
       "2396          False          False           False       False        False   \n",
       "2397          False          False           False       False        False   \n",
       "2398          False          False           False       False        False   \n",
       "2399          False          False           False       False         True   \n",
       "\n",
       "      energy_type_Geothermal  energy_type_Hydro  energy_type_Solar  \\\n",
       "0                      False               True              False   \n",
       "1                      False              False               True   \n",
       "2                      False               True              False   \n",
       "3                      False              False               True   \n",
       "4                      False              False              False   \n",
       "...                      ...                ...                ...   \n",
       "2395                    True              False              False   \n",
       "2396                   False              False              False   \n",
       "2397                   False               True              False   \n",
       "2398                   False              False               True   \n",
       "2399                   False              False              False   \n",
       "\n",
       "      energy_type_Wind  \n",
       "0                False  \n",
       "1                False  \n",
       "2                False  \n",
       "3                False  \n",
       "4                False  \n",
       "...                ...  \n",
       "2395             False  \n",
       "2396             False  \n",
       "2397             False  \n",
       "2398             False  \n",
       "2399              True  \n",
       "\n",
       "[2400 rows x 43 columns]"
      ]
     },
     "execution_count": 76,
     "metadata": {},
     "output_type": "execute_result"
    }
   ],
   "source": [
    "# Dummy variables for country and Energy Type\n",
    "\n",
    "pd.get_dummies(train_df_copy,\n",
    "               columns= ['country', 'energy_type'],\n",
    "               drop_first= True)"
   ]
  },
  {
   "cell_type": "markdown",
   "id": "87e4504f-4b9f-4655-8147-d55108575e6d",
   "metadata": {},
   "source": [
    "Next:\n",
    "\n",
    "+ Feature Engineering: New variables, less variables...\n",
    "+ Scaling and Normalisation\n",
    "+ Check for data leakage\n",
    "+ Train and test the model"
   ]
  }
 ],
 "metadata": {
  "editor": "DataLab",
  "kernelspec": {
   "display_name": "DataScience",
   "language": "python",
   "name": "python3"
  },
  "language_info": {
   "codemirror_mode": {
    "name": "ipython",
    "version": 3
   },
   "file_extension": ".py",
   "mimetype": "text/x-python",
   "name": "python",
   "nbconvert_exporter": "python",
   "pygments_lexer": "ipython3",
   "version": "3.8.11"
  }
 },
 "nbformat": 4,
 "nbformat_minor": 5
}
